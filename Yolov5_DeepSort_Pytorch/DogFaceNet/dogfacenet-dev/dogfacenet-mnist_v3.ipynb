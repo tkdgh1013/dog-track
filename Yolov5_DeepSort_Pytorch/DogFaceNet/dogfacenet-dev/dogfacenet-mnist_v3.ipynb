{
 "cells": [
  {
   "cell_type": "markdown",
   "metadata": {},
   "source": [
    "# Version of DogFaceNet implementation for MNIST dataset\n",
    "We will train to stick on the pairs learning technique"
   ]
  },
  {
   "cell_type": "markdown",
   "metadata": {},
   "source": [
    "### Imports"
   ]
  },
  {
   "cell_type": "code",
   "execution_count": 18,
   "metadata": {},
   "outputs": [],
   "source": [
    "from __future__ import absolute_import\n",
    "from __future__ import division\n",
    "from __future__ import print_function\n",
    "\n",
    "import tensorflow as tf\n",
    "\n",
    "import os\n",
    "import pickle\n",
    "import numpy as np\n",
    "import skimage as sk\n",
    "import matplotlib.pyplot as plt\n",
    "from tqdm import tqdm_notebook\n",
    "import tensorflow.keras.backend as K"
   ]
  },
  {
   "cell_type": "markdown",
   "metadata": {},
   "source": [
    "### Dataset implementation"
   ]
  },
  {
   "cell_type": "markdown",
   "metadata": {},
   "source": [
    "Load the dataset"
   ]
  },
  {
   "cell_type": "code",
   "execution_count": 19,
   "metadata": {},
   "outputs": [],
   "source": [
    "from tensorflow.keras.datasets import mnist\n",
    "\n",
    "(x_train, y_train), (x_test, y_test) = mnist.load_data()\n",
    "SIZE = (28,28)\n",
    "PATH_SAVE = '../output/history/'\n",
    "\n",
    "x_train = x_train.astype(np.float32)\n",
    "x_test = x_test.astype(np.float32)\n",
    "x_train /= 255\n",
    "x_test /= 255"
   ]
  },
  {
   "cell_type": "markdown",
   "metadata": {},
   "source": [
    "Create the triplets"
   ]
  },
  {
   "cell_type": "code",
   "execution_count": 3,
   "metadata": {},
   "outputs": [
    {
     "data": {
      "application/vnd.jupyter.widget-view+json": {
       "model_id": "6ea3f0cc99614303ae95945ee783c04f",
       "version_major": 2,
       "version_minor": 0
      },
      "text/plain": [
       "HBox(children=(IntProgress(value=0, max=20000), HTML(value='')))"
      ]
     },
     "metadata": {},
     "output_type": "display_data"
    },
    {
     "name": "stdout",
     "output_type": "stream",
     "text": [
      "\n"
     ]
    },
    {
     "data": {
      "text/plain": [
       "(60000, 28, 28, 1)"
      ]
     },
     "execution_count": 3,
     "metadata": {},
     "output_type": "execute_result"
    }
   ],
   "source": [
    "nbof_triplets = len(y_train)\n",
    "\n",
    "triplets = np.empty((nbof_triplets,28,28))\n",
    "y_triplets = np.empty(nbof_triplets)\n",
    "issame = np.empty(nbof_triplets)\n",
    "\n",
    "for i in tqdm_notebook(range(0,nbof_triplets,3)):\n",
    "    # Pair of same classes\n",
    "    # Chose a class\n",
    "    clas = np.random.randint(10)\n",
    "    y_class = np.arange(len(y_train))[np.equal(y_train,clas)]\n",
    "\n",
    "    # Select two images from this class\n",
    "    idx_image1 = y_class[np.random.randint(len(y_class))]\n",
    "    idx_image2 = y_class[np.random.randint(len(y_class))]\n",
    "    while idx_image1 == idx_image2:\n",
    "        idx_image2 = y_class[np.random.randint(len(y_class))]\n",
    "\n",
    "    triplets[i] = x_train[idx_image1]\n",
    "    triplets[i+1] = x_train[idx_image2]\n",
    "    issame[i] = issame[i+1] = 1\n",
    "    y_triplets[i] = y_triplets[i+1] = clas\n",
    "\n",
    "    # Pair of different classes\n",
    "    # Chose the classes:\n",
    "    class2 = np.random.randint(10)\n",
    "    while clas==class2:\n",
    "        class2 = np.random.randint(10)\n",
    "\n",
    "    # Extract images of this class:\n",
    "    y_class2 = np.arange(len(y_train))[np.equal(y_train,class2)]\n",
    "\n",
    "    # Chose an image amoung these selected images\n",
    "    triplets[i+2] = x_train[y_class2[np.random.randint(len(y_class2))]]\n",
    "    issame[i+2] = 0\n",
    "    y_triplets[i+2] = class2\n",
    "\n",
    "triplets_exp = np.expand_dims(triplets, -1)\n",
    "triplets_exp.shape"
   ]
  },
  {
   "cell_type": "code",
   "execution_count": 4,
   "metadata": {
    "scrolled": true
   },
   "outputs": [
    {
     "name": "stdout",
     "output_type": "stream",
     "text": [
      "[1. 1. 0. 1. 1. 0. 1. 1. 0. 1. 1. 0. 1. 1. 0.]\n",
      "[3. 3. 1. 5. 5. 9. 0. 0. 3. 5. 5. 0. 0. 0. 9.]\n"
     ]
    },
    {
     "data": {
      "image/png": "[encoded data removed]",
      "text/plain": [
       "<Figure size 504x1080 with 15 Axes>"
      ]
     },
     "metadata": {
      "needs_background": "light"
     },
     "output_type": "display_data"
    }
   ],
   "source": [
    "# Check some triplets\n",
    "s = 10\n",
    "n = 5\n",
    "print(issame[3*s:(n+s)*3])\n",
    "print(y_triplets[3*s:(n+s)*3])\n",
    "fig = plt.figure(figsize=(7,3*n))\n",
    "for i in range(s,s+n):\n",
    "    plt.subplot(n,3,3*(i-s)+1)\n",
    "    plt.imshow(triplets[3*i])\n",
    "    plt.subplot(n,3,3*(i-s)+2)\n",
    "    plt.imshow(triplets[3*i+1])\n",
    "    plt.subplot(n,3,3*(i-s)+3)\n",
    "    plt.imshow(triplets[3*i+2])"
   ]
  },
  {
   "cell_type": "markdown",
   "metadata": {},
   "source": [
    "### Define the loss"
   ]
  },
  {
   "cell_type": "code",
   "execution_count": 6,
   "metadata": {},
   "outputs": [],
   "source": [
    "import tensorflow.keras.backend as K\n",
    "alpha = 0.3\n",
    "def triplet_acc(y_true,y_pred):\n",
    "    a = y_pred[0::3]\n",
    "    p = y_pred[1::3]\n",
    "    n = y_pred[2::3]\n",
    "    \n",
    "    ap = K.sum(K.square(a-p), axis = -1)\n",
    "    an = K.sum(K.square(a-n), axis = -1)\n",
    "    return K.less(ap,an)"
   ]
  },
  {
   "cell_type": "code",
   "execution_count": 25,
   "metadata": {},
   "outputs": [],
   "source": [
    "import tensorflow.keras.backend as K\n",
    "\n",
    "def robert(y_true,y_pred):\n",
    "    \"\"\"\n",
    "    Robert tries to increase the angle between the centers\n",
    "    of each classes (=increase the deviation of the centers)\n",
    "    and to decrease the angle between elements of a certain class\n",
    "    (=decrease the deviation of the elements of a class).\n",
    "    \"\"\"\n",
    "    extract = tf.cast(y_true[:,0], dtype=tf.int32)\n",
    "    classes = tf.one_hot(extract,depth=10)\n",
    "    classes = tf.cast(classes, dtype=tf.float32)\n",
    "    \n",
    "    centers = K.transpose(K.dot(K.transpose(y_pred), classes / (K.sum(classes, axis=0, keepdims=True) + 1)))\n",
    "    centers = tf.math.l2_normalize(centers,axis=-1)\n",
    "    centers_classes = K.dot(classes, centers)\n",
    "    \n",
    "    # \"dist\" computes the angle\n",
    "    dist = (K.sum(centers_classes * y_pred, axis=-1) * -1. + .5)*5\n",
    "    dist = K.sum(K.sigmoid(dist))\n",
    "\n",
    "    identity = K.arange(0,10)\n",
    "    identity = tf.one_hot(identity,10)\n",
    "    \n",
    "    gram = K.dot(centers,K.transpose(centers)) * 0.5 + 0.5\n",
    "    dev = K.sum(K.pow(gram-identity,10))\n",
    "    return dev + dist"
   ]
  },
  {
   "cell_type": "code",
   "execution_count": 15,
   "metadata": {},
   "outputs": [],
   "source": [
    "def bobby(y_true,y_pred):\n",
    "    extract = tf.cast(y_true[:,0], dtype=tf.int32)\n",
    "    classes = tf.one_hot(extract,depth=10)\n",
    "    classes = tf.cast(classes, dtype=tf.float32)\n",
    "    \n",
    "    dot_y_pred = K.dot(y_pred,K.transpose(y_pred))\n",
    "    is_same_mask = K.dot(classes,K.transpose(classes))\n",
    "\n",
    "    return K.binary_crossentropy(is_same_mask,dot_y_pred*0.5+0.5)"
   ]
  },
  {
   "cell_type": "code",
   "execution_count": 70,
   "metadata": {},
   "outputs": [],
   "source": [
    "s = 30.\n",
    "m = 0.1\n",
    "def cosine(y_true,y_pred):\n",
    "    \n",
    "    exp_s = K.exp(s * y_pred)\n",
    "    exp_s_m = K.exp(s * (y_pred - m))\n",
    "    \n",
    "    masked_exp_s_m = exp_s_m * y_true\n",
    "    \n",
    "    inv_mask = 1. - y_true\n",
    "    masked_exp_s = exp_s * inv_mask\n",
    "    \n",
    "    den = K.sum(masked_exp_s + masked_exp_s_m, axis=-1, keepdims=True)\n",
    "    out = masked_exp_s_m / den\n",
    "    out = K.sum(out,axis=-1)\n",
    "    ret = - K.log(out)\n",
    "    ret = K.sum(ret)\n",
    "    return ret"
   ]
  },
  {
   "cell_type": "markdown",
   "metadata": {},
   "source": [
    "### Define the network"
   ]
  },
  {
   "cell_type": "code",
   "execution_count": 5,
   "metadata": {},
   "outputs": [],
   "source": [
    "from tensorflow.keras import backend as K\n",
    "from tensorflow.keras.layers import Layer\n",
    "\n",
    "class Cosine(Layer):\n",
    "\n",
    "    def __init__(self, output_dim, **kwargs):\n",
    "        self.output_dim = output_dim\n",
    "        super(Cosine, self).__init__(**kwargs)\n",
    "\n",
    "    def build(self, input_shape):\n",
    "        shape = tf.TensorShape((input_shape[-1],self.output_dim))\n",
    "\n",
    "        self.kernel = self.add_weight(name='kernel', \n",
    "                                      shape=shape,\n",
    "                                      initializer='uniform',\n",
    "                                      trainable=True)\n",
    "        super(Cosine, self).build(input_shape)\n",
    "\n",
    "    def call(self, x):\n",
    "        x = tf.math.l2_normalize(x, axis=-1)\n",
    "        w = tf.math.l2_normalize(self.kernel, axis=0)\n",
    "        \n",
    "        return K.dot(x, w)\n",
    "\n",
    "    def compute_output_shape(self, input_shape):\n",
    "        return (input_shape[0], self.output_dim)"
   ]
  },
  {
   "cell_type": "code",
   "execution_count": 5,
   "metadata": {},
   "outputs": [],
   "source": [
    "from triplet_loss import batch_all_triplet_loss\n",
    "def triplet(y_true,y_pred):\n",
    "    y_true = y_true[:,0]\n",
    "    y_true = tf.reshape(y_true,[-1])\n",
    "    loss,_ = batch_all_triplet_loss(y_true,y_pred,0.3)\n",
    "    return loss"
   ]
  },
  {
   "cell_type": "code",
   "execution_count": 15,
   "metadata": {},
   "outputs": [],
   "source": [
    "from triplet_loss import batch_hard_triplet_loss\n",
    "def triplet_hard(y_true,y_pred):\n",
    "    y_true = y_true[:,0]\n",
    "    y_true = tf.reshape(y_true,[-1])\n",
    "    loss = batch_hard_triplet_loss(y_true,y_pred,0.3)\n",
    "    return loss"
   ]
  },
  {
   "cell_type": "code",
   "execution_count": 7,
   "metadata": {
    "scrolled": true
   },
   "outputs": [
    {
     "name": "stdout",
     "output_type": "stream",
     "text": [
      "_________________________________________________________________\n",
      "Layer (type)                 Output Shape              Param #   \n",
      "=================================================================\n",
      "conv2d (Conv2D)              (None, 26, 26, 32)        320       \n",
      "_________________________________________________________________\n",
      "conv2d_1 (Conv2D)            (None, 24, 24, 64)        18496     \n",
      "_________________________________________________________________\n",
      "max_pooling2d (MaxPooling2D) (None, 12, 12, 64)        0         \n",
      "_________________________________________________________________\n",
      "dropout (Dropout)            (None, 12, 12, 64)        0         \n",
      "_________________________________________________________________\n",
      "flatten (Flatten)            (None, 9216)              0         \n",
      "_________________________________________________________________\n",
      "dense (Dense)                (None, 128)               1179776   \n",
      "_________________________________________________________________\n",
      "dropout_1 (Dropout)          (None, 128)               0         \n",
      "_________________________________________________________________\n",
      "dense_1 (Dense)              (None, 2)                 258       \n",
      "_________________________________________________________________\n",
      "lambda (Lambda)              (None, 2)                 0         \n",
      "=================================================================\n",
      "Total params: 1,198,850\n",
      "Trainable params: 1,198,850\n",
      "Non-trainable params: 0\n",
      "_________________________________________________________________\n"
     ]
    }
   ],
   "source": [
    "# Small net and cosine loss\n",
    "emb_size = 2\n",
    "\n",
    "from tensorflow.keras.models import Sequential\n",
    "from tensorflow.keras.layers import Conv2D, MaxPooling2D, Lambda\n",
    "from tensorflow.keras.layers import Activation, Dropout, Flatten, Dense\n",
    "\n",
    "model = Sequential()\n",
    "model.add(Conv2D(32, (3, 3), activation='relu', input_shape=(28, 28, 1)))\n",
    "model.add(Conv2D(64, (3, 3), activation='relu'))\n",
    "model.add(MaxPooling2D(pool_size=(2, 2)))\n",
    "model.add(Dropout(0.25))\n",
    "\n",
    "model.add(Flatten())\n",
    "model.add(Dense(128, activation='relu'))\n",
    "model.add(Dropout(0.5))\n",
    "model.add(Dense(emb_size))\n",
    "model.add(Lambda(lambda x: tf.math.l2_normalize(x, axis=-1)))\n",
    "\n",
    "model.compile(loss=triplet,\n",
    "              optimizer='rmsprop',\n",
    "              metrics=[triplet_acc]\n",
    "             )\n",
    "model.summary()"
   ]
  },
  {
   "cell_type": "code",
   "execution_count": 8,
   "metadata": {},
   "outputs": [
    {
     "data": {
      "text/plain": [
       "array([[9., 9.],\n",
       "       [9., 9.],\n",
       "       [1., 1.],\n",
       "       ...,\n",
       "       [8., 8.],\n",
       "       [8., 8.],\n",
       "       [0., 0.]])"
      ]
     },
     "execution_count": 8,
     "metadata": {},
     "output_type": "execute_result"
    }
   ],
   "source": [
    "y = np.expand_dims(y_triplets,-1)\n",
    "y2 = np.hstack([y]*emb_size)\n",
    "y2"
   ]
  },
  {
   "cell_type": "code",
   "execution_count": 9,
   "metadata": {
    "scrolled": true
   },
   "outputs": [
    {
     "name": "stdout",
     "output_type": "stream",
     "text": [
      "Train on 54000 samples, validate on 6000 samples\n",
      "Epoch 1/100\n",
      "54000/54000 [==============================] - 10s 189us/step - loss: 0.3408 - triplet_acc: 0.5123 - val_loss: 0.3337 - val_triplet_acc: 0.9780\n",
      "Epoch 2/100\n",
      "54000/54000 [==============================] - 8s 154us/step - loss: 0.3885 - triplet_acc: 0.5047 - val_loss: 0.4141 - val_triplet_acc: 0.9845\n",
      "Epoch 3/100\n",
      "54000/54000 [==============================] - 8s 154us/step - loss: 0.4459 - triplet_acc: 0.4881 - val_loss: 0.3634 - val_triplet_acc: 0.9880\n",
      "Epoch 4/100\n",
      "54000/54000 [==============================] - 8s 154us/step - loss: 0.4643 - triplet_acc: 0.4988 - val_loss: 0.4062 - val_triplet_acc: 0.9820\n",
      "Epoch 5/100\n",
      "54000/54000 [==============================] - 8s 154us/step - loss: 0.4584 - triplet_acc: 0.4988 - val_loss: 0.4523 - val_triplet_acc: 0.9855\n",
      "Epoch 6/100\n",
      "54000/54000 [==============================] - 8s 154us/step - loss: 0.4645 - triplet_acc: 0.5060 - val_loss: 0.3760 - val_triplet_acc: 0.9880\n",
      "Epoch 7/100\n",
      "54000/54000 [==============================] - 8s 154us/step - loss: 0.4521 - triplet_acc: 0.5044 - val_loss: 0.4521 - val_triplet_acc: 0.9875\n",
      "Epoch 8/100\n",
      "54000/54000 [==============================] - 8s 154us/step - loss: 0.4533 - triplet_acc: 0.4927 - val_loss: 0.3798 - val_triplet_acc: 0.9895\n",
      "Epoch 9/100\n",
      "54000/54000 [==============================] - 8s 154us/step - loss: 0.4335 - triplet_acc: 0.4924 - val_loss: 0.4680 - val_triplet_acc: 0.9840\n",
      "Epoch 10/100\n",
      "54000/54000 [==============================] - 8s 154us/step - loss: 0.4503 - triplet_acc: 0.5105 - val_loss: 0.3926 - val_triplet_acc: 0.9870\n",
      "Epoch 11/100\n",
      "54000/54000 [==============================] - 8s 154us/step - loss: 0.4268 - triplet_acc: 0.5017 - val_loss: 0.3690 - val_triplet_acc: 0.9865\n",
      "Epoch 12/100\n",
      "54000/54000 [==============================] - 8s 154us/step - loss: 0.4385 - triplet_acc: 0.4979 - val_loss: 0.3748 - val_triplet_acc: 0.9885\n",
      "Epoch 13/100\n",
      "54000/54000 [==============================] - 8s 154us/step - loss: 0.4262 - triplet_acc: 0.5024 - val_loss: 0.3684 - val_triplet_acc: 0.9875\n",
      "Epoch 14/100\n",
      "54000/54000 [==============================] - 8s 154us/step - loss: 0.4253 - triplet_acc: 0.5001 - val_loss: 0.3790 - val_triplet_acc: 0.9870\n",
      "Epoch 15/100\n",
      "54000/54000 [==============================] - 8s 154us/step - loss: 0.4397 - triplet_acc: 0.5014 - val_loss: 0.3727 - val_triplet_acc: 0.9860\n",
      "Epoch 16/100\n",
      "54000/54000 [==============================] - 8s 154us/step - loss: 0.4173 - triplet_acc: 0.4931 - val_loss: 0.3868 - val_triplet_acc: 0.9865\n",
      "Epoch 17/100\n",
      "54000/54000 [==============================] - 8s 154us/step - loss: 0.4224 - triplet_acc: 0.5069 - val_loss: 0.4063 - val_triplet_acc: 0.9885\n",
      "Epoch 18/100\n",
      "54000/54000 [==============================] - 8s 154us/step - loss: 0.4133 - triplet_acc: 0.5004 - val_loss: 0.3407 - val_triplet_acc: 0.9910\n",
      "Epoch 19/100\n",
      "54000/54000 [==============================] - 8s 154us/step - loss: 0.4297 - triplet_acc: 0.4966 - val_loss: 0.3554 - val_triplet_acc: 0.9895\n",
      "Epoch 20/100\n",
      "54000/54000 [==============================] - 8s 154us/step - loss: 0.4427 - triplet_acc: 0.4977 - val_loss: 0.3630 - val_triplet_acc: 0.9880\n",
      "Epoch 21/100\n",
      "54000/54000 [==============================] - 8s 154us/step - loss: 0.4180 - triplet_acc: 0.4985 - val_loss: 0.3508 - val_triplet_acc: 0.9880\n",
      "Epoch 22/100\n",
      "54000/54000 [==============================] - 8s 154us/step - loss: 0.4192 - triplet_acc: 0.4996 - val_loss: 0.3769 - val_triplet_acc: 0.9860\n",
      "Epoch 23/100\n",
      "54000/54000 [==============================] - 8s 154us/step - loss: 0.4020 - triplet_acc: 0.5054 - val_loss: 0.3532 - val_triplet_acc: 0.9890\n",
      "Epoch 24/100\n",
      "54000/54000 [==============================] - 8s 154us/step - loss: 0.4047 - triplet_acc: 0.4978 - val_loss: 0.2784 - val_triplet_acc: 0.9870\n",
      "Epoch 25/100\n",
      "54000/54000 [==============================] - 8s 154us/step - loss: 0.4064 - triplet_acc: 0.4974 - val_loss: 0.3608 - val_triplet_acc: 0.9850\n",
      "Epoch 26/100\n",
      "54000/54000 [==============================] - 8s 154us/step - loss: 0.4053 - triplet_acc: 0.4966 - val_loss: 0.3434 - val_triplet_acc: 0.9885\n",
      "Epoch 27/100\n",
      "54000/54000 [==============================] - 8s 154us/step - loss: 0.3896 - triplet_acc: 0.5014 - val_loss: 0.3617 - val_triplet_acc: 0.9885\n",
      "Epoch 28/100\n",
      "54000/54000 [==============================] - 8s 154us/step - loss: 0.3970 - triplet_acc: 0.5006 - val_loss: 0.3484 - val_triplet_acc: 0.9905\n",
      "Epoch 29/100\n",
      "54000/54000 [==============================] - 8s 154us/step - loss: 0.3894 - triplet_acc: 0.5012 - val_loss: 0.3426 - val_triplet_acc: 0.9895\n",
      "Epoch 30/100\n",
      "54000/54000 [==============================] - 8s 154us/step - loss: 0.3804 - triplet_acc: 0.5038 - val_loss: 0.3155 - val_triplet_acc: 0.9870\n",
      "Epoch 31/100\n",
      "54000/54000 [==============================] - 8s 154us/step - loss: 0.3898 - triplet_acc: 0.5057 - val_loss: 0.3468 - val_triplet_acc: 0.9895\n",
      "Epoch 32/100\n",
      "54000/54000 [==============================] - 8s 154us/step - loss: 0.4007 - triplet_acc: 0.4942 - val_loss: 0.3754 - val_triplet_acc: 0.9885\n",
      "Epoch 33/100\n",
      "54000/54000 [==============================] - 8s 154us/step - loss: 0.4019 - triplet_acc: 0.5058 - val_loss: 0.2917 - val_triplet_acc: 0.9880\n",
      "Epoch 34/100\n",
      "54000/54000 [==============================] - 8s 154us/step - loss: 0.3937 - triplet_acc: 0.4984 - val_loss: 0.3524 - val_triplet_acc: 0.9850\n",
      "Epoch 35/100\n",
      "33570/54000 [=================>............] - ETA: 3s - loss: 0.3691 - triplet_acc: 0.4911"
     ]
    },
    {
     "ename": "KeyboardInterrupt",
     "evalue": "",
     "output_type": "error",
     "traceback": [
      "\u001b[0;31m---------------------------------------------------------------------------\u001b[0m",
      "\u001b[0;31mKeyboardInterrupt\u001b[0m                         Traceback (most recent call last)",
      "\u001b[0;32m<ipython-input-9-ef886c4c625f>\u001b[0m in \u001b[0;36m<module>\u001b[0;34m\u001b[0m\n\u001b[1;32m      4\u001b[0m     \u001b[0mbatch_size\u001b[0m \u001b[0;34m=\u001b[0m \u001b[0;36m30\u001b[0m\u001b[0;34m*\u001b[0m\u001b[0;36m3\u001b[0m\u001b[0;34m,\u001b[0m\u001b[0;34m\u001b[0m\u001b[0m\n\u001b[1;32m      5\u001b[0m     \u001b[0mepochs\u001b[0m \u001b[0;34m=\u001b[0m \u001b[0;36m100\u001b[0m\u001b[0;34m,\u001b[0m\u001b[0;34m\u001b[0m\u001b[0m\n\u001b[0;32m----> 6\u001b[0;31m     \u001b[0mvalidation_split\u001b[0m\u001b[0;34m=\u001b[0m\u001b[0;36m0.1\u001b[0m\u001b[0;34m\u001b[0m\u001b[0m\n\u001b[0m\u001b[1;32m      7\u001b[0m )\n",
      "\u001b[0;32m~/src/anaconda3/envs/tensor/lib/python3.6/site-packages/tensorflow/python/keras/engine/training.py\u001b[0m in \u001b[0;36mfit\u001b[0;34m(self, x, y, batch_size, epochs, verbose, callbacks, validation_split, validation_data, shuffle, class_weight, sample_weight, initial_epoch, steps_per_epoch, validation_steps, max_queue_size, workers, use_multiprocessing, **kwargs)\u001b[0m\n\u001b[1;32m   1637\u001b[0m           \u001b[0minitial_epoch\u001b[0m\u001b[0;34m=\u001b[0m\u001b[0minitial_epoch\u001b[0m\u001b[0;34m,\u001b[0m\u001b[0;34m\u001b[0m\u001b[0m\n\u001b[1;32m   1638\u001b[0m           \u001b[0msteps_per_epoch\u001b[0m\u001b[0;34m=\u001b[0m\u001b[0msteps_per_epoch\u001b[0m\u001b[0;34m,\u001b[0m\u001b[0;34m\u001b[0m\u001b[0m\n\u001b[0;32m-> 1639\u001b[0;31m           validation_steps=validation_steps)\n\u001b[0m\u001b[1;32m   1640\u001b[0m \u001b[0;34m\u001b[0m\u001b[0m\n\u001b[1;32m   1641\u001b[0m   def evaluate(self,\n",
      "\u001b[0;32m~/src/anaconda3/envs/tensor/lib/python3.6/site-packages/tensorflow/python/keras/engine/training_arrays.py\u001b[0m in \u001b[0;36mfit_loop\u001b[0;34m(model, inputs, targets, sample_weights, batch_size, epochs, verbose, callbacks, val_inputs, val_targets, val_sample_weights, shuffle, initial_epoch, steps_per_epoch, validation_steps)\u001b[0m\n\u001b[1;32m    213\u001b[0m           \u001b[0mins_batch\u001b[0m\u001b[0;34m[\u001b[0m\u001b[0mi\u001b[0m\u001b[0;34m]\u001b[0m \u001b[0;34m=\u001b[0m \u001b[0mins_batch\u001b[0m\u001b[0;34m[\u001b[0m\u001b[0mi\u001b[0m\u001b[0;34m]\u001b[0m\u001b[0;34m.\u001b[0m\u001b[0mtoarray\u001b[0m\u001b[0;34m(\u001b[0m\u001b[0;34m)\u001b[0m\u001b[0;34m\u001b[0m\u001b[0m\n\u001b[1;32m    214\u001b[0m \u001b[0;34m\u001b[0m\u001b[0m\n\u001b[0;32m--> 215\u001b[0;31m         \u001b[0mouts\u001b[0m \u001b[0;34m=\u001b[0m \u001b[0mf\u001b[0m\u001b[0;34m(\u001b[0m\u001b[0mins_batch\u001b[0m\u001b[0;34m)\u001b[0m\u001b[0;34m\u001b[0m\u001b[0m\n\u001b[0m\u001b[1;32m    216\u001b[0m         \u001b[0;32mif\u001b[0m \u001b[0;32mnot\u001b[0m \u001b[0misinstance\u001b[0m\u001b[0;34m(\u001b[0m\u001b[0mouts\u001b[0m\u001b[0;34m,\u001b[0m \u001b[0mlist\u001b[0m\u001b[0;34m)\u001b[0m\u001b[0;34m:\u001b[0m\u001b[0;34m\u001b[0m\u001b[0m\n\u001b[1;32m    217\u001b[0m           \u001b[0mouts\u001b[0m \u001b[0;34m=\u001b[0m \u001b[0;34m[\u001b[0m\u001b[0mouts\u001b[0m\u001b[0;34m]\u001b[0m\u001b[0;34m\u001b[0m\u001b[0m\n",
      "\u001b[0;32m~/src/anaconda3/envs/tensor/lib/python3.6/site-packages/tensorflow/python/keras/backend.py\u001b[0m in \u001b[0;36m__call__\u001b[0;34m(self, inputs)\u001b[0m\n\u001b[1;32m   2984\u001b[0m \u001b[0;34m\u001b[0m\u001b[0m\n\u001b[1;32m   2985\u001b[0m     fetched = self._callable_fn(*array_vals,\n\u001b[0;32m-> 2986\u001b[0;31m                                 run_metadata=self.run_metadata)\n\u001b[0m\u001b[1;32m   2987\u001b[0m     \u001b[0mself\u001b[0m\u001b[0;34m.\u001b[0m\u001b[0m_call_fetch_callbacks\u001b[0m\u001b[0;34m(\u001b[0m\u001b[0mfetched\u001b[0m\u001b[0;34m[\u001b[0m\u001b[0;34m-\u001b[0m\u001b[0mlen\u001b[0m\u001b[0;34m(\u001b[0m\u001b[0mself\u001b[0m\u001b[0;34m.\u001b[0m\u001b[0m_fetches\u001b[0m\u001b[0;34m)\u001b[0m\u001b[0;34m:\u001b[0m\u001b[0;34m]\u001b[0m\u001b[0;34m)\u001b[0m\u001b[0;34m\u001b[0m\u001b[0m\n\u001b[1;32m   2988\u001b[0m     \u001b[0;32mreturn\u001b[0m \u001b[0mfetched\u001b[0m\u001b[0;34m[\u001b[0m\u001b[0;34m:\u001b[0m\u001b[0mlen\u001b[0m\u001b[0;34m(\u001b[0m\u001b[0mself\u001b[0m\u001b[0;34m.\u001b[0m\u001b[0moutputs\u001b[0m\u001b[0;34m)\u001b[0m\u001b[0;34m]\u001b[0m\u001b[0;34m\u001b[0m\u001b[0m\n",
      "\u001b[0;32m~/src/anaconda3/envs/tensor/lib/python3.6/site-packages/tensorflow/python/client/session.py\u001b[0m in \u001b[0;36m__call__\u001b[0;34m(self, *args, **kwargs)\u001b[0m\n\u001b[1;32m   1437\u001b[0m           ret = tf_session.TF_SessionRunCallable(\n\u001b[1;32m   1438\u001b[0m               \u001b[0mself\u001b[0m\u001b[0;34m.\u001b[0m\u001b[0m_session\u001b[0m\u001b[0;34m.\u001b[0m\u001b[0m_session\u001b[0m\u001b[0;34m,\u001b[0m \u001b[0mself\u001b[0m\u001b[0;34m.\u001b[0m\u001b[0m_handle\u001b[0m\u001b[0;34m,\u001b[0m \u001b[0margs\u001b[0m\u001b[0;34m,\u001b[0m \u001b[0mstatus\u001b[0m\u001b[0;34m,\u001b[0m\u001b[0;34m\u001b[0m\u001b[0m\n\u001b[0;32m-> 1439\u001b[0;31m               run_metadata_ptr)\n\u001b[0m\u001b[1;32m   1440\u001b[0m         \u001b[0;32mif\u001b[0m \u001b[0mrun_metadata\u001b[0m\u001b[0;34m:\u001b[0m\u001b[0;34m\u001b[0m\u001b[0m\n\u001b[1;32m   1441\u001b[0m           \u001b[0mproto_data\u001b[0m \u001b[0;34m=\u001b[0m \u001b[0mtf_session\u001b[0m\u001b[0;34m.\u001b[0m\u001b[0mTF_GetBuffer\u001b[0m\u001b[0;34m(\u001b[0m\u001b[0mrun_metadata_ptr\u001b[0m\u001b[0;34m)\u001b[0m\u001b[0;34m\u001b[0m\u001b[0m\n",
      "\u001b[0;31mKeyboardInterrupt\u001b[0m: "
     ]
    }
   ],
   "source": [
    "history = model.fit(\n",
    "    triplets_exp,\n",
    "    y2,\n",
    "    batch_size = 30*3,\n",
    "    epochs = 100,\n",
    "    validation_split=0.1\n",
    ")"
   ]
  },
  {
   "cell_type": "code",
   "execution_count": 73,
   "metadata": {},
   "outputs": [
    {
     "data": {
      "text/plain": [
       "<matplotlib.legend.Legend at 0x222e8a872e8>"
      ]
     },
     "execution_count": 73,
     "metadata": {},
     "output_type": "execute_result"
    },
    {
     "data": {
      "image/png": "[encoded data removed]",
      "text/plain": [
       "<Figure size 720x360 with 2 Axes>"
      ]
     },
     "metadata": {},
     "output_type": "display_data"
    }
   ],
   "source": [
    "loss = history.history['loss']\n",
    "val_loss = history.history['val_loss']\n",
    "acc = history.history['acc']\n",
    "val_acc = history.history['val_acc']\n",
    "history_ = np.array([loss,val_loss,acc,val_acc])\n",
    "np.save(PATH_SAVE+'2018.01.31.small_net.cosine.s_30.m_0.1.npy',history_)\n",
    "np.savetxt(PATH_SAVE+'2018.01.31.small_net.cosine.s_30.m_0.1.txt',history_)\n",
    "\n",
    "epochs = np.arange(len(loss))\n",
    "fig = plt.figure(figsize=(10,5))\n",
    "plt.subplot(1,2,1)\n",
    "plt.plot(epochs,loss, '-o', label=\"loss\")\n",
    "plt.plot(epochs,val_loss, '-o', label=\"val_loss\")\n",
    "plt.xlabel(\"Number of epochs\")\n",
    "plt.legend()\n",
    "plt.subplot(1,2,2)\n",
    "plt.plot(epochs,acc, '-o', label=\"acc\")\n",
    "plt.plot(epochs,val_acc, '-o', label=\"val_acc\")\n",
    "plt.xlabel(\"Number of epochs\")\n",
    "plt.legend()"
   ]
  },
  {
   "cell_type": "markdown",
   "metadata": {},
   "source": [
    "### Evaluate it"
   ]
  },
  {
   "cell_type": "code",
   "execution_count": 15,
   "metadata": {},
   "outputs": [
    {
     "data": {
      "text/plain": [
       "array([[ -1.4668189,  12.624889 ],\n",
       "       [ -2.4773555,  20.583328 ],\n",
       "       [ 12.60317  , -13.208823 ],\n",
       "       ...,\n",
       "       [-13.415237 ,  12.262226 ],\n",
       "       [ -9.318231 ,   8.507649 ],\n",
       "       [-24.407066 ,   1.3547215]], dtype=float32)"
      ]
     },
     "execution_count": 15,
     "metadata": {},
     "output_type": "execute_result"
    }
   ],
   "source": [
    "nbof_images = 6000\n",
    "\n",
    "triplets_test = triplets_exp[:nbof_images]\n",
    "mod = tf.keras.Model(model.input, model.layers[-2].output)\n",
    "emb = mod.predict(triplets_test)\n",
    "emb"
   ]
  },
  {
   "cell_type": "code",
   "execution_count": 16,
   "metadata": {},
   "outputs": [
    {
     "name": "stdout",
     "output_type": "stream",
     "text": [
      "0.9005\n"
     ]
    }
   ],
   "source": [
    "a = emb[0::3]\n",
    "p = emb[1::3]\n",
    "n = emb[2::3]\n",
    "\n",
    "# Computes distance between pairs\n",
    "dist1 = np.sum(np.square(a-p),1)\n",
    "dist2 = np.sum(np.square(a-n),1)\n",
    "less = np.less(dist1,dist2)\n",
    "acc = np.sum(less.astype(int))/len(less)\n",
    "print(acc)"
   ]
  },
  {
   "cell_type": "code",
   "execution_count": 12,
   "metadata": {
    "scrolled": true
   },
   "outputs": [
    {
     "name": "stdout",
     "output_type": "stream",
     "text": [
      "16\n"
     ]
    },
    {
     "data": {
      "image/png": "[encoded data removed]",
      "text/plain": [
       "<Figure size 504x1512 with 21 Axes>"
      ]
     },
     "metadata": {
      "needs_background": "light"
     },
     "output_type": "display_data"
    }
   ],
   "source": [
    "# Display the wrong examples\n",
    "idx_wrong = np.logical_not(less)\n",
    "idx_wrong = np.stack([idx_wrong]*3, axis = -1)\n",
    "idx_wrong = np.reshape(idx_wrong, [-1])\n",
    "\n",
    "wrong = triplets_test[idx_wrong]\n",
    "wrong = np.squeeze(wrong)\n",
    "print(len(wrong)//3)\n",
    "s = 0\n",
    "n = 7\n",
    "e = n + s\n",
    "plt.figure(figsize=(7,3*n))\n",
    "for i in range(s,e):\n",
    "    for j in range(3):\n",
    "        plt.subplot(n,3,(i-s)*3+1+j)\n",
    "        plt.imshow(wrong[i*3+j])"
   ]
  },
  {
   "cell_type": "code",
   "execution_count": 17,
   "metadata": {},
   "outputs": [
    {
     "name": "stdout",
     "output_type": "stream",
     "text": [
      "[[-11.78324248  10.77717964]\n",
      " [  9.80884088 -10.57441213]\n",
      " [ -7.59983268 -22.11241756]\n",
      " [-24.17507813   1.35444425]\n",
      " [ -7.59627628  14.48742452]\n",
      " [-16.1884872    6.22374995]\n",
      " [-12.92911319 -10.46980139]\n",
      " [ 10.45116574  23.93344779]\n",
      " [-15.93367908  -4.56414959]\n",
      " [ -2.06719157  17.24248929]]\n",
      "[ 64.56026928  89.7907257  102.2643803   82.65048706  69.2507441\n",
      "  66.12945831  73.64639792 109.84552475  68.80465163  77.1748704 ]\n"
     ]
    },
    {
     "data": {
      "text/plain": [
       "<matplotlib.legend.Legend at 0x7f67e68611d0>"
      ]
     },
     "execution_count": 17,
     "metadata": {},
     "output_type": "execute_result"
    },
    {
     "data": {
      "image/png": "[encoded data removed]",
      "text/plain": [
       "<Figure size 432x288 with 1 Axes>"
      ]
     },
     "metadata": {
      "needs_background": "light"
     },
     "output_type": "display_data"
    }
   ],
   "source": [
    "mean = np.zeros((10,2))\n",
    "nb = np.zeros(10)\n",
    "y_int = y_triplets[:nbof_images].astype(int)\n",
    "predict = emb\n",
    "# y_train = y_train.astype(int)\n",
    "# y_int = np.empty(len(y_train),dtype=int)\n",
    "# for i in range(len(y_train)):\n",
    "#     idx = 0\n",
    "#     while (y_train[i][idx]!=1):\n",
    "#         idx += 1\n",
    "#     y_int[i] = int(idx)\n",
    "\n",
    "for i in range(len(predict)):\n",
    "    mean[y_int[i]] += predict[i]\n",
    "    nb[y_int[i]] += 1\n",
    "\n",
    "for i in range(len(mean)):\n",
    "    mean[i] /= nb[i]\n",
    "print(mean)\n",
    "\n",
    "std_vect = np.zeros((10,2)) + mean\n",
    "std = np.zeros(10)\n",
    "for i in range(len(predict)):\n",
    "    std[y_int[i]] += np.sum(np.square(predict[i]-mean))\n",
    "\n",
    "for i in range(len(mean)):\n",
    "    std[i] /= nb[i]\n",
    "print(np.sqrt(std))\n",
    "\n",
    "plt.axis('equal')\n",
    "n = 10\n",
    "for i in range(n):\n",
    "    y = predict[np.equal(i,y_int)]\n",
    "    #y = y / np.linalg.norm(y, axis=-1,keepdims=True)\n",
    "    plt.plot(y[:,0],y[:,1],'o',label=str(i))\n",
    "#mean = mean/np.linalg.norm(mean, axis=-1,keepdims=True)\n",
    "plt.plot(mean[:n,0],mean[:n,1],'ko')\n",
    "plt.legend()"
   ]
  },
  {
   "cell_type": "code",
   "execution_count": 66,
   "metadata": {},
   "outputs": [
    {
     "data": {
      "text/plain": [
       "[<tensorflow.python.keras.layers.convolutional.Conv2D at 0x222ea17d588>,\n",
       " <tensorflow.python.keras.layers.convolutional.Conv2D at 0x222ea1dd780>,\n",
       " <tensorflow.python.keras.layers.pooling.MaxPooling2D at 0x222ea1f1278>,\n",
       " <tensorflow.python.keras.layers.core.Dropout at 0x222ea1dda20>,\n",
       " <tensorflow.python.keras.layers.core.Flatten at 0x222ea216b38>,\n",
       " <tensorflow.python.keras.layers.core.Dense at 0x222ea216748>,\n",
       " <tensorflow.python.keras.layers.core.Dropout at 0x222ea22c8d0>,\n",
       " <tensorflow.python.keras.layers.core.Dense at 0x222ea1ddb38>,\n",
       " <__main__.Cosine at 0x222ea2724a8>]"
      ]
     },
     "execution_count": 66,
     "metadata": {},
     "output_type": "execute_result"
    }
   ],
   "source": [
    "model.layers"
   ]
  },
  {
   "cell_type": "code",
   "execution_count": 34,
   "metadata": {
    "collapsed": true
   },
   "outputs": [
    {
     "ename": "ValueError",
     "evalue": "Error when checking input: expected conv2d_14_input to have 4 dimensions, but got array with shape (60000, 28, 28)",
     "output_type": "error",
     "traceback": [
      "\u001b[0;31m---------------------------------------------------------------------------\u001b[0m",
      "\u001b[0;31mValueError\u001b[0m                                Traceback (most recent call last)",
      "\u001b[0;32m<ipython-input-34-10d84cd4baab>\u001b[0m in \u001b[0;36m<module>\u001b[0;34m\u001b[0m\n\u001b[1;32m      1\u001b[0m \u001b[0mmod\u001b[0m \u001b[0;34m=\u001b[0m \u001b[0mtf\u001b[0m\u001b[0;34m.\u001b[0m\u001b[0mkeras\u001b[0m\u001b[0;34m.\u001b[0m\u001b[0mModel\u001b[0m\u001b[0;34m(\u001b[0m\u001b[0mmodel\u001b[0m\u001b[0;34m.\u001b[0m\u001b[0minputs\u001b[0m\u001b[0;34m,\u001b[0m \u001b[0mmodel\u001b[0m\u001b[0;34m.\u001b[0m\u001b[0mlayers\u001b[0m\u001b[0;34m[\u001b[0m\u001b[0;34m-\u001b[0m\u001b[0;36m2\u001b[0m\u001b[0;34m]\u001b[0m\u001b[0;34m.\u001b[0m\u001b[0moutput\u001b[0m\u001b[0;34m)\u001b[0m\u001b[0;34m\u001b[0m\u001b[0m\n\u001b[0;32m----> 2\u001b[0;31m \u001b[0mpredict\u001b[0m \u001b[0;34m=\u001b[0m \u001b[0mmod\u001b[0m\u001b[0;34m.\u001b[0m\u001b[0mpredict\u001b[0m\u001b[0;34m(\u001b[0m\u001b[0mx_train\u001b[0m\u001b[0;34m)\u001b[0m\u001b[0;34m\u001b[0m\u001b[0m\n\u001b[0m",
      "\u001b[0;32m~/src/anaconda3/envs/tensor/lib/python3.6/site-packages/tensorflow/python/keras/engine/training.py\u001b[0m in \u001b[0;36mpredict\u001b[0;34m(self, x, batch_size, verbose, steps, max_queue_size, workers, use_multiprocessing)\u001b[0m\n\u001b[1;32m   1862\u001b[0m     \u001b[0;31m# means that we end up calculating it twice which we should avoid.\u001b[0m\u001b[0;34m\u001b[0m\u001b[0;34m\u001b[0m\u001b[0m\n\u001b[1;32m   1863\u001b[0m     x, _, _ = self._standardize_user_data(\n\u001b[0;32m-> 1864\u001b[0;31m         x, check_steps=True, steps_name='steps', steps=steps)\n\u001b[0m\u001b[1;32m   1865\u001b[0m \u001b[0;34m\u001b[0m\u001b[0m\n\u001b[1;32m   1866\u001b[0m     \u001b[0;32mif\u001b[0m \u001b[0mcontext\u001b[0m\u001b[0;34m.\u001b[0m\u001b[0mexecuting_eagerly\u001b[0m\u001b[0;34m(\u001b[0m\u001b[0;34m)\u001b[0m\u001b[0;34m:\u001b[0m\u001b[0;34m\u001b[0m\u001b[0m\n",
      "\u001b[0;32m~/src/anaconda3/envs/tensor/lib/python3.6/site-packages/tensorflow/python/keras/engine/training.py\u001b[0m in \u001b[0;36m_standardize_user_data\u001b[0;34m(self, x, y, sample_weight, class_weight, batch_size, check_steps, steps_name, steps, validation_split)\u001b[0m\n\u001b[1;32m    990\u001b[0m         \u001b[0mx\u001b[0m\u001b[0;34m,\u001b[0m \u001b[0my\u001b[0m\u001b[0;34m,\u001b[0m \u001b[0msample_weight\u001b[0m \u001b[0;34m=\u001b[0m \u001b[0mnext_element\u001b[0m\u001b[0;34m\u001b[0m\u001b[0m\n\u001b[1;32m    991\u001b[0m     x, y, sample_weights = self._standardize_weights(x, y, sample_weight,\n\u001b[0;32m--> 992\u001b[0;31m                                                      class_weight, batch_size)\n\u001b[0m\u001b[1;32m    993\u001b[0m     \u001b[0;32mreturn\u001b[0m \u001b[0mx\u001b[0m\u001b[0;34m,\u001b[0m \u001b[0my\u001b[0m\u001b[0;34m,\u001b[0m \u001b[0msample_weights\u001b[0m\u001b[0;34m\u001b[0m\u001b[0m\n\u001b[1;32m    994\u001b[0m \u001b[0;34m\u001b[0m\u001b[0m\n",
      "\u001b[0;32m~/src/anaconda3/envs/tensor/lib/python3.6/site-packages/tensorflow/python/keras/engine/training.py\u001b[0m in \u001b[0;36m_standardize_weights\u001b[0;34m(self, x, y, sample_weight, class_weight, batch_size)\u001b[0m\n\u001b[1;32m   1115\u001b[0m         \u001b[0mfeed_input_shapes\u001b[0m\u001b[0;34m,\u001b[0m\u001b[0;34m\u001b[0m\u001b[0m\n\u001b[1;32m   1116\u001b[0m         \u001b[0mcheck_batch_axis\u001b[0m\u001b[0;34m=\u001b[0m\u001b[0;32mFalse\u001b[0m\u001b[0;34m,\u001b[0m  \u001b[0;31m# Don't enforce the batch size.\u001b[0m\u001b[0;34m\u001b[0m\u001b[0m\n\u001b[0;32m-> 1117\u001b[0;31m         exception_prefix='input')\n\u001b[0m\u001b[1;32m   1118\u001b[0m \u001b[0;34m\u001b[0m\u001b[0m\n\u001b[1;32m   1119\u001b[0m     \u001b[0;32mif\u001b[0m \u001b[0my\u001b[0m \u001b[0;32mis\u001b[0m \u001b[0;32mnot\u001b[0m \u001b[0;32mNone\u001b[0m\u001b[0;34m:\u001b[0m\u001b[0;34m\u001b[0m\u001b[0m\n",
      "\u001b[0;32m~/src/anaconda3/envs/tensor/lib/python3.6/site-packages/tensorflow/python/keras/engine/training_utils.py\u001b[0m in \u001b[0;36mstandardize_input_data\u001b[0;34m(data, names, shapes, check_batch_axis, exception_prefix)\u001b[0m\n\u001b[1;32m    321\u001b[0m                            \u001b[0;34m': expected '\u001b[0m \u001b[0;34m+\u001b[0m \u001b[0mnames\u001b[0m\u001b[0;34m[\u001b[0m\u001b[0mi\u001b[0m\u001b[0;34m]\u001b[0m \u001b[0;34m+\u001b[0m \u001b[0;34m' to have '\u001b[0m \u001b[0;34m+\u001b[0m\u001b[0;34m\u001b[0m\u001b[0m\n\u001b[1;32m    322\u001b[0m                            \u001b[0mstr\u001b[0m\u001b[0;34m(\u001b[0m\u001b[0mlen\u001b[0m\u001b[0;34m(\u001b[0m\u001b[0mshape\u001b[0m\u001b[0;34m)\u001b[0m\u001b[0;34m)\u001b[0m \u001b[0;34m+\u001b[0m \u001b[0;34m' dimensions, but got array '\u001b[0m\u001b[0;34m\u001b[0m\u001b[0m\n\u001b[0;32m--> 323\u001b[0;31m                            'with shape ' + str(data_shape))\n\u001b[0m\u001b[1;32m    324\u001b[0m         \u001b[0;32mif\u001b[0m \u001b[0;32mnot\u001b[0m \u001b[0mcheck_batch_axis\u001b[0m\u001b[0;34m:\u001b[0m\u001b[0;34m\u001b[0m\u001b[0m\n\u001b[1;32m    325\u001b[0m           \u001b[0mdata_shape\u001b[0m \u001b[0;34m=\u001b[0m \u001b[0mdata_shape\u001b[0m\u001b[0;34m[\u001b[0m\u001b[0;36m1\u001b[0m\u001b[0;34m:\u001b[0m\u001b[0;34m]\u001b[0m\u001b[0;34m\u001b[0m\u001b[0m\n",
      "\u001b[0;31mValueError\u001b[0m: Error when checking input: expected conv2d_14_input to have 4 dimensions, but got array with shape (60000, 28, 28)"
     ]
    }
   ],
   "source": [
    "mod = tf.keras.Model(model.inputs, model.layers[-2].output)\n",
    "predict = mod.predict(x_train)"
   ]
  },
  {
   "cell_type": "code",
   "execution_count": 35,
   "metadata": {
    "collapsed": true
   },
   "outputs": [
    {
     "ename": "NameError",
     "evalue": "name 'predict' is not defined",
     "output_type": "error",
     "traceback": [
      "\u001b[0;31m---------------------------------------------------------------------------\u001b[0m",
      "\u001b[0;31mNameError\u001b[0m                                 Traceback (most recent call last)",
      "\u001b[0;32m<ipython-input-35-e0cb1a4f9a7b>\u001b[0m in \u001b[0;36m<module>\u001b[0;34m\u001b[0m\n\u001b[1;32m     10\u001b[0m \u001b[0;31m#     y_int[i] = int(idx)\u001b[0m\u001b[0;34m\u001b[0m\u001b[0;34m\u001b[0m\u001b[0m\n\u001b[1;32m     11\u001b[0m \u001b[0;34m\u001b[0m\u001b[0m\n\u001b[0;32m---> 12\u001b[0;31m \u001b[0;32mfor\u001b[0m \u001b[0mi\u001b[0m \u001b[0;32min\u001b[0m \u001b[0mrange\u001b[0m\u001b[0;34m(\u001b[0m\u001b[0mlen\u001b[0m\u001b[0;34m(\u001b[0m\u001b[0mpredict\u001b[0m\u001b[0;34m)\u001b[0m\u001b[0;34m)\u001b[0m\u001b[0;34m:\u001b[0m\u001b[0;34m\u001b[0m\u001b[0m\n\u001b[0m\u001b[1;32m     13\u001b[0m     \u001b[0mmean\u001b[0m\u001b[0;34m[\u001b[0m\u001b[0my_int\u001b[0m\u001b[0;34m[\u001b[0m\u001b[0mi\u001b[0m\u001b[0;34m]\u001b[0m\u001b[0;34m]\u001b[0m \u001b[0;34m+=\u001b[0m \u001b[0mpredict\u001b[0m\u001b[0;34m[\u001b[0m\u001b[0mi\u001b[0m\u001b[0;34m]\u001b[0m\u001b[0;34m\u001b[0m\u001b[0m\n\u001b[1;32m     14\u001b[0m     \u001b[0mnb\u001b[0m\u001b[0;34m[\u001b[0m\u001b[0my_int\u001b[0m\u001b[0;34m[\u001b[0m\u001b[0mi\u001b[0m\u001b[0;34m]\u001b[0m\u001b[0;34m]\u001b[0m \u001b[0;34m+=\u001b[0m \u001b[0;36m1\u001b[0m\u001b[0;34m\u001b[0m\u001b[0m\n",
      "\u001b[0;31mNameError\u001b[0m: name 'predict' is not defined"
     ]
    }
   ],
   "source": [
    "mean = np.zeros((10,2))\n",
    "nb = np.zeros(10)\n",
    "y_int = y_train\n",
    "# y_train = y_train.astype(int)\n",
    "# y_int = np.empty(len(y_train),dtype=int)\n",
    "# for i in range(len(y_train)):\n",
    "#     idx = 0\n",
    "#     while (y_train[i][idx]!=1):\n",
    "#         idx += 1\n",
    "#     y_int[i] = int(idx)\n",
    "\n",
    "for i in range(len(predict)):\n",
    "    mean[y_int[i]] += predict[i]\n",
    "    nb[y_int[i]] += 1\n",
    "\n",
    "for i in range(len(mean)):\n",
    "    mean[i] /= nb[i]\n",
    "print(mean)\n",
    "\n",
    "std_vect = np.zeros((10,2)) + mean\n",
    "std = np.zeros(10)\n",
    "for i in range(len(predict)):\n",
    "    std[y_int[i]] += np.sum(np.square(predict[i]-mean))\n",
    "\n",
    "for i in range(len(mean)):\n",
    "    std[i] /= nb[i]\n",
    "print(np.sqrt(std))\n",
    "\n",
    "plt.axis('equal')\n",
    "n = 10\n",
    "for i in range(n):\n",
    "    y = predict[np.equal(i,y_int)]\n",
    "    #y = y / np.linalg.norm(y, axis=-1,keepdims=True)\n",
    "    plt.plot(y[:,0],y[:,1],'o',label=str(i))\n",
    "#mean = mean/np.linalg.norm(mean, axis=-1,keepdims=True)\n",
    "plt.plot(mean[:n,0],mean[:n,1],'ko')\n",
    "plt.legend()"
   ]
  },
  {
   "cell_type": "code",
   "execution_count": null,
   "metadata": {},
   "outputs": [],
   "source": []
  }
 ],
 "metadata": {
  "kernelspec": {
   "display_name": "Python 3",
   "language": "python",
   "name": "python3"
  },
  "language_info": {
   "codemirror_mode": {
    "name": "ipython",
    "version": 3
   },
   "file_extension": ".py",
   "mimetype": "text/x-python",
   "name": "python",
   "nbconvert_exporter": "python",
   "pygments_lexer": "ipython3",
   "version": "3.6.4"
  }
 },
 "nbformat": 4,
 "nbformat_minor": 2
}
