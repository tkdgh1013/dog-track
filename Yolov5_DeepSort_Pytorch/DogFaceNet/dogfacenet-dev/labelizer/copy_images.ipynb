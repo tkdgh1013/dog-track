{
 "cells": [
  {
   "cell_type": "markdown",
   "metadata": {},
   "source": [
    "# Copy images from images folder to training folder for face alignment"
   ]
  },
  {
   "cell_type": "code",
   "execution_count": 1,
   "metadata": {},
   "outputs": [],
   "source": [
    "import os\n",
    "from tqdm import tqdm_notebook\n",
    "from shutil import copyfile"
   ]
  },
  {
   "cell_type": "code",
   "execution_count": 4,
   "metadata": {},
   "outputs": [],
   "source": [
    "PATH = '../../data/dogfacenet/images/'\n",
    "PATH_dest = '../../data/dogfacenet/aligned/before_2/'\n",
    "PATH_valid = '../../data/dogfacenet/validation/'"
   ]
  },
  {
   "cell_type": "markdown",
   "metadata": {},
   "source": [
    "Copy files from images folder to training folder "
   ]
  },
  {
   "cell_type": "code",
   "execution_count": 3,
   "metadata": {
    "scrolled": true
   },
   "outputs": [
    {
     "data": {
      "application/vnd.jupyter.widget-view+json": {
       "model_id": "98e3260fc5344cec8a240b9b8bc6f067",
       "version_major": 2,
       "version_minor": 0
      },
      "text/html": [
       "<p>Failed to display Jupyter Widget of type <code>HBox</code>.</p>\n",
       "<p>\n",
       "  If you're reading this message in the Jupyter Notebook or JupyterLab Notebook, it may mean\n",
       "  that the widgets JavaScript is still loading. If this message persists, it\n",
       "  likely means that the widgets JavaScript library is either not installed or\n",
       "  not enabled. See the <a href=\"https://ipywidgets.readthedocs.io/en/stable/user_install.html\">Jupyter\n",
       "  Widgets Documentation</a> for setup instructions.\n",
       "</p>\n",
       "<p>\n",
       "  If you're reading this message in another frontend (for example, a static\n",
       "  rendering on GitHub or <a href=\"https://nbviewer.jupyter.org/\">NBViewer</a>),\n",
       "  it may mean that your frontend doesn't currently support widgets.\n",
       "</p>\n"
      ],
      "text/plain": [
       "HBox(children=(IntProgress(value=1, bar_style='info', max=1), HTML(value='')))"
      ]
     },
     "metadata": {},
     "output_type": "display_data"
    },
    {
     "name": "stdout",
     "output_type": "stream",
     "text": [
      "\n",
      "Number of classes: 492\n",
      "Mean number of images per classes: 8.835365853658537\n"
     ]
    }
   ],
   "source": [
    "count_classes = 0\n",
    "mean = 0.\n",
    "\n",
    "for root,dirs,files in tqdm_notebook(os.walk(PATH)):\n",
    "    if len(files) > 4:\n",
    "        idx = -1\n",
    "        for i in range(-1,-len(root),-1):\n",
    "            if root[i] == '/':\n",
    "                idx = i+1\n",
    "                break\n",
    "        for i in range(len(files)):\n",
    "            copyfile(root+'/'+files[i],PATH_dest+root[idx:]+'.'+files[i])\n",
    "\n",
    "        count_classes += 1\n",
    "        mean += len(files)\n",
    "\n",
    "print(\"Number of classes: \" + str(count_classes))\n",
    "print(\"Mean number of images per classes: \" + str(mean/count_classes))"
   ]
  },
  {
   "cell_type": "code",
   "execution_count": 7,
   "metadata": {},
   "outputs": [
    {
     "data": {
      "application/vnd.jupyter.widget-view+json": {
       "model_id": "2b1b596042654cc69af9a1849af62bfe",
       "version_major": 2,
       "version_minor": 0
      },
      "text/html": [
       "<p>Failed to display Jupyter Widget of type <code>HBox</code>.</p>\n",
       "<p>\n",
       "  If you're reading this message in the Jupyter Notebook or JupyterLab Notebook, it may mean\n",
       "  that the widgets JavaScript is still loading. If this message persists, it\n",
       "  likely means that the widgets JavaScript library is either not installed or\n",
       "  not enabled. See the <a href=\"https://ipywidgets.readthedocs.io/en/stable/user_install.html\">Jupyter\n",
       "  Widgets Documentation</a> for setup instructions.\n",
       "</p>\n",
       "<p>\n",
       "  If you're reading this message in another frontend (for example, a static\n",
       "  rendering on GitHub or <a href=\"https://nbviewer.jupyter.org/\">NBViewer</a>),\n",
       "  it may mean that your frontend doesn't currently support widgets.\n",
       "</p>\n"
      ],
      "text/plain": [
       "HBox(children=(IntProgress(value=1, bar_style='info', max=1), HTML(value='')))"
      ]
     },
     "metadata": {},
     "output_type": "display_data"
    },
    {
     "name": "stdout",
     "output_type": "stream",
     "text": [
      "\n",
      "Number of classes: 1167\n",
      "Mean number of images per classes: 2.7609254498714653\n"
     ]
    }
   ],
   "source": [
    "count_classes = 0\n",
    "mean = 0.\n",
    "\n",
    "for root,dirs,files in tqdm_notebook(os.walk(PATH)):\n",
    "    if len(files) > 0 and len(files) <= 4:\n",
    "        idx = -1\n",
    "        for i in range(-1,-len(root),-1):\n",
    "            if root[i] == '/':\n",
    "                idx = i+1\n",
    "                break\n",
    "        for i in range(len(files)):\n",
    "            copyfile(root+'/'+files[i],PATH_valid+root[idx:]+'.'+files[i])\n",
    "\n",
    "        count_classes += 1\n",
    "        mean += len(files)\n",
    "\n",
    "print(\"Number of classes: \" + str(count_classes))\n",
    "print(\"Mean number of images per classes: \" + str(mean/count_classes))"
   ]
  },
  {
   "cell_type": "code",
   "execution_count": null,
   "metadata": {},
   "outputs": [],
   "source": []
  }
 ],
 "metadata": {
  "kernelspec": {
   "display_name": "Python 3",
   "language": "python",
   "name": "python3"
  },
  "language_info": {
   "codemirror_mode": {
    "name": "ipython",
    "version": 3
   },
   "file_extension": ".py",
   "mimetype": "text/x-python",
   "name": "python",
   "nbconvert_exporter": "python",
   "pygments_lexer": "ipython3",
   "version": "3.6.4"
  }
 },
 "nbformat": 4,
 "nbformat_minor": 2
}
