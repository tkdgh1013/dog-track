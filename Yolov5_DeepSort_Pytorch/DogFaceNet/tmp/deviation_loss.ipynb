{
 "cells": [
  {
   "cell_type": "code",
   "execution_count": 1,
   "metadata": {},
   "outputs": [],
   "source": [
    "import tensorflow as tf\n",
    "import numpy as np"
   ]
  },
  {
   "cell_type": "code",
   "execution_count": null,
   "metadata": {},
   "outputs": [],
   "source": [
    "dataset = tf.data.Dataset.from_tensor_slices(np.random.random_sample((10,5,5,3)))\n",
    "dataset = dataset.shuffle().repeat(2)\n",
    "\n",
    "conv = tf.layers.convolution2D(128, (5,5), activation='relu')(inputs)\n",
    "flatten = tf.layers.flatten()(conv)\n",
    "lin = tf.layers.Dense(10)(flatten)\n",
    "\n",
    "init = tf.global_variable_initializer()\n",
    "with tf.Session() as sess:\n",
    "    sess.run(init)\n",
    "    sess"
   ]
  },
  {
   "cell_type": "code",
   "execution_count": 5,
   "metadata": {
    "collapsed": true
   },
   "outputs": [
    {
     "name": "stdout",
     "output_type": "stream",
     "text": [
      "5\n",
      "28\n",
      "9\n",
      "3\n",
      "2\n",
      "9\n",
      "5\n",
      "28\n",
      "3\n",
      "2\n"
     ]
    }
   ],
   "source": [
    "data = tf.data.Dataset.from_tensor_slices([2,3,28,9,5])\n",
    "data = data.shuffle(5).repeat(2)\n",
    "\n",
    "it = data.make_one_shot_iterator()\n",
    "nex = it.get_next()\n",
    "\n",
    "sess = tf.Session()\n",
    "\n",
    "while True:\n",
    "    try:\n",
    "        print((sess.run(nex)))\n",
    "    except tf.errors.OutOfRangeError:\n",
    "        break"
   ]
  },
  {
   "cell_type": "code",
   "execution_count": 6,
   "metadata": {},
   "outputs": [
    {
     "name": "stdout",
     "output_type": "stream",
     "text": [
      "[[2. 3.]]\n",
      "<class 'numpy.ndarray'>\n",
      "[[2. 3.]]\n",
      "<class 'numpy.ndarray'>\n"
     ]
    }
   ],
   "source": [
    "# (ID, class, prediction)\n",
    "\n",
    "ID = np.array([[2,3],[5,6],[28,2],[6,5],[8,9]], dtype=np.float32)\n",
    "classes = np.array([1,1,1,2,1], dtype=np.float32)\n",
    "prediction = np.random.random_sample((5,))\n",
    "\n",
    "\n",
    "ID_ph = tf.placeholder(ID.dtype, ID.shape)\n",
    "classes_ph = tf.placeholder(classes.dtype, classes.shape)\n",
    "prediction_ph = tf.placeholder(prediction.dtype, prediction.shape)\n",
    "\n",
    "data = tf.data.Dataset.from_tensor_slices((ID_ph, classes_ph, prediction_ph))\n",
    "\n",
    "data = data.batch(1)\n",
    "\n",
    "\n",
    "it = data.make_initializable_iterator()\n",
    "nex = it.get_next()\n",
    "\n",
    "\n",
    "dense = tf.layers.Dense(10, activation='relu')(nex[0])\n",
    "pred = tf.layers.Dense(1, activation='sigmoid')(dense)\n",
    "\n",
    "\n",
    "\n",
    "sess = tf.Session()\n",
    "\n",
    "init = tf.global_variables_initializer()\n",
    "sess.run(init)\n",
    "\n",
    "def update_data(ID, classes, prediction):\n",
    "    \n",
    "\n",
    "for _ in range(2):\n",
    "    sess.run(it.initializer, feed_dict={ID_ph:ID, classes_ph:classes, prediction_ph:prediction})\n",
    "    while True:\n",
    "        try:\n",
    "            print(sess.run(nex[0]))\n",
    "            val = sess.run(pred)\n",
    "            \n",
    "        except tf.errors.OutOfRangeError:\n",
    "            break"
   ]
  },
  {
   "cell_type": "code",
   "execution_count": 9,
   "metadata": {},
   "outputs": [
    {
     "data": {
      "text/plain": [
       "array([[ 0,  1,  2],\n",
       "       [ 3,  4,  5],\n",
       "       [ 6,  7,  8],\n",
       "       [ 9, 10, 11]])"
      ]
     },
     "execution_count": 9,
     "metadata": {},
     "output_type": "execute_result"
    }
   ],
   "source": [
    "np.reshape(np.arange(12),(-1,3))"
   ]
  },
  {
   "cell_type": "code",
   "execution_count": 17,
   "metadata": {},
   "outputs": [
    {
     "name": "stdout",
     "output_type": "stream",
     "text": [
      "(10,)\n",
      "(1, 10)\n"
     ]
    }
   ],
   "source": [
    "a = np.arange(10)\n",
    "print(a.shape)\n",
    "print(np.expand_dims(a,0).shape)"
   ]
  },
  {
   "cell_type": "code",
   "execution_count": 21,
   "metadata": {},
   "outputs": [
    {
     "ename": "ValueError",
     "evalue": "too many values to unpack (expected 2)",
     "output_type": "error",
     "traceback": [
      "\u001b[1;31m---------------------------------------------------------------------------\u001b[0m",
      "\u001b[1;31mValueError\u001b[0m                                Traceback (most recent call last)",
      "\u001b[1;32m<ipython-input-21-93c7881d35ef>\u001b[0m in \u001b[0;36m<module>\u001b[1;34m()\u001b[0m\n\u001b[1;32m----> 1\u001b[1;33m \u001b[1;32mfor\u001b[0m \u001b[0mi\u001b[0m\u001b[1;33m,\u001b[0m \u001b[0mj\u001b[0m \u001b[1;32min\u001b[0m \u001b[1;33m(\u001b[0m\u001b[0mnp\u001b[0m\u001b[1;33m.\u001b[0m\u001b[0marange\u001b[0m\u001b[1;33m(\u001b[0m\u001b[1;36m10\u001b[0m\u001b[1;33m)\u001b[0m\u001b[1;33m,\u001b[0m \u001b[0mnp\u001b[0m\u001b[1;33m.\u001b[0m\u001b[0marange\u001b[0m\u001b[1;33m(\u001b[0m\u001b[1;36m10\u001b[0m\u001b[1;33m)\u001b[0m\u001b[1;33m)\u001b[0m\u001b[1;33m:\u001b[0m\u001b[1;33m\u001b[0m\u001b[0m\n\u001b[0m\u001b[0;32m      2\u001b[0m     \u001b[0mprint\u001b[0m\u001b[1;33m(\u001b[0m\u001b[0mi\u001b[0m\u001b[1;33m*\u001b[0m\u001b[0mj\u001b[0m\u001b[1;33m)\u001b[0m\u001b[1;33m\u001b[0m\u001b[0m\n",
      "\u001b[1;31mValueError\u001b[0m: too many values to unpack (expected 2)"
     ]
    }
   ],
   "source": [
    "for i, j in (np.arange(10), np.arange(10)):\n",
    "    print(i*j)"
   ]
  },
  {
   "cell_type": "code",
   "execution_count": 22,
   "metadata": {},
   "outputs": [
    {
     "name": "stdout",
     "output_type": "stream",
     "text": [
      "[0 1 2 3 4 5 6 7 8 9]\n"
     ]
    }
   ],
   "source": [
    "print(np.arange(10))"
   ]
  },
  {
   "cell_type": "code",
   "execution_count": 25,
   "metadata": {},
   "outputs": [
    {
     "data": {
      "text/plain": [
       "{0: (0, 0),\n",
       " 1: (1, 0),\n",
       " 2: (4, 0),\n",
       " 3: (9, 0),\n",
       " 4: (16, 0),\n",
       " 5: (25, 0),\n",
       " 6: (36, 0),\n",
       " 7: (49, 0),\n",
       " 8: (64, 0),\n",
       " 9: (81, 0)}"
      ]
     },
     "execution_count": 25,
     "metadata": {},
     "output_type": "execute_result"
    }
   ],
   "source": [
    "{i:(i*i, 0) for i in range(10)}"
   ]
  },
  {
   "cell_type": "code",
   "execution_count": 33,
   "metadata": {},
   "outputs": [
    {
     "name": "stdout",
     "output_type": "stream",
     "text": [
      "{1: 2, 2: 3, 3: 4, 4: 5, 5: 6, 6: 7, 7: 8, 8: 9, 9: 10, 10: 11}\n"
     ]
    }
   ],
   "source": [
    "conc = np.concatenate((np.expand_dims(np.arange(1,11),1), np.expand_dims(np.arange(2,12),1)), axis=1)\n",
    "print({i:j for i,j in conc})"
   ]
  },
  {
   "cell_type": "code",
   "execution_count": null,
   "metadata": {},
   "outputs": [],
   "source": []
  }
 ],
 "metadata": {
  "kernelspec": {
   "display_name": "Python 3",
   "language": "python",
   "name": "python3"
  },
  "language_info": {
   "codemirror_mode": {
    "name": "ipython",
    "version": 3
   },
   "file_extension": ".py",
   "mimetype": "text/x-python",
   "name": "python",
   "nbconvert_exporter": "python",
   "pygments_lexer": "ipython3",
   "version": "3.6.4"
  }
 },
 "nbformat": 4,
 "nbformat_minor": 2
}
