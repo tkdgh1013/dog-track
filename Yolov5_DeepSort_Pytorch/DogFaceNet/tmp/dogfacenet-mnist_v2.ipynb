{
 "cells": [
  {
   "cell_type": "markdown",
   "metadata": {},
   "source": [
    "# Version of DogFaceNet implementation for MNIST dataset\n",
    "We will train to stick on the pairs learning technique"
   ]
  },
  {
   "cell_type": "markdown",
   "metadata": {},
   "source": [
    "### Imports"
   ]
  },
  {
   "cell_type": "code",
   "execution_count": 1,
   "metadata": {},
   "outputs": [],
   "source": [
    "from __future__ import absolute_import\n",
    "from __future__ import division\n",
    "from __future__ import print_function\n",
    "\n",
    "import tensorflow as tf\n",
    "\n",
    "import os\n",
    "import pickle\n",
    "import numpy as np\n",
    "import skimage as sk\n",
    "import matplotlib.pyplot as plt\n",
    "from tqdm import tqdm_notebook\n",
    "import tensorflow.keras.backend as K"
   ]
  },
  {
   "cell_type": "markdown",
   "metadata": {},
   "source": [
    "### Dataset implementation"
   ]
  },
  {
   "cell_type": "markdown",
   "metadata": {},
   "source": [
    "Load the dataset"
   ]
  },
  {
   "cell_type": "code",
   "execution_count": 2,
   "metadata": {},
   "outputs": [],
   "source": [
    "from tensorflow.keras.datasets import mnist\n",
    "\n",
    "(x_train, y_train), (x_test, y_test) = mnist.load_data()\n",
    "SIZE = (28,28)\n",
    "PATH_SAVE = '../output/history/'\n",
    "\n",
    "x_train = x_train.astype(np.float32)\n",
    "x_test = x_test.astype(np.float32)\n",
    "x_train /= 255\n",
    "x_test /= 255"
   ]
  },
  {
   "cell_type": "markdown",
   "metadata": {},
   "source": [
    "Create the pairs"
   ]
  },
  {
   "cell_type": "code",
   "execution_count": null,
   "metadata": {},
   "outputs": [],
   "source": [
    "nbof_pairs = len(y_train)*2\n",
    "\n",
    "pairs = np.empty((nbof_pairs,28,28))\n",
    "issame = np.empty(nbof_pairs)\n",
    "\n",
    "for i in tqdm_notebook(range(0,nbof_pairs,2)):\n",
    "    alea = np.random.rand()\n",
    "    # Pair of different dogs\n",
    "    if alea < 0.5:\n",
    "        # Chose the classes:\n",
    "        class1 = np.random.randint(10)\n",
    "        class2 = np.random.randint(10)\n",
    "        while class1==class2:\n",
    "            class2 = np.random.randint(10)\n",
    "            \n",
    "        # Extract images of this class:\n",
    "        y_class1 = np.arange(len(y_train))[np.equal(y_train,class1)]\n",
    "        y_class2 = np.arange(len(y_train))[np.equal(y_train,class2)]\n",
    "        \n",
    "        # Chose an image amoung these selected images\n",
    "        pairs[i] = x_train[y_class1[np.random.randint(len(y_class1))]]\n",
    "        pairs[i+1] = x_train[y_class2[np.random.randint(len(y_class2))]]\n",
    "        issame[i] = issame[i+1] = 0\n",
    "    # Pair of same dogs\n",
    "    else:\n",
    "        # Chose a class\n",
    "        clas = np.random.randint(10)\n",
    "        y_class = np.arange(len(y_train))[np.equal(y_train,clas)]\n",
    "        \n",
    "        # Select two images from this class\n",
    "        idx_image1 = y_class[np.random.randint(len(y_class))]\n",
    "        idx_image2 = y_class[np.random.randint(len(y_class))]\n",
    "        while idx_image1 == idx_image2:\n",
    "            idx_image2 = y_class[np.random.randint(len(y_class))]\n",
    "        \n",
    "        pairs[i] = x_train[idx_image1]\n",
    "        pairs[i+1] = x_train[idx_image2]\n",
    "        issame[i] = issame[i+1] = 1\n"
   ]
  },
  {
   "cell_type": "code",
   "execution_count": 3,
   "metadata": {
    "collapsed": true
   },
   "outputs": [
    {
     "ename": "NameError",
     "evalue": "name 'issame' is not defined",
     "output_type": "error",
     "traceback": [
      "\u001b[1;31m---------------------------------------------------------------------------\u001b[0m",
      "\u001b[1;31mNameError\u001b[0m                                 Traceback (most recent call last)",
      "\u001b[1;32m<ipython-input-3-5e441444bbb2>\u001b[0m in \u001b[0;36m<module>\u001b[1;34m()\u001b[0m\n\u001b[0;32m      2\u001b[0m \u001b[0ms\u001b[0m \u001b[1;33m=\u001b[0m \u001b[1;36m20\u001b[0m\u001b[1;33m\u001b[0m\u001b[0m\n\u001b[0;32m      3\u001b[0m \u001b[0mn\u001b[0m \u001b[1;33m=\u001b[0m \u001b[1;36m5\u001b[0m\u001b[1;33m\u001b[0m\u001b[0m\n\u001b[1;32m----> 4\u001b[1;33m \u001b[0mprint\u001b[0m\u001b[1;33m(\u001b[0m\u001b[0missame\u001b[0m\u001b[1;33m[\u001b[0m\u001b[1;36m2\u001b[0m\u001b[1;33m*\u001b[0m\u001b[0ms\u001b[0m\u001b[1;33m:\u001b[0m\u001b[1;33m(\u001b[0m\u001b[0mn\u001b[0m\u001b[1;33m+\u001b[0m\u001b[0ms\u001b[0m\u001b[1;33m)\u001b[0m\u001b[1;33m*\u001b[0m\u001b[1;36m2\u001b[0m\u001b[1;33m]\u001b[0m\u001b[1;33m)\u001b[0m\u001b[1;33m\u001b[0m\u001b[0m\n\u001b[0m\u001b[0;32m      5\u001b[0m \u001b[1;31m#print(y_pairs[2*s:(n+s)*2])\u001b[0m\u001b[1;33m\u001b[0m\u001b[1;33m\u001b[0m\u001b[0m\n\u001b[0;32m      6\u001b[0m \u001b[0mfig\u001b[0m \u001b[1;33m=\u001b[0m \u001b[0mplt\u001b[0m\u001b[1;33m.\u001b[0m\u001b[0mfigure\u001b[0m\u001b[1;33m(\u001b[0m\u001b[0mfigsize\u001b[0m\u001b[1;33m=\u001b[0m\u001b[1;33m(\u001b[0m\u001b[1;36m5\u001b[0m\u001b[1;33m,\u001b[0m\u001b[1;36m3\u001b[0m\u001b[1;33m*\u001b[0m\u001b[0mn\u001b[0m\u001b[1;33m)\u001b[0m\u001b[1;33m)\u001b[0m\u001b[1;33m\u001b[0m\u001b[0m\n",
      "\u001b[1;31mNameError\u001b[0m: name 'issame' is not defined"
     ]
    }
   ],
   "source": [
    "# check some pairs\n",
    "s = 20\n",
    "n = 5\n",
    "print(issame[2*s:(n+s)*2])\n",
    "#print(y_pairs[2*s:(n+s)*2])\n",
    "fig = plt.figure(figsize=(5,3*n))\n",
    "for i in range(s,s+n):\n",
    "    plt.subplot(n,2,2*(i-s)+1)\n",
    "    plt.imshow(pairs[2*i])\n",
    "    plt.subplot(n,2,2*(i-s)+2)\n",
    "    plt.imshow(pairs[2*i+1])"
   ]
  },
  {
   "cell_type": "markdown",
   "metadata": {},
   "source": [
    "Create the triplets"
   ]
  },
  {
   "cell_type": "code",
   "execution_count": 3,
   "metadata": {},
   "outputs": [
    {
     "data": {
      "application/vnd.jupyter.widget-view+json": {
       "model_id": "6ebcd14b33ab48008ddea7d247bb2e6e",
       "version_major": 2,
       "version_minor": 0
      },
      "text/html": [
       "<p>Failed to display Jupyter Widget of type <code>HBox</code>.</p>\n",
       "<p>\n",
       "  If you're reading this message in the Jupyter Notebook or JupyterLab Notebook, it may mean\n",
       "  that the widgets JavaScript is still loading. If this message persists, it\n",
       "  likely means that the widgets JavaScript library is either not installed or\n",
       "  not enabled. See the <a href=\"https://ipywidgets.readthedocs.io/en/stable/user_install.html\">Jupyter\n",
       "  Widgets Documentation</a> for setup instructions.\n",
       "</p>\n",
       "<p>\n",
       "  If you're reading this message in another frontend (for example, a static\n",
       "  rendering on GitHub or <a href=\"https://nbviewer.jupyter.org/\">NBViewer</a>),\n",
       "  it may mean that your frontend doesn't currently support widgets.\n",
       "</p>\n"
      ],
      "text/plain": [
       "HBox(children=(IntProgress(value=0, max=20000), HTML(value='')))"
      ]
     },
     "metadata": {},
     "output_type": "display_data"
    },
    {
     "name": "stdout",
     "output_type": "stream",
     "text": [
      "\n"
     ]
    }
   ],
   "source": [
    "nbof_triplets = len(y_train)\n",
    "\n",
    "triplets = np.empty((nbof_triplets,28,28))\n",
    "y_triplets = np.empty(nbof_triplets)\n",
    "issame = np.empty(nbof_triplets)\n",
    "\n",
    "for i in tqdm_notebook(range(0,nbof_triplets,3)):\n",
    "    # Pair of same classes\n",
    "    # Chose a class\n",
    "    clas = np.random.randint(10)\n",
    "    y_class = np.arange(len(y_train))[np.equal(y_train,clas)]\n",
    "\n",
    "    # Select two images from this class\n",
    "    idx_image1 = y_class[np.random.randint(len(y_class))]\n",
    "    idx_image2 = y_class[np.random.randint(len(y_class))]\n",
    "    while idx_image1 == idx_image2:\n",
    "        idx_image2 = y_class[np.random.randint(len(y_class))]\n",
    "\n",
    "    triplets[i] = x_train[idx_image1]\n",
    "    triplets[i+1] = x_train[idx_image2]\n",
    "    issame[i] = issame[i+1] = 1\n",
    "    y_triplets[i] = y_triplets[i+1] = clas\n",
    "\n",
    "    # Pair of different classes\n",
    "    # Chose the classes:\n",
    "    class2 = np.random.randint(10)\n",
    "    while clas==class2:\n",
    "        class2 = np.random.randint(10)\n",
    "\n",
    "    # Extract images of this class:\n",
    "    y_class2 = np.arange(len(y_train))[np.equal(y_train,class2)]\n",
    "\n",
    "    # Chose an image amoung these selected images\n",
    "    triplets[i+2] = x_train[y_class2[np.random.randint(len(y_class2))]]\n",
    "    issame[i+2] = 0\n",
    "    y_triplets[i+2] = class2\n",
    "\n",
    "triplets_exp = np.expand_dims(triplets, -1)\n",
    "triplets_exp.shape"
   ]
  },
  {
   "cell_type": "code",
   "execution_count": 4,
   "metadata": {
    "scrolled": true
   },
   "outputs": [
    {
     "name": "stdout",
     "output_type": "stream",
     "text": [
      "[1. 1. 0. 1. 1. 0. 1. 1. 0. 1. 1. 0. 1. 1. 0.]\n",
      "[9. 9. 2. 4. 4. 1. 9. 9. 0. 8. 8. 7. 5. 5. 6.]\n"
     ]
    },
    {
     "data": {
      "image/png": "[encoded data removed]",
      "text/plain": [
       "<Figure size 504x1080 with 15 Axes>"
      ]
     },
     "metadata": {},
     "output_type": "display_data"
    }
   ],
   "source": [
    "# Check some triplets\n",
    "s = 10\n",
    "n = 5\n",
    "print(issame[3*s:(n+s)*3])\n",
    "print(y_triplets[3*s:(n+s)*3])\n",
    "fig = plt.figure(figsize=(7,3*n))\n",
    "for i in range(s,s+n):\n",
    "    plt.subplot(n,3,3*(i-s)+1)\n",
    "    plt.imshow(triplets[3*i])\n",
    "    plt.subplot(n,3,3*(i-s)+2)\n",
    "    plt.imshow(triplets[3*i+1])\n",
    "    plt.subplot(n,3,3*(i-s)+3)\n",
    "    plt.imshow(triplets[3*i+2])"
   ]
  },
  {
   "cell_type": "markdown",
   "metadata": {},
   "source": [
    "### Define the loss"
   ]
  },
  {
   "cell_type": "code",
   "execution_count": 6,
   "metadata": {},
   "outputs": [],
   "source": [
    "import tensorflow.keras.backend as K\n",
    "alpha = 0.3\n",
    "def triplet(y_true,y_pred):\n",
    "    a = y_pred[0::3]\n",
    "    p = y_pred[1::3]\n",
    "    n = y_pred[2::3]\n",
    "    \n",
    "    ap = K.sum(K.square(a-p), axis = -1)\n",
    "    an = K.sum(K.square(a-n), axis = -1)\n",
    "    s = K.sum(tf.nn.relu(ap - an + alpha))\n",
    "    return s"
   ]
  },
  {
   "cell_type": "code",
   "execution_count": 10,
   "metadata": {},
   "outputs": [],
   "source": [
    "import tensorflow.keras.backend as K\n",
    "alpha = 0.3\n",
    "def cosine(y_true,y_pred):\n",
    "    a = y_pred[0::3]\n",
    "    p = y_pred[1::3]\n",
    "    n = y_pred[2::3]\n",
    "    \n",
    "    cos_ap = K.sum(a*p, axis = -1)\n",
    "    cos_an = K.sum(a*n, axis = -1)\n",
    "    s = K.sum(tf.nn.relu(cos_ap - cos_an + alpha))\n",
    "    return K.sum(s)"
   ]
  },
  {
   "cell_type": "code",
   "execution_count": 47,
   "metadata": {},
   "outputs": [
    {
     "data": {
      "text/plain": [
       "array([[0, 0],\n",
       "       [2, 2],\n",
       "       [1, 1],\n",
       "       [2, 2]])"
      ]
     },
     "execution_count": 47,
     "metadata": {},
     "output_type": "execute_result"
    }
   ],
   "source": [
    "c = np.vstack([0,2,1,2])\n",
    "np.hstack([c,c])"
   ]
  },
  {
   "cell_type": "code",
   "execution_count": 23,
   "metadata": {},
   "outputs": [
    {
     "name": "stdout",
     "output_type": "stream",
     "text": [
      "[[ 0.4472136   0.8944272 ]\n",
      " [ 0.78086877  0.62469506]\n",
      " [-0.8944272   0.4472136 ]\n",
      " [ 0.31622776  0.94868326]]\n",
      "[array([[1., 0., 0., 0.],\n",
      "       [0., 1., 0., 1.],\n",
      "       [0., 0., 1., 0.],\n",
      "       [0., 1., 0., 1.]], dtype=float32), array([[1.        , 0.9539797 , 0.5       , 0.99497473],\n",
      "       [0.9539797 , 1.        , 0.29047096, 0.9197851 ],\n",
      "       [0.5       , 0.29047096, 1.        , 0.57071066],\n",
      "       [0.99497473, 0.9197851 , 0.57071066, 1.        ]], dtype=float32), array([[1.1920933e-07, 3.0786719e+00, 6.9314718e-01, 5.2932763e+00],\n",
      "       [3.0786719e+00, 1.1920933e-07, 3.4315383e-01, 8.3615243e-02],\n",
      "       [6.9314718e-01, 3.4315383e-01, 1.1920933e-07, 8.4562409e-01],\n",
      "       [5.2932763e+00, 8.3615243e-02, 8.4562409e-01, 1.1920933e-07]],\n",
      "      dtype=float32)]\n"
     ]
    },
    {
     "data": {
      "image/png": "[encoded data removed]",
      "text/plain": [
       "<Figure size 432x288 with 1 Axes>"
      ]
     },
     "metadata": {},
     "output_type": "display_data"
    }
   ],
   "source": [
    "# Exploration with numpy\n",
    "# In dev: bobby loss\n",
    "_y_pred = np.array([[-0.25,1],[5,4],[-1,.5],[1,3.]], dtype=np.float32)\n",
    "_y_pred = np.array([[1,2],[5,4],[-1,.5],[1,3.]], dtype=np.float32)\n",
    "#_y_pred = np.array([[1,2],[5,4],[-1,.5],[1,3.],[-1,0.1]], dtype=np.float32)\n",
    "_y_true = [0,2,1,2]\n",
    "_y_pred_norm = _y_pred/np.linalg.norm(_y_pred, axis=-1, keepdims=True)\n",
    "\n",
    "print(_y_pred_norm)\n",
    "plt.plot(_y_pred_norm[:,0],_y_pred_norm[:,1],'o')\n",
    "\n",
    "_classes = tf.keras.utils.to_categorical(_y_true,3)\n",
    "_centers = np.transpose(_y_pred_norm.T.dot(_classes / (np.sum(_classes, axis=0, keepdims=True)+1)))\n",
    "_centers_norm = _centers/np.linalg.norm(_centers, axis=-1, keepdims=True)\n",
    "x = np.linspace(-1,1,200)\n",
    "plt.axis('equal')\n",
    "plt.plot(x,np.sqrt(1.-np.square(x)))\n",
    "colors = ['r','g','b']\n",
    "for i in range(3):\n",
    "    plt.plot(_centers_norm[i,0],_centers_norm[i,1],colors[i]+'o')\n",
    "\n",
    "    \n",
    "# Exploration with tensorflow\n",
    "y_pred = tf.constant(_y_pred)\n",
    "c = np.vstack(_y_true)\n",
    "y = np.hstack([c,c])\n",
    "y_true = tf.constant(y)\n",
    "\n",
    "y_pred = y_pred / tf.norm(y_pred, axis=-1, keepdims=True)\n",
    "\n",
    "extract = tf.cast(y_true[:,0], dtype=tf.int32)\n",
    "classes = tf.one_hot(extract,depth=3)\n",
    "classes = tf.cast(classes, dtype=tf.float32)\n",
    "\n",
    "# Simulation into the loss function:\n",
    "dot_y_pred = K.dot(y_pred,K.transpose(y_pred))\n",
    "is_same_mask = K.dot(classes,K.transpose(classes))\n",
    "\n",
    "out = K.binary_crossentropy(is_same_mask,dot_y_pred*0.5+0.5)\n",
    "\n",
    "with tf.Session() as sess:\n",
    "    print(sess.run([is_same_mask,dot_y_pred*0.5+0.5,out]))"
   ]
  },
  {
   "cell_type": "code",
   "execution_count": 18,
   "metadata": {},
   "outputs": [
    {
     "name": "stderr",
     "output_type": "stream",
     "text": [
      "c:\\users\\guillaume\\anaconda3\\lib\\site-packages\\ipykernel_launcher.py:8: RuntimeWarning: invalid value encountered in true_divide\n",
      "  \n"
     ]
    },
    {
     "name": "stdout",
     "output_type": "stream",
     "text": [
      "[array([[2., 4., 1.]], dtype=float32), array([-2.5000005 , -0.99753946,  0.72142017, -2.377534  ], dtype=float32), array([0.07585815, 0.26942548, 0.67291963, 0.08490197], dtype=float32), 1.1031052, 1.4880667]\n"
     ]
    },
    {
     "data": {
      "image/png": "[encoded data removed]",
      "text/plain": [
       "<Figure size 432x288 with 1 Axes>"
      ]
     },
     "metadata": {},
     "output_type": "display_data"
    }
   ],
   "source": [
    "# Exploration with numpy\n",
    "# In dev: robert loss\n",
    "_y_pred = np.array([[-0.25,1],[5,4],[-1,.5],[1,3.]], dtype=np.float32)\n",
    "#_y_pred = np.array([[1,2],[5,4],[-1,.5],[1,3.]], dtype=np.float32)\n",
    "#_y_pred = np.array([[1,2],[5,4],[-1,.5],[1,3.],[-1,0.1]], dtype=np.float32)\n",
    "_y_true = [0,1,1,1]\n",
    "_y_pred_norm = _y_pred/np.linalg.norm(_y_pred, axis=-1, keepdims=True)\n",
    "_classes = tf.keras.utils.to_categorical(_y_true,3)\n",
    "_centers = np.transpose(_y_pred_norm.T.dot(_classes / np.sum(_classes, axis=0, keepdims=True)))\n",
    "_centers_norm = _centers/np.linalg.norm(_centers, axis=-1, keepdims=True)\n",
    "x = np.linspace(-1,1,200)\n",
    "plt.axis('equal')\n",
    "plt.plot(x,np.sqrt(1.-np.square(x)))\n",
    "colors = ['r','g','b']\n",
    "for i in range(3):\n",
    "    plt.plot(_centers_norm[i,0],_centers_norm[i,1],colors[i]+'o')\n",
    "#plt.plot(_y_pred[:,0], _y_pred[:,1], 'go')\n",
    "\n",
    "# Exploration with tensorflow\n",
    "y_pred = tf.constant(_y_pred)\n",
    "c = np.vstack(_y_true)\n",
    "y = np.hstack([c,c])\n",
    "y_true = tf.constant(y)\n",
    "\n",
    "\n",
    "# Simulation into the loss function:\n",
    "pred = y_pred / tf.norm(y_pred, axis=-1, keepdims=True)\n",
    "\n",
    "extract = tf.cast(y_true[:,0], dtype=tf.int32)\n",
    "classes = tf.one_hot(extract,depth=3)\n",
    "classes = tf.cast(classes, dtype=tf.float32)\n",
    "den_classes = K.sum(classes, axis=0, keepdims=True) + 1.\n",
    "centers = K.transpose(K.dot(K.transpose(pred), classes / den_classes))\n",
    "centers = tf.math.l2_normalize(centers,axis=-1)\n",
    "centers_classes = K.dot(classes, centers)\n",
    "ones = (K.sum(centers_classes * pred, axis=-1) * -1. + .5)*5\n",
    "inter = K.sigmoid(ones)\n",
    "dist = K.sum(inter)\n",
    "\n",
    "identity = K.arange(0,3)\n",
    "identity = tf.one_hot(identity,3)\n",
    "\n",
    "gram = K.dot(centers,K.transpose(centers)) * 0.5 + 0.5\n",
    "dev = K.sum(K.pow(gram-identity,10))\n",
    "with tf.Session() as sess:\n",
    "    print(sess.run([den_classes,ones,inter,dist,dev]))"
   ]
  },
  {
   "cell_type": "code",
   "execution_count": 23,
   "metadata": {},
   "outputs": [
    {
     "name": "stdout",
     "output_type": "stream",
     "text": [
      "[array([0.17144571, 0.32664338, 0.53896874, 0.23452379], dtype=float32), array([1.7634887, 1.1188862, 0.6180977, 1.4501983], dtype=float32), 4.9506707]\n"
     ]
    }
   ],
   "source": [
    "# Test on cosine loss\n",
    "_y_pred = np.array([[-0.25,2,1],[5,4,2],[-1,.5,2],[2,1,3.]], dtype=np.float32)\n",
    "_y_pred = _y_pred / np.linalg.norm(_y_pred, axis=-1, keepdims=True)\n",
    "y_pred = tf.constant(_y_pred)\n",
    "\n",
    "_y_true = tf.keras.utils.to_categorical([0,1,2,1])\n",
    "y_true = tf.constant(_y_true)\n",
    "\n",
    "\n",
    "s = 1.\n",
    "m = 0.08\n",
    "\n",
    "exp_s = K.exp(s * y_pred)\n",
    "exp_s_m = K.exp(s * (y_pred - m))\n",
    "\n",
    "masked_exp_s_m = exp_s_m * y_true\n",
    "\n",
    "inv_mask = 1. - y_true\n",
    "masked_exp_s = exp_s * inv_mask\n",
    "\n",
    "den = K.sum(masked_exp_s + masked_exp_s_m, axis=-1, keepdims=True)\n",
    "out = masked_exp_s_m / den\n",
    "out = K.sum(out,axis=-1)\n",
    "log_out = - K.log(out)\n",
    "ret = K.sum(log_out)\n",
    "\n",
    "with tf.Session() as sess:\n",
    "    print(sess.run([out,log_out,ret]))"
   ]
  },
  {
   "cell_type": "code",
   "execution_count": 91,
   "metadata": {},
   "outputs": [
    {
     "name": "stdout",
     "output_type": "stream",
     "text": [
      "[array([[-0.11111111,  0.8888889 ,  0.44444445],\n",
      "       [ 0.745356  ,  0.5962848 ,  0.2981424 ],\n",
      "       [-0.43643576,  0.21821788,  0.8728715 ],\n",
      "       [ 0.5345225 ,  0.26726124,  0.8017837 ]], dtype=float32), array([[-0.19017561,  0.84943527,  0.3714349 ],\n",
      "       [ 0.6896957 ,  0.5302244 ,  0.2209086 ],\n",
      "       [-0.506942  ,  0.1395312 ,  0.83108544],\n",
      "       [ 0.46527272,  0.18939877,  0.7514612 ]], dtype=float32), array([0.17157863, 0.3297167 , 0.5484489 , 0.23490773], dtype=float32), array([1.7627137 , 1.1095214 , 0.60066116, 1.4485625 ], dtype=float32), 4.9214587]\n"
     ]
    }
   ],
   "source": [
    "# Test on arccosine loss\n",
    "_y_pred = np.array([[-0.25,2,1],[5,4,2],[-1,.5,2],[2,1,3.]], dtype=np.float32)\n",
    "_y_pred = _y_pred / np.linalg.norm(_y_pred, axis=-1, keepdims=True)\n",
    "y_pred = tf.constant(_y_pred)\n",
    "\n",
    "_y_true = tf.keras.utils.to_categorical([0,1,2,1])\n",
    "y_true = tf.constant(_y_true)\n",
    "\n",
    "\n",
    "s = 1.\n",
    "m = 0.08\n",
    "\n",
    "exp_s = K.exp(s * y_pred)\n",
    "\n",
    "cos = y_pred\n",
    "sin = K.sqrt(1. - K.square(cos))\n",
    "cos_m = K.cos(m)\n",
    "sin_m = K.sin(m)\n",
    "cos_t_m = cos * cos_m - sin * sin_m\n",
    "\n",
    "exp_s_m = K.exp(s * cos_t_m)\n",
    "\n",
    "masked_exp_s_m = exp_s_m * y_true\n",
    "\n",
    "inv_mask = 1. - y_true\n",
    "masked_exp_s = exp_s * inv_mask\n",
    "\n",
    "den = K.sum(masked_exp_s + masked_exp_s_m, axis=-1, keepdims=True)\n",
    "out = masked_exp_s_m / den\n",
    "out = K.sum(out,axis=-1)\n",
    "log_out = - K.log(out)\n",
    "ret = K.sum(log_out)\n",
    "\n",
    "with tf.Session() as sess:\n",
    "    print(sess.run([y_pred,cos_t_m,out,log_out,ret]))"
   ]
  },
  {
   "cell_type": "code",
   "execution_count": 25,
   "metadata": {},
   "outputs": [],
   "source": [
    "import tensorflow.keras.backend as K\n",
    "\n",
    "def robert(y_true,y_pred):\n",
    "    \"\"\"\n",
    "    Robert tries to increase the angle between the centers\n",
    "    of each classes (=increase the deviation of the centers)\n",
    "    and to decrease the angle between elements of a certain class\n",
    "    (=decrease the deviation of the elements of a class).\n",
    "    \"\"\"\n",
    "    extract = tf.cast(y_true[:,0], dtype=tf.int32)\n",
    "    classes = tf.one_hot(extract,depth=10)\n",
    "    classes = tf.cast(classes, dtype=tf.float32)\n",
    "    \n",
    "    centers = K.transpose(K.dot(K.transpose(y_pred), classes / (K.sum(classes, axis=0, keepdims=True) + 1)))\n",
    "    centers = tf.math.l2_normalize(centers,axis=-1)\n",
    "    centers_classes = K.dot(classes, centers)\n",
    "    \n",
    "    # \"dist\" computes the angle\n",
    "    dist = (K.sum(centers_classes * y_pred, axis=-1) * -1. + .5)*5\n",
    "    dist = K.sum(K.sigmoid(dist))\n",
    "\n",
    "    identity = K.arange(0,10)\n",
    "    identity = tf.one_hot(identity,10)\n",
    "    \n",
    "    gram = K.dot(centers,K.transpose(centers)) * 0.5 + 0.5\n",
    "    dev = K.sum(K.pow(gram-identity,10))\n",
    "    return dev + dist"
   ]
  },
  {
   "cell_type": "code",
   "execution_count": 15,
   "metadata": {},
   "outputs": [],
   "source": [
    "def bobby(y_true,y_pred):\n",
    "    extract = tf.cast(y_true[:,0], dtype=tf.int32)\n",
    "    classes = tf.one_hot(extract,depth=10)\n",
    "    classes = tf.cast(classes, dtype=tf.float32)\n",
    "    \n",
    "    dot_y_pred = K.dot(y_pred,K.transpose(y_pred))\n",
    "    is_same_mask = K.dot(classes,K.transpose(classes))\n",
    "\n",
    "    return K.binary_crossentropy(is_same_mask,dot_y_pred*0.5+0.5)"
   ]
  },
  {
   "cell_type": "code",
   "execution_count": 70,
   "metadata": {},
   "outputs": [],
   "source": [
    "s = 30.\n",
    "m = 0.1\n",
    "def cosine(y_true,y_pred):\n",
    "    \n",
    "    exp_s = K.exp(s * y_pred)\n",
    "    exp_s_m = K.exp(s * (y_pred - m))\n",
    "    \n",
    "    masked_exp_s_m = exp_s_m * y_true\n",
    "    \n",
    "    inv_mask = 1. - y_true\n",
    "    masked_exp_s = exp_s * inv_mask\n",
    "    \n",
    "    den = K.sum(masked_exp_s + masked_exp_s_m, axis=-1, keepdims=True)\n",
    "    out = masked_exp_s_m / den\n",
    "    out = K.sum(out,axis=-1)\n",
    "    ret = - K.log(out)\n",
    "    ret = K.sum(ret)\n",
    "    return ret"
   ]
  },
  {
   "cell_type": "code",
   "execution_count": 97,
   "metadata": {},
   "outputs": [],
   "source": [
    "# This loss doesnt work yet...\n",
    "\n",
    "s = 10.\n",
    "m = 0.1\n",
    "def arccosine(y_true,y_pred):\n",
    "    \n",
    "    exp_s = K.exp(s * y_pred)\n",
    "    \n",
    "    cos = y_pred\n",
    "    sin = K.sqrt(1. - K.square(cos))\n",
    "    cos_m = K.cos(m)\n",
    "    sin_m = K.sin(m)\n",
    "    cos_t_m = cos * cos_m - sin * sin_m\n",
    "    \n",
    "    std_cos_t_m = y_pred - m\n",
    "    \n",
    "    # check if theta is less than pi-m:\n",
    "    keep = K.cast(K.less(cos, K.cos(np.pi - m)),K.floatx())\n",
    "    not_keep = 1 - keep\n",
    "    cos_t_m = cos_t_m * keep + std_cos_t_m * not_keep\n",
    "    \n",
    "    exp_s_m = K.exp(s * cos_t_m)\n",
    "    \n",
    "    masked_exp_s_m = exp_s_m * y_true\n",
    "    \n",
    "    inv_mask = 1. - y_true\n",
    "    masked_exp_s = exp_s * inv_mask\n",
    "    \n",
    "    den = K.sum(masked_exp_s + masked_exp_s_m, axis=-1, keepdims=True)\n",
    "    out = masked_exp_s_m / den\n",
    "    out = K.sum(out,axis=-1)\n",
    "    ret = - K.log(out)\n",
    "    ret = K.sum(ret)\n",
    "    return ret"
   ]
  },
  {
   "cell_type": "markdown",
   "metadata": {},
   "source": [
    "### Define the network"
   ]
  },
  {
   "cell_type": "code",
   "execution_count": 5,
   "metadata": {},
   "outputs": [],
   "source": [
    "from tensorflow.keras import backend as K\n",
    "from tensorflow.keras.layers import Layer\n",
    "\n",
    "class Cosine(Layer):\n",
    "\n",
    "    def __init__(self, output_dim, **kwargs):\n",
    "        self.output_dim = output_dim\n",
    "        super(Cosine, self).__init__(**kwargs)\n",
    "\n",
    "    def build(self, input_shape):\n",
    "        shape = tf.TensorShape((input_shape[-1],self.output_dim))\n",
    "\n",
    "        self.kernel = self.add_weight(name='kernel', \n",
    "                                      shape=shape,\n",
    "                                      initializer='uniform',\n",
    "                                      trainable=True)\n",
    "        super(Cosine, self).build(input_shape)\n",
    "\n",
    "    def call(self, x):\n",
    "        x = tf.math.l2_normalize(x, axis=-1)\n",
    "        w = tf.math.l2_normalize(self.kernel, axis=0)\n",
    "        \n",
    "        return K.dot(x, w)\n",
    "\n",
    "    def compute_output_shape(self, input_shape):\n",
    "        return (input_shape[0], self.output_dim)"
   ]
  },
  {
   "cell_type": "code",
   "execution_count": 98,
   "metadata": {
    "scrolled": true
   },
   "outputs": [
    {
     "name": "stdout",
     "output_type": "stream",
     "text": [
      "_________________________________________________________________\n",
      "Layer (type)                 Output Shape              Param #   \n",
      "=================================================================\n",
      "conv2d_24 (Conv2D)           (None, 26, 26, 32)        320       \n",
      "_________________________________________________________________\n",
      "conv2d_25 (Conv2D)           (None, 24, 24, 64)        18496     \n",
      "_________________________________________________________________\n",
      "max_pooling2d_12 (MaxPooling (None, 12, 12, 64)        0         \n",
      "_________________________________________________________________\n",
      "dropout_24 (Dropout)         (None, 12, 12, 64)        0         \n",
      "_________________________________________________________________\n",
      "flatten_12 (Flatten)         (None, 9216)              0         \n",
      "_________________________________________________________________\n",
      "dense_24 (Dense)             (None, 128)               1179776   \n",
      "_________________________________________________________________\n",
      "dropout_25 (Dropout)         (None, 128)               0         \n",
      "_________________________________________________________________\n",
      "dense_25 (Dense)             (None, 2)                 258       \n",
      "_________________________________________________________________\n",
      "cosine_12 (Cosine)           (None, 10)                20        \n",
      "=================================================================\n",
      "Total params: 1,198,870\n",
      "Trainable params: 1,198,870\n",
      "Non-trainable params: 0\n",
      "_________________________________________________________________\n"
     ]
    }
   ],
   "source": [
    "# Small net and cosine loss\n",
    "emb_size = 3\n",
    "\n",
    "from tensorflow.keras.models import Sequential\n",
    "from tensorflow.keras.layers import Conv2D, MaxPooling2D, Lambda\n",
    "from tensorflow.keras.layers import Activation, Dropout, Flatten, Dense\n",
    "\n",
    "model = Sequential()\n",
    "model.add(Conv2D(32, (3, 3), activation='relu', input_shape=(28, 28, 1)))\n",
    "model.add(Conv2D(64, (3, 3), activation='relu'))\n",
    "model.add(MaxPooling2D(pool_size=(2, 2)))\n",
    "model.add(Dropout(0.25))\n",
    "\n",
    "model.add(Flatten())\n",
    "model.add(Dense(128, activation='relu'))\n",
    "model.add(Dropout(0.5))\n",
    "model.add(Dense(2))\n",
    "model.add(Cosine(10))\n",
    "\n",
    "model.compile(loss=cosine,\n",
    "              optimizer='rmsprop',\n",
    "              metrics=['accuracy']\n",
    "             )\n",
    "model.summary()"
   ]
  },
  {
   "cell_type": "code",
   "execution_count": 16,
   "metadata": {
    "scrolled": true
   },
   "outputs": [
    {
     "name": "stdout",
     "output_type": "stream",
     "text": [
      "_________________________________________________________________\n",
      "Layer (type)                 Output Shape              Param #   \n",
      "=================================================================\n",
      "conv2d (Conv2D)              (None, 26, 26, 32)        320       \n",
      "_________________________________________________________________\n",
      "conv2d_1 (Conv2D)            (None, 24, 24, 64)        18496     \n",
      "_________________________________________________________________\n",
      "max_pooling2d (MaxPooling2D) (None, 12, 12, 64)        0         \n",
      "_________________________________________________________________\n",
      "dropout (Dropout)            (None, 12, 12, 64)        0         \n",
      "_________________________________________________________________\n",
      "flatten (Flatten)            (None, 9216)              0         \n",
      "_________________________________________________________________\n",
      "dense (Dense)                (None, 128)               1179776   \n",
      "_________________________________________________________________\n",
      "dropout_1 (Dropout)          (None, 128)               0         \n",
      "_________________________________________________________________\n",
      "dense_1 (Dense)              (None, 2)                 258       \n",
      "_________________________________________________________________\n",
      "lambda (Lambda)              (None, 2)                 0         \n",
      "=================================================================\n",
      "Total params: 1,198,850\n",
      "Trainable params: 1,198,850\n",
      "Non-trainable params: 0\n",
      "_________________________________________________________________\n"
     ]
    }
   ],
   "source": [
    "# Small net and bobby loss\n",
    "emb_size = 3\n",
    "\n",
    "from tensorflow.keras.models import Sequential\n",
    "from tensorflow.keras.layers import Conv2D, MaxPooling2D, Lambda\n",
    "from tensorflow.keras.layers import Activation, Dropout, Flatten, Dense\n",
    "\n",
    "model = Sequential()\n",
    "model.add(Conv2D(32, (3, 3), activation='relu', input_shape=(28, 28, 1)))\n",
    "model.add(Conv2D(64, (3, 3), activation='relu'))\n",
    "model.add(MaxPooling2D(pool_size=(2, 2)))\n",
    "model.add(Dropout(0.25))\n",
    "\n",
    "model.add(Flatten())\n",
    "model.add(Dense(128, activation='relu'))\n",
    "model.add(Dropout(0.5))\n",
    "model.add(Dense(2))\n",
    "model.add(Lambda(lambda x: tf.math.l2_normalize(x, axis=-1)))\n",
    "\n",
    "model.compile(loss=bobby,\n",
    "              optimizer='rmsprop'\n",
    "             )\n",
    "model.summary()"
   ]
  },
  {
   "cell_type": "code",
   "execution_count": 68,
   "metadata": {
    "scrolled": true
   },
   "outputs": [
    {
     "name": "stdout",
     "output_type": "stream",
     "text": [
      "_________________________________________________________________\n",
      "Layer (type)                 Output Shape              Param #   \n",
      "=================================================================\n",
      "conv2d_6 (Conv2D)            (None, 26, 26, 32)        320       \n",
      "_________________________________________________________________\n",
      "batch_normalization (BatchNo (None, 26, 26, 32)        128       \n",
      "_________________________________________________________________\n",
      "conv2d_7 (Conv2D)            (None, 24, 24, 64)        18496     \n",
      "_________________________________________________________________\n",
      "batch_normalization_1 (Batch (None, 24, 24, 64)        256       \n",
      "_________________________________________________________________\n",
      "max_pooling2d_3 (MaxPooling2 (None, 12, 12, 64)        0         \n",
      "_________________________________________________________________\n",
      "dropout_6 (Dropout)          (None, 12, 12, 64)        0         \n",
      "_________________________________________________________________\n",
      "flatten_3 (Flatten)          (None, 9216)              0         \n",
      "_________________________________________________________________\n",
      "dense_6 (Dense)              (None, 128)               1179776   \n",
      "_________________________________________________________________\n",
      "dropout_7 (Dropout)          (None, 128)               0         \n",
      "_________________________________________________________________\n",
      "dense_7 (Dense)              (None, 2)                 258       \n",
      "_________________________________________________________________\n",
      "lambda_4 (Lambda)            (None, 2)                 0         \n",
      "_________________________________________________________________\n",
      "dense_8 (Dense)              (None, 10)                30        \n",
      "=================================================================\n",
      "Total params: 1,199,264\n",
      "Trainable params: 1,199,072\n",
      "Non-trainable params: 192\n",
      "_________________________________________________________________\n"
     ]
    }
   ],
   "source": [
    "# Small net and softmax loss\n",
    "\n",
    "from tensorflow.keras.models import Sequential\n",
    "from tensorflow.keras.layers import Conv2D, MaxPooling2D, Lambda\n",
    "from tensorflow.keras.layers import Activation, Dropout, Flatten, Dense\n",
    "\n",
    "model = Sequential()\n",
    "model.add(Conv2D(32, (3, 3), activation='relu', input_shape=(28, 28, 1)))\n",
    "model.add(tf.keras.layers.BatchNormalization())\n",
    "model.add(Conv2D(64, (3, 3), activation='relu'))\n",
    "model.add(tf.keras.layers.BatchNormalization())\n",
    "model.add(MaxPooling2D(pool_size=(2, 2)))\n",
    "model.add(Dropout(0.25))\n",
    "\n",
    "model.add(Flatten())\n",
    "model.add(Dense(128, activation='relu'))\n",
    "model.add(Dropout(0.5))\n",
    "model.add(Dense(2))\n",
    "model.add(Lambda(lambda x: tf.math.l2_normalize(x, axis=-1)))\n",
    "model.add(Dense(10, activation='softmax'))\n",
    "\n",
    "model.compile(loss='categorical_crossentropy',\n",
    "              optimizer='rmsprop',\n",
    "              metrics=['accuracy']\n",
    "             )\n",
    "model.summary()"
   ]
  },
  {
   "cell_type": "code",
   "execution_count": 7,
   "metadata": {
    "scrolled": false
   },
   "outputs": [
    {
     "data": {
      "text/plain": [
       "(10000, 28, 28)"
      ]
     },
     "execution_count": 7,
     "metadata": {},
     "output_type": "execute_result"
    }
   ],
   "source": [
    "x_test.shape"
   ]
  },
  {
   "cell_type": "code",
   "execution_count": 8,
   "metadata": {},
   "outputs": [],
   "source": [
    "x_test = np.expand_dims(x_test,-1)\n",
    "x_train = np.expand_dims(x_train,-1)"
   ]
  },
  {
   "cell_type": "code",
   "execution_count": 9,
   "metadata": {},
   "outputs": [],
   "source": [
    "y_train_exp = tf.keras.utils.to_categorical(y_train)\n",
    "y_test_exp = tf.keras.utils.to_categorical(y_test)"
   ]
  },
  {
   "cell_type": "code",
   "execution_count": 10,
   "metadata": {
    "collapsed": true
   },
   "outputs": [
    {
     "ename": "ValueError",
     "evalue": "Error when checking target: expected cosine to have shape (10,) but got array with shape (2,)",
     "output_type": "error",
     "traceback": [
      "\u001b[1;31m---------------------------------------------------------------------------\u001b[0m",
      "\u001b[1;31mValueError\u001b[0m                                Traceback (most recent call last)",
      "\u001b[1;32m<ipython-input-10-04a65a5e72a5>\u001b[0m in \u001b[0;36m<module>\u001b[1;34m()\u001b[0m\n\u001b[1;32m----> 1\u001b[1;33m \u001b[0mhist\u001b[0m \u001b[1;33m=\u001b[0m \u001b[0mmodel\u001b[0m\u001b[1;33m.\u001b[0m\u001b[0mfit\u001b[0m\u001b[1;33m(\u001b[0m\u001b[0mx_train\u001b[0m\u001b[1;33m,\u001b[0m\u001b[0mnp\u001b[0m\u001b[1;33m.\u001b[0m\u001b[0mdstack\u001b[0m\u001b[1;33m(\u001b[0m\u001b[1;33m[\u001b[0m\u001b[0my_train\u001b[0m\u001b[1;33m]\u001b[0m\u001b[1;33m*\u001b[0m\u001b[1;36m2\u001b[0m\u001b[1;33m)\u001b[0m\u001b[1;33m[\u001b[0m\u001b[1;36m0\u001b[0m\u001b[1;33m]\u001b[0m\u001b[1;33m,\u001b[0m \u001b[0mbatch_size\u001b[0m\u001b[1;33m=\u001b[0m\u001b[1;36m128\u001b[0m\u001b[1;33m,\u001b[0m\u001b[0mepochs\u001b[0m\u001b[1;33m=\u001b[0m\u001b[1;36m25\u001b[0m\u001b[1;33m,\u001b[0m\u001b[0mvalidation_data\u001b[0m\u001b[1;33m=\u001b[0m\u001b[1;33m(\u001b[0m\u001b[0mx_test\u001b[0m\u001b[1;33m,\u001b[0m\u001b[0mnp\u001b[0m\u001b[1;33m.\u001b[0m\u001b[0mdstack\u001b[0m\u001b[1;33m(\u001b[0m\u001b[1;33m[\u001b[0m\u001b[0my_test\u001b[0m\u001b[1;33m]\u001b[0m\u001b[1;33m*\u001b[0m\u001b[1;36m2\u001b[0m\u001b[1;33m)\u001b[0m\u001b[1;33m[\u001b[0m\u001b[1;36m0\u001b[0m\u001b[1;33m]\u001b[0m\u001b[1;33m)\u001b[0m\u001b[1;33m)\u001b[0m\u001b[1;33m\u001b[0m\u001b[0m\n\u001b[0m",
      "\u001b[1;32mc:\\users\\guillaume\\anaconda3\\lib\\site-packages\\tensorflow\\python\\keras\\engine\\training.py\u001b[0m in \u001b[0;36mfit\u001b[1;34m(self, x, y, batch_size, epochs, verbose, callbacks, validation_split, validation_data, shuffle, class_weight, sample_weight, initial_epoch, steps_per_epoch, validation_steps, max_queue_size, workers, use_multiprocessing, **kwargs)\u001b[0m\n\u001b[0;32m   1534\u001b[0m         \u001b[0msteps_name\u001b[0m\u001b[1;33m=\u001b[0m\u001b[1;34m'steps_per_epoch'\u001b[0m\u001b[1;33m,\u001b[0m\u001b[1;33m\u001b[0m\u001b[0m\n\u001b[0;32m   1535\u001b[0m         \u001b[0msteps\u001b[0m\u001b[1;33m=\u001b[0m\u001b[0msteps_per_epoch\u001b[0m\u001b[1;33m,\u001b[0m\u001b[1;33m\u001b[0m\u001b[0m\n\u001b[1;32m-> 1536\u001b[1;33m         validation_split=validation_split)\n\u001b[0m\u001b[0;32m   1537\u001b[0m \u001b[1;33m\u001b[0m\u001b[0m\n\u001b[0;32m   1538\u001b[0m     \u001b[1;31m# Prepare validation data.\u001b[0m\u001b[1;33m\u001b[0m\u001b[1;33m\u001b[0m\u001b[0m\n",
      "\u001b[1;32mc:\\users\\guillaume\\anaconda3\\lib\\site-packages\\tensorflow\\python\\keras\\engine\\training.py\u001b[0m in \u001b[0;36m_standardize_user_data\u001b[1;34m(self, x, y, sample_weight, class_weight, batch_size, check_steps, steps_name, steps, validation_split)\u001b[0m\n\u001b[0;32m    990\u001b[0m         \u001b[0mx\u001b[0m\u001b[1;33m,\u001b[0m \u001b[0my\u001b[0m\u001b[1;33m,\u001b[0m \u001b[0msample_weight\u001b[0m \u001b[1;33m=\u001b[0m \u001b[0mnext_element\u001b[0m\u001b[1;33m\u001b[0m\u001b[0m\n\u001b[0;32m    991\u001b[0m     x, y, sample_weights = self._standardize_weights(x, y, sample_weight,\n\u001b[1;32m--> 992\u001b[1;33m                                                      class_weight, batch_size)\n\u001b[0m\u001b[0;32m    993\u001b[0m     \u001b[1;32mreturn\u001b[0m \u001b[0mx\u001b[0m\u001b[1;33m,\u001b[0m \u001b[0my\u001b[0m\u001b[1;33m,\u001b[0m \u001b[0msample_weights\u001b[0m\u001b[1;33m\u001b[0m\u001b[0m\n\u001b[0;32m    994\u001b[0m \u001b[1;33m\u001b[0m\u001b[0m\n",
      "\u001b[1;32mc:\\users\\guillaume\\anaconda3\\lib\\site-packages\\tensorflow\\python\\keras\\engine\\training.py\u001b[0m in \u001b[0;36m_standardize_weights\u001b[1;34m(self, x, y, sample_weight, class_weight, batch_size)\u001b[0m\n\u001b[0;32m   1152\u001b[0m           \u001b[0mfeed_output_shapes\u001b[0m\u001b[1;33m,\u001b[0m\u001b[1;33m\u001b[0m\u001b[0m\n\u001b[0;32m   1153\u001b[0m           \u001b[0mcheck_batch_axis\u001b[0m\u001b[1;33m=\u001b[0m\u001b[1;32mFalse\u001b[0m\u001b[1;33m,\u001b[0m  \u001b[1;31m# Don't enforce the batch size.\u001b[0m\u001b[1;33m\u001b[0m\u001b[0m\n\u001b[1;32m-> 1154\u001b[1;33m           exception_prefix='target')\n\u001b[0m\u001b[0;32m   1155\u001b[0m \u001b[1;33m\u001b[0m\u001b[0m\n\u001b[0;32m   1156\u001b[0m       \u001b[1;31m# Generate sample-wise weight values given the `sample_weight` and\u001b[0m\u001b[1;33m\u001b[0m\u001b[1;33m\u001b[0m\u001b[0m\n",
      "\u001b[1;32mc:\\users\\guillaume\\anaconda3\\lib\\site-packages\\tensorflow\\python\\keras\\engine\\training_utils.py\u001b[0m in \u001b[0;36mstandardize_input_data\u001b[1;34m(data, names, shapes, check_batch_axis, exception_prefix)\u001b[0m\n\u001b[0;32m    330\u001b[0m                 \u001b[1;34m'Error when checking '\u001b[0m \u001b[1;33m+\u001b[0m \u001b[0mexception_prefix\u001b[0m \u001b[1;33m+\u001b[0m \u001b[1;34m': expected '\u001b[0m \u001b[1;33m+\u001b[0m\u001b[1;33m\u001b[0m\u001b[0m\n\u001b[0;32m    331\u001b[0m                 \u001b[0mnames\u001b[0m\u001b[1;33m[\u001b[0m\u001b[0mi\u001b[0m\u001b[1;33m]\u001b[0m \u001b[1;33m+\u001b[0m \u001b[1;34m' to have shape '\u001b[0m \u001b[1;33m+\u001b[0m \u001b[0mstr\u001b[0m\u001b[1;33m(\u001b[0m\u001b[0mshape\u001b[0m\u001b[1;33m)\u001b[0m \u001b[1;33m+\u001b[0m\u001b[1;33m\u001b[0m\u001b[0m\n\u001b[1;32m--> 332\u001b[1;33m                 ' but got array with shape ' + str(data_shape))\n\u001b[0m\u001b[0;32m    333\u001b[0m   \u001b[1;32mreturn\u001b[0m \u001b[0mdata\u001b[0m\u001b[1;33m\u001b[0m\u001b[0m\n\u001b[0;32m    334\u001b[0m \u001b[1;33m\u001b[0m\u001b[0m\n",
      "\u001b[1;31mValueError\u001b[0m: Error when checking target: expected cosine to have shape (10,) but got array with shape (2,)"
     ]
    }
   ],
   "source": [
    "hist = model.fit(x_train,np.dstack([y_train]*2)[0], batch_size=128,epochs=25,validation_data=(x_test,np.dstack([y_test]*2)[0]))"
   ]
  },
  {
   "cell_type": "code",
   "execution_count": null,
   "metadata": {},
   "outputs": [],
   "source": [
    "loss = hist.history['loss']\n",
    "val_loss = hist.history['val_loss']\n",
    "history = np.array([loss,val_loss])\n",
    "np.save(PATH_SAVE+'2018.01.31.small_net.bobby.2.npy',history)\n",
    "np.savetxt(PATH_SAVE+'2018.01.31.small_net.bobby.2.txt',history)\n",
    "\n",
    "epochs = np.arange(len(loss))\n",
    "plt.plot(epochs,loss, label=\"loss\")\n",
    "plt.plot(epochs,val_loss, label=\"val_loss\")\n",
    "plt.xlabel(\"Number of epochs\")\n",
    "plt.legend()"
   ]
  },
  {
   "cell_type": "code",
   "execution_count": 99,
   "metadata": {
    "scrolled": true
   },
   "outputs": [
    {
     "name": "stdout",
     "output_type": "stream",
     "text": [
      "Train on 60000 samples, validate on 10000 samples\n",
      "Epoch 1/12\n",
      "20864/60000 [=========>....................] - ETA: 14:51 - loss: 1551.1194 - acc: 0.101 - ETA: 5:05 - loss: nan - acc: 0.0964      - ETA: 3:07 - loss: nan - acc: 0.09 - ETA: 2:17 - loss: nan - acc: 0.10 - ETA: 1:49 - loss: nan - acc: 0.10 - ETA: 1:31 - loss: nan - acc: 0.10 - ETA: 1:19 - loss: nan - acc: 0.09 - ETA: 1:10 - loss: nan - acc: 0.09 - ETA: 1:03 - loss: nan - acc: 0.09 - ETA: 57s - loss: nan - acc: 0.0983 - ETA: 53s - loss: nan - acc: 0.099 - ETA: 49s - loss: nan - acc: 0.097 - ETA: 46s - loss: nan - acc: 0.096 - ETA: 43s - loss: nan - acc: 0.096 - ETA: 41s - loss: nan - acc: 0.099 - ETA: 39s - loss: nan - acc: 0.098 - ETA: 37s - loss: nan - acc: 0.096 - ETA: 36s - loss: nan - acc: 0.096 - ETA: 34s - loss: nan - acc: 0.095 - ETA: 33s - loss: nan - acc: 0.096 - ETA: 32s - loss: nan - acc: 0.098 - ETA: 31s - loss: nan - acc: 0.098 - ETA: 30s - loss: nan - acc: 0.098 - ETA: 29s - loss: nan - acc: 0.097 - ETA: 28s - loss: nan - acc: 0.098 - ETA: 27s - loss: nan - acc: 0.098 - ETA: 26s - loss: nan - acc: 0.099 - ETA: 26s - loss: nan - acc: 0.098 - ETA: 25s - loss: nan - acc: 0.097 - ETA: 25s - loss: nan - acc: 0.096 - ETA: 24s - loss: nan - acc: 0.096 - ETA: 23s - loss: nan - acc: 0.097 - ETA: 23s - loss: nan - acc: 0.096 - ETA: 22s - loss: nan - acc: 0.097 - ETA: 22s - loss: nan - acc: 0.096 - ETA: 22s - loss: nan - acc: 0.097 - ETA: 21s - loss: nan - acc: 0.097 - ETA: 21s - loss: nan - acc: 0.098 - ETA: 20s - loss: nan - acc: 0.098 - ETA: 20s - loss: nan - acc: 0.099 - ETA: 20s - loss: nan - acc: 0.099 - ETA: 19s - loss: nan - acc: 0.099 - ETA: 19s - loss: nan - acc: 0.099 - ETA: 19s - loss: nan - acc: 0.099 - ETA: 19s - loss: nan - acc: 0.100 - ETA: 18s - loss: nan - acc: 0.100 - ETA: 18s - loss: nan - acc: 0.100 - ETA: 18s - loss: nan - acc: 0.100 - ETA: 18s - loss: nan - acc: 0.100 - ETA: 17s - loss: nan - acc: 0.100 - ETA: 17s - loss: nan - acc: 0.100 - ETA: 17s - loss: nan - acc: 0.101 - ETA: 17s - loss: nan - acc: 0.100 - ETA: 16s - loss: nan - acc: 0.101 - ETA: 16s - loss: nan - acc: 0.100 - ETA: 16s - loss: nan - acc: 0.101 - ETA: 16s - loss: nan - acc: 0.100 - ETA: 16s - loss: nan - acc: 0.099 - ETA: 15s - loss: nan - acc: 0.099 - ETA: 15s - loss: nan - acc: 0.099 - ETA: 15s - loss: nan - acc: 0.099 - ETA: 15s - loss: nan - acc: 0.099 - ETA: 15s - loss: nan - acc: 0.099 - ETA: 15s - loss: nan - acc: 0.099 - ETA: 14s - loss: nan - acc: 0.098 - ETA: 14s - loss: nan - acc: 0.098 - ETA: 14s - loss: nan - acc: 0.098 - ETA: 14s - loss: nan - acc: 0.098 - ETA: 14s - loss: nan - acc: 0.098 - ETA: 14s - loss: nan - acc: 0.098 - ETA: 13s - loss: nan - acc: 0.098 - ETA: 13s - loss: nan - acc: 0.098 - ETA: 13s - loss: nan - acc: 0.097 - ETA: 13s - loss: nan - acc: 0.097 - ETA: 13s - loss: nan - acc: 0.097 - ETA: 13s - loss: nan - acc: 0.097 - ETA: 13s - loss: nan - acc: 0.097 - ETA: 12s - loss: nan - acc: 0.097 - ETA: 12s - loss: nan - acc: 0.096 - ETA: 12s - loss: nan - acc: 0.097 - ETA: 12s - loss: nan - acc: 0.097 - ETA: 12s - loss: nan - acc: 0.0973"
     ]
    },
    {
     "ename": "KeyboardInterrupt",
     "evalue": "",
     "output_type": "error",
     "traceback": [
      "\u001b[1;31m---------------------------------------------------------------------------\u001b[0m",
      "\u001b[1;31mKeyboardInterrupt\u001b[0m                         Traceback (most recent call last)",
      "\u001b[1;32m<ipython-input-99-a3f729d9f305>\u001b[0m in \u001b[0;36m<module>\u001b[1;34m()\u001b[0m\n\u001b[1;32m----> 1\u001b[1;33m \u001b[0mhistory\u001b[0m \u001b[1;33m=\u001b[0m \u001b[0mmodel\u001b[0m\u001b[1;33m.\u001b[0m\u001b[0mfit\u001b[0m\u001b[1;33m(\u001b[0m\u001b[0mx_train\u001b[0m\u001b[1;33m,\u001b[0m\u001b[0my_train_exp\u001b[0m\u001b[1;33m,\u001b[0m \u001b[0mbatch_size\u001b[0m\u001b[1;33m=\u001b[0m\u001b[1;36m128\u001b[0m\u001b[1;33m,\u001b[0m\u001b[0mepochs\u001b[0m\u001b[1;33m=\u001b[0m\u001b[1;36m12\u001b[0m\u001b[1;33m,\u001b[0m\u001b[0mvalidation_data\u001b[0m\u001b[1;33m=\u001b[0m\u001b[1;33m(\u001b[0m\u001b[0mx_test\u001b[0m\u001b[1;33m,\u001b[0m\u001b[0my_test_exp\u001b[0m\u001b[1;33m)\u001b[0m\u001b[1;33m)\u001b[0m\u001b[1;33m\u001b[0m\u001b[0m\n\u001b[0m",
      "\u001b[1;32mc:\\users\\guillaume\\anaconda3\\lib\\site-packages\\tensorflow\\python\\keras\\engine\\training.py\u001b[0m in \u001b[0;36mfit\u001b[1;34m(self, x, y, batch_size, epochs, verbose, callbacks, validation_split, validation_data, shuffle, class_weight, sample_weight, initial_epoch, steps_per_epoch, validation_steps, max_queue_size, workers, use_multiprocessing, **kwargs)\u001b[0m\n\u001b[0;32m   1637\u001b[0m           \u001b[0minitial_epoch\u001b[0m\u001b[1;33m=\u001b[0m\u001b[0minitial_epoch\u001b[0m\u001b[1;33m,\u001b[0m\u001b[1;33m\u001b[0m\u001b[0m\n\u001b[0;32m   1638\u001b[0m           \u001b[0msteps_per_epoch\u001b[0m\u001b[1;33m=\u001b[0m\u001b[0msteps_per_epoch\u001b[0m\u001b[1;33m,\u001b[0m\u001b[1;33m\u001b[0m\u001b[0m\n\u001b[1;32m-> 1639\u001b[1;33m           validation_steps=validation_steps)\n\u001b[0m\u001b[0;32m   1640\u001b[0m \u001b[1;33m\u001b[0m\u001b[0m\n\u001b[0;32m   1641\u001b[0m   def evaluate(self,\n",
      "\u001b[1;32mc:\\users\\guillaume\\anaconda3\\lib\\site-packages\\tensorflow\\python\\keras\\engine\\training_arrays.py\u001b[0m in \u001b[0;36mfit_loop\u001b[1;34m(model, inputs, targets, sample_weights, batch_size, epochs, verbose, callbacks, val_inputs, val_targets, val_sample_weights, shuffle, initial_epoch, steps_per_epoch, validation_steps)\u001b[0m\n\u001b[0;32m    213\u001b[0m           \u001b[0mins_batch\u001b[0m\u001b[1;33m[\u001b[0m\u001b[0mi\u001b[0m\u001b[1;33m]\u001b[0m \u001b[1;33m=\u001b[0m \u001b[0mins_batch\u001b[0m\u001b[1;33m[\u001b[0m\u001b[0mi\u001b[0m\u001b[1;33m]\u001b[0m\u001b[1;33m.\u001b[0m\u001b[0mtoarray\u001b[0m\u001b[1;33m(\u001b[0m\u001b[1;33m)\u001b[0m\u001b[1;33m\u001b[0m\u001b[0m\n\u001b[0;32m    214\u001b[0m \u001b[1;33m\u001b[0m\u001b[0m\n\u001b[1;32m--> 215\u001b[1;33m         \u001b[0mouts\u001b[0m \u001b[1;33m=\u001b[0m \u001b[0mf\u001b[0m\u001b[1;33m(\u001b[0m\u001b[0mins_batch\u001b[0m\u001b[1;33m)\u001b[0m\u001b[1;33m\u001b[0m\u001b[0m\n\u001b[0m\u001b[0;32m    216\u001b[0m         \u001b[1;32mif\u001b[0m \u001b[1;32mnot\u001b[0m \u001b[0misinstance\u001b[0m\u001b[1;33m(\u001b[0m\u001b[0mouts\u001b[0m\u001b[1;33m,\u001b[0m \u001b[0mlist\u001b[0m\u001b[1;33m)\u001b[0m\u001b[1;33m:\u001b[0m\u001b[1;33m\u001b[0m\u001b[0m\n\u001b[0;32m    217\u001b[0m           \u001b[0mouts\u001b[0m \u001b[1;33m=\u001b[0m \u001b[1;33m[\u001b[0m\u001b[0mouts\u001b[0m\u001b[1;33m]\u001b[0m\u001b[1;33m\u001b[0m\u001b[0m\n",
      "\u001b[1;32mc:\\users\\guillaume\\anaconda3\\lib\\site-packages\\tensorflow\\python\\keras\\backend.py\u001b[0m in \u001b[0;36m__call__\u001b[1;34m(self, inputs)\u001b[0m\n\u001b[0;32m   2984\u001b[0m \u001b[1;33m\u001b[0m\u001b[0m\n\u001b[0;32m   2985\u001b[0m     fetched = self._callable_fn(*array_vals,\n\u001b[1;32m-> 2986\u001b[1;33m                                 run_metadata=self.run_metadata)\n\u001b[0m\u001b[0;32m   2987\u001b[0m     \u001b[0mself\u001b[0m\u001b[1;33m.\u001b[0m\u001b[0m_call_fetch_callbacks\u001b[0m\u001b[1;33m(\u001b[0m\u001b[0mfetched\u001b[0m\u001b[1;33m[\u001b[0m\u001b[1;33m-\u001b[0m\u001b[0mlen\u001b[0m\u001b[1;33m(\u001b[0m\u001b[0mself\u001b[0m\u001b[1;33m.\u001b[0m\u001b[0m_fetches\u001b[0m\u001b[1;33m)\u001b[0m\u001b[1;33m:\u001b[0m\u001b[1;33m]\u001b[0m\u001b[1;33m)\u001b[0m\u001b[1;33m\u001b[0m\u001b[0m\n\u001b[0;32m   2988\u001b[0m     \u001b[1;32mreturn\u001b[0m \u001b[0mfetched\u001b[0m\u001b[1;33m[\u001b[0m\u001b[1;33m:\u001b[0m\u001b[0mlen\u001b[0m\u001b[1;33m(\u001b[0m\u001b[0mself\u001b[0m\u001b[1;33m.\u001b[0m\u001b[0moutputs\u001b[0m\u001b[1;33m)\u001b[0m\u001b[1;33m]\u001b[0m\u001b[1;33m\u001b[0m\u001b[0m\n",
      "\u001b[1;32mc:\\users\\guillaume\\anaconda3\\lib\\site-packages\\tensorflow\\python\\client\\session.py\u001b[0m in \u001b[0;36m__call__\u001b[1;34m(self, *args, **kwargs)\u001b[0m\n\u001b[0;32m   1437\u001b[0m           ret = tf_session.TF_SessionRunCallable(\n\u001b[0;32m   1438\u001b[0m               \u001b[0mself\u001b[0m\u001b[1;33m.\u001b[0m\u001b[0m_session\u001b[0m\u001b[1;33m.\u001b[0m\u001b[0m_session\u001b[0m\u001b[1;33m,\u001b[0m \u001b[0mself\u001b[0m\u001b[1;33m.\u001b[0m\u001b[0m_handle\u001b[0m\u001b[1;33m,\u001b[0m \u001b[0margs\u001b[0m\u001b[1;33m,\u001b[0m \u001b[0mstatus\u001b[0m\u001b[1;33m,\u001b[0m\u001b[1;33m\u001b[0m\u001b[0m\n\u001b[1;32m-> 1439\u001b[1;33m               run_metadata_ptr)\n\u001b[0m\u001b[0;32m   1440\u001b[0m         \u001b[1;32mif\u001b[0m \u001b[0mrun_metadata\u001b[0m\u001b[1;33m:\u001b[0m\u001b[1;33m\u001b[0m\u001b[0m\n\u001b[0;32m   1441\u001b[0m           \u001b[0mproto_data\u001b[0m \u001b[1;33m=\u001b[0m \u001b[0mtf_session\u001b[0m\u001b[1;33m.\u001b[0m\u001b[0mTF_GetBuffer\u001b[0m\u001b[1;33m(\u001b[0m\u001b[0mrun_metadata_ptr\u001b[0m\u001b[1;33m)\u001b[0m\u001b[1;33m\u001b[0m\u001b[0m\n",
      "\u001b[1;31mKeyboardInterrupt\u001b[0m: "
     ]
    }
   ],
   "source": [
    "history = model.fit(x_train,y_train_exp, batch_size=128,epochs=12,validation_data=(x_test,y_test_exp))"
   ]
  },
  {
   "cell_type": "code",
   "execution_count": 73,
   "metadata": {},
   "outputs": [
    {
     "data": {
      "text/plain": [
       "<matplotlib.legend.Legend at 0x222e8a872e8>"
      ]
     },
     "execution_count": 73,
     "metadata": {},
     "output_type": "execute_result"
    },
    {
     "data": {
      "image/png": "[encoded data removed]",
      "text/plain": [
       "<Figure size 720x360 with 2 Axes>"
      ]
     },
     "metadata": {},
     "output_type": "display_data"
    }
   ],
   "source": [
    "loss = history.history['loss']\n",
    "val_loss = history.history['val_loss']\n",
    "acc = history.history['acc']\n",
    "val_acc = history.history['val_acc']\n",
    "history_ = np.array([loss,val_loss,acc,val_acc])\n",
    "np.save(PATH_SAVE+'2018.01.31.small_net.cosine.s_30.m_0.1.npy',history_)\n",
    "np.savetxt(PATH_SAVE+'2018.01.31.small_net.cosine.s_30.m_0.1.txt',history_)\n",
    "\n",
    "epochs = np.arange(len(loss))\n",
    "fig = plt.figure(figsize=(10,5))\n",
    "plt.subplot(1,2,1)\n",
    "plt.plot(epochs,loss, '-o', label=\"loss\")\n",
    "plt.plot(epochs,val_loss, '-o', label=\"val_loss\")\n",
    "plt.xlabel(\"Number of epochs\")\n",
    "plt.legend()\n",
    "plt.subplot(1,2,2)\n",
    "plt.plot(epochs,acc, '-o', label=\"acc\")\n",
    "plt.plot(epochs,val_acc, '-o', label=\"val_acc\")\n",
    "plt.xlabel(\"Number of epochs\")\n",
    "plt.legend()"
   ]
  },
  {
   "cell_type": "markdown",
   "metadata": {},
   "source": [
    "### Train the model"
   ]
  },
  {
   "cell_type": "code",
   "execution_count": 24,
   "metadata": {},
   "outputs": [],
   "source": [
    "model.compile(loss=triplet,\n",
    "              optimizer='rmsprop')"
   ]
  },
  {
   "cell_type": "code",
   "execution_count": 12,
   "metadata": {
    "scrolled": true
   },
   "outputs": [
    {
     "name": "stdout",
     "output_type": "stream",
     "text": [
      "Train on 162000 samples, validate on 18000 samples\n",
      "Epoch 1/20\n",
      "120576/162000 [=====================>........] - ETA: 7:31 - loss: 88.11 - ETA: 4:01 - loss: 62.25 - ETA: 2:49 - loss: 53.91 - ETA: 2:15 - loss: 50.43 - ETA: 1:52 - loss: 47.84 - ETA: 1:38 - loss: 46.20 - ETA: 1:28 - loss: 45.08 - ETA: 1:20 - loss: 44.40 - ETA: 1:14 - loss: 43.95 - ETA: 1:09 - loss: 43.52 - ETA: 1:05 - loss: 43.12 - ETA: 1:02 - loss: 42.66 - ETA: 59s - loss: 42.3652 - ETA: 57s - loss: 42.151 - ETA: 54s - loss: 41.927 - ETA: 52s - loss: 41.656 - ETA: 51s - loss: 41.412 - ETA: 50s - loss: 41.261 - ETA: 48s - loss: 41.088 - ETA: 47s - loss: 40.921 - ETA: 46s - loss: 40.840 - ETA: 45s - loss: 40.661 - ETA: 44s - loss: 40.632 - ETA: 43s - loss: 40.501 - ETA: 42s - loss: 40.432 - ETA: 42s - loss: 40.332 - ETA: 41s - loss: 40.245 - ETA: 40s - loss: 40.193 - ETA: 40s - loss: 40.143 - ETA: 39s - loss: 40.077 - ETA: 38s - loss: 40.028 - ETA: 38s - loss: 39.947 - ETA: 38s - loss: 39.909 - ETA: 37s - loss: 39.827 - ETA: 37s - loss: 39.834 - ETA: 36s - loss: 39.805 - ETA: 36s - loss: 39.756 - ETA: 35s - loss: 39.697 - ETA: 35s - loss: 39.689 - ETA: 35s - loss: 39.664 - ETA: 34s - loss: 39.603 - ETA: 34s - loss: 39.552 - ETA: 34s - loss: 39.518 - ETA: 34s - loss: 39.477 - ETA: 33s - loss: 39.411 - ETA: 33s - loss: 39.373 - ETA: 33s - loss: 39.365 - ETA: 32s - loss: 39.414 - ETA: 32s - loss: 39.385 - ETA: 32s - loss: 39.377 - ETA: 32s - loss: 39.348 - ETA: 32s - loss: 39.318 - ETA: 31s - loss: 39.290 - ETA: 31s - loss: 39.259 - ETA: 31s - loss: 39.239 - ETA: 31s - loss: 39.215 - ETA: 30s - loss: 39.210 - ETA: 30s - loss: 39.207 - ETA: 30s - loss: 39.212 - ETA: 30s - loss: 39.175 - ETA: 30s - loss: 39.146 - ETA: 30s - loss: 39.166 - ETA: 29s - loss: 39.147 - ETA: 29s - loss: 39.136 - ETA: 29s - loss: 39.141 - ETA: 29s - loss: 39.111 - ETA: 29s - loss: 39.093 - ETA: 29s - loss: 39.066 - ETA: 28s - loss: 39.067 - ETA: 28s - loss: 39.060 - ETA: 28s - loss: 39.050 - ETA: 28s - loss: 39.035 - ETA: 28s - loss: 39.035 - ETA: 28s - loss: 39.036 - ETA: 28s - loss: 39.022 - ETA: 27s - loss: 39.014 - ETA: 27s - loss: 39.007 - ETA: 27s - loss: 38.990 - ETA: 27s - loss: 39.008 - ETA: 27s - loss: 38.987 - ETA: 27s - loss: 38.986 - ETA: 27s - loss: 38.970 - ETA: 26s - loss: 38.975 - ETA: 26s - loss: 38.973 - ETA: 26s - loss: 38.983 - ETA: 26s - loss: 38.988 - ETA: 26s - loss: 38.996 - ETA: 26s - loss: 38.989 - ETA: 26s - loss: 38.982 - ETA: 26s - loss: 38.974 - ETA: 26s - loss: 38.965 - ETA: 25s - loss: 38.968 - ETA: 25s - loss: 38.971 - ETA: 25s - loss: 38.964 - ETA: 25s - loss: 38.946 - ETA: 25s - loss: 38.939 - ETA: 25s - loss: 38.938 - ETA: 25s - loss: 38.929 - ETA: 25s - loss: 38.927 - ETA: 24s - loss: 38.926 - ETA: 24s - loss: 38.918 - ETA: 24s - loss: 38.915 - ETA: 24s - loss: 38.907 - ETA: 24s - loss: 38.905 - ETA: 24s - loss: 38.906 - ETA: 24s - loss: 38.909 - ETA: 24s - loss: 38.903 - ETA: 24s - loss: 38.905 - ETA: 24s - loss: 38.896 - ETA: 23s - loss: 38.897 - ETA: 23s - loss: 38.895 - ETA: 23s - loss: 38.879 - ETA: 23s - loss: 38.871 - ETA: 23s - loss: 38.866 - ETA: 23s - loss: 38.866 - ETA: 23s - loss: 38.868 - ETA: 23s - loss: 38.852 - ETA: 23s - loss: 38.845 - ETA: 23s - loss: 38.843 - ETA: 22s - loss: 38.839 - ETA: 22s - loss: 38.835 - ETA: 22s - loss: 38.821 - ETA: 22s - loss: 38.828 - ETA: 22s - loss: 38.821 - ETA: 22s - loss: 38.817 - ETA: 22s - loss: 38.804 - ETA: 22s - loss: 38.814 - ETA: 22s - loss: 38.802 - ETA: 22s - loss: 38.801 - ETA: 22s - loss: 38.810 - ETA: 21s - loss: 38.809 - ETA: 21s - loss: 38.808 - ETA: 21s - loss: 38.811 - ETA: 21s - loss: 38.802 - ETA: 21s - loss: 38.799 - ETA: 21s - loss: 38.796 - ETA: 21s - loss: 38.783 - ETA: 21s - loss: 38.777 - ETA: 21s - loss: 38.778 - ETA: 21s - loss: 38.785 - ETA: 21s - loss: 38.771 - ETA: 20s - loss: 38.776 - ETA: 20s - loss: 38.771 - ETA: 20s - loss: 38.774 - ETA: 20s - loss: 38.770 - ETA: 20s - loss: 38.771 - ETA: 20s - loss: 38.775 - ETA: 20s - loss: 38.778 - ETA: 20s - loss: 38.778 - ETA: 20s - loss: 38.776 - ETA: 20s - loss: 38.777 - ETA: 20s - loss: 38.778 - ETA: 20s - loss: 38.773 - ETA: 19s - loss: 38.777 - ETA: 19s - loss: 38.777 - ETA: 19s - loss: 38.775 - ETA: 19s - loss: 38.772 - ETA: 19s - loss: 38.773 - ETA: 19s - loss: 38.770 - ETA: 19s - loss: 38.770 - ETA: 19s - loss: 38.767 - ETA: 19s - loss: 38.774 - ETA: 19s - loss: 38.770 - ETA: 19s - loss: 38.764 - ETA: 18s - loss: 38.762 - ETA: 18s - loss: 38.762 - ETA: 18s - loss: 38.763 - ETA: 18s - loss: 38.765 - ETA: 18s - loss: 38.761 - ETA: 18s - loss: 38.759 - ETA: 18s - loss: 38.756 - ETA: 18s - loss: 38.754 - ETA: 18s - loss: 38.754 - ETA: 18s - loss: 38.748 - ETA: 18s - loss: 38.746 - ETA: 18s - loss: 38.744 - ETA: 17s - loss: 38.742 - ETA: 17s - loss: 38.740 - ETA: 17s - loss: 38.740 - ETA: 17s - loss: 38.738 - ETA: 17s - loss: 38.738 - ETA: 17s - loss: 38.735 - ETA: 17s - loss: 38.730 - ETA: 17s - loss: 38.724 - ETA: 17s - loss: 38.723 - ETA: 17s - loss: 38.715 - ETA: 17s - loss: 38.717 - ETA: 17s - loss: 38.722 - ETA: 17s - loss: 38.717 - ETA: 16s - loss: 38.715 - ETA: 16s - loss: 38.719 - ETA: 16s - loss: 38.714 - ETA: 16s - loss: 38.711 - ETA: 16s - loss: 38.709 - ETA: 16s - loss: 38.706 - ETA: 16s - loss: 38.703 - ETA: 16s - loss: 38.699 - ETA: 16s - loss: 38.698 - ETA: 16s - loss: 38.698 - ETA: 16s - loss: 38.695 - ETA: 16s - loss: 38.698 - ETA: 16s - loss: 38.695 - ETA: 15s - loss: 38.695 - ETA: 15s - loss: 38.699 - ETA: 15s - loss: 38.698 - ETA: 15s - loss: 38.694 - ETA: 15s - loss: 38.694 - ETA: 15s - loss: 38.694 - ETA: 15s - loss: 38.690 - ETA: 15s - loss: 38.686 - ETA: 15s - loss: 38.677 - ETA: 15s - loss: 38.674 - ETA: 15s - loss: 38.676 - ETA: 15s - loss: 38.675 - ETA: 15s - loss: 38.682 - ETA: 14s - loss: 38.678 - ETA: 14s - loss: 38.673 - ETA: 14s - loss: 38.673 - ETA: 14s - loss: 38.672 - ETA: 14s - loss: 38.674 - ETA: 14s - loss: 38.669 - ETA: 14s - loss: 38.670 - ETA: 14s - loss: 38.669 - ETA: 14s - loss: 38.666 - ETA: 14s - loss: 38.668 - ETA: 14s - loss: 38.668 - ETA: 14s - loss: 38.667 - ETA: 14s - loss: 38.662 - ETA: 13s - loss: 38.661 - ETA: 13s - loss: 38.661 - ETA: 13s - loss: 38.660 - ETA: 13s - loss: 38.658 - ETA: 13s - loss: 38.653 - ETA: 13s - loss: 38.647 - ETA: 13s - loss: 38.652 - ETA: 13s - loss: 38.647 - ETA: 13s - loss: 38.640 - ETA: 13s - loss: 38.643 - ETA: 13s - loss: 38.647 - ETA: 13s - loss: 38.645 - ETA: 13s - loss: 38.642 - ETA: 12s - loss: 38.636 - ETA: 12s - loss: 38.639 - ETA: 12s - loss: 38.639 - ETA: 12s - loss: 38.642 - ETA: 12s - loss: 38.643 - ETA: 12s - loss: 38.645 - ETA: 12s - loss: 38.640 - ETA: 12s - loss: 38.637 - ETA: 12s - loss: 38.636 - ETA: 12s - loss: 38.638 - ETA: 12s - loss: 38.636 - ETA: 12s - loss: 38.634 - ETA: 12s - loss: 38.638 - ETA: 12s - loss: 38.636 - ETA: 11s - loss: 38.634 - ETA: 11s - loss: 38.632 - ETA: 11s - loss: 38.630 - ETA: 11s - loss: 38.627 - ETA: 11s - loss: 38.628 - ETA: 11s - loss: 38.623 - ETA: 11s - loss: 38.620 - ETA: 11s - loss: 38.624 - ETA: 11s - loss: 38.622 - ETA: 11s - loss: 38.622 - ETA: 11s - loss: 38.622 - ETA: 11s - loss: 38.622 - ETA: 11s - loss: 38.620 - ETA: 10s - loss: 38.619 - ETA: 10s - loss: 38.617 - ETA: 10s - loss: 38.613 - ETA: 10s - loss: 38.618 - ETA: 10s - loss: 38.620 - ETA: 10s - loss: 38.623 - ETA: 10s - loss: 38.622 - ETA: 10s - loss: 38.620 - ETA: 10s - loss: 38.623 - ETA: 10s - loss: 38.617 - ETA: 10s - loss: 38.617 - ETA: 10s - loss: 38.622 - ETA: 10s - loss: 38.623 - ETA: 10s - loss: 38.620 - ETA: 9s - loss: 38.619 - ETA: 9s - loss: 38.61 - ETA: 9s - loss: 38.61 - ETA: 9s - loss: 38.61 - ETA: 9s - loss: 38.60 - ETA: 9s - loss: 38.60 - ETA: 9s - loss: 38.61 - ETA: 9s - loss: 38.60 - ETA: 9s - loss: 38.60 - ETA: 9s - loss: 38.60 - ETA: 9s - loss: 38.60 - ETA: 9s - loss: 38.60 - ETA: 9s - loss: 38.60 - ETA: 9s - loss: 38.60 - ETA: 8s - loss: 38.60 - ETA: 8s - loss: 38.60 - ETA: 8s - loss: 38.60 - ETA: 8s - loss: 38.60 - ETA: 8s - loss: 38.60 - ETA: 8s - loss: 38.60 - ETA: 8s - loss: 38.60 - ETA: 8s - loss: 38.60 - ETA: 8s - loss: 38.59 - ETA: 8s - loss: 38.59 - ETA: 8s - loss: 38.59 - ETA: 8s - loss: 38.59 - ETA: 8s - loss: 38.59 - ETA: 7s - loss: 38.59 - ETA: 7s - loss: 38.58 - ETA: 7s - loss: 38.58 - ETA: 7s - loss: 38.58 - ETA: 7s - loss: 38.58162000/162000 [==============================] - ETA: 7s - loss: 38.58 - ETA: 7s - loss: 38.58 - ETA: 7s - loss: 38.58 - ETA: 7s - loss: 38.58 - ETA: 7s - loss: 38.58 - ETA: 7s - loss: 38.58 - ETA: 7s - loss: 38.58 - ETA: 7s - loss: 38.58 - ETA: 7s - loss: 38.58 - ETA: 6s - loss: 38.58 - ETA: 6s - loss: 38.57 - ETA: 6s - loss: 38.57 - ETA: 6s - loss: 38.57 - ETA: 6s - loss: 38.57 - ETA: 6s - loss: 38.57 - ETA: 6s - loss: 38.56 - ETA: 6s - loss: 38.56 - ETA: 6s - loss: 38.56 - ETA: 6s - loss: 38.56 - ETA: 6s - loss: 38.55 - ETA: 6s - loss: 38.56 - ETA: 6s - loss: 38.56 - ETA: 6s - loss: 38.56 - ETA: 5s - loss: 38.56 - ETA: 5s - loss: 38.56 - ETA: 5s - loss: 38.56 - ETA: 5s - loss: 38.56 - ETA: 5s - loss: 38.56 - ETA: 5s - loss: 38.56 - ETA: 5s - loss: 38.56 - ETA: 5s - loss: 38.56 - ETA: 5s - loss: 38.56 - ETA: 5s - loss: 38.56 - ETA: 5s - loss: 38.56 - ETA: 5s - loss: 38.56 - ETA: 5s - loss: 38.56 - ETA: 5s - loss: 38.56 - ETA: 4s - loss: 38.56 - ETA: 4s - loss: 38.56 - ETA: 4s - loss: 38.56 - ETA: 4s - loss: 38.55 - ETA: 4s - loss: 38.56 - ETA: 4s - loss: 38.56 - ETA: 4s - loss: 38.56 - ETA: 4s - loss: 38.56 - ETA: 4s - loss: 38.56 - ETA: 4s - loss: 38.56 - ETA: 4s - loss: 38.55 - ETA: 4s - loss: 38.56 - ETA: 4s - loss: 38.55 - ETA: 4s - loss: 38.55 - ETA: 3s - loss: 38.55 - ETA: 3s - loss: 38.55 - ETA: 3s - loss: 38.55 - ETA: 3s - loss: 38.55 - ETA: 3s - loss: 38.55 - ETA: 3s - loss: 38.55 - ETA: 3s - loss: 38.55 - ETA: 3s - loss: 38.54 - ETA: 3s - loss: 38.54 - ETA: 3s - loss: 38.54 - ETA: 3s - loss: 38.54 - ETA: 3s - loss: 38.54 - ETA: 3s - loss: 38.54 - ETA: 3s - loss: 38.54 - ETA: 2s - loss: 38.54 - ETA: 2s - loss: 38.54 - ETA: 2s - loss: 38.54 - ETA: 2s - loss: 38.54 - ETA: 2s - loss: 38.54 - ETA: 2s - loss: 38.54 - ETA: 2s - loss: 38.54 - ETA: 2s - loss: 38.54 - ETA: 2s - loss: 38.54 - ETA: 2s - loss: 38.54 - ETA: 2s - loss: 38.54 - ETA: 2s - loss: 38.54 - ETA: 2s - loss: 38.54 - ETA: 2s - loss: 38.54 - ETA: 1s - loss: 38.54 - ETA: 1s - loss: 38.54 - ETA: 1s - loss: 38.54 - ETA: 1s - loss: 38.54 - ETA: 1s - loss: 38.53 - ETA: 1s - loss: 38.53 - ETA: 1s - loss: 38.53 - ETA: 1s - loss: 38.54 - ETA: 1s - loss: 38.54 - ETA: 1s - loss: 38.53 - ETA: 1s - loss: 38.53 - ETA: 1s - loss: 38.54 - ETA: 1s - loss: 38.53 - ETA: 1s - loss: 38.53 - ETA: 0s - loss: 38.53 - ETA: 0s - loss: 38.54 - ETA: 0s - loss: 38.53 - ETA: 0s - loss: 38.53 - ETA: 0s - loss: 38.53 - ETA: 0s - loss: 38.53 - ETA: 0s - loss: 38.53 - ETA: 0s - loss: 38.52 - ETA: 0s - loss: 38.52 - ETA: 0s - loss: 38.52 - ETA: 0s - loss: 38.52 - ETA: 0s - loss: 38.52 - ETA: 0s - loss: 38.52 - ETA: 0s - loss: 38.52 - 31s 190us/step - loss: 38.5161 - val_loss: 38.5050\n",
      "Epoch 2/20\n"
     ]
    },
    {
     "name": "stdout",
     "output_type": "stream",
     "text": [
      "121728/162000 [=====================>........] - ETA: 32s - loss: 39.614 - ETA: 29s - loss: 39.005 - ETA: 30s - loss: 38.644 - ETA: 29s - loss: 38.975 - ETA: 28s - loss: 39.154 - ETA: 29s - loss: 39.077 - ETA: 28s - loss: 38.993 - ETA: 28s - loss: 39.036 - ETA: 28s - loss: 38.898 - ETA: 28s - loss: 38.799 - ETA: 28s - loss: 38.844 - ETA: 28s - loss: 38.814 - ETA: 28s - loss: 38.779 - ETA: 28s - loss: 38.796 - ETA: 27s - loss: 38.761 - ETA: 27s - loss: 38.713 - ETA: 27s - loss: 38.770 - ETA: 27s - loss: 38.765 - ETA: 27s - loss: 38.683 - ETA: 27s - loss: 38.692 - ETA: 27s - loss: 38.694 - ETA: 27s - loss: 38.700 - ETA: 27s - loss: 38.652 - ETA: 27s - loss: 38.631 - ETA: 27s - loss: 38.638 - ETA: 26s - loss: 38.635 - ETA: 26s - loss: 38.626 - ETA: 26s - loss: 38.643 - ETA: 26s - loss: 38.616 - ETA: 26s - loss: 38.628 - ETA: 26s - loss: 38.633 - ETA: 26s - loss: 38.654 - ETA: 26s - loss: 38.680 - ETA: 26s - loss: 38.669 - ETA: 26s - loss: 38.660 - ETA: 26s - loss: 38.631 - ETA: 26s - loss: 38.600 - ETA: 26s - loss: 38.605 - ETA: 26s - loss: 38.562 - ETA: 26s - loss: 38.564 - ETA: 25s - loss: 38.583 - ETA: 25s - loss: 38.589 - ETA: 25s - loss: 38.570 - ETA: 25s - loss: 38.560 - ETA: 25s - loss: 38.561 - ETA: 25s - loss: 38.607 - ETA: 25s - loss: 38.617 - ETA: 25s - loss: 38.631 - ETA: 25s - loss: 38.614 - ETA: 25s - loss: 38.603 - ETA: 25s - loss: 38.609 - ETA: 25s - loss: 38.599 - ETA: 25s - loss: 38.586 - ETA: 25s - loss: 38.569 - ETA: 25s - loss: 38.571 - ETA: 25s - loss: 38.572 - ETA: 24s - loss: 38.569 - ETA: 24s - loss: 38.573 - ETA: 24s - loss: 38.557 - ETA: 24s - loss: 38.580 - ETA: 24s - loss: 38.584 - ETA: 24s - loss: 38.586 - ETA: 24s - loss: 38.575 - ETA: 24s - loss: 38.562 - ETA: 24s - loss: 38.562 - ETA: 24s - loss: 38.555 - ETA: 24s - loss: 38.553 - ETA: 24s - loss: 38.544 - ETA: 24s - loss: 38.536 - ETA: 24s - loss: 38.528 - ETA: 23s - loss: 38.525 - ETA: 23s - loss: 38.527 - ETA: 23s - loss: 38.528 - ETA: 23s - loss: 38.527 - ETA: 23s - loss: 38.514 - ETA: 23s - loss: 38.510 - ETA: 23s - loss: 38.511 - ETA: 23s - loss: 38.504 - ETA: 23s - loss: 38.497 - ETA: 23s - loss: 38.509 - ETA: 23s - loss: 38.510 - ETA: 23s - loss: 38.509 - ETA: 23s - loss: 38.513 - ETA: 23s - loss: 38.518 - ETA: 23s - loss: 38.518 - ETA: 22s - loss: 38.519 - ETA: 22s - loss: 38.519 - ETA: 22s - loss: 38.518 - ETA: 22s - loss: 38.510 - ETA: 22s - loss: 38.513 - ETA: 22s - loss: 38.512 - ETA: 22s - loss: 38.513 - ETA: 22s - loss: 38.522 - ETA: 22s - loss: 38.529 - ETA: 22s - loss: 38.529 - ETA: 22s - loss: 38.541 - ETA: 22s - loss: 38.543 - ETA: 22s - loss: 38.544 - ETA: 22s - loss: 38.543 - ETA: 21s - loss: 38.537 - ETA: 21s - loss: 38.536 - ETA: 21s - loss: 38.533 - ETA: 21s - loss: 38.528 - ETA: 21s - loss: 38.534 - ETA: 21s - loss: 38.535 - ETA: 21s - loss: 38.531 - ETA: 21s - loss: 38.526 - ETA: 21s - loss: 38.517 - ETA: 21s - loss: 38.522 - ETA: 21s - loss: 38.524 - ETA: 21s - loss: 38.530 - ETA: 21s - loss: 38.528 - ETA: 21s - loss: 38.529 - ETA: 21s - loss: 38.529 - ETA: 20s - loss: 38.524 - ETA: 20s - loss: 38.520 - ETA: 20s - loss: 38.514 - ETA: 20s - loss: 38.515 - ETA: 20s - loss: 38.516 - ETA: 20s - loss: 38.513 - ETA: 20s - loss: 38.518 - ETA: 20s - loss: 38.522 - ETA: 20s - loss: 38.524 - ETA: 20s - loss: 38.525 - ETA: 20s - loss: 38.521 - ETA: 20s - loss: 38.520 - ETA: 20s - loss: 38.525 - ETA: 20s - loss: 38.527 - ETA: 20s - loss: 38.527 - ETA: 19s - loss: 38.524 - ETA: 19s - loss: 38.525 - ETA: 19s - loss: 38.526 - ETA: 19s - loss: 38.522 - ETA: 19s - loss: 38.520 - ETA: 19s - loss: 38.520 - ETA: 19s - loss: 38.519 - ETA: 19s - loss: 38.520 - ETA: 19s - loss: 38.522 - ETA: 19s - loss: 38.522 - ETA: 19s - loss: 38.524 - ETA: 19s - loss: 38.522 - ETA: 19s - loss: 38.522 - ETA: 19s - loss: 38.523 - ETA: 18s - loss: 38.522 - ETA: 18s - loss: 38.522 - ETA: 18s - loss: 38.520 - ETA: 18s - loss: 38.520 - ETA: 18s - loss: 38.524 - ETA: 18s - loss: 38.524 - ETA: 18s - loss: 38.521 - ETA: 18s - loss: 38.514 - ETA: 18s - loss: 38.513 - ETA: 18s - loss: 38.512 - ETA: 18s - loss: 38.514 - ETA: 18s - loss: 38.513 - ETA: 18s - loss: 38.512 - ETA: 18s - loss: 38.508 - ETA: 18s - loss: 38.508 - ETA: 17s - loss: 38.504 - ETA: 17s - loss: 38.502 - ETA: 17s - loss: 38.504 - ETA: 17s - loss: 38.508 - ETA: 17s - loss: 38.513 - ETA: 17s - loss: 38.512 - ETA: 17s - loss: 38.511 - ETA: 17s - loss: 38.511 - ETA: 17s - loss: 38.509 - ETA: 17s - loss: 38.511 - ETA: 17s - loss: 38.509 - ETA: 17s - loss: 38.508 - ETA: 17s - loss: 38.506 - ETA: 17s - loss: 38.505 - ETA: 17s - loss: 38.506 - ETA: 16s - loss: 38.502 - ETA: 16s - loss: 38.503 - ETA: 16s - loss: 38.500 - ETA: 16s - loss: 38.501 - ETA: 16s - loss: 38.502 - ETA: 16s - loss: 38.505 - ETA: 16s - loss: 38.504 - ETA: 16s - loss: 38.505 - ETA: 16s - loss: 38.505 - ETA: 16s - loss: 38.504 - ETA: 16s - loss: 38.503 - ETA: 16s - loss: 38.502 - ETA: 16s - loss: 38.503 - ETA: 16s - loss: 38.503 - ETA: 15s - loss: 38.503 - ETA: 15s - loss: 38.504 - ETA: 15s - loss: 38.501 - ETA: 15s - loss: 38.502 - ETA: 15s - loss: 38.502 - ETA: 15s - loss: 38.500 - ETA: 15s - loss: 38.498 - ETA: 15s - loss: 38.499 - ETA: 15s - loss: 38.499 - ETA: 15s - loss: 38.498 - ETA: 15s - loss: 38.499 - ETA: 15s - loss: 38.500 - ETA: 15s - loss: 38.499 - ETA: 15s - loss: 38.498 - ETA: 15s - loss: 38.499 - ETA: 14s - loss: 38.499 - ETA: 14s - loss: 38.497 - ETA: 14s - loss: 38.498 - ETA: 14s - loss: 38.495 - ETA: 14s - loss: 38.493 - ETA: 14s - loss: 38.494 - ETA: 14s - loss: 38.496 - ETA: 14s - loss: 38.496 - ETA: 14s - loss: 38.496 - ETA: 14s - loss: 38.493 - ETA: 14s - loss: 38.493 - ETA: 14s - loss: 38.495 - ETA: 14s - loss: 38.496 - ETA: 14s - loss: 38.494 - ETA: 14s - loss: 38.493 - ETA: 13s - loss: 38.493 - ETA: 13s - loss: 38.488 - ETA: 13s - loss: 38.488 - ETA: 13s - loss: 38.492 - ETA: 13s - loss: 38.494 - ETA: 13s - loss: 38.494 - ETA: 13s - loss: 38.495 - ETA: 13s - loss: 38.492 - ETA: 13s - loss: 38.493 - ETA: 13s - loss: 38.493 - ETA: 13s - loss: 38.494 - ETA: 13s - loss: 38.494 - ETA: 13s - loss: 38.493 - ETA: 13s - loss: 38.490 - ETA: 12s - loss: 38.490 - ETA: 12s - loss: 38.490 - ETA: 12s - loss: 38.488 - ETA: 12s - loss: 38.488 - ETA: 12s - loss: 38.488 - ETA: 12s - loss: 38.488 - ETA: 12s - loss: 38.487 - ETA: 12s - loss: 38.489 - ETA: 12s - loss: 38.489 - ETA: 12s - loss: 38.488 - ETA: 12s - loss: 38.487 - ETA: 12s - loss: 38.485 - ETA: 12s - loss: 38.483 - ETA: 12s - loss: 38.482 - ETA: 12s - loss: 38.481 - ETA: 11s - loss: 38.481 - ETA: 11s - loss: 38.480 - ETA: 11s - loss: 38.481 - ETA: 11s - loss: 38.483 - ETA: 11s - loss: 38.482 - ETA: 11s - loss: 38.481 - ETA: 11s - loss: 38.481 - ETA: 11s - loss: 38.479 - ETA: 11s - loss: 38.479 - ETA: 11s - loss: 38.479 - ETA: 11s - loss: 38.478 - ETA: 11s - loss: 38.478 - ETA: 11s - loss: 38.476 - ETA: 11s - loss: 38.477 - ETA: 11s - loss: 38.479 - ETA: 10s - loss: 38.480 - ETA: 10s - loss: 38.478 - ETA: 10s - loss: 38.478 - ETA: 10s - loss: 38.478 - ETA: 10s - loss: 38.478 - ETA: 10s - loss: 38.477 - ETA: 10s - loss: 38.477 - ETA: 10s - loss: 38.477 - ETA: 10s - loss: 38.475 - ETA: 10s - loss: 38.473 - ETA: 10s - loss: 38.472 - ETA: 10s - loss: 38.472 - ETA: 10s - loss: 38.473 - ETA: 10s - loss: 38.473 - ETA: 9s - loss: 38.472 - ETA: 9s - loss: 38.47 - ETA: 9s - loss: 38.47 - ETA: 9s - loss: 38.46 - ETA: 9s - loss: 38.47 - ETA: 9s - loss: 38.47 - ETA: 9s - loss: 38.47 - ETA: 9s - loss: 38.47 - ETA: 9s - loss: 38.47 - ETA: 9s - loss: 38.47 - ETA: 9s - loss: 38.47 - ETA: 9s - loss: 38.47 - ETA: 9s - loss: 38.47 - ETA: 9s - loss: 38.47 - ETA: 9s - loss: 38.47 - ETA: 8s - loss: 38.47 - ETA: 8s - loss: 38.47 - ETA: 8s - loss: 38.47 - ETA: 8s - loss: 38.47 - ETA: 8s - loss: 38.47 - ETA: 8s - loss: 38.46 - ETA: 8s - loss: 38.46 - ETA: 8s - loss: 38.46 - ETA: 8s - loss: 38.46 - ETA: 8s - loss: 38.46 - ETA: 8s - loss: 38.46 - ETA: 8s - loss: 38.46 - ETA: 8s - loss: 38.46 - ETA: 8s - loss: 38.46 - ETA: 8s - loss: 38.46 - ETA: 7s - loss: 38.46 - ETA: 7s - loss: 38.46 - ETA: 7s - loss: 38.46 - ETA: 7s - loss: 38.46 - ETA: 7s - loss: 38.46 - ETA: 7s - loss: 38.46 - ETA: 7s - loss: 38.46 - ETA: 7s - loss: 38.46 - ETA: 7s - loss: 38.46 - ETA: 7s - loss: 38.46 - ETA: 7s - loss: 38.46 - ETA: 7s - loss: 38.4630"
     ]
    },
    {
     "name": "stdout",
     "output_type": "stream",
     "text": [
      "162000/162000 [==============================] - ETA: 7s - loss: 38.46 - ETA: 7s - loss: 38.46 - ETA: 6s - loss: 38.46 - ETA: 6s - loss: 38.46 - ETA: 6s - loss: 38.46 - ETA: 6s - loss: 38.46 - ETA: 6s - loss: 38.46 - ETA: 6s - loss: 38.46 - ETA: 6s - loss: 38.46 - ETA: 6s - loss: 38.46 - ETA: 6s - loss: 38.46 - ETA: 6s - loss: 38.46 - ETA: 6s - loss: 38.46 - ETA: 6s - loss: 38.46 - ETA: 6s - loss: 38.46 - ETA: 6s - loss: 38.46 - ETA: 6s - loss: 38.46 - ETA: 5s - loss: 38.46 - ETA: 5s - loss: 38.46 - ETA: 5s - loss: 38.46 - ETA: 5s - loss: 38.46 - ETA: 5s - loss: 38.46 - ETA: 5s - loss: 38.46 - ETA: 5s - loss: 38.46 - ETA: 5s - loss: 38.45 - ETA: 5s - loss: 38.45 - ETA: 5s - loss: 38.45 - ETA: 5s - loss: 38.45 - ETA: 5s - loss: 38.45 - ETA: 5s - loss: 38.46 - ETA: 5s - loss: 38.45 - ETA: 4s - loss: 38.45 - ETA: 4s - loss: 38.45 - ETA: 4s - loss: 38.45 - ETA: 4s - loss: 38.45 - ETA: 4s - loss: 38.45 - ETA: 4s - loss: 38.45 - ETA: 4s - loss: 38.45 - ETA: 4s - loss: 38.45 - ETA: 4s - loss: 38.45 - ETA: 4s - loss: 38.45 - ETA: 4s - loss: 38.45 - ETA: 4s - loss: 38.45 - ETA: 4s - loss: 38.45 - ETA: 4s - loss: 38.45 - ETA: 4s - loss: 38.45 - ETA: 3s - loss: 38.45 - ETA: 3s - loss: 38.45 - ETA: 3s - loss: 38.45 - ETA: 3s - loss: 38.45 - ETA: 3s - loss: 38.45 - ETA: 3s - loss: 38.45 - ETA: 3s - loss: 38.45 - ETA: 3s - loss: 38.45 - ETA: 3s - loss: 38.45 - ETA: 3s - loss: 38.45 - ETA: 3s - loss: 38.45 - ETA: 3s - loss: 38.45 - ETA: 3s - loss: 38.45 - ETA: 3s - loss: 38.45 - ETA: 2s - loss: 38.45 - ETA: 2s - loss: 38.45 - ETA: 2s - loss: 38.45 - ETA: 2s - loss: 38.45 - ETA: 2s - loss: 38.45 - ETA: 2s - loss: 38.45 - ETA: 2s - loss: 38.44 - ETA: 2s - loss: 38.45 - ETA: 2s - loss: 38.45 - ETA: 2s - loss: 38.44 - ETA: 2s - loss: 38.44 - ETA: 2s - loss: 38.44 - ETA: 2s - loss: 38.44 - ETA: 2s - loss: 38.44 - ETA: 2s - loss: 38.44 - ETA: 1s - loss: 38.44 - ETA: 1s - loss: 38.44 - ETA: 1s - loss: 38.44 - ETA: 1s - loss: 38.44 - ETA: 1s - loss: 38.44 - ETA: 1s - loss: 38.44 - ETA: 1s - loss: 38.44 - ETA: 1s - loss: 38.44 - ETA: 1s - loss: 38.44 - ETA: 1s - loss: 38.44 - ETA: 1s - loss: 38.44 - ETA: 1s - loss: 38.44 - ETA: 1s - loss: 38.44 - ETA: 1s - loss: 38.44 - ETA: 1s - loss: 38.44 - ETA: 0s - loss: 38.44 - ETA: 0s - loss: 38.43 - ETA: 0s - loss: 38.43 - ETA: 0s - loss: 38.43 - ETA: 0s - loss: 38.43 - ETA: 0s - loss: 38.43 - ETA: 0s - loss: 38.43 - ETA: 0s - loss: 38.43 - ETA: 0s - loss: 38.43 - ETA: 0s - loss: 38.43 - ETA: 0s - loss: 38.43 - ETA: 0s - loss: 38.43 - ETA: 0s - loss: 38.43 - ETA: 0s - loss: 38.43 - 30s 184us/step - loss: 38.4206 - val_loss: 38.3327\n",
      "Epoch 3/20\n",
      "121728/162000 [=====================>........] - ETA: 26s - loss: 38.130 - ETA: 29s - loss: 38.348 - ETA: 28s - loss: 38.420 - ETA: 27s - loss: 38.446 - ETA: 28s - loss: 38.398 - ETA: 28s - loss: 38.369 - ETA: 27s - loss: 38.381 - ETA: 28s - loss: 38.466 - ETA: 27s - loss: 38.476 - ETA: 27s - loss: 38.388 - ETA: 27s - loss: 38.399 - ETA: 27s - loss: 38.389 - ETA: 27s - loss: 38.415 - ETA: 27s - loss: 38.480 - ETA: 27s - loss: 38.445 - ETA: 27s - loss: 38.444 - ETA: 27s - loss: 38.466 - ETA: 26s - loss: 38.525 - ETA: 27s - loss: 38.558 - ETA: 26s - loss: 38.512 - ETA: 26s - loss: 38.461 - ETA: 26s - loss: 38.454 - ETA: 26s - loss: 38.474 - ETA: 26s - loss: 38.509 - ETA: 26s - loss: 38.563 - ETA: 26s - loss: 38.550 - ETA: 26s - loss: 38.532 - ETA: 26s - loss: 38.535 - ETA: 26s - loss: 38.530 - ETA: 26s - loss: 38.533 - ETA: 26s - loss: 38.553 - ETA: 26s - loss: 38.541 - ETA: 26s - loss: 38.540 - ETA: 26s - loss: 38.525 - ETA: 26s - loss: 38.562 - ETA: 25s - loss: 38.563 - ETA: 25s - loss: 38.547 - ETA: 25s - loss: 38.552 - ETA: 25s - loss: 38.570 - ETA: 25s - loss: 38.541 - ETA: 25s - loss: 38.530 - ETA: 25s - loss: 38.544 - ETA: 25s - loss: 38.535 - ETA: 25s - loss: 38.518 - ETA: 25s - loss: 38.498 - ETA: 25s - loss: 38.493 - ETA: 25s - loss: 38.504 - ETA: 25s - loss: 38.513 - ETA: 25s - loss: 38.539 - ETA: 24s - loss: 38.538 - ETA: 24s - loss: 38.530 - ETA: 24s - loss: 38.517 - ETA: 24s - loss: 38.512 - ETA: 24s - loss: 38.505 - ETA: 24s - loss: 38.498 - ETA: 24s - loss: 38.513 - ETA: 24s - loss: 38.526 - ETA: 24s - loss: 38.534 - ETA: 24s - loss: 38.540 - ETA: 24s - loss: 38.523 - ETA: 24s - loss: 38.540 - ETA: 24s - loss: 38.526 - ETA: 24s - loss: 38.525 - ETA: 24s - loss: 38.530 - ETA: 24s - loss: 38.528 - ETA: 23s - loss: 38.521 - ETA: 23s - loss: 38.528 - ETA: 23s - loss: 38.522 - ETA: 23s - loss: 38.504 - ETA: 23s - loss: 38.507 - ETA: 23s - loss: 38.509 - ETA: 23s - loss: 38.506 - ETA: 23s - loss: 38.505 - ETA: 23s - loss: 38.503 - ETA: 23s - loss: 38.494 - ETA: 23s - loss: 38.493 - ETA: 23s - loss: 38.488 - ETA: 23s - loss: 38.495 - ETA: 23s - loss: 38.486 - ETA: 23s - loss: 38.489 - ETA: 22s - loss: 38.482 - ETA: 22s - loss: 38.473 - ETA: 22s - loss: 38.473 - ETA: 22s - loss: 38.472 - ETA: 22s - loss: 38.470 - ETA: 22s - loss: 38.470 - ETA: 22s - loss: 38.466 - ETA: 22s - loss: 38.474 - ETA: 22s - loss: 38.477 - ETA: 22s - loss: 38.467 - ETA: 22s - loss: 38.459 - ETA: 22s - loss: 38.460 - ETA: 22s - loss: 38.468 - ETA: 22s - loss: 38.469 - ETA: 22s - loss: 38.476 - ETA: 21s - loss: 38.479 - ETA: 21s - loss: 38.477 - ETA: 21s - loss: 38.479 - ETA: 21s - loss: 38.481 - ETA: 21s - loss: 38.481 - ETA: 21s - loss: 38.481 - ETA: 21s - loss: 38.470 - ETA: 21s - loss: 38.458 - ETA: 21s - loss: 38.462 - ETA: 21s - loss: 38.474 - ETA: 21s - loss: 38.474 - ETA: 21s - loss: 38.472 - ETA: 21s - loss: 38.474 - ETA: 21s - loss: 38.472 - ETA: 21s - loss: 38.469 - ETA: 21s - loss: 38.483 - ETA: 20s - loss: 38.485 - ETA: 20s - loss: 38.486 - ETA: 20s - loss: 38.486 - ETA: 20s - loss: 38.497 - ETA: 20s - loss: 38.508 - ETA: 20s - loss: 38.500 - ETA: 20s - loss: 38.495 - ETA: 20s - loss: 38.492 - ETA: 20s - loss: 38.490 - ETA: 20s - loss: 38.492 - ETA: 20s - loss: 38.493 - ETA: 20s - loss: 38.491 - ETA: 20s - loss: 38.492 - ETA: 20s - loss: 38.492 - ETA: 20s - loss: 38.485 - ETA: 19s - loss: 38.478 - ETA: 19s - loss: 38.482 - ETA: 19s - loss: 38.484 - ETA: 19s - loss: 38.482 - ETA: 19s - loss: 38.481 - ETA: 19s - loss: 38.483 - ETA: 19s - loss: 38.477 - ETA: 19s - loss: 38.479 - ETA: 19s - loss: 38.479 - ETA: 19s - loss: 38.480 - ETA: 19s - loss: 38.481 - ETA: 19s - loss: 38.483 - ETA: 19s - loss: 38.484 - ETA: 19s - loss: 38.483 - ETA: 19s - loss: 38.481 - ETA: 19s - loss: 38.489 - ETA: 18s - loss: 38.484 - ETA: 18s - loss: 38.484 - ETA: 18s - loss: 38.483 - ETA: 18s - loss: 38.484 - ETA: 18s - loss: 38.483 - ETA: 18s - loss: 38.482 - ETA: 18s - loss: 38.483 - ETA: 18s - loss: 38.482 - ETA: 18s - loss: 38.477 - ETA: 18s - loss: 38.476 - ETA: 18s - loss: 38.476 - ETA: 18s - loss: 38.482 - ETA: 18s - loss: 38.477 - ETA: 18s - loss: 38.477 - ETA: 18s - loss: 38.478 - ETA: 17s - loss: 38.477 - ETA: 17s - loss: 38.482 - ETA: 17s - loss: 38.485 - ETA: 17s - loss: 38.483 - ETA: 17s - loss: 38.483 - ETA: 17s - loss: 38.486 - ETA: 17s - loss: 38.484 - ETA: 17s - loss: 38.481 - ETA: 17s - loss: 38.481 - ETA: 17s - loss: 38.480 - ETA: 17s - loss: 38.481 - ETA: 17s - loss: 38.481 - ETA: 17s - loss: 38.477 - ETA: 17s - loss: 38.475 - ETA: 17s - loss: 38.471 - ETA: 16s - loss: 38.469 - ETA: 16s - loss: 38.477 - ETA: 16s - loss: 38.475 - ETA: 16s - loss: 38.474 - ETA: 16s - loss: 38.474 - ETA: 16s - loss: 38.471 - ETA: 16s - loss: 38.470 - ETA: 16s - loss: 38.467 - ETA: 16s - loss: 38.465 - ETA: 16s - loss: 38.461 - ETA: 16s - loss: 38.456 - ETA: 16s - loss: 38.455 - ETA: 16s - loss: 38.452 - ETA: 16s - loss: 38.454 - ETA: 16s - loss: 38.454 - ETA: 15s - loss: 38.456 - ETA: 15s - loss: 38.456 - ETA: 15s - loss: 38.465 - ETA: 15s - loss: 38.462 - ETA: 15s - loss: 38.455 - ETA: 15s - loss: 38.453 - ETA: 15s - loss: 38.452 - ETA: 15s - loss: 38.458 - ETA: 15s - loss: 38.461 - ETA: 15s - loss: 38.456 - ETA: 15s - loss: 38.457 - ETA: 15s - loss: 38.457 - ETA: 15s - loss: 38.454 - ETA: 15s - loss: 38.456 - ETA: 15s - loss: 38.457 - ETA: 14s - loss: 38.458 - ETA: 14s - loss: 38.461 - ETA: 14s - loss: 38.459 - ETA: 14s - loss: 38.461 - ETA: 14s - loss: 38.458 - ETA: 14s - loss: 38.458 - ETA: 14s - loss: 38.458 - ETA: 14s - loss: 38.456 - ETA: 14s - loss: 38.460 - ETA: 14s - loss: 38.461 - ETA: 14s - loss: 38.457 - ETA: 14s - loss: 38.456 - ETA: 14s - loss: 38.457 - ETA: 14s - loss: 38.461 - ETA: 13s - loss: 38.460 - ETA: 13s - loss: 38.461 - ETA: 13s - loss: 38.460 - ETA: 13s - loss: 38.458 - ETA: 13s - loss: 38.455 - ETA: 13s - loss: 38.452 - ETA: 13s - loss: 38.452 - ETA: 13s - loss: 38.449 - ETA: 13s - loss: 38.451 - ETA: 13s - loss: 38.451 - ETA: 13s - loss: 38.450 - ETA: 13s - loss: 38.450 - ETA: 13s - loss: 38.450 - ETA: 13s - loss: 38.451 - ETA: 13s - loss: 38.450 - ETA: 12s - loss: 38.450 - ETA: 12s - loss: 38.448 - ETA: 12s - loss: 38.449 - ETA: 12s - loss: 38.450 - ETA: 12s - loss: 38.452 - ETA: 12s - loss: 38.454 - ETA: 12s - loss: 38.451 - ETA: 12s - loss: 38.450 - ETA: 12s - loss: 38.450 - ETA: 12s - loss: 38.446 - ETA: 12s - loss: 38.446 - ETA: 12s - loss: 38.448 - ETA: 12s - loss: 38.448 - ETA: 12s - loss: 38.449 - ETA: 12s - loss: 38.449 - ETA: 11s - loss: 38.447 - ETA: 11s - loss: 38.452 - ETA: 11s - loss: 38.453 - ETA: 11s - loss: 38.453 - ETA: 11s - loss: 38.453 - ETA: 11s - loss: 38.450 - ETA: 11s - loss: 38.449 - ETA: 11s - loss: 38.447 - ETA: 11s - loss: 38.446 - ETA: 11s - loss: 38.444 - ETA: 11s - loss: 38.447 - ETA: 11s - loss: 38.448 - ETA: 11s - loss: 38.449 - ETA: 11s - loss: 38.449 - ETA: 11s - loss: 38.449 - ETA: 10s - loss: 38.450 - ETA: 10s - loss: 38.447 - ETA: 10s - loss: 38.446 - ETA: 10s - loss: 38.447 - ETA: 10s - loss: 38.449 - ETA: 10s - loss: 38.448 - ETA: 10s - loss: 38.445 - ETA: 10s - loss: 38.443 - ETA: 10s - loss: 38.438 - ETA: 10s - loss: 38.440 - ETA: 10s - loss: 38.437 - ETA: 10s - loss: 38.437 - ETA: 10s - loss: 38.439 - ETA: 10s - loss: 38.440 - ETA: 9s - loss: 38.440 - ETA: 9s - loss: 38.43 - ETA: 9s - loss: 38.44 - ETA: 9s - loss: 38.44 - ETA: 9s - loss: 38.43 - ETA: 9s - loss: 38.44 - ETA: 9s - loss: 38.44 - ETA: 9s - loss: 38.44 - ETA: 9s - loss: 38.44 - ETA: 9s - loss: 38.43 - ETA: 9s - loss: 38.43 - ETA: 9s - loss: 38.43 - ETA: 9s - loss: 38.44 - ETA: 9s - loss: 38.44 - ETA: 9s - loss: 38.43 - ETA: 8s - loss: 38.44 - ETA: 8s - loss: 38.44 - ETA: 8s - loss: 38.43 - ETA: 8s - loss: 38.43 - ETA: 8s - loss: 38.44 - ETA: 8s - loss: 38.44 - ETA: 8s - loss: 38.44 - ETA: 8s - loss: 38.44 - ETA: 8s - loss: 38.44 - ETA: 8s - loss: 38.44 - ETA: 8s - loss: 38.44 - ETA: 8s - loss: 38.44 - ETA: 8s - loss: 38.44 - ETA: 8s - loss: 38.44 - ETA: 8s - loss: 38.44 - ETA: 7s - loss: 38.44 - ETA: 7s - loss: 38.44 - ETA: 7s - loss: 38.45 - ETA: 7s - loss: 38.44 - ETA: 7s - loss: 38.44 - ETA: 7s - loss: 38.44 - ETA: 7s - loss: 38.45 - ETA: 7s - loss: 38.44 - ETA: 7s - loss: 38.45 - ETA: 7s - loss: 38.45 - ETA: 7s - loss: 38.45 - ETA: 7s - loss: 38.4514162000/162000 [==============================] - ETA: 7s - loss: 38.44 - ETA: 7s - loss: 38.45 - ETA: 6s - loss: 38.44 - ETA: 6s - loss: 38.44 - ETA: 6s - loss: 38.44 - ETA: 6s - loss: 38.44 - ETA: 6s - loss: 38.44 - ETA: 6s - loss: 38.44 - ETA: 6s - loss: 38.44 - ETA: 6s - loss: 38.44 - ETA: 6s - loss: 38.44 - ETA: 6s - loss: 38.44 - ETA: 6s - loss: 38.44 - ETA: 6s - loss: 38.44 - ETA: 6s - loss: 38.44 - ETA: 6s - loss: 38.44 - ETA: 6s - loss: 38.44 - ETA: 5s - loss: 38.44 - ETA: 5s - loss: 38.45 - ETA: 5s - loss: 38.45 - ETA: 5s - loss: 38.45 - ETA: 5s - loss: 38.45 - ETA: 5s - loss: 38.45 - ETA: 5s - loss: 38.45 - ETA: 5s - loss: 38.45 - ETA: 5s - loss: 38.45 - ETA: 5s - loss: 38.45 - ETA: 5s - loss: 38.45 - ETA: 5s - loss: 38.45 - ETA: 5s - loss: 38.45 - ETA: 5s - loss: 38.45 - ETA: 4s - loss: 38.45 - ETA: 4s - loss: 38.45 - ETA: 4s - loss: 38.45 - ETA: 4s - loss: 38.45 - ETA: 4s - loss: 38.45 - ETA: 4s - loss: 38.45 - ETA: 4s - loss: 38.45 - ETA: 4s - loss: 38.45 - ETA: 4s - loss: 38.45 - ETA: 4s - loss: 38.45 - ETA: 4s - loss: 38.45 - ETA: 4s - loss: 38.45 - ETA: 4s - loss: 38.45 - ETA: 4s - loss: 38.45 - ETA: 4s - loss: 38.45 - ETA: 3s - loss: 38.45 - ETA: 3s - loss: 38.45 - ETA: 3s - loss: 38.45 - ETA: 3s - loss: 38.45 - ETA: 3s - loss: 38.45 - ETA: 3s - loss: 38.45 - ETA: 3s - loss: 38.45 - ETA: 3s - loss: 38.45 - ETA: 3s - loss: 38.45 - ETA: 3s - loss: 38.45 - ETA: 3s - loss: 38.45 - ETA: 3s - loss: 38.45 - ETA: 3s - loss: 38.45 - ETA: 3s - loss: 38.45 - ETA: 2s - loss: 38.45 - ETA: 2s - loss: 38.45 - ETA: 2s - loss: 38.45 - ETA: 2s - loss: 38.45 - ETA: 2s - loss: 38.45 - ETA: 2s - loss: 38.45 - ETA: 2s - loss: 38.45 - ETA: 2s - loss: 38.45 - ETA: 2s - loss: 38.45 - ETA: 2s - loss: 38.45 - ETA: 2s - loss: 38.45 - ETA: 2s - loss: 38.45 - ETA: 2s - loss: 38.45 - ETA: 2s - loss: 38.45 - ETA: 2s - loss: 38.45 - ETA: 1s - loss: 38.45 - ETA: 1s - loss: 38.45 - ETA: 1s - loss: 38.45 - ETA: 1s - loss: 38.45 - ETA: 1s - loss: 38.45 - ETA: 1s - loss: 38.45 - ETA: 1s - loss: 38.45 - ETA: 1s - loss: 38.45 - ETA: 1s - loss: 38.45 - ETA: 1s - loss: 38.45 - ETA: 1s - loss: 38.45 - ETA: 1s - loss: 38.45 - ETA: 1s - loss: 38.45 - ETA: 1s - loss: 38.45 - ETA: 1s - loss: 38.45 - ETA: 0s - loss: 38.44 - ETA: 0s - loss: 38.44 - ETA: 0s - loss: 38.45 - ETA: 0s - loss: 38.45 - ETA: 0s - loss: 38.45 - ETA: 0s - loss: 38.45 - ETA: 0s - loss: 38.45 - ETA: 0s - loss: 38.45 - ETA: 0s - loss: 38.45 - ETA: 0s - loss: 38.44 - ETA: 0s - loss: 38.44 - ETA: 0s - loss: 38.45 - ETA: 0s - loss: 38.45 - ETA: 0s - loss: 38.45 - 30s 184us/step - loss: 38.4410 - val_loss: 38.3108\n",
      "Epoch 4/20\n"
     ]
    },
    {
     "name": "stdout",
     "output_type": "stream",
     "text": [
      "121728/162000 [=====================>........] - ETA: 32s - loss: 38.250 - ETA: 32s - loss: 38.258 - ETA: 30s - loss: 38.486 - ETA: 29s - loss: 38.413 - ETA: 29s - loss: 38.381 - ETA: 29s - loss: 38.461 - ETA: 28s - loss: 38.451 - ETA: 29s - loss: 38.452 - ETA: 28s - loss: 38.444 - ETA: 28s - loss: 38.431 - ETA: 28s - loss: 38.417 - ETA: 28s - loss: 38.342 - ETA: 28s - loss: 38.328 - ETA: 28s - loss: 38.323 - ETA: 27s - loss: 38.334 - ETA: 27s - loss: 38.381 - ETA: 27s - loss: 38.362 - ETA: 27s - loss: 38.350 - ETA: 27s - loss: 38.331 - ETA: 27s - loss: 38.344 - ETA: 27s - loss: 38.348 - ETA: 27s - loss: 38.362 - ETA: 27s - loss: 38.368 - ETA: 27s - loss: 38.367 - ETA: 27s - loss: 38.351 - ETA: 27s - loss: 38.359 - ETA: 26s - loss: 38.380 - ETA: 26s - loss: 38.386 - ETA: 26s - loss: 38.374 - ETA: 26s - loss: 38.359 - ETA: 26s - loss: 38.371 - ETA: 26s - loss: 38.372 - ETA: 26s - loss: 38.365 - ETA: 26s - loss: 38.364 - ETA: 26s - loss: 38.365 - ETA: 26s - loss: 38.370 - ETA: 26s - loss: 38.373 - ETA: 26s - loss: 38.371 - ETA: 26s - loss: 38.359 - ETA: 26s - loss: 38.377 - ETA: 26s - loss: 38.387 - ETA: 25s - loss: 38.392 - ETA: 26s - loss: 38.382 - ETA: 25s - loss: 38.378 - ETA: 25s - loss: 38.387 - ETA: 25s - loss: 38.387 - ETA: 25s - loss: 38.373 - ETA: 25s - loss: 38.361 - ETA: 25s - loss: 38.361 - ETA: 25s - loss: 38.373 - ETA: 25s - loss: 38.376 - ETA: 25s - loss: 38.376 - ETA: 25s - loss: 38.379 - ETA: 25s - loss: 38.372 - ETA: 25s - loss: 38.373 - ETA: 25s - loss: 38.369 - ETA: 24s - loss: 38.370 - ETA: 24s - loss: 38.365 - ETA: 24s - loss: 38.362 - ETA: 24s - loss: 38.375 - ETA: 24s - loss: 38.370 - ETA: 24s - loss: 38.370 - ETA: 24s - loss: 38.360 - ETA: 24s - loss: 38.356 - ETA: 24s - loss: 38.359 - ETA: 24s - loss: 38.364 - ETA: 24s - loss: 38.352 - ETA: 24s - loss: 38.360 - ETA: 24s - loss: 38.349 - ETA: 24s - loss: 38.338 - ETA: 24s - loss: 38.344 - ETA: 23s - loss: 38.343 - ETA: 23s - loss: 38.335 - ETA: 23s - loss: 38.344 - ETA: 23s - loss: 38.337 - ETA: 23s - loss: 38.344 - ETA: 23s - loss: 38.335 - ETA: 23s - loss: 38.335 - ETA: 23s - loss: 38.339 - ETA: 23s - loss: 38.337 - ETA: 23s - loss: 38.350 - ETA: 23s - loss: 38.354 - ETA: 23s - loss: 38.351 - ETA: 23s - loss: 38.361 - ETA: 23s - loss: 38.367 - ETA: 23s - loss: 38.370 - ETA: 22s - loss: 38.368 - ETA: 22s - loss: 38.362 - ETA: 22s - loss: 38.359 - ETA: 22s - loss: 38.359 - ETA: 22s - loss: 38.361 - ETA: 22s - loss: 38.356 - ETA: 22s - loss: 38.356 - ETA: 22s - loss: 38.365 - ETA: 22s - loss: 38.368 - ETA: 22s - loss: 38.372 - ETA: 22s - loss: 38.372 - ETA: 22s - loss: 38.366 - ETA: 22s - loss: 38.361 - ETA: 22s - loss: 38.367 - ETA: 21s - loss: 38.367 - ETA: 21s - loss: 38.363 - ETA: 21s - loss: 38.359 - ETA: 21s - loss: 38.360 - ETA: 21s - loss: 38.363 - ETA: 21s - loss: 38.364 - ETA: 21s - loss: 38.372 - ETA: 21s - loss: 38.368 - ETA: 21s - loss: 38.371 - ETA: 21s - loss: 38.371 - ETA: 21s - loss: 38.374 - ETA: 21s - loss: 38.377 - ETA: 21s - loss: 38.377 - ETA: 21s - loss: 38.380 - ETA: 21s - loss: 38.381 - ETA: 20s - loss: 38.380 - ETA: 20s - loss: 38.385 - ETA: 20s - loss: 38.390 - ETA: 20s - loss: 38.389 - ETA: 20s - loss: 38.386 - ETA: 20s - loss: 38.388 - ETA: 20s - loss: 38.387 - ETA: 20s - loss: 38.385 - ETA: 20s - loss: 38.388 - ETA: 20s - loss: 38.386 - ETA: 20s - loss: 38.388 - ETA: 20s - loss: 38.383 - ETA: 20s - loss: 38.386 - ETA: 20s - loss: 38.384 - ETA: 19s - loss: 38.385 - ETA: 19s - loss: 38.385 - ETA: 19s - loss: 38.384 - ETA: 19s - loss: 38.387 - ETA: 19s - loss: 38.383 - ETA: 19s - loss: 38.389 - ETA: 19s - loss: 38.391 - ETA: 19s - loss: 38.390 - ETA: 19s - loss: 38.389 - ETA: 19s - loss: 38.389 - ETA: 19s - loss: 38.390 - ETA: 19s - loss: 38.392 - ETA: 19s - loss: 38.397 - ETA: 19s - loss: 38.397 - ETA: 19s - loss: 38.402 - ETA: 18s - loss: 38.405 - ETA: 18s - loss: 38.406 - ETA: 18s - loss: 38.406 - ETA: 18s - loss: 38.404 - ETA: 18s - loss: 38.402 - ETA: 18s - loss: 38.403 - ETA: 18s - loss: 38.403 - ETA: 18s - loss: 38.408 - ETA: 18s - loss: 38.408 - ETA: 18s - loss: 38.406 - ETA: 18s - loss: 38.406 - ETA: 18s - loss: 38.405 - ETA: 18s - loss: 38.403 - ETA: 18s - loss: 38.399 - ETA: 18s - loss: 38.402 - ETA: 17s - loss: 38.400 - ETA: 17s - loss: 38.397 - ETA: 17s - loss: 38.396 - ETA: 17s - loss: 38.396 - ETA: 17s - loss: 38.395 - ETA: 17s - loss: 38.396 - ETA: 17s - loss: 38.389 - ETA: 17s - loss: 38.393 - ETA: 17s - loss: 38.395 - ETA: 17s - loss: 38.395 - ETA: 17s - loss: 38.397 - ETA: 17s - loss: 38.394 - ETA: 17s - loss: 38.395 - ETA: 17s - loss: 38.395 - ETA: 16s - loss: 38.395 - ETA: 16s - loss: 38.392 - ETA: 16s - loss: 38.397 - ETA: 16s - loss: 38.398 - ETA: 16s - loss: 38.398 - ETA: 16s - loss: 38.398 - ETA: 16s - loss: 38.400 - ETA: 16s - loss: 38.401 - ETA: 16s - loss: 38.401 - ETA: 16s - loss: 38.399 - ETA: 16s - loss: 38.401 - ETA: 16s - loss: 38.402 - ETA: 16s - loss: 38.403 - ETA: 16s - loss: 38.403 - ETA: 16s - loss: 38.403 - ETA: 15s - loss: 38.406 - ETA: 15s - loss: 38.407 - ETA: 15s - loss: 38.409 - ETA: 15s - loss: 38.409 - ETA: 15s - loss: 38.409 - ETA: 15s - loss: 38.408 - ETA: 15s - loss: 38.407 - ETA: 15s - loss: 38.407 - ETA: 15s - loss: 38.406 - ETA: 15s - loss: 38.404 - ETA: 15s - loss: 38.401 - ETA: 15s - loss: 38.401 - ETA: 15s - loss: 38.401 - ETA: 15s - loss: 38.399 - ETA: 14s - loss: 38.401 - ETA: 14s - loss: 38.403 - ETA: 14s - loss: 38.402 - ETA: 14s - loss: 38.404 - ETA: 14s - loss: 38.401 - ETA: 14s - loss: 38.400 - ETA: 14s - loss: 38.400 - ETA: 14s - loss: 38.399 - ETA: 14s - loss: 38.397 - ETA: 14s - loss: 38.395 - ETA: 14s - loss: 38.395 - ETA: 14s - loss: 38.392 - ETA: 14s - loss: 38.396 - ETA: 14s - loss: 38.396 - ETA: 14s - loss: 38.395 - ETA: 13s - loss: 38.396 - ETA: 13s - loss: 38.394 - ETA: 13s - loss: 38.394 - ETA: 13s - loss: 38.393 - ETA: 13s - loss: 38.391 - ETA: 13s - loss: 38.389 - ETA: 13s - loss: 38.392 - ETA: 13s - loss: 38.391 - ETA: 13s - loss: 38.389 - ETA: 13s - loss: 38.384 - ETA: 13s - loss: 38.385 - ETA: 13s - loss: 38.386 - ETA: 13s - loss: 38.385 - ETA: 13s - loss: 38.382 - ETA: 12s - loss: 38.381 - ETA: 12s - loss: 38.380 - ETA: 12s - loss: 38.385 - ETA: 12s - loss: 38.381 - ETA: 12s - loss: 38.377 - ETA: 12s - loss: 38.375 - ETA: 12s - loss: 38.379 - ETA: 12s - loss: 38.382 - ETA: 12s - loss: 38.381 - ETA: 12s - loss: 38.383 - ETA: 12s - loss: 38.385 - ETA: 12s - loss: 38.385 - ETA: 12s - loss: 38.382 - ETA: 12s - loss: 38.382 - ETA: 12s - loss: 38.382 - ETA: 11s - loss: 38.381 - ETA: 11s - loss: 38.379 - ETA: 11s - loss: 38.383 - ETA: 11s - loss: 38.381 - ETA: 11s - loss: 38.384 - ETA: 11s - loss: 38.384 - ETA: 11s - loss: 38.385 - ETA: 11s - loss: 38.384 - ETA: 11s - loss: 38.384 - ETA: 11s - loss: 38.382 - ETA: 11s - loss: 38.379 - ETA: 11s - loss: 38.377 - ETA: 11s - loss: 38.374 - ETA: 11s - loss: 38.376 - ETA: 11s - loss: 38.377 - ETA: 10s - loss: 38.377 - ETA: 10s - loss: 38.382 - ETA: 10s - loss: 38.379 - ETA: 10s - loss: 38.380 - ETA: 10s - loss: 38.378 - ETA: 10s - loss: 38.376 - ETA: 10s - loss: 38.379 - ETA: 10s - loss: 38.375 - ETA: 10s - loss: 38.374 - ETA: 10s - loss: 38.374 - ETA: 10s - loss: 38.381 - ETA: 10s - loss: 38.382 - ETA: 10s - loss: 38.382 - ETA: 10s - loss: 38.386 - ETA: 9s - loss: 38.388 - ETA: 9s - loss: 38.39 - ETA: 9s - loss: 38.38 - ETA: 9s - loss: 38.38 - ETA: 9s - loss: 38.38 - ETA: 9s - loss: 38.38 - ETA: 9s - loss: 38.38 - ETA: 9s - loss: 38.38 - ETA: 9s - loss: 38.39 - ETA: 9s - loss: 38.39 - ETA: 9s - loss: 38.38 - ETA: 9s - loss: 38.38 - ETA: 9s - loss: 38.38 - ETA: 9s - loss: 38.38 - ETA: 9s - loss: 38.39 - ETA: 8s - loss: 38.39 - ETA: 8s - loss: 38.38 - ETA: 8s - loss: 38.38 - ETA: 8s - loss: 38.38 - ETA: 8s - loss: 38.38 - ETA: 8s - loss: 38.38 - ETA: 8s - loss: 38.38 - ETA: 8s - loss: 38.38 - ETA: 8s - loss: 38.38 - ETA: 8s - loss: 38.38 - ETA: 8s - loss: 38.38 - ETA: 8s - loss: 38.38 - ETA: 8s - loss: 38.38 - ETA: 8s - loss: 38.38 - ETA: 7s - loss: 38.38 - ETA: 7s - loss: 38.38 - ETA: 7s - loss: 38.38 - ETA: 7s - loss: 38.38 - ETA: 7s - loss: 38.38 - ETA: 7s - loss: 38.38 - ETA: 7s - loss: 38.38 - ETA: 7s - loss: 38.38 - ETA: 7s - loss: 38.38 - ETA: 7s - loss: 38.38 - ETA: 7s - loss: 38.38 - ETA: 7s - loss: 38.38 - ETA: 7s - loss: 38.3820"
     ]
    },
    {
     "name": "stdout",
     "output_type": "stream",
     "text": [
      "162000/162000 [==============================] - ETA: 7s - loss: 38.37 - ETA: 7s - loss: 38.37 - ETA: 6s - loss: 38.37 - ETA: 6s - loss: 38.37 - ETA: 6s - loss: 38.37 - ETA: 6s - loss: 38.36 - ETA: 6s - loss: 38.36 - ETA: 6s - loss: 38.36 - ETA: 6s - loss: 38.37 - ETA: 6s - loss: 38.37 - ETA: 6s - loss: 38.36 - ETA: 6s - loss: 38.36 - ETA: 6s - loss: 38.36 - ETA: 6s - loss: 38.37 - ETA: 6s - loss: 38.37 - ETA: 6s - loss: 38.37 - ETA: 6s - loss: 38.37 - ETA: 5s - loss: 38.37 - ETA: 5s - loss: 38.37 - ETA: 5s - loss: 38.37 - ETA: 5s - loss: 38.37 - ETA: 5s - loss: 38.37 - ETA: 5s - loss: 38.37 - ETA: 5s - loss: 38.37 - ETA: 5s - loss: 38.37 - ETA: 5s - loss: 38.37 - ETA: 5s - loss: 38.37 - ETA: 5s - loss: 38.37 - ETA: 5s - loss: 38.37 - ETA: 5s - loss: 38.37 - ETA: 5s - loss: 38.38 - ETA: 4s - loss: 38.38 - ETA: 4s - loss: 38.37 - ETA: 4s - loss: 38.37 - ETA: 4s - loss: 38.38 - ETA: 4s - loss: 38.38 - ETA: 4s - loss: 38.38 - ETA: 4s - loss: 38.38 - ETA: 4s - loss: 38.38 - ETA: 4s - loss: 38.38 - ETA: 4s - loss: 38.38 - ETA: 4s - loss: 38.38 - ETA: 4s - loss: 38.37 - ETA: 4s - loss: 38.38 - ETA: 4s - loss: 38.37 - ETA: 4s - loss: 38.37 - ETA: 3s - loss: 38.37 - ETA: 3s - loss: 38.37 - ETA: 3s - loss: 38.37 - ETA: 3s - loss: 38.37 - ETA: 3s - loss: 38.37 - ETA: 3s - loss: 38.37 - ETA: 3s - loss: 38.37 - ETA: 3s - loss: 38.38 - ETA: 3s - loss: 38.38 - ETA: 3s - loss: 38.38 - ETA: 3s - loss: 38.38 - ETA: 3s - loss: 38.38 - ETA: 3s - loss: 38.38 - ETA: 3s - loss: 38.38 - ETA: 2s - loss: 38.38 - ETA: 2s - loss: 38.38 - ETA: 2s - loss: 38.38 - ETA: 2s - loss: 38.38 - ETA: 2s - loss: 38.38 - ETA: 2s - loss: 38.38 - ETA: 2s - loss: 38.38 - ETA: 2s - loss: 38.38 - ETA: 2s - loss: 38.38 - ETA: 2s - loss: 38.38 - ETA: 2s - loss: 38.38 - ETA: 2s - loss: 38.38 - ETA: 2s - loss: 38.38 - ETA: 2s - loss: 38.38 - ETA: 2s - loss: 38.37 - ETA: 1s - loss: 38.38 - ETA: 1s - loss: 38.38 - ETA: 1s - loss: 38.38 - ETA: 1s - loss: 38.38 - ETA: 1s - loss: 38.38 - ETA: 1s - loss: 38.37 - ETA: 1s - loss: 38.37 - ETA: 1s - loss: 38.38 - ETA: 1s - loss: 38.37 - ETA: 1s - loss: 38.38 - ETA: 1s - loss: 38.37 - ETA: 1s - loss: 38.37 - ETA: 1s - loss: 38.37 - ETA: 1s - loss: 38.37 - ETA: 1s - loss: 38.37 - ETA: 0s - loss: 38.37 - ETA: 0s - loss: 38.37 - ETA: 0s - loss: 38.37 - ETA: 0s - loss: 38.37 - ETA: 0s - loss: 38.37 - ETA: 0s - loss: 38.37 - ETA: 0s - loss: 38.37 - ETA: 0s - loss: 38.37 - ETA: 0s - loss: 38.37 - ETA: 0s - loss: 38.37 - ETA: 0s - loss: 38.37 - ETA: 0s - loss: 38.37 - ETA: 0s - loss: 38.37 - ETA: 0s - loss: 38.37 - 30s 184us/step - loss: 38.3670 - val_loss: 38.3118\n",
      "Epoch 5/20\n",
      "121728/162000 [=====================>........] - ETA: 32s - loss: 38.240 - ETA: 29s - loss: 38.081 - ETA: 28s - loss: 38.059 - ETA: 27s - loss: 38.337 - ETA: 28s - loss: 38.573 - ETA: 28s - loss: 38.370 - ETA: 28s - loss: 38.306 - ETA: 28s - loss: 38.283 - ETA: 27s - loss: 38.417 - ETA: 27s - loss: 38.467 - ETA: 28s - loss: 38.466 - ETA: 27s - loss: 38.352 - ETA: 27s - loss: 38.384 - ETA: 27s - loss: 38.426 - ETA: 27s - loss: 38.456 - ETA: 27s - loss: 38.436 - ETA: 27s - loss: 38.441 - ETA: 27s - loss: 38.393 - ETA: 27s - loss: 38.513 - ETA: 27s - loss: 38.501 - ETA: 27s - loss: 38.482 - ETA: 26s - loss: 38.440 - ETA: 27s - loss: 38.441 - ETA: 26s - loss: 38.461 - ETA: 26s - loss: 38.468 - ETA: 26s - loss: 38.432 - ETA: 26s - loss: 38.384 - ETA: 26s - loss: 38.387 - ETA: 26s - loss: 38.383 - ETA: 26s - loss: 38.378 - ETA: 26s - loss: 38.415 - ETA: 26s - loss: 38.408 - ETA: 26s - loss: 38.407 - ETA: 26s - loss: 38.409 - ETA: 26s - loss: 38.406 - ETA: 26s - loss: 38.438 - ETA: 25s - loss: 38.441 - ETA: 25s - loss: 38.434 - ETA: 25s - loss: 38.418 - ETA: 25s - loss: 38.418 - ETA: 25s - loss: 38.434 - ETA: 25s - loss: 38.404 - ETA: 25s - loss: 38.403 - ETA: 25s - loss: 38.390 - ETA: 25s - loss: 38.410 - ETA: 25s - loss: 38.409 - ETA: 25s - loss: 38.399 - ETA: 25s - loss: 38.396 - ETA: 25s - loss: 38.398 - ETA: 25s - loss: 38.386 - ETA: 24s - loss: 38.395 - ETA: 25s - loss: 38.397 - ETA: 24s - loss: 38.376 - ETA: 24s - loss: 38.384 - ETA: 24s - loss: 38.386 - ETA: 24s - loss: 38.391 - ETA: 24s - loss: 38.391 - ETA: 24s - loss: 38.386 - ETA: 24s - loss: 38.379 - ETA: 24s - loss: 38.371 - ETA: 24s - loss: 38.363 - ETA: 24s - loss: 38.363 - ETA: 24s - loss: 38.363 - ETA: 24s - loss: 38.363 - ETA: 24s - loss: 38.355 - ETA: 24s - loss: 38.333 - ETA: 23s - loss: 38.340 - ETA: 23s - loss: 38.335 - ETA: 23s - loss: 38.328 - ETA: 23s - loss: 38.317 - ETA: 23s - loss: 38.324 - ETA: 23s - loss: 38.317 - ETA: 23s - loss: 38.327 - ETA: 23s - loss: 38.322 - ETA: 23s - loss: 38.346 - ETA: 23s - loss: 38.341 - ETA: 23s - loss: 38.333 - ETA: 23s - loss: 38.327 - ETA: 23s - loss: 38.326 - ETA: 23s - loss: 38.331 - ETA: 23s - loss: 38.342 - ETA: 22s - loss: 38.347 - ETA: 22s - loss: 38.362 - ETA: 22s - loss: 38.372 - ETA: 22s - loss: 38.364 - ETA: 22s - loss: 38.345 - ETA: 22s - loss: 38.337 - ETA: 22s - loss: 38.338 - ETA: 22s - loss: 38.354 - ETA: 22s - loss: 38.357 - ETA: 22s - loss: 38.366 - ETA: 22s - loss: 38.367 - ETA: 22s - loss: 38.363 - ETA: 22s - loss: 38.373 - ETA: 22s - loss: 38.375 - ETA: 22s - loss: 38.364 - ETA: 21s - loss: 38.375 - ETA: 21s - loss: 38.374 - ETA: 21s - loss: 38.382 - ETA: 21s - loss: 38.393 - ETA: 21s - loss: 38.396 - ETA: 21s - loss: 38.403 - ETA: 21s - loss: 38.410 - ETA: 21s - loss: 38.411 - ETA: 21s - loss: 38.413 - ETA: 21s - loss: 38.416 - ETA: 21s - loss: 38.421 - ETA: 21s - loss: 38.419 - ETA: 21s - loss: 38.419 - ETA: 21s - loss: 38.423 - ETA: 21s - loss: 38.423 - ETA: 20s - loss: 38.424 - ETA: 20s - loss: 38.430 - ETA: 20s - loss: 38.428 - ETA: 20s - loss: 38.426 - ETA: 20s - loss: 38.409 - ETA: 20s - loss: 38.413 - ETA: 20s - loss: 38.415 - ETA: 20s - loss: 38.397 - ETA: 20s - loss: 38.406 - ETA: 20s - loss: 38.409 - ETA: 20s - loss: 38.413 - ETA: 20s - loss: 38.413 - ETA: 20s - loss: 38.412 - ETA: 20s - loss: 38.424 - ETA: 19s - loss: 38.422 - ETA: 19s - loss: 38.418 - ETA: 19s - loss: 38.419 - ETA: 19s - loss: 38.434 - ETA: 19s - loss: 38.435 - ETA: 19s - loss: 38.434 - ETA: 19s - loss: 38.430 - ETA: 19s - loss: 38.432 - ETA: 19s - loss: 38.432 - ETA: 19s - loss: 38.423 - ETA: 19s - loss: 38.426 - ETA: 19s - loss: 38.424 - ETA: 19s - loss: 38.426 - ETA: 19s - loss: 38.425 - ETA: 19s - loss: 38.433 - ETA: 18s - loss: 38.437 - ETA: 18s - loss: 38.432 - ETA: 18s - loss: 38.428 - ETA: 18s - loss: 38.437 - ETA: 18s - loss: 38.443 - ETA: 18s - loss: 38.450 - ETA: 18s - loss: 38.448 - ETA: 18s - loss: 38.444 - ETA: 18s - loss: 38.451 - ETA: 18s - loss: 38.452 - ETA: 18s - loss: 38.451 - ETA: 18s - loss: 38.454 - ETA: 18s - loss: 38.453 - ETA: 18s - loss: 38.449 - ETA: 18s - loss: 38.446 - ETA: 17s - loss: 38.446 - ETA: 17s - loss: 38.456 - ETA: 17s - loss: 38.454 - ETA: 17s - loss: 38.456 - ETA: 17s - loss: 38.448 - ETA: 17s - loss: 38.447 - ETA: 17s - loss: 38.445 - ETA: 17s - loss: 38.441 - ETA: 17s - loss: 38.443 - ETA: 17s - loss: 38.448 - ETA: 17s - loss: 38.448 - ETA: 17s - loss: 38.446 - ETA: 17s - loss: 38.445 - ETA: 17s - loss: 38.442 - ETA: 17s - loss: 38.440 - ETA: 16s - loss: 38.446 - ETA: 16s - loss: 38.451 - ETA: 16s - loss: 38.452 - ETA: 16s - loss: 38.453 - ETA: 16s - loss: 38.450 - ETA: 16s - loss: 38.448 - ETA: 16s - loss: 38.449 - ETA: 16s - loss: 38.446 - ETA: 16s - loss: 38.441 - ETA: 16s - loss: 38.441 - ETA: 16s - loss: 38.441 - ETA: 16s - loss: 38.436 - ETA: 16s - loss: 38.437 - ETA: 16s - loss: 38.436 - ETA: 15s - loss: 38.440 - ETA: 15s - loss: 38.443 - ETA: 15s - loss: 38.441 - ETA: 15s - loss: 38.438 - ETA: 15s - loss: 38.438 - ETA: 15s - loss: 38.438 - ETA: 15s - loss: 38.440 - ETA: 15s - loss: 38.438 - ETA: 15s - loss: 38.433 - ETA: 15s - loss: 38.432 - ETA: 15s - loss: 38.430 - ETA: 15s - loss: 38.431 - ETA: 15s - loss: 38.432 - ETA: 15s - loss: 38.436 - ETA: 15s - loss: 38.441 - ETA: 14s - loss: 38.440 - ETA: 14s - loss: 38.437 - ETA: 14s - loss: 38.432 - ETA: 14s - loss: 38.432 - ETA: 14s - loss: 38.437 - ETA: 14s - loss: 38.439 - ETA: 14s - loss: 38.439 - ETA: 14s - loss: 38.445 - ETA: 14s - loss: 38.441 - ETA: 14s - loss: 38.444 - ETA: 14s - loss: 38.443 - ETA: 14s - loss: 38.443 - ETA: 14s - loss: 38.439 - ETA: 14s - loss: 38.436 - ETA: 14s - loss: 38.435 - ETA: 13s - loss: 38.433 - ETA: 13s - loss: 38.431 - ETA: 13s - loss: 38.432 - ETA: 13s - loss: 38.433 - ETA: 13s - loss: 38.429 - ETA: 13s - loss: 38.425 - ETA: 13s - loss: 38.420 - ETA: 13s - loss: 38.419 - ETA: 13s - loss: 38.419 - ETA: 13s - loss: 38.419 - ETA: 13s - loss: 38.420 - ETA: 13s - loss: 38.415 - ETA: 13s - loss: 38.414 - ETA: 13s - loss: 38.414 - ETA: 13s - loss: 38.408 - ETA: 12s - loss: 38.412 - ETA: 12s - loss: 38.412 - ETA: 12s - loss: 38.409 - ETA: 12s - loss: 38.411 - ETA: 12s - loss: 38.413 - ETA: 12s - loss: 38.417 - ETA: 12s - loss: 38.420 - ETA: 12s - loss: 38.423 - ETA: 12s - loss: 38.423 - ETA: 12s - loss: 38.422 - ETA: 12s - loss: 38.421 - ETA: 12s - loss: 38.424 - ETA: 12s - loss: 38.420 - ETA: 12s - loss: 38.419 - ETA: 12s - loss: 38.417 - ETA: 11s - loss: 38.417 - ETA: 11s - loss: 38.418 - ETA: 11s - loss: 38.420 - ETA: 11s - loss: 38.419 - ETA: 11s - loss: 38.422 - ETA: 11s - loss: 38.423 - ETA: 11s - loss: 38.425 - ETA: 11s - loss: 38.425 - ETA: 11s - loss: 38.423 - ETA: 11s - loss: 38.423 - ETA: 11s - loss: 38.419 - ETA: 11s - loss: 38.422 - ETA: 11s - loss: 38.424 - ETA: 11s - loss: 38.422 - ETA: 10s - loss: 38.418 - ETA: 10s - loss: 38.416 - ETA: 10s - loss: 38.415 - ETA: 10s - loss: 38.415 - ETA: 10s - loss: 38.413 - ETA: 10s - loss: 38.412 - ETA: 10s - loss: 38.409 - ETA: 10s - loss: 38.411 - ETA: 10s - loss: 38.413 - ETA: 10s - loss: 38.414 - ETA: 10s - loss: 38.417 - ETA: 10s - loss: 38.419 - ETA: 10s - loss: 38.423 - ETA: 10s - loss: 38.422 - ETA: 10s - loss: 38.420 - ETA: 9s - loss: 38.420 - ETA: 9s - loss: 38.41 - ETA: 9s - loss: 38.41 - ETA: 9s - loss: 38.41 - ETA: 9s - loss: 38.41 - ETA: 9s - loss: 38.42 - ETA: 9s - loss: 38.42 - ETA: 9s - loss: 38.42 - ETA: 9s - loss: 38.42 - ETA: 9s - loss: 38.42 - ETA: 9s - loss: 38.42 - ETA: 9s - loss: 38.42 - ETA: 9s - loss: 38.42 - ETA: 9s - loss: 38.42 - ETA: 9s - loss: 38.42 - ETA: 8s - loss: 38.42 - ETA: 8s - loss: 38.41 - ETA: 8s - loss: 38.41 - ETA: 8s - loss: 38.41 - ETA: 8s - loss: 38.42 - ETA: 8s - loss: 38.41 - ETA: 8s - loss: 38.41 - ETA: 8s - loss: 38.42 - ETA: 8s - loss: 38.42 - ETA: 8s - loss: 38.41 - ETA: 8s - loss: 38.41 - ETA: 8s - loss: 38.41 - ETA: 8s - loss: 38.41 - ETA: 8s - loss: 38.41 - ETA: 8s - loss: 38.41 - ETA: 7s - loss: 38.41 - ETA: 7s - loss: 38.41 - ETA: 7s - loss: 38.41 - ETA: 7s - loss: 38.41 - ETA: 7s - loss: 38.41 - ETA: 7s - loss: 38.41 - ETA: 7s - loss: 38.41 - ETA: 7s - loss: 38.41 - ETA: 7s - loss: 38.41 - ETA: 7s - loss: 38.41 - ETA: 7s - loss: 38.41 - ETA: 7s - loss: 38.41 - ETA: 7s - loss: 38.41 - ETA: 7s - loss: 38.4188162000/162000 [==============================] - ETA: 7s - loss: 38.41 - ETA: 6s - loss: 38.41 - ETA: 6s - loss: 38.41 - ETA: 6s - loss: 38.41 - ETA: 6s - loss: 38.41 - ETA: 6s - loss: 38.41 - ETA: 6s - loss: 38.41 - ETA: 6s - loss: 38.42 - ETA: 6s - loss: 38.42 - ETA: 6s - loss: 38.42 - ETA: 6s - loss: 38.42 - ETA: 6s - loss: 38.42 - ETA: 6s - loss: 38.42 - ETA: 6s - loss: 38.42 - ETA: 6s - loss: 38.42 - ETA: 6s - loss: 38.42 - ETA: 5s - loss: 38.42 - ETA: 5s - loss: 38.42 - ETA: 5s - loss: 38.42 - ETA: 5s - loss: 38.42 - ETA: 5s - loss: 38.42 - ETA: 5s - loss: 38.42 - ETA: 5s - loss: 38.42 - ETA: 5s - loss: 38.42 - ETA: 5s - loss: 38.42 - ETA: 5s - loss: 38.42 - ETA: 5s - loss: 38.42 - ETA: 5s - loss: 38.42 - ETA: 5s - loss: 38.42 - ETA: 5s - loss: 38.42 - ETA: 4s - loss: 38.42 - ETA: 4s - loss: 38.42 - ETA: 4s - loss: 38.42 - ETA: 4s - loss: 38.42 - ETA: 4s - loss: 38.42 - ETA: 4s - loss: 38.42 - ETA: 4s - loss: 38.42 - ETA: 4s - loss: 38.42 - ETA: 4s - loss: 38.42 - ETA: 4s - loss: 38.42 - ETA: 4s - loss: 38.42 - ETA: 4s - loss: 38.42 - ETA: 4s - loss: 38.42 - ETA: 4s - loss: 38.42 - ETA: 4s - loss: 38.42 - ETA: 3s - loss: 38.42 - ETA: 3s - loss: 38.42 - ETA: 3s - loss: 38.42 - ETA: 3s - loss: 38.42 - ETA: 3s - loss: 38.42 - ETA: 3s - loss: 38.42 - ETA: 3s - loss: 38.42 - ETA: 3s - loss: 38.42 - ETA: 3s - loss: 38.42 - ETA: 3s - loss: 38.42 - ETA: 3s - loss: 38.42 - ETA: 3s - loss: 38.42 - ETA: 3s - loss: 38.42 - ETA: 3s - loss: 38.42 - ETA: 3s - loss: 38.42 - ETA: 2s - loss: 38.42 - ETA: 2s - loss: 38.42 - ETA: 2s - loss: 38.42 - ETA: 2s - loss: 38.42 - ETA: 2s - loss: 38.42 - ETA: 2s - loss: 38.42 - ETA: 2s - loss: 38.42 - ETA: 2s - loss: 38.42 - ETA: 2s - loss: 38.42 - ETA: 2s - loss: 38.42 - ETA: 2s - loss: 38.42 - ETA: 2s - loss: 38.42 - ETA: 2s - loss: 38.42 - ETA: 2s - loss: 38.42 - ETA: 2s - loss: 38.42 - ETA: 1s - loss: 38.42 - ETA: 1s - loss: 38.42 - ETA: 1s - loss: 38.42 - ETA: 1s - loss: 38.42 - ETA: 1s - loss: 38.42 - ETA: 1s - loss: 38.42 - ETA: 1s - loss: 38.42 - ETA: 1s - loss: 38.42 - ETA: 1s - loss: 38.42 - ETA: 1s - loss: 38.42 - ETA: 1s - loss: 38.42 - ETA: 1s - loss: 38.42 - ETA: 1s - loss: 38.42 - ETA: 1s - loss: 38.42 - ETA: 1s - loss: 38.42 - ETA: 0s - loss: 38.42 - ETA: 0s - loss: 38.42 - ETA: 0s - loss: 38.42 - ETA: 0s - loss: 38.42 - ETA: 0s - loss: 38.42 - ETA: 0s - loss: 38.42 - ETA: 0s - loss: 38.42 - ETA: 0s - loss: 38.42 - ETA: 0s - loss: 38.42 - ETA: 0s - loss: 38.42 - ETA: 0s - loss: 38.42 - ETA: 0s - loss: 38.42 - ETA: 0s - loss: 38.42 - ETA: 0s - loss: 38.42 - 30s 183us/step - loss: 38.4168 - val_loss: 38.3157\n",
      "Epoch 6/20\n"
     ]
    },
    {
     "name": "stdout",
     "output_type": "stream",
     "text": [
      "121728/162000 [=====================>........] - ETA: 26s - loss: 39.296 - ETA: 26s - loss: 39.031 - ETA: 28s - loss: 38.939 - ETA: 27s - loss: 38.825 - ETA: 28s - loss: 38.668 - ETA: 29s - loss: 38.571 - ETA: 28s - loss: 38.552 - ETA: 28s - loss: 38.521 - ETA: 28s - loss: 38.549 - ETA: 28s - loss: 38.517 - ETA: 28s - loss: 38.467 - ETA: 28s - loss: 38.455 - ETA: 28s - loss: 38.488 - ETA: 28s - loss: 38.423 - ETA: 28s - loss: 38.392 - ETA: 28s - loss: 38.418 - ETA: 27s - loss: 38.436 - ETA: 28s - loss: 38.434 - ETA: 27s - loss: 38.434 - ETA: 27s - loss: 38.459 - ETA: 27s - loss: 38.483 - ETA: 27s - loss: 38.497 - ETA: 27s - loss: 38.508 - ETA: 27s - loss: 38.506 - ETA: 27s - loss: 38.502 - ETA: 27s - loss: 38.489 - ETA: 27s - loss: 38.499 - ETA: 27s - loss: 38.481 - ETA: 26s - loss: 38.452 - ETA: 26s - loss: 38.469 - ETA: 26s - loss: 38.488 - ETA: 26s - loss: 38.468 - ETA: 26s - loss: 38.444 - ETA: 26s - loss: 38.434 - ETA: 26s - loss: 38.436 - ETA: 26s - loss: 38.429 - ETA: 26s - loss: 38.421 - ETA: 26s - loss: 38.426 - ETA: 26s - loss: 38.444 - ETA: 26s - loss: 38.453 - ETA: 25s - loss: 38.468 - ETA: 25s - loss: 38.444 - ETA: 26s - loss: 38.436 - ETA: 25s - loss: 38.422 - ETA: 25s - loss: 38.414 - ETA: 25s - loss: 38.417 - ETA: 25s - loss: 38.416 - ETA: 25s - loss: 38.426 - ETA: 25s - loss: 38.431 - ETA: 25s - loss: 38.432 - ETA: 25s - loss: 38.440 - ETA: 25s - loss: 38.422 - ETA: 25s - loss: 38.435 - ETA: 25s - loss: 38.434 - ETA: 25s - loss: 38.433 - ETA: 25s - loss: 38.429 - ETA: 25s - loss: 38.425 - ETA: 24s - loss: 38.426 - ETA: 24s - loss: 38.419 - ETA: 24s - loss: 38.418 - ETA: 24s - loss: 38.429 - ETA: 24s - loss: 38.424 - ETA: 24s - loss: 38.420 - ETA: 24s - loss: 38.417 - ETA: 24s - loss: 38.418 - ETA: 24s - loss: 38.420 - ETA: 24s - loss: 38.416 - ETA: 24s - loss: 38.419 - ETA: 24s - loss: 38.421 - ETA: 24s - loss: 38.419 - ETA: 24s - loss: 38.411 - ETA: 23s - loss: 38.405 - ETA: 23s - loss: 38.405 - ETA: 23s - loss: 38.405 - ETA: 23s - loss: 38.408 - ETA: 23s - loss: 38.408 - ETA: 23s - loss: 38.411 - ETA: 23s - loss: 38.406 - ETA: 23s - loss: 38.398 - ETA: 23s - loss: 38.398 - ETA: 23s - loss: 38.392 - ETA: 23s - loss: 38.403 - ETA: 23s - loss: 38.399 - ETA: 23s - loss: 38.398 - ETA: 23s - loss: 38.395 - ETA: 23s - loss: 38.389 - ETA: 23s - loss: 38.382 - ETA: 22s - loss: 38.383 - ETA: 22s - loss: 38.384 - ETA: 22s - loss: 38.382 - ETA: 22s - loss: 38.377 - ETA: 22s - loss: 38.384 - ETA: 22s - loss: 38.388 - ETA: 22s - loss: 38.383 - ETA: 22s - loss: 38.384 - ETA: 22s - loss: 38.384 - ETA: 22s - loss: 38.383 - ETA: 22s - loss: 38.381 - ETA: 22s - loss: 38.386 - ETA: 22s - loss: 38.386 - ETA: 22s - loss: 38.381 - ETA: 22s - loss: 38.376 - ETA: 21s - loss: 38.367 - ETA: 21s - loss: 38.362 - ETA: 21s - loss: 38.361 - ETA: 21s - loss: 38.357 - ETA: 21s - loss: 38.357 - ETA: 21s - loss: 38.366 - ETA: 21s - loss: 38.365 - ETA: 21s - loss: 38.365 - ETA: 21s - loss: 38.365 - ETA: 21s - loss: 38.367 - ETA: 21s - loss: 38.369 - ETA: 21s - loss: 38.372 - ETA: 21s - loss: 38.365 - ETA: 21s - loss: 38.358 - ETA: 21s - loss: 38.353 - ETA: 20s - loss: 38.349 - ETA: 20s - loss: 38.345 - ETA: 20s - loss: 38.353 - ETA: 20s - loss: 38.351 - ETA: 20s - loss: 38.348 - ETA: 20s - loss: 38.353 - ETA: 20s - loss: 38.346 - ETA: 20s - loss: 38.347 - ETA: 20s - loss: 38.348 - ETA: 20s - loss: 38.342 - ETA: 20s - loss: 38.349 - ETA: 20s - loss: 38.358 - ETA: 20s - loss: 38.355 - ETA: 20s - loss: 38.350 - ETA: 19s - loss: 38.353 - ETA: 19s - loss: 38.350 - ETA: 19s - loss: 38.352 - ETA: 19s - loss: 38.345 - ETA: 19s - loss: 38.347 - ETA: 19s - loss: 38.345 - ETA: 19s - loss: 38.343 - ETA: 19s - loss: 38.340 - ETA: 19s - loss: 38.340 - ETA: 19s - loss: 38.332 - ETA: 19s - loss: 38.332 - ETA: 19s - loss: 38.330 - ETA: 19s - loss: 38.331 - ETA: 19s - loss: 38.332 - ETA: 19s - loss: 38.331 - ETA: 18s - loss: 38.336 - ETA: 18s - loss: 38.339 - ETA: 18s - loss: 38.349 - ETA: 18s - loss: 38.352 - ETA: 18s - loss: 38.349 - ETA: 18s - loss: 38.342 - ETA: 18s - loss: 38.342 - ETA: 18s - loss: 38.344 - ETA: 18s - loss: 38.344 - ETA: 18s - loss: 38.338 - ETA: 18s - loss: 38.338 - ETA: 18s - loss: 38.338 - ETA: 18s - loss: 38.339 - ETA: 18s - loss: 38.339 - ETA: 18s - loss: 38.341 - ETA: 17s - loss: 38.338 - ETA: 17s - loss: 38.340 - ETA: 17s - loss: 38.345 - ETA: 17s - loss: 38.348 - ETA: 17s - loss: 38.351 - ETA: 17s - loss: 38.355 - ETA: 17s - loss: 38.357 - ETA: 17s - loss: 38.355 - ETA: 17s - loss: 38.357 - ETA: 17s - loss: 38.358 - ETA: 17s - loss: 38.355 - ETA: 17s - loss: 38.352 - ETA: 17s - loss: 38.353 - ETA: 17s - loss: 38.352 - ETA: 16s - loss: 38.353 - ETA: 16s - loss: 38.356 - ETA: 16s - loss: 38.355 - ETA: 16s - loss: 38.352 - ETA: 16s - loss: 38.351 - ETA: 16s - loss: 38.349 - ETA: 16s - loss: 38.349 - ETA: 16s - loss: 38.353 - ETA: 16s - loss: 38.355 - ETA: 16s - loss: 38.356 - ETA: 16s - loss: 38.357 - ETA: 16s - loss: 38.356 - ETA: 16s - loss: 38.353 - ETA: 16s - loss: 38.353 - ETA: 15s - loss: 38.350 - ETA: 15s - loss: 38.355 - ETA: 15s - loss: 38.355 - ETA: 15s - loss: 38.353 - ETA: 15s - loss: 38.358 - ETA: 15s - loss: 38.365 - ETA: 15s - loss: 38.362 - ETA: 15s - loss: 38.358 - ETA: 15s - loss: 38.360 - ETA: 15s - loss: 38.358 - ETA: 15s - loss: 38.358 - ETA: 15s - loss: 38.362 - ETA: 15s - loss: 38.363 - ETA: 15s - loss: 38.363 - ETA: 14s - loss: 38.365 - ETA: 14s - loss: 38.368 - ETA: 14s - loss: 38.367 - ETA: 14s - loss: 38.369 - ETA: 14s - loss: 38.374 - ETA: 14s - loss: 38.376 - ETA: 14s - loss: 38.376 - ETA: 14s - loss: 38.380 - ETA: 14s - loss: 38.383 - ETA: 14s - loss: 38.376 - ETA: 14s - loss: 38.376 - ETA: 14s - loss: 38.379 - ETA: 14s - loss: 38.378 - ETA: 14s - loss: 38.380 - ETA: 14s - loss: 38.381 - ETA: 13s - loss: 38.376 - ETA: 13s - loss: 38.374 - ETA: 13s - loss: 38.376 - ETA: 13s - loss: 38.372 - ETA: 13s - loss: 38.371 - ETA: 13s - loss: 38.372 - ETA: 13s - loss: 38.373 - ETA: 13s - loss: 38.378 - ETA: 13s - loss: 38.381 - ETA: 13s - loss: 38.379 - ETA: 13s - loss: 38.380 - ETA: 13s - loss: 38.382 - ETA: 13s - loss: 38.384 - ETA: 13s - loss: 38.386 - ETA: 12s - loss: 38.387 - ETA: 12s - loss: 38.384 - ETA: 12s - loss: 38.385 - ETA: 12s - loss: 38.384 - ETA: 12s - loss: 38.382 - ETA: 12s - loss: 38.382 - ETA: 12s - loss: 38.381 - ETA: 12s - loss: 38.382 - ETA: 12s - loss: 38.382 - ETA: 12s - loss: 38.382 - ETA: 12s - loss: 38.383 - ETA: 12s - loss: 38.386 - ETA: 12s - loss: 38.388 - ETA: 12s - loss: 38.391 - ETA: 12s - loss: 38.396 - ETA: 11s - loss: 38.397 - ETA: 11s - loss: 38.396 - ETA: 11s - loss: 38.391 - ETA: 11s - loss: 38.393 - ETA: 11s - loss: 38.392 - ETA: 11s - loss: 38.393 - ETA: 11s - loss: 38.393 - ETA: 11s - loss: 38.392 - ETA: 11s - loss: 38.392 - ETA: 11s - loss: 38.394 - ETA: 11s - loss: 38.393 - ETA: 11s - loss: 38.395 - ETA: 11s - loss: 38.395 - ETA: 11s - loss: 38.395 - ETA: 10s - loss: 38.393 - ETA: 10s - loss: 38.395 - ETA: 10s - loss: 38.395 - ETA: 10s - loss: 38.395 - ETA: 10s - loss: 38.395 - ETA: 10s - loss: 38.396 - ETA: 10s - loss: 38.397 - ETA: 10s - loss: 38.395 - ETA: 10s - loss: 38.396 - ETA: 10s - loss: 38.396 - ETA: 10s - loss: 38.399 - ETA: 10s - loss: 38.399 - ETA: 10s - loss: 38.402 - ETA: 10s - loss: 38.404 - ETA: 9s - loss: 38.405 - ETA: 9s - loss: 38.40 - ETA: 9s - loss: 38.40 - ETA: 9s - loss: 38.40 - ETA: 9s - loss: 38.40 - ETA: 9s - loss: 38.41 - ETA: 9s - loss: 38.40 - ETA: 9s - loss: 38.41 - ETA: 9s - loss: 38.41 - ETA: 9s - loss: 38.41 - ETA: 9s - loss: 38.41 - ETA: 9s - loss: 38.41 - ETA: 9s - loss: 38.41 - ETA: 9s - loss: 38.41 - ETA: 9s - loss: 38.41 - ETA: 8s - loss: 38.41 - ETA: 8s - loss: 38.41 - ETA: 8s - loss: 38.41 - ETA: 8s - loss: 38.41 - ETA: 8s - loss: 38.41 - ETA: 8s - loss: 38.41 - ETA: 8s - loss: 38.41 - ETA: 8s - loss: 38.41 - ETA: 8s - loss: 38.41 - ETA: 8s - loss: 38.41 - ETA: 8s - loss: 38.41 - ETA: 8s - loss: 38.41 - ETA: 8s - loss: 38.41 - ETA: 8s - loss: 38.41 - ETA: 7s - loss: 38.41 - ETA: 7s - loss: 38.41 - ETA: 7s - loss: 38.41 - ETA: 7s - loss: 38.41 - ETA: 7s - loss: 38.41 - ETA: 7s - loss: 38.41 - ETA: 7s - loss: 38.41 - ETA: 7s - loss: 38.42 - ETA: 7s - loss: 38.42 - ETA: 7s - loss: 38.42 - ETA: 7s - loss: 38.42 - ETA: 7s - loss: 38.42 - ETA: 7s - loss: 38.4260"
     ]
    },
    {
     "name": "stdout",
     "output_type": "stream",
     "text": [
      "162000/162000 [==============================] - ETA: 7s - loss: 38.42 - ETA: 7s - loss: 38.42 - ETA: 6s - loss: 38.42 - ETA: 6s - loss: 38.42 - ETA: 6s - loss: 38.42 - ETA: 6s - loss: 38.42 - ETA: 6s - loss: 38.42 - ETA: 6s - loss: 38.42 - ETA: 6s - loss: 38.42 - ETA: 6s - loss: 38.42 - ETA: 6s - loss: 38.43 - ETA: 6s - loss: 38.42 - ETA: 6s - loss: 38.43 - ETA: 6s - loss: 38.43 - ETA: 6s - loss: 38.43 - ETA: 6s - loss: 38.43 - ETA: 5s - loss: 38.43 - ETA: 5s - loss: 38.43 - ETA: 5s - loss: 38.43 - ETA: 5s - loss: 38.43 - ETA: 5s - loss: 38.43 - ETA: 5s - loss: 38.43 - ETA: 5s - loss: 38.43 - ETA: 5s - loss: 38.42 - ETA: 5s - loss: 38.42 - ETA: 5s - loss: 38.42 - ETA: 5s - loss: 38.42 - ETA: 5s - loss: 38.43 - ETA: 5s - loss: 38.43 - ETA: 5s - loss: 38.42 - ETA: 5s - loss: 38.42 - ETA: 4s - loss: 38.42 - ETA: 4s - loss: 38.42 - ETA: 4s - loss: 38.42 - ETA: 4s - loss: 38.43 - ETA: 4s - loss: 38.43 - ETA: 4s - loss: 38.43 - ETA: 4s - loss: 38.43 - ETA: 4s - loss: 38.43 - ETA: 4s - loss: 38.43 - ETA: 4s - loss: 38.43 - ETA: 4s - loss: 38.43 - ETA: 4s - loss: 38.43 - ETA: 4s - loss: 38.43 - ETA: 4s - loss: 38.43 - ETA: 4s - loss: 38.43 - ETA: 3s - loss: 38.43 - ETA: 3s - loss: 38.43 - ETA: 3s - loss: 38.43 - ETA: 3s - loss: 38.43 - ETA: 3s - loss: 38.43 - ETA: 3s - loss: 38.42 - ETA: 3s - loss: 38.43 - ETA: 3s - loss: 38.43 - ETA: 3s - loss: 38.43 - ETA: 3s - loss: 38.43 - ETA: 3s - loss: 38.43 - ETA: 3s - loss: 38.43 - ETA: 3s - loss: 38.43 - ETA: 3s - loss: 38.42 - ETA: 2s - loss: 38.43 - ETA: 2s - loss: 38.43 - ETA: 2s - loss: 38.42 - ETA: 2s - loss: 38.42 - ETA: 2s - loss: 38.42 - ETA: 2s - loss: 38.42 - ETA: 2s - loss: 38.42 - ETA: 2s - loss: 38.42 - ETA: 2s - loss: 38.42 - ETA: 2s - loss: 38.42 - ETA: 2s - loss: 38.42 - ETA: 2s - loss: 38.42 - ETA: 2s - loss: 38.42 - ETA: 2s - loss: 38.42 - ETA: 2s - loss: 38.42 - ETA: 1s - loss: 38.42 - ETA: 1s - loss: 38.42 - ETA: 1s - loss: 38.42 - ETA: 1s - loss: 38.42 - ETA: 1s - loss: 38.42 - ETA: 1s - loss: 38.42 - ETA: 1s - loss: 38.42 - ETA: 1s - loss: 38.42 - ETA: 1s - loss: 38.42 - ETA: 1s - loss: 38.42 - ETA: 1s - loss: 38.42 - ETA: 1s - loss: 38.42 - ETA: 1s - loss: 38.42 - ETA: 1s - loss: 38.42 - ETA: 1s - loss: 38.42 - ETA: 0s - loss: 38.42 - ETA: 0s - loss: 38.42 - ETA: 0s - loss: 38.42 - ETA: 0s - loss: 38.42 - ETA: 0s - loss: 38.42 - ETA: 0s - loss: 38.42 - ETA: 0s - loss: 38.42 - ETA: 0s - loss: 38.42 - ETA: 0s - loss: 38.42 - ETA: 0s - loss: 38.42 - ETA: 0s - loss: 38.42 - ETA: 0s - loss: 38.42 - ETA: 0s - loss: 38.42 - ETA: 0s - loss: 38.42 - 30s 184us/step - loss: 38.4165 - val_loss: 38.3110\n",
      "Epoch 7/20\n",
      "121728/162000 [=====================>........] - ETA: 26s - loss: 38.037 - ETA: 29s - loss: 38.156 - ETA: 28s - loss: 38.084 - ETA: 27s - loss: 38.112 - ETA: 28s - loss: 38.103 - ETA: 28s - loss: 38.205 - ETA: 27s - loss: 38.130 - ETA: 27s - loss: 38.249 - ETA: 27s - loss: 38.220 - ETA: 27s - loss: 38.258 - ETA: 27s - loss: 38.331 - ETA: 27s - loss: 38.364 - ETA: 27s - loss: 38.380 - ETA: 27s - loss: 38.374 - ETA: 27s - loss: 38.396 - ETA: 27s - loss: 38.409 - ETA: 27s - loss: 38.405 - ETA: 26s - loss: 38.388 - ETA: 27s - loss: 38.371 - ETA: 26s - loss: 38.366 - ETA: 26s - loss: 38.345 - ETA: 26s - loss: 38.350 - ETA: 26s - loss: 38.362 - ETA: 26s - loss: 38.359 - ETA: 26s - loss: 38.360 - ETA: 26s - loss: 38.366 - ETA: 26s - loss: 38.374 - ETA: 26s - loss: 38.372 - ETA: 26s - loss: 38.380 - ETA: 26s - loss: 38.368 - ETA: 26s - loss: 38.370 - ETA: 26s - loss: 38.392 - ETA: 26s - loss: 38.413 - ETA: 26s - loss: 38.404 - ETA: 26s - loss: 38.410 - ETA: 25s - loss: 38.407 - ETA: 25s - loss: 38.392 - ETA: 25s - loss: 38.380 - ETA: 25s - loss: 38.396 - ETA: 25s - loss: 38.385 - ETA: 25s - loss: 38.380 - ETA: 25s - loss: 38.383 - ETA: 25s - loss: 38.385 - ETA: 25s - loss: 38.384 - ETA: 25s - loss: 38.385 - ETA: 25s - loss: 38.393 - ETA: 25s - loss: 38.390 - ETA: 25s - loss: 38.386 - ETA: 25s - loss: 38.393 - ETA: 24s - loss: 38.384 - ETA: 24s - loss: 38.385 - ETA: 24s - loss: 38.378 - ETA: 24s - loss: 38.379 - ETA: 24s - loss: 38.378 - ETA: 24s - loss: 38.370 - ETA: 24s - loss: 38.371 - ETA: 24s - loss: 38.369 - ETA: 24s - loss: 38.373 - ETA: 24s - loss: 38.376 - ETA: 24s - loss: 38.366 - ETA: 24s - loss: 38.358 - ETA: 24s - loss: 38.361 - ETA: 24s - loss: 38.361 - ETA: 24s - loss: 38.362 - ETA: 23s - loss: 38.361 - ETA: 23s - loss: 38.361 - ETA: 23s - loss: 38.355 - ETA: 23s - loss: 38.362 - ETA: 23s - loss: 38.363 - ETA: 23s - loss: 38.366 - ETA: 23s - loss: 38.369 - ETA: 23s - loss: 38.371 - ETA: 23s - loss: 38.371 - ETA: 23s - loss: 38.375 - ETA: 23s - loss: 38.377 - ETA: 23s - loss: 38.377 - ETA: 23s - loss: 38.379 - ETA: 23s - loss: 38.389 - ETA: 23s - loss: 38.389 - ETA: 22s - loss: 38.390 - ETA: 22s - loss: 38.387 - ETA: 22s - loss: 38.388 - ETA: 22s - loss: 38.388 - ETA: 22s - loss: 38.390 - ETA: 22s - loss: 38.388 - ETA: 22s - loss: 38.385 - ETA: 22s - loss: 38.384 - ETA: 22s - loss: 38.373 - ETA: 22s - loss: 38.372 - ETA: 22s - loss: 38.371 - ETA: 22s - loss: 38.379 - ETA: 22s - loss: 38.379 - ETA: 22s - loss: 38.377 - ETA: 22s - loss: 38.379 - ETA: 21s - loss: 38.380 - ETA: 21s - loss: 38.380 - ETA: 21s - loss: 38.377 - ETA: 21s - loss: 38.376 - ETA: 21s - loss: 38.369 - ETA: 21s - loss: 38.372 - ETA: 21s - loss: 38.371 - ETA: 21s - loss: 38.365 - ETA: 21s - loss: 38.368 - ETA: 21s - loss: 38.375 - ETA: 21s - loss: 38.380 - ETA: 21s - loss: 38.376 - ETA: 21s - loss: 38.372 - ETA: 21s - loss: 38.374 - ETA: 21s - loss: 38.380 - ETA: 20s - loss: 38.376 - ETA: 20s - loss: 38.377 - ETA: 20s - loss: 38.374 - ETA: 20s - loss: 38.367 - ETA: 20s - loss: 38.366 - ETA: 20s - loss: 38.364 - ETA: 20s - loss: 38.364 - ETA: 20s - loss: 38.360 - ETA: 20s - loss: 38.358 - ETA: 20s - loss: 38.364 - ETA: 20s - loss: 38.358 - ETA: 20s - loss: 38.356 - ETA: 20s - loss: 38.356 - ETA: 20s - loss: 38.360 - ETA: 20s - loss: 38.357 - ETA: 19s - loss: 38.354 - ETA: 19s - loss: 38.351 - ETA: 19s - loss: 38.352 - ETA: 19s - loss: 38.350 - ETA: 19s - loss: 38.348 - ETA: 19s - loss: 38.349 - ETA: 19s - loss: 38.344 - ETA: 19s - loss: 38.339 - ETA: 19s - loss: 38.339 - ETA: 19s - loss: 38.340 - ETA: 19s - loss: 38.338 - ETA: 19s - loss: 38.336 - ETA: 19s - loss: 38.332 - ETA: 19s - loss: 38.339 - ETA: 19s - loss: 38.343 - ETA: 18s - loss: 38.342 - ETA: 18s - loss: 38.342 - ETA: 18s - loss: 38.347 - ETA: 18s - loss: 38.343 - ETA: 18s - loss: 38.344 - ETA: 18s - loss: 38.348 - ETA: 18s - loss: 38.353 - ETA: 18s - loss: 38.358 - ETA: 18s - loss: 38.358 - ETA: 18s - loss: 38.362 - ETA: 18s - loss: 38.363 - ETA: 18s - loss: 38.363 - ETA: 18s - loss: 38.362 - ETA: 18s - loss: 38.367 - ETA: 18s - loss: 38.374 - ETA: 17s - loss: 38.378 - ETA: 17s - loss: 38.379 - ETA: 17s - loss: 38.381 - ETA: 17s - loss: 38.383 - ETA: 17s - loss: 38.382 - ETA: 17s - loss: 38.383 - ETA: 17s - loss: 38.384 - ETA: 17s - loss: 38.384 - ETA: 17s - loss: 38.383 - ETA: 17s - loss: 38.384 - ETA: 17s - loss: 38.387 - ETA: 17s - loss: 38.391 - ETA: 17s - loss: 38.391 - ETA: 17s - loss: 38.394 - ETA: 17s - loss: 38.394 - ETA: 16s - loss: 38.394 - ETA: 16s - loss: 38.394 - ETA: 16s - loss: 38.397 - ETA: 16s - loss: 38.397 - ETA: 16s - loss: 38.394 - ETA: 16s - loss: 38.392 - ETA: 16s - loss: 38.393 - ETA: 16s - loss: 38.394 - ETA: 16s - loss: 38.392 - ETA: 16s - loss: 38.392 - ETA: 16s - loss: 38.392 - ETA: 16s - loss: 38.392 - ETA: 16s - loss: 38.390 - ETA: 16s - loss: 38.388 - ETA: 16s - loss: 38.386 - ETA: 15s - loss: 38.390 - ETA: 15s - loss: 38.389 - ETA: 15s - loss: 38.386 - ETA: 15s - loss: 38.382 - ETA: 15s - loss: 38.388 - ETA: 15s - loss: 38.392 - ETA: 15s - loss: 38.390 - ETA: 15s - loss: 38.389 - ETA: 15s - loss: 38.388 - ETA: 15s - loss: 38.384 - ETA: 15s - loss: 38.380 - ETA: 15s - loss: 38.378 - ETA: 15s - loss: 38.374 - ETA: 15s - loss: 38.377 - ETA: 15s - loss: 38.381 - ETA: 14s - loss: 38.384 - ETA: 14s - loss: 38.382 - ETA: 14s - loss: 38.383 - ETA: 14s - loss: 38.381 - ETA: 14s - loss: 38.385 - ETA: 14s - loss: 38.388 - ETA: 14s - loss: 38.387 - ETA: 14s - loss: 38.385 - ETA: 14s - loss: 38.385 - ETA: 14s - loss: 38.383 - ETA: 14s - loss: 38.380 - ETA: 14s - loss: 38.382 - ETA: 14s - loss: 38.381 - ETA: 14s - loss: 38.381 - ETA: 14s - loss: 38.382 - ETA: 13s - loss: 38.381 - ETA: 13s - loss: 38.381 - ETA: 13s - loss: 38.382 - ETA: 13s - loss: 38.383 - ETA: 13s - loss: 38.384 - ETA: 13s - loss: 38.382 - ETA: 13s - loss: 38.380 - ETA: 13s - loss: 38.380 - ETA: 13s - loss: 38.384 - ETA: 13s - loss: 38.386 - ETA: 13s - loss: 38.385 - ETA: 13s - loss: 38.384 - ETA: 13s - loss: 38.385 - ETA: 13s - loss: 38.382 - ETA: 13s - loss: 38.384 - ETA: 12s - loss: 38.382 - ETA: 12s - loss: 38.381 - ETA: 12s - loss: 38.382 - ETA: 12s - loss: 38.383 - ETA: 12s - loss: 38.383 - ETA: 12s - loss: 38.380 - ETA: 12s - loss: 38.381 - ETA: 12s - loss: 38.381 - ETA: 12s - loss: 38.381 - ETA: 12s - loss: 38.378 - ETA: 12s - loss: 38.381 - ETA: 12s - loss: 38.382 - ETA: 12s - loss: 38.381 - ETA: 12s - loss: 38.379 - ETA: 12s - loss: 38.381 - ETA: 11s - loss: 38.380 - ETA: 11s - loss: 38.379 - ETA: 11s - loss: 38.383 - ETA: 11s - loss: 38.384 - ETA: 11s - loss: 38.386 - ETA: 11s - loss: 38.386 - ETA: 11s - loss: 38.386 - ETA: 11s - loss: 38.387 - ETA: 11s - loss: 38.387 - ETA: 11s - loss: 38.387 - ETA: 11s - loss: 38.386 - ETA: 11s - loss: 38.387 - ETA: 11s - loss: 38.384 - ETA: 11s - loss: 38.382 - ETA: 10s - loss: 38.382 - ETA: 10s - loss: 38.380 - ETA: 10s - loss: 38.378 - ETA: 10s - loss: 38.379 - ETA: 10s - loss: 38.380 - ETA: 10s - loss: 38.381 - ETA: 10s - loss: 38.382 - ETA: 10s - loss: 38.384 - ETA: 10s - loss: 38.384 - ETA: 10s - loss: 38.382 - ETA: 10s - loss: 38.386 - ETA: 10s - loss: 38.387 - ETA: 10s - loss: 38.385 - ETA: 10s - loss: 38.383 - ETA: 10s - loss: 38.382 - ETA: 9s - loss: 38.381 - ETA: 9s - loss: 38.38 - ETA: 9s - loss: 38.37 - ETA: 9s - loss: 38.37 - ETA: 9s - loss: 38.37 - ETA: 9s - loss: 38.38 - ETA: 9s - loss: 38.38 - ETA: 9s - loss: 38.38 - ETA: 9s - loss: 38.38 - ETA: 9s - loss: 38.38 - ETA: 9s - loss: 38.38 - ETA: 9s - loss: 38.38 - ETA: 9s - loss: 38.39 - ETA: 9s - loss: 38.39 - ETA: 9s - loss: 38.39 - ETA: 8s - loss: 38.39 - ETA: 8s - loss: 38.39 - ETA: 8s - loss: 38.39 - ETA: 8s - loss: 38.39 - ETA: 8s - loss: 38.39 - ETA: 8s - loss: 38.39 - ETA: 8s - loss: 38.39 - ETA: 8s - loss: 38.39 - ETA: 8s - loss: 38.39 - ETA: 8s - loss: 38.39 - ETA: 8s - loss: 38.39 - ETA: 8s - loss: 38.39 - ETA: 8s - loss: 38.39 - ETA: 8s - loss: 38.39 - ETA: 8s - loss: 38.38 - ETA: 7s - loss: 38.38 - ETA: 7s - loss: 38.39 - ETA: 7s - loss: 38.39 - ETA: 7s - loss: 38.39 - ETA: 7s - loss: 38.39 - ETA: 7s - loss: 38.39 - ETA: 7s - loss: 38.39 - ETA: 7s - loss: 38.39 - ETA: 7s - loss: 38.39 - ETA: 7s - loss: 38.39 - ETA: 7s - loss: 38.39 - ETA: 7s - loss: 38.39 - ETA: 7s - loss: 38.39 - ETA: 7s - loss: 38.4003162000/162000 [==============================] - ETA: 7s - loss: 38.40 - ETA: 6s - loss: 38.40 - ETA: 6s - loss: 38.40 - ETA: 6s - loss: 38.40 - ETA: 6s - loss: 38.40 - ETA: 6s - loss: 38.40 - ETA: 6s - loss: 38.40 - ETA: 6s - loss: 38.40 - ETA: 6s - loss: 38.40 - ETA: 6s - loss: 38.39 - ETA: 6s - loss: 38.39 - ETA: 6s - loss: 38.39 - ETA: 6s - loss: 38.39 - ETA: 6s - loss: 38.39 - ETA: 6s - loss: 38.39 - ETA: 6s - loss: 38.39 - ETA: 5s - loss: 38.39 - ETA: 5s - loss: 38.40 - ETA: 5s - loss: 38.40 - ETA: 5s - loss: 38.39 - ETA: 5s - loss: 38.39 - ETA: 5s - loss: 38.39 - ETA: 5s - loss: 38.39 - ETA: 5s - loss: 38.39 - ETA: 5s - loss: 38.40 - ETA: 5s - loss: 38.40 - ETA: 5s - loss: 38.40 - ETA: 5s - loss: 38.40 - ETA: 5s - loss: 38.40 - ETA: 5s - loss: 38.39 - ETA: 4s - loss: 38.39 - ETA: 4s - loss: 38.40 - ETA: 4s - loss: 38.40 - ETA: 4s - loss: 38.40 - ETA: 4s - loss: 38.40 - ETA: 4s - loss: 38.39 - ETA: 4s - loss: 38.39 - ETA: 4s - loss: 38.39 - ETA: 4s - loss: 38.39 - ETA: 4s - loss: 38.39 - ETA: 4s - loss: 38.39 - ETA: 4s - loss: 38.39 - ETA: 4s - loss: 38.39 - ETA: 4s - loss: 38.39 - ETA: 4s - loss: 38.39 - ETA: 3s - loss: 38.39 - ETA: 3s - loss: 38.39 - ETA: 3s - loss: 38.39 - ETA: 3s - loss: 38.39 - ETA: 3s - loss: 38.39 - ETA: 3s - loss: 38.39 - ETA: 3s - loss: 38.39 - ETA: 3s - loss: 38.39 - ETA: 3s - loss: 38.39 - ETA: 3s - loss: 38.39 - ETA: 3s - loss: 38.39 - ETA: 3s - loss: 38.39 - ETA: 3s - loss: 38.39 - ETA: 3s - loss: 38.39 - ETA: 3s - loss: 38.39 - ETA: 2s - loss: 38.39 - ETA: 2s - loss: 38.39 - ETA: 2s - loss: 38.39 - ETA: 2s - loss: 38.39 - ETA: 2s - loss: 38.39 - ETA: 2s - loss: 38.39 - ETA: 2s - loss: 38.39 - ETA: 2s - loss: 38.39 - ETA: 2s - loss: 38.39 - ETA: 2s - loss: 38.39 - ETA: 2s - loss: 38.39 - ETA: 2s - loss: 38.39 - ETA: 2s - loss: 38.39 - ETA: 2s - loss: 38.39 - ETA: 2s - loss: 38.39 - ETA: 1s - loss: 38.39 - ETA: 1s - loss: 38.39 - ETA: 1s - loss: 38.39 - ETA: 1s - loss: 38.39 - ETA: 1s - loss: 38.39 - ETA: 1s - loss: 38.40 - ETA: 1s - loss: 38.39 - ETA: 1s - loss: 38.39 - ETA: 1s - loss: 38.39 - ETA: 1s - loss: 38.39 - ETA: 1s - loss: 38.40 - ETA: 1s - loss: 38.39 - ETA: 1s - loss: 38.39 - ETA: 1s - loss: 38.39 - ETA: 1s - loss: 38.39 - ETA: 0s - loss: 38.39 - ETA: 0s - loss: 38.39 - ETA: 0s - loss: 38.39 - ETA: 0s - loss: 38.39 - ETA: 0s - loss: 38.39 - ETA: 0s - loss: 38.39 - ETA: 0s - loss: 38.39 - ETA: 0s - loss: 38.39 - ETA: 0s - loss: 38.40 - ETA: 0s - loss: 38.40 - ETA: 0s - loss: 38.40 - ETA: 0s - loss: 38.40 - ETA: 0s - loss: 38.40 - ETA: 0s - loss: 38.40 - 30s 183us/step - loss: 38.3897 - val_loss: 38.3193\n",
      "Epoch 8/20\n"
     ]
    },
    {
     "name": "stdout",
     "output_type": "stream",
     "text": [
      "121728/162000 [=====================>........] - ETA: 26s - loss: 38.726 - ETA: 26s - loss: 38.602 - ETA: 28s - loss: 38.624 - ETA: 27s - loss: 38.560 - ETA: 27s - loss: 38.660 - ETA: 27s - loss: 38.596 - ETA: 27s - loss: 38.558 - ETA: 27s - loss: 38.548 - ETA: 27s - loss: 38.415 - ETA: 27s - loss: 38.407 - ETA: 27s - loss: 38.401 - ETA: 27s - loss: 38.384 - ETA: 27s - loss: 38.379 - ETA: 27s - loss: 38.402 - ETA: 27s - loss: 38.375 - ETA: 27s - loss: 38.344 - ETA: 27s - loss: 38.350 - ETA: 27s - loss: 38.315 - ETA: 27s - loss: 38.256 - ETA: 26s - loss: 38.230 - ETA: 27s - loss: 38.175 - ETA: 26s - loss: 38.149 - ETA: 26s - loss: 38.163 - ETA: 26s - loss: 38.171 - ETA: 26s - loss: 38.199 - ETA: 26s - loss: 38.190 - ETA: 26s - loss: 38.209 - ETA: 26s - loss: 38.215 - ETA: 26s - loss: 38.241 - ETA: 26s - loss: 38.252 - ETA: 26s - loss: 38.233 - ETA: 26s - loss: 38.233 - ETA: 26s - loss: 38.220 - ETA: 26s - loss: 38.226 - ETA: 26s - loss: 38.242 - ETA: 25s - loss: 38.235 - ETA: 25s - loss: 38.250 - ETA: 25s - loss: 38.235 - ETA: 25s - loss: 38.232 - ETA: 25s - loss: 38.262 - ETA: 25s - loss: 38.257 - ETA: 25s - loss: 38.253 - ETA: 25s - loss: 38.261 - ETA: 25s - loss: 38.278 - ETA: 25s - loss: 38.273 - ETA: 25s - loss: 38.276 - ETA: 25s - loss: 38.273 - ETA: 25s - loss: 38.295 - ETA: 25s - loss: 38.281 - ETA: 25s - loss: 38.267 - ETA: 24s - loss: 38.282 - ETA: 24s - loss: 38.288 - ETA: 24s - loss: 38.294 - ETA: 24s - loss: 38.290 - ETA: 24s - loss: 38.283 - ETA: 24s - loss: 38.279 - ETA: 24s - loss: 38.270 - ETA: 24s - loss: 38.272 - ETA: 24s - loss: 38.248 - ETA: 24s - loss: 38.268 - ETA: 24s - loss: 38.266 - ETA: 24s - loss: 38.256 - ETA: 24s - loss: 38.262 - ETA: 24s - loss: 38.254 - ETA: 24s - loss: 38.251 - ETA: 24s - loss: 38.241 - ETA: 23s - loss: 38.248 - ETA: 23s - loss: 38.250 - ETA: 23s - loss: 38.263 - ETA: 23s - loss: 38.259 - ETA: 23s - loss: 38.274 - ETA: 23s - loss: 38.274 - ETA: 23s - loss: 38.269 - ETA: 23s - loss: 38.281 - ETA: 23s - loss: 38.283 - ETA: 23s - loss: 38.288 - ETA: 23s - loss: 38.302 - ETA: 23s - loss: 38.288 - ETA: 23s - loss: 38.286 - ETA: 23s - loss: 38.283 - ETA: 22s - loss: 38.291 - ETA: 22s - loss: 38.295 - ETA: 22s - loss: 38.298 - ETA: 22s - loss: 38.296 - ETA: 22s - loss: 38.301 - ETA: 22s - loss: 38.306 - ETA: 22s - loss: 38.300 - ETA: 22s - loss: 38.317 - ETA: 22s - loss: 38.328 - ETA: 22s - loss: 38.329 - ETA: 22s - loss: 38.340 - ETA: 22s - loss: 38.337 - ETA: 22s - loss: 38.334 - ETA: 22s - loss: 38.332 - ETA: 21s - loss: 38.346 - ETA: 21s - loss: 38.344 - ETA: 21s - loss: 38.341 - ETA: 21s - loss: 38.346 - ETA: 21s - loss: 38.341 - ETA: 21s - loss: 38.341 - ETA: 21s - loss: 38.346 - ETA: 21s - loss: 38.347 - ETA: 21s - loss: 38.348 - ETA: 21s - loss: 38.350 - ETA: 21s - loss: 38.347 - ETA: 21s - loss: 38.344 - ETA: 21s - loss: 38.338 - ETA: 21s - loss: 38.333 - ETA: 21s - loss: 38.335 - ETA: 20s - loss: 38.330 - ETA: 20s - loss: 38.328 - ETA: 20s - loss: 38.332 - ETA: 20s - loss: 38.327 - ETA: 20s - loss: 38.331 - ETA: 20s - loss: 38.325 - ETA: 20s - loss: 38.322 - ETA: 20s - loss: 38.319 - ETA: 20s - loss: 38.317 - ETA: 20s - loss: 38.313 - ETA: 20s - loss: 38.312 - ETA: 20s - loss: 38.315 - ETA: 20s - loss: 38.314 - ETA: 20s - loss: 38.321 - ETA: 20s - loss: 38.323 - ETA: 19s - loss: 38.317 - ETA: 19s - loss: 38.323 - ETA: 19s - loss: 38.321 - ETA: 19s - loss: 38.330 - ETA: 19s - loss: 38.326 - ETA: 19s - loss: 38.323 - ETA: 19s - loss: 38.312 - ETA: 19s - loss: 38.318 - ETA: 19s - loss: 38.309 - ETA: 19s - loss: 38.310 - ETA: 19s - loss: 38.305 - ETA: 19s - loss: 38.310 - ETA: 19s - loss: 38.307 - ETA: 19s - loss: 38.306 - ETA: 19s - loss: 38.297 - ETA: 18s - loss: 38.301 - ETA: 18s - loss: 38.297 - ETA: 18s - loss: 38.304 - ETA: 18s - loss: 38.310 - ETA: 18s - loss: 38.308 - ETA: 18s - loss: 38.311 - ETA: 18s - loss: 38.312 - ETA: 18s - loss: 38.309 - ETA: 18s - loss: 38.310 - ETA: 18s - loss: 38.313 - ETA: 18s - loss: 38.311 - ETA: 18s - loss: 38.315 - ETA: 18s - loss: 38.308 - ETA: 18s - loss: 38.299 - ETA: 18s - loss: 38.298 - ETA: 17s - loss: 38.306 - ETA: 17s - loss: 38.301 - ETA: 17s - loss: 38.299 - ETA: 17s - loss: 38.303 - ETA: 17s - loss: 38.291 - ETA: 17s - loss: 38.294 - ETA: 17s - loss: 38.290 - ETA: 17s - loss: 38.288 - ETA: 17s - loss: 38.280 - ETA: 17s - loss: 38.290 - ETA: 17s - loss: 38.295 - ETA: 17s - loss: 38.297 - ETA: 17s - loss: 38.305 - ETA: 17s - loss: 38.305 - ETA: 17s - loss: 38.303 - ETA: 16s - loss: 38.307 - ETA: 16s - loss: 38.315 - ETA: 16s - loss: 38.318 - ETA: 16s - loss: 38.315 - ETA: 16s - loss: 38.314 - ETA: 16s - loss: 38.315 - ETA: 16s - loss: 38.315 - ETA: 16s - loss: 38.321 - ETA: 16s - loss: 38.316 - ETA: 16s - loss: 38.315 - ETA: 16s - loss: 38.309 - ETA: 16s - loss: 38.313 - ETA: 16s - loss: 38.316 - ETA: 16s - loss: 38.320 - ETA: 16s - loss: 38.323 - ETA: 15s - loss: 38.324 - ETA: 15s - loss: 38.325 - ETA: 15s - loss: 38.323 - ETA: 15s - loss: 38.328 - ETA: 15s - loss: 38.325 - ETA: 15s - loss: 38.326 - ETA: 15s - loss: 38.324 - ETA: 15s - loss: 38.322 - ETA: 15s - loss: 38.321 - ETA: 15s - loss: 38.320 - ETA: 15s - loss: 38.321 - ETA: 15s - loss: 38.318 - ETA: 15s - loss: 38.322 - ETA: 15s - loss: 38.316 - ETA: 15s - loss: 38.322 - ETA: 14s - loss: 38.324 - ETA: 14s - loss: 38.326 - ETA: 14s - loss: 38.324 - ETA: 14s - loss: 38.321 - ETA: 14s - loss: 38.322 - ETA: 14s - loss: 38.316 - ETA: 14s - loss: 38.317 - ETA: 14s - loss: 38.316 - ETA: 14s - loss: 38.319 - ETA: 14s - loss: 38.323 - ETA: 14s - loss: 38.321 - ETA: 14s - loss: 38.324 - ETA: 14s - loss: 38.332 - ETA: 14s - loss: 38.336 - ETA: 13s - loss: 38.332 - ETA: 13s - loss: 38.332 - ETA: 13s - loss: 38.332 - ETA: 13s - loss: 38.334 - ETA: 13s - loss: 38.328 - ETA: 13s - loss: 38.334 - ETA: 13s - loss: 38.337 - ETA: 13s - loss: 38.338 - ETA: 13s - loss: 38.340 - ETA: 13s - loss: 38.344 - ETA: 13s - loss: 38.342 - ETA: 13s - loss: 38.344 - ETA: 13s - loss: 38.348 - ETA: 13s - loss: 38.347 - ETA: 13s - loss: 38.349 - ETA: 12s - loss: 38.346 - ETA: 12s - loss: 38.349 - ETA: 12s - loss: 38.348 - ETA: 12s - loss: 38.352 - ETA: 12s - loss: 38.351 - ETA: 12s - loss: 38.350 - ETA: 12s - loss: 38.346 - ETA: 12s - loss: 38.349 - ETA: 12s - loss: 38.346 - ETA: 12s - loss: 38.347 - ETA: 12s - loss: 38.348 - ETA: 12s - loss: 38.346 - ETA: 12s - loss: 38.339 - ETA: 12s - loss: 38.338 - ETA: 12s - loss: 38.342 - ETA: 11s - loss: 38.338 - ETA: 11s - loss: 38.336 - ETA: 11s - loss: 38.338 - ETA: 11s - loss: 38.335 - ETA: 11s - loss: 38.337 - ETA: 11s - loss: 38.338 - ETA: 11s - loss: 38.331 - ETA: 11s - loss: 38.330 - ETA: 11s - loss: 38.329 - ETA: 11s - loss: 38.332 - ETA: 11s - loss: 38.329 - ETA: 11s - loss: 38.329 - ETA: 11s - loss: 38.334 - ETA: 11s - loss: 38.330 - ETA: 11s - loss: 38.326 - ETA: 10s - loss: 38.330 - ETA: 10s - loss: 38.330 - ETA: 10s - loss: 38.330 - ETA: 10s - loss: 38.332 - ETA: 10s - loss: 38.333 - ETA: 10s - loss: 38.342 - ETA: 10s - loss: 38.346 - ETA: 10s - loss: 38.349 - ETA: 10s - loss: 38.343 - ETA: 10s - loss: 38.344 - ETA: 10s - loss: 38.338 - ETA: 10s - loss: 38.342 - ETA: 10s - loss: 38.344 - ETA: 10s - loss: 38.345 - ETA: 10s - loss: 38.350 - ETA: 9s - loss: 38.348 - ETA: 9s - loss: 38.34 - ETA: 9s - loss: 38.34 - ETA: 9s - loss: 38.34 - ETA: 9s - loss: 38.34 - ETA: 9s - loss: 38.34 - ETA: 9s - loss: 38.34 - ETA: 9s - loss: 38.34 - ETA: 9s - loss: 38.34 - ETA: 9s - loss: 38.34 - ETA: 9s - loss: 38.34 - ETA: 9s - loss: 38.34 - ETA: 9s - loss: 38.34 - ETA: 9s - loss: 38.34 - ETA: 9s - loss: 38.35 - ETA: 8s - loss: 38.35 - ETA: 8s - loss: 38.35 - ETA: 8s - loss: 38.35 - ETA: 8s - loss: 38.35 - ETA: 8s - loss: 38.35 - ETA: 8s - loss: 38.35 - ETA: 8s - loss: 38.35 - ETA: 8s - loss: 38.35 - ETA: 8s - loss: 38.35 - ETA: 8s - loss: 38.35 - ETA: 8s - loss: 38.35 - ETA: 8s - loss: 38.35 - ETA: 8s - loss: 38.35 - ETA: 8s - loss: 38.35 - ETA: 8s - loss: 38.35 - ETA: 7s - loss: 38.35 - ETA: 7s - loss: 38.36 - ETA: 7s - loss: 38.36 - ETA: 7s - loss: 38.37 - ETA: 7s - loss: 38.37 - ETA: 7s - loss: 38.36 - ETA: 7s - loss: 38.37 - ETA: 7s - loss: 38.37 - ETA: 7s - loss: 38.37 - ETA: 7s - loss: 38.37 - ETA: 7s - loss: 38.37 - ETA: 7s - loss: 38.37 - ETA: 7s - loss: 38.37 - ETA: 7s - loss: 38.3736"
     ]
    },
    {
     "name": "stdout",
     "output_type": "stream",
     "text": [
      "162000/162000 [==============================] - ETA: 7s - loss: 38.36 - ETA: 6s - loss: 38.36 - ETA: 6s - loss: 38.37 - ETA: 6s - loss: 38.37 - ETA: 6s - loss: 38.36 - ETA: 6s - loss: 38.37 - ETA: 6s - loss: 38.36 - ETA: 6s - loss: 38.37 - ETA: 6s - loss: 38.37 - ETA: 6s - loss: 38.36 - ETA: 6s - loss: 38.37 - ETA: 6s - loss: 38.37 - ETA: 6s - loss: 38.37 - ETA: 6s - loss: 38.37 - ETA: 6s - loss: 38.37 - ETA: 6s - loss: 38.37 - ETA: 5s - loss: 38.37 - ETA: 5s - loss: 38.37 - ETA: 5s - loss: 38.37 - ETA: 5s - loss: 38.37 - ETA: 5s - loss: 38.37 - ETA: 5s - loss: 38.37 - ETA: 5s - loss: 38.37 - ETA: 5s - loss: 38.37 - ETA: 5s - loss: 38.37 - ETA: 5s - loss: 38.37 - ETA: 5s - loss: 38.37 - ETA: 5s - loss: 38.37 - ETA: 5s - loss: 38.37 - ETA: 5s - loss: 38.37 - ETA: 5s - loss: 38.38 - ETA: 4s - loss: 38.37 - ETA: 4s - loss: 38.38 - ETA: 4s - loss: 38.37 - ETA: 4s - loss: 38.38 - ETA: 4s - loss: 38.38 - ETA: 4s - loss: 38.38 - ETA: 4s - loss: 38.38 - ETA: 4s - loss: 38.38 - ETA: 4s - loss: 38.38 - ETA: 4s - loss: 38.38 - ETA: 4s - loss: 38.38 - ETA: 4s - loss: 38.38 - ETA: 4s - loss: 38.38 - ETA: 4s - loss: 38.38 - ETA: 3s - loss: 38.38 - ETA: 3s - loss: 38.38 - ETA: 3s - loss: 38.38 - ETA: 3s - loss: 38.38 - ETA: 3s - loss: 38.38 - ETA: 3s - loss: 38.38 - ETA: 3s - loss: 38.38 - ETA: 3s - loss: 38.38 - ETA: 3s - loss: 38.38 - ETA: 3s - loss: 38.38 - ETA: 3s - loss: 38.38 - ETA: 3s - loss: 38.38 - ETA: 3s - loss: 38.38 - ETA: 3s - loss: 38.38 - ETA: 3s - loss: 38.38 - ETA: 2s - loss: 38.38 - ETA: 2s - loss: 38.38 - ETA: 2s - loss: 38.38 - ETA: 2s - loss: 38.38 - ETA: 2s - loss: 38.38 - ETA: 2s - loss: 38.38 - ETA: 2s - loss: 38.38 - ETA: 2s - loss: 38.37 - ETA: 2s - loss: 38.37 - ETA: 2s - loss: 38.37 - ETA: 2s - loss: 38.38 - ETA: 2s - loss: 38.38 - ETA: 2s - loss: 38.37 - ETA: 2s - loss: 38.37 - ETA: 2s - loss: 38.37 - ETA: 1s - loss: 38.37 - ETA: 1s - loss: 38.37 - ETA: 1s - loss: 38.37 - ETA: 1s - loss: 38.37 - ETA: 1s - loss: 38.38 - ETA: 1s - loss: 38.37 - ETA: 1s - loss: 38.38 - ETA: 1s - loss: 38.37 - ETA: 1s - loss: 38.38 - ETA: 1s - loss: 38.38 - ETA: 1s - loss: 38.38 - ETA: 1s - loss: 38.38 - ETA: 1s - loss: 38.38 - ETA: 1s - loss: 38.38 - ETA: 1s - loss: 38.38 - ETA: 0s - loss: 38.38 - ETA: 0s - loss: 38.38 - ETA: 0s - loss: 38.38 - ETA: 0s - loss: 38.38 - ETA: 0s - loss: 38.38 - ETA: 0s - loss: 38.38 - ETA: 0s - loss: 38.38 - ETA: 0s - loss: 38.38 - ETA: 0s - loss: 38.38 - ETA: 0s - loss: 38.38 - ETA: 0s - loss: 38.38 - ETA: 0s - loss: 38.38 - ETA: 0s - loss: 38.38 - ETA: 0s - loss: 38.38 - 30s 184us/step - loss: 38.3774 - val_loss: 38.3155\n",
      "Epoch 9/20\n",
      "119040/162000 [=====================>........] - ETA: 26s - loss: 37.818 - ETA: 26s - loss: 37.746 - ETA: 28s - loss: 37.823 - ETA: 27s - loss: 37.850 - ETA: 28s - loss: 37.940 - ETA: 28s - loss: 37.978 - ETA: 27s - loss: 37.892 - ETA: 28s - loss: 37.761 - ETA: 27s - loss: 37.890 - ETA: 27s - loss: 37.876 - ETA: 28s - loss: 37.841 - ETA: 27s - loss: 37.756 - ETA: 27s - loss: 37.841 - ETA: 27s - loss: 37.875 - ETA: 27s - loss: 37.948 - ETA: 27s - loss: 37.924 - ETA: 27s - loss: 37.912 - ETA: 27s - loss: 37.933 - ETA: 27s - loss: 37.884 - ETA: 27s - loss: 37.910 - ETA: 27s - loss: 37.883 - ETA: 27s - loss: 37.920 - ETA: 27s - loss: 37.928 - ETA: 27s - loss: 37.886 - ETA: 27s - loss: 37.865 - ETA: 27s - loss: 37.922 - ETA: 27s - loss: 37.975 - ETA: 27s - loss: 37.997 - ETA: 27s - loss: 37.997 - ETA: 26s - loss: 37.967 - ETA: 26s - loss: 37.977 - ETA: 26s - loss: 37.957 - ETA: 26s - loss: 37.987 - ETA: 26s - loss: 37.966 - ETA: 26s - loss: 37.940 - ETA: 26s - loss: 37.971 - ETA: 26s - loss: 37.970 - ETA: 26s - loss: 38.004 - ETA: 26s - loss: 38.047 - ETA: 26s - loss: 38.122 - ETA: 26s - loss: 38.135 - ETA: 26s - loss: 38.163 - ETA: 26s - loss: 38.173 - ETA: 25s - loss: 38.203 - ETA: 25s - loss: 38.206 - ETA: 25s - loss: 38.177 - ETA: 25s - loss: 38.194 - ETA: 25s - loss: 38.204 - ETA: 25s - loss: 38.206 - ETA: 25s - loss: 38.196 - ETA: 25s - loss: 38.195 - ETA: 25s - loss: 38.172 - ETA: 25s - loss: 38.174 - ETA: 25s - loss: 38.165 - ETA: 25s - loss: 38.166 - ETA: 25s - loss: 38.199 - ETA: 25s - loss: 38.208 - ETA: 25s - loss: 38.191 - ETA: 24s - loss: 38.195 - ETA: 24s - loss: 38.192 - ETA: 24s - loss: 38.174 - ETA: 24s - loss: 38.173 - ETA: 24s - loss: 38.169 - ETA: 24s - loss: 38.173 - ETA: 24s - loss: 38.200 - ETA: 24s - loss: 38.186 - ETA: 24s - loss: 38.186 - ETA: 24s - loss: 38.200 - ETA: 24s - loss: 38.220 - ETA: 24s - loss: 38.239 - ETA: 24s - loss: 38.219 - ETA: 24s - loss: 38.213 - ETA: 24s - loss: 38.212 - ETA: 24s - loss: 38.226 - ETA: 23s - loss: 38.216 - ETA: 23s - loss: 38.187 - ETA: 23s - loss: 38.200 - ETA: 23s - loss: 38.215 - ETA: 23s - loss: 38.227 - ETA: 23s - loss: 38.225 - ETA: 23s - loss: 38.226 - ETA: 23s - loss: 38.252 - ETA: 23s - loss: 38.280 - ETA: 23s - loss: 38.275 - ETA: 23s - loss: 38.292 - ETA: 23s - loss: 38.290 - ETA: 23s - loss: 38.316 - ETA: 23s - loss: 38.315 - ETA: 23s - loss: 38.301 - ETA: 22s - loss: 38.300 - ETA: 22s - loss: 38.318 - ETA: 22s - loss: 38.334 - ETA: 22s - loss: 38.335 - ETA: 22s - loss: 38.337 - ETA: 22s - loss: 38.332 - ETA: 22s - loss: 38.345 - ETA: 22s - loss: 38.339 - ETA: 22s - loss: 38.344 - ETA: 22s - loss: 38.340 - ETA: 22s - loss: 38.346 - ETA: 22s - loss: 38.356 - ETA: 22s - loss: 38.354 - ETA: 22s - loss: 38.358 - ETA: 22s - loss: 38.356 - ETA: 22s - loss: 38.369 - ETA: 21s - loss: 38.379 - ETA: 21s - loss: 38.379 - ETA: 21s - loss: 38.371 - ETA: 21s - loss: 38.362 - ETA: 21s - loss: 38.363 - ETA: 21s - loss: 38.357 - ETA: 21s - loss: 38.364 - ETA: 21s - loss: 38.366 - ETA: 21s - loss: 38.369 - ETA: 21s - loss: 38.374 - ETA: 21s - loss: 38.383 - ETA: 21s - loss: 38.396 - ETA: 21s - loss: 38.410 - ETA: 21s - loss: 38.408 - ETA: 20s - loss: 38.407 - ETA: 20s - loss: 38.398 - ETA: 20s - loss: 38.391 - ETA: 20s - loss: 38.388 - ETA: 20s - loss: 38.389 - ETA: 20s - loss: 38.398 - ETA: 20s - loss: 38.406 - ETA: 20s - loss: 38.406 - ETA: 20s - loss: 38.407 - ETA: 20s - loss: 38.410 - ETA: 20s - loss: 38.409 - ETA: 20s - loss: 38.415 - ETA: 20s - loss: 38.427 - ETA: 20s - loss: 38.421 - ETA: 19s - loss: 38.422 - ETA: 19s - loss: 38.424 - ETA: 19s - loss: 38.421 - ETA: 19s - loss: 38.419 - ETA: 19s - loss: 38.414 - ETA: 19s - loss: 38.422 - ETA: 19s - loss: 38.420 - ETA: 19s - loss: 38.423 - ETA: 19s - loss: 38.422 - ETA: 19s - loss: 38.430 - ETA: 19s - loss: 38.433 - ETA: 19s - loss: 38.436 - ETA: 19s - loss: 38.440 - ETA: 19s - loss: 38.440 - ETA: 18s - loss: 38.437 - ETA: 18s - loss: 38.431 - ETA: 18s - loss: 38.426 - ETA: 18s - loss: 38.422 - ETA: 18s - loss: 38.423 - ETA: 18s - loss: 38.420 - ETA: 18s - loss: 38.418 - ETA: 18s - loss: 38.416 - ETA: 18s - loss: 38.418 - ETA: 18s - loss: 38.422 - ETA: 18s - loss: 38.422 - ETA: 18s - loss: 38.422 - ETA: 18s - loss: 38.427 - ETA: 18s - loss: 38.425 - ETA: 17s - loss: 38.430 - ETA: 17s - loss: 38.427 - ETA: 17s - loss: 38.426 - ETA: 17s - loss: 38.422 - ETA: 17s - loss: 38.424 - ETA: 17s - loss: 38.429 - ETA: 17s - loss: 38.432 - ETA: 17s - loss: 38.436 - ETA: 17s - loss: 38.435 - ETA: 17s - loss: 38.435 - ETA: 17s - loss: 38.438 - ETA: 17s - loss: 38.436 - ETA: 17s - loss: 38.440 - ETA: 17s - loss: 38.440 - ETA: 17s - loss: 38.439 - ETA: 16s - loss: 38.439 - ETA: 16s - loss: 38.439 - ETA: 16s - loss: 38.434 - ETA: 16s - loss: 38.432 - ETA: 16s - loss: 38.433 - ETA: 16s - loss: 38.432 - ETA: 16s - loss: 38.427 - ETA: 16s - loss: 38.422 - ETA: 16s - loss: 38.424 - ETA: 16s - loss: 38.426 - ETA: 16s - loss: 38.426 - ETA: 16s - loss: 38.426 - ETA: 16s - loss: 38.427 - ETA: 16s - loss: 38.425 - ETA: 16s - loss: 38.423 - ETA: 15s - loss: 38.425 - ETA: 15s - loss: 38.424 - ETA: 15s - loss: 38.424 - ETA: 15s - loss: 38.418 - ETA: 15s - loss: 38.418 - ETA: 15s - loss: 38.420 - ETA: 15s - loss: 38.426 - ETA: 15s - loss: 38.430 - ETA: 15s - loss: 38.430 - ETA: 15s - loss: 38.430 - ETA: 15s - loss: 38.425 - ETA: 15s - loss: 38.424 - ETA: 15s - loss: 38.431 - ETA: 15s - loss: 38.432 - ETA: 14s - loss: 38.433 - ETA: 14s - loss: 38.431 - ETA: 14s - loss: 38.433 - ETA: 14s - loss: 38.430 - ETA: 14s - loss: 38.431 - ETA: 14s - loss: 38.432 - ETA: 14s - loss: 38.433 - ETA: 14s - loss: 38.430 - ETA: 14s - loss: 38.426 - ETA: 14s - loss: 38.423 - ETA: 14s - loss: 38.422 - ETA: 14s - loss: 38.421 - ETA: 14s - loss: 38.430 - ETA: 14s - loss: 38.433 - ETA: 13s - loss: 38.431 - ETA: 13s - loss: 38.427 - ETA: 13s - loss: 38.429 - ETA: 13s - loss: 38.426 - ETA: 13s - loss: 38.425 - ETA: 13s - loss: 38.424 - ETA: 13s - loss: 38.425 - ETA: 13s - loss: 38.427 - ETA: 13s - loss: 38.423 - ETA: 13s - loss: 38.424 - ETA: 13s - loss: 38.422 - ETA: 13s - loss: 38.424 - ETA: 13s - loss: 38.423 - ETA: 13s - loss: 38.424 - ETA: 13s - loss: 38.422 - ETA: 12s - loss: 38.421 - ETA: 12s - loss: 38.421 - ETA: 12s - loss: 38.420 - ETA: 12s - loss: 38.419 - ETA: 12s - loss: 38.420 - ETA: 12s - loss: 38.420 - ETA: 12s - loss: 38.420 - ETA: 12s - loss: 38.422 - ETA: 12s - loss: 38.421 - ETA: 12s - loss: 38.421 - ETA: 12s - loss: 38.419 - ETA: 12s - loss: 38.418 - ETA: 12s - loss: 38.417 - ETA: 12s - loss: 38.412 - ETA: 11s - loss: 38.411 - ETA: 11s - loss: 38.414 - ETA: 11s - loss: 38.413 - ETA: 11s - loss: 38.415 - ETA: 11s - loss: 38.417 - ETA: 11s - loss: 38.418 - ETA: 11s - loss: 38.417 - ETA: 11s - loss: 38.413 - ETA: 11s - loss: 38.411 - ETA: 11s - loss: 38.413 - ETA: 11s - loss: 38.418 - ETA: 11s - loss: 38.415 - ETA: 11s - loss: 38.413 - ETA: 11s - loss: 38.414 - ETA: 11s - loss: 38.418 - ETA: 10s - loss: 38.413 - ETA: 10s - loss: 38.412 - ETA: 10s - loss: 38.414 - ETA: 10s - loss: 38.410 - ETA: 10s - loss: 38.407 - ETA: 10s - loss: 38.410 - ETA: 10s - loss: 38.412 - ETA: 10s - loss: 38.413 - ETA: 10s - loss: 38.414 - ETA: 10s - loss: 38.412 - ETA: 10s - loss: 38.409 - ETA: 10s - loss: 38.405 - ETA: 10s - loss: 38.408 - ETA: 10s - loss: 38.406 - ETA: 9s - loss: 38.406 - ETA: 9s - loss: 38.41 - ETA: 9s - loss: 38.41 - ETA: 9s - loss: 38.41 - ETA: 9s - loss: 38.41 - ETA: 9s - loss: 38.41 - ETA: 9s - loss: 38.41 - ETA: 9s - loss: 38.41 - ETA: 9s - loss: 38.41 - ETA: 9s - loss: 38.41 - ETA: 9s - loss: 38.42 - ETA: 9s - loss: 38.42 - ETA: 9s - loss: 38.43 - ETA: 9s - loss: 38.43 - ETA: 8s - loss: 38.42 - ETA: 8s - loss: 38.43 - ETA: 8s - loss: 38.43 - ETA: 8s - loss: 38.43 - ETA: 8s - loss: 38.43 - ETA: 8s - loss: 38.43 - ETA: 8s - loss: 38.43 - ETA: 8s - loss: 38.43 - ETA: 8s - loss: 38.43 - ETA: 8s - loss: 38.43 - ETA: 8s - loss: 38.43 - ETA: 8s - loss: 38.43 - ETA: 8s - loss: 38.43 - ETA: 8s - loss: 38.43 - ETA: 7s - loss: 38.42 - ETA: 7s - loss: 38.42 - ETA: 7s - loss: 38.42 - ETA: 7s - loss: 38.42 - ETA: 7s - loss: 38.4263"
     ]
    },
    {
     "ename": "KeyboardInterrupt",
     "evalue": "",
     "output_type": "error",
     "traceback": [
      "\u001b[1;31m---------------------------------------------------------------------------\u001b[0m",
      "\u001b[1;31mKeyboardInterrupt\u001b[0m                         Traceback (most recent call last)",
      "\u001b[1;32m<ipython-input-12-973b46b39411>\u001b[0m in \u001b[0;36m<module>\u001b[1;34m()\u001b[0m\n\u001b[0;32m      4\u001b[0m     \u001b[0mbatch_size\u001b[0m \u001b[1;33m=\u001b[0m \u001b[1;36m384\u001b[0m\u001b[1;33m,\u001b[0m\u001b[1;33m\u001b[0m\u001b[0m\n\u001b[0;32m      5\u001b[0m     \u001b[0mepochs\u001b[0m \u001b[1;33m=\u001b[0m \u001b[1;36m20\u001b[0m\u001b[1;33m,\u001b[0m\u001b[1;33m\u001b[0m\u001b[0m\n\u001b[1;32m----> 6\u001b[1;33m     \u001b[0mvalidation_split\u001b[0m\u001b[1;33m=\u001b[0m\u001b[1;36m0.1\u001b[0m\u001b[1;33m\u001b[0m\u001b[0m\n\u001b[0m\u001b[0;32m      7\u001b[0m )\n",
      "\u001b[1;32mc:\\users\\guillaume\\anaconda3\\lib\\site-packages\\tensorflow\\python\\keras\\engine\\training.py\u001b[0m in \u001b[0;36mfit\u001b[1;34m(self, x, y, batch_size, epochs, verbose, callbacks, validation_split, validation_data, shuffle, class_weight, sample_weight, initial_epoch, steps_per_epoch, validation_steps, max_queue_size, workers, use_multiprocessing, **kwargs)\u001b[0m\n\u001b[0;32m   1637\u001b[0m           \u001b[0minitial_epoch\u001b[0m\u001b[1;33m=\u001b[0m\u001b[0minitial_epoch\u001b[0m\u001b[1;33m,\u001b[0m\u001b[1;33m\u001b[0m\u001b[0m\n\u001b[0;32m   1638\u001b[0m           \u001b[0msteps_per_epoch\u001b[0m\u001b[1;33m=\u001b[0m\u001b[0msteps_per_epoch\u001b[0m\u001b[1;33m,\u001b[0m\u001b[1;33m\u001b[0m\u001b[0m\n\u001b[1;32m-> 1639\u001b[1;33m           validation_steps=validation_steps)\n\u001b[0m\u001b[0;32m   1640\u001b[0m \u001b[1;33m\u001b[0m\u001b[0m\n\u001b[0;32m   1641\u001b[0m   def evaluate(self,\n",
      "\u001b[1;32mc:\\users\\guillaume\\anaconda3\\lib\\site-packages\\tensorflow\\python\\keras\\engine\\training_arrays.py\u001b[0m in \u001b[0;36mfit_loop\u001b[1;34m(model, inputs, targets, sample_weights, batch_size, epochs, verbose, callbacks, val_inputs, val_targets, val_sample_weights, shuffle, initial_epoch, steps_per_epoch, validation_steps)\u001b[0m\n\u001b[0;32m    213\u001b[0m           \u001b[0mins_batch\u001b[0m\u001b[1;33m[\u001b[0m\u001b[0mi\u001b[0m\u001b[1;33m]\u001b[0m \u001b[1;33m=\u001b[0m \u001b[0mins_batch\u001b[0m\u001b[1;33m[\u001b[0m\u001b[0mi\u001b[0m\u001b[1;33m]\u001b[0m\u001b[1;33m.\u001b[0m\u001b[0mtoarray\u001b[0m\u001b[1;33m(\u001b[0m\u001b[1;33m)\u001b[0m\u001b[1;33m\u001b[0m\u001b[0m\n\u001b[0;32m    214\u001b[0m \u001b[1;33m\u001b[0m\u001b[0m\n\u001b[1;32m--> 215\u001b[1;33m         \u001b[0mouts\u001b[0m \u001b[1;33m=\u001b[0m \u001b[0mf\u001b[0m\u001b[1;33m(\u001b[0m\u001b[0mins_batch\u001b[0m\u001b[1;33m)\u001b[0m\u001b[1;33m\u001b[0m\u001b[0m\n\u001b[0m\u001b[0;32m    216\u001b[0m         \u001b[1;32mif\u001b[0m \u001b[1;32mnot\u001b[0m \u001b[0misinstance\u001b[0m\u001b[1;33m(\u001b[0m\u001b[0mouts\u001b[0m\u001b[1;33m,\u001b[0m \u001b[0mlist\u001b[0m\u001b[1;33m)\u001b[0m\u001b[1;33m:\u001b[0m\u001b[1;33m\u001b[0m\u001b[0m\n\u001b[0;32m    217\u001b[0m           \u001b[0mouts\u001b[0m \u001b[1;33m=\u001b[0m \u001b[1;33m[\u001b[0m\u001b[0mouts\u001b[0m\u001b[1;33m]\u001b[0m\u001b[1;33m\u001b[0m\u001b[0m\n",
      "\u001b[1;32mc:\\users\\guillaume\\anaconda3\\lib\\site-packages\\tensorflow\\python\\keras\\backend.py\u001b[0m in \u001b[0;36m__call__\u001b[1;34m(self, inputs)\u001b[0m\n\u001b[0;32m   2984\u001b[0m \u001b[1;33m\u001b[0m\u001b[0m\n\u001b[0;32m   2985\u001b[0m     fetched = self._callable_fn(*array_vals,\n\u001b[1;32m-> 2986\u001b[1;33m                                 run_metadata=self.run_metadata)\n\u001b[0m\u001b[0;32m   2987\u001b[0m     \u001b[0mself\u001b[0m\u001b[1;33m.\u001b[0m\u001b[0m_call_fetch_callbacks\u001b[0m\u001b[1;33m(\u001b[0m\u001b[0mfetched\u001b[0m\u001b[1;33m[\u001b[0m\u001b[1;33m-\u001b[0m\u001b[0mlen\u001b[0m\u001b[1;33m(\u001b[0m\u001b[0mself\u001b[0m\u001b[1;33m.\u001b[0m\u001b[0m_fetches\u001b[0m\u001b[1;33m)\u001b[0m\u001b[1;33m:\u001b[0m\u001b[1;33m]\u001b[0m\u001b[1;33m)\u001b[0m\u001b[1;33m\u001b[0m\u001b[0m\n\u001b[0;32m   2988\u001b[0m     \u001b[1;32mreturn\u001b[0m \u001b[0mfetched\u001b[0m\u001b[1;33m[\u001b[0m\u001b[1;33m:\u001b[0m\u001b[0mlen\u001b[0m\u001b[1;33m(\u001b[0m\u001b[0mself\u001b[0m\u001b[1;33m.\u001b[0m\u001b[0moutputs\u001b[0m\u001b[1;33m)\u001b[0m\u001b[1;33m]\u001b[0m\u001b[1;33m\u001b[0m\u001b[0m\n",
      "\u001b[1;32mc:\\users\\guillaume\\anaconda3\\lib\\site-packages\\tensorflow\\python\\client\\session.py\u001b[0m in \u001b[0;36m__call__\u001b[1;34m(self, *args, **kwargs)\u001b[0m\n\u001b[0;32m   1437\u001b[0m           ret = tf_session.TF_SessionRunCallable(\n\u001b[0;32m   1438\u001b[0m               \u001b[0mself\u001b[0m\u001b[1;33m.\u001b[0m\u001b[0m_session\u001b[0m\u001b[1;33m.\u001b[0m\u001b[0m_session\u001b[0m\u001b[1;33m,\u001b[0m \u001b[0mself\u001b[0m\u001b[1;33m.\u001b[0m\u001b[0m_handle\u001b[0m\u001b[1;33m,\u001b[0m \u001b[0margs\u001b[0m\u001b[1;33m,\u001b[0m \u001b[0mstatus\u001b[0m\u001b[1;33m,\u001b[0m\u001b[1;33m\u001b[0m\u001b[0m\n\u001b[1;32m-> 1439\u001b[1;33m               run_metadata_ptr)\n\u001b[0m\u001b[0;32m   1440\u001b[0m         \u001b[1;32mif\u001b[0m \u001b[0mrun_metadata\u001b[0m\u001b[1;33m:\u001b[0m\u001b[1;33m\u001b[0m\u001b[0m\n\u001b[0;32m   1441\u001b[0m           \u001b[0mproto_data\u001b[0m \u001b[1;33m=\u001b[0m \u001b[0mtf_session\u001b[0m\u001b[1;33m.\u001b[0m\u001b[0mTF_GetBuffer\u001b[0m\u001b[1;33m(\u001b[0m\u001b[0mrun_metadata_ptr\u001b[0m\u001b[1;33m)\u001b[0m\u001b[1;33m\u001b[0m\u001b[0m\n",
      "\u001b[1;31mKeyboardInterrupt\u001b[0m: "
     ]
    }
   ],
   "source": [
    "model.fit(\n",
    "    triplets_exp,\n",
    "    np.zeros((len(triplets_exp),2)),\n",
    "    batch_size = 384,\n",
    "    epochs = 20,\n",
    "    validation_split=0.1\n",
    ")"
   ]
  },
  {
   "cell_type": "markdown",
   "metadata": {},
   "source": [
    "### Evaluate it"
   ]
  },
  {
   "cell_type": "code",
   "execution_count": 75,
   "metadata": {},
   "outputs": [],
   "source": [
    "n = 6000\n",
    "\n",
    "triplets_test = triplets_exp[:n]\n",
    "emb = model.predict(triplets_test)"
   ]
  },
  {
   "cell_type": "code",
   "execution_count": 76,
   "metadata": {},
   "outputs": [
    {
     "name": "stdout",
     "output_type": "stream",
     "text": [
      "0.995\n"
     ]
    }
   ],
   "source": [
    "a = emb[0::3]\n",
    "p = emb[1::3]\n",
    "n = emb[2::3]\n",
    "\n",
    "# Computes angles between pairs\n",
    "cos1 = np.sum(a*p,1)\n",
    "cos2 = np.sum(a*n,1)\n",
    "less = np.less(cos2,cos1)\n",
    "acc = np.sum(less.astype(int))/len(less)\n",
    "print(acc)"
   ]
  },
  {
   "cell_type": "code",
   "execution_count": 77,
   "metadata": {
    "scrolled": true
   },
   "outputs": [
    {
     "name": "stdout",
     "output_type": "stream",
     "text": [
      "10\n"
     ]
    },
    {
     "data": {
      "image/png": "[encoded data removed]",
      "text/plain": [
       "<Figure size 504x1080 with 15 Axes>"
      ]
     },
     "metadata": {},
     "output_type": "display_data"
    }
   ],
   "source": [
    "# Display the wrong examples\n",
    "idx_wrong = np.logical_not(less)\n",
    "idx_wrong = np.stack([idx_wrong]*3, axis = -1)\n",
    "idx_wrong = np.reshape(idx_wrong, [-1])\n",
    "\n",
    "wrong = triplets_test[idx_wrong]\n",
    "wrong = np.squeeze(wrong)\n",
    "print(len(wrong)//3)\n",
    "s = 5\n",
    "n = 5\n",
    "e = n + s\n",
    "plt.figure(figsize=(7,3*n))\n",
    "for i in range(s,e):\n",
    "    for j in range(3):\n",
    "        plt.subplot(n,3,(i-s)*3+1+j)\n",
    "        plt.imshow(wrong[i*3+j])"
   ]
  },
  {
   "cell_type": "code",
   "execution_count": 30,
   "metadata": {},
   "outputs": [
    {
     "name": "stdout",
     "output_type": "stream",
     "text": [
      "0.6205\n"
     ]
    }
   ],
   "source": [
    "a = emb[0::3]\n",
    "p = emb[1::3]\n",
    "n = emb[2::3]\n",
    "\n",
    "# Computes distance between pairs\n",
    "dist1 = np.sum(np.square(a-p),1)\n",
    "dist2 = np.sum(np.square(a-n),1)\n",
    "less = np.less(dist1,dist2)\n",
    "acc = np.sum(less.astype(int))/len(less)\n",
    "print(acc)"
   ]
  },
  {
   "cell_type": "code",
   "execution_count": 66,
   "metadata": {},
   "outputs": [
    {
     "data": {
      "text/plain": [
       "[<tensorflow.python.keras.layers.convolutional.Conv2D at 0x222ea17d588>,\n",
       " <tensorflow.python.keras.layers.convolutional.Conv2D at 0x222ea1dd780>,\n",
       " <tensorflow.python.keras.layers.pooling.MaxPooling2D at 0x222ea1f1278>,\n",
       " <tensorflow.python.keras.layers.core.Dropout at 0x222ea1dda20>,\n",
       " <tensorflow.python.keras.layers.core.Flatten at 0x222ea216b38>,\n",
       " <tensorflow.python.keras.layers.core.Dense at 0x222ea216748>,\n",
       " <tensorflow.python.keras.layers.core.Dropout at 0x222ea22c8d0>,\n",
       " <tensorflow.python.keras.layers.core.Dense at 0x222ea1ddb38>,\n",
       " <__main__.Cosine at 0x222ea2724a8>]"
      ]
     },
     "execution_count": 66,
     "metadata": {},
     "output_type": "execute_result"
    }
   ],
   "source": [
    "model.layers"
   ]
  },
  {
   "cell_type": "code",
   "execution_count": 78,
   "metadata": {},
   "outputs": [],
   "source": [
    "mod = tf.keras.Model(model.inputs, model.layers[-2].output)\n",
    "predict = mod.predict(x_train)"
   ]
  },
  {
   "cell_type": "code",
   "execution_count": 79,
   "metadata": {},
   "outputs": [
    {
     "name": "stdout",
     "output_type": "stream",
     "text": [
      "[[ -3.46599841  12.89652997]\n",
      " [  4.4826858  -13.52432727]\n",
      " [ 11.80554607  -9.21842322]\n",
      " [-21.84814866   0.54798124]\n",
      " [ 18.95008703  -0.95030526]\n",
      " [-10.29194869   8.05386218]\n",
      " [-11.56619133  -8.3117071 ]\n",
      " [  6.09481662  14.81631112]\n",
      " [ -3.51327994 -10.46853664]\n",
      " [  6.75712546   4.25543613]]\n",
      "[65.55563664 66.50870237 72.06145722 88.73134652 82.40704833 65.28270348\n",
      " 67.0560509  74.58631191 60.96426071 55.42522948]\n"
     ]
    },
    {
     "data": {
      "text/plain": [
       "<matplotlib.legend.Legend at 0x222ec069ac8>"
      ]
     },
     "execution_count": 79,
     "metadata": {},
     "output_type": "execute_result"
    },
    {
     "data": {
      "image/png": "[encoded data removed]",
      "text/plain": [
       "<Figure size 432x288 with 1 Axes>"
      ]
     },
     "metadata": {},
     "output_type": "display_data"
    }
   ],
   "source": [
    "mean = np.zeros((10,2))\n",
    "nb = np.zeros(10)\n",
    "y_int = y_train\n",
    "# y_train = y_train.astype(int)\n",
    "# y_int = np.empty(len(y_train),dtype=int)\n",
    "# for i in range(len(y_train)):\n",
    "#     idx = 0\n",
    "#     while (y_train[i][idx]!=1):\n",
    "#         idx += 1\n",
    "#     y_int[i] = int(idx)\n",
    "\n",
    "for i in range(len(predict)):\n",
    "    mean[y_int[i]] += predict[i]\n",
    "    nb[y_int[i]] += 1\n",
    "\n",
    "for i in range(len(mean)):\n",
    "    mean[i] /= nb[i]\n",
    "print(mean)\n",
    "\n",
    "std_vect = np.zeros((10,2)) + mean\n",
    "std = np.zeros(10)\n",
    "for i in range(len(predict)):\n",
    "    std[y_int[i]] += np.sum(np.square(predict[i]-mean))\n",
    "\n",
    "for i in range(len(mean)):\n",
    "    std[i] /= nb[i]\n",
    "print(np.sqrt(std))\n",
    "\n",
    "plt.axis('equal')\n",
    "n = 10\n",
    "for i in range(n):\n",
    "    y = predict[np.equal(i,y_int)]\n",
    "    #y = y / np.linalg.norm(y, axis=-1,keepdims=True)\n",
    "    plt.plot(y[:,0],y[:,1],'o',label=str(i))\n",
    "#mean = mean/np.linalg.norm(mean, axis=-1,keepdims=True)\n",
    "plt.plot(mean[:n,0],mean[:n,1],'ko')\n",
    "plt.legend()"
   ]
  },
  {
   "cell_type": "code",
   "execution_count": null,
   "metadata": {},
   "outputs": [],
   "source": []
  }
 ],
 "metadata": {
  "kernelspec": {
   "display_name": "Python 3",
   "language": "python",
   "name": "python3"
  },
  "language_info": {
   "codemirror_mode": {
    "name": "ipython",
    "version": 3
   },
   "file_extension": ".py",
   "mimetype": "text/x-python",
   "name": "python",
   "nbconvert_exporter": "python",
   "pygments_lexer": "ipython3",
   "version": "3.6.6"
  }
 },
 "nbformat": 4,
 "nbformat_minor": 2
}
