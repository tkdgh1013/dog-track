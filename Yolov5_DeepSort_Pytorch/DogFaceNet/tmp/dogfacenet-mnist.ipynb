{
 "cells": [
  {
   "cell_type": "markdown",
   "metadata": {},
   "source": [
    "# DogFaceNet: test file with MNIST dataset"
   ]
  },
  {
   "cell_type": "markdown",
   "metadata": {},
   "source": [
    "### Imports"
   ]
  },
  {
   "cell_type": "code",
   "execution_count": 1,
   "metadata": {},
   "outputs": [],
   "source": [
    "from __future__ import absolute_import\n",
    "from __future__ import division\n",
    "from __future__ import print_function\n",
    "\n",
    "import tensorflow as tf\n",
    "\n",
    "import os\n",
    "import numpy as np\n",
    "import skimage as sk\n",
    "import matplotlib.pyplot as plt\n",
    "from tqdm import tqdm_notebook"
   ]
  },
  {
   "cell_type": "code",
   "execution_count": 2,
   "metadata": {
    "scrolled": true
   },
   "outputs": [
    {
     "name": "stderr",
     "output_type": "stream",
     "text": [
      "Using TensorFlow backend.\n"
     ]
    }
   ],
   "source": [
    "from keras.datasets import mnist\n",
    "\n",
    "(x_train, y_train), (x_test, y_test) = mnist.load_data()"
   ]
  },
  {
   "cell_type": "code",
   "execution_count": 3,
   "metadata": {},
   "outputs": [],
   "source": [
    "SIZE = (28,28)"
   ]
  },
  {
   "cell_type": "markdown",
   "metadata": {},
   "source": [
    "### Dataset preprocessing\n",
    "- Get the dataset from folders\n",
    "- Associate the corresponding classes\n",
    "- Resized the dataset\n",
    "- Shuffle the dataset?\n",
    "- Divide the dataset into validation, training and testing?"
   ]
  },
  {
   "cell_type": "code",
   "execution_count": 4,
   "metadata": {},
   "outputs": [],
   "source": [
    "x_train = x_train.astype(np.float32)\n",
    "x_test = x_test.astype(np.float32)\n",
    "# x_train -= 127.5\n",
    "# x_test -= 127.5\n",
    "# x_train *= 1./128\n",
    "# x_test *= 1./128\n",
    "x_train /= 255\n",
    "x_test /= 255"
   ]
  },
  {
   "cell_type": "markdown",
   "metadata": {},
   "source": [
    "#### New method\n",
    "- We divide the validation and test set from the training set with the classic division method: 85 percent training, 10 validating, 5 testing.\n",
    "- We then computes pairs of images in the validation set and testing set:\n",
    " - Some of these pairs are images of the same dog and some are picture of different dogs\n",
    " - We create a two lists:\n",
    "  - A list a images containing the pairs: two successive images are a pair of images. For example, image 0 and is a pair, image 2 and 3 is another pair, etc...\n",
    "  - A list of boolean called 'issame' indicating if a pair is a pair of images of the same dog or a pair of different dogs. For example, if image 0 and image 1 are showing the same dog value 0 and 1 in the list will be True. On the other hand if the image 2 and 3 represent two different dogs the value 2 and 3 in the list will be at False"
   ]
  },
  {
   "cell_type": "code",
   "execution_count": 5,
   "metadata": {},
   "outputs": [
    {
     "data": {
      "text/plain": [
       "<matplotlib.image.AxesImage at 0x1f1fcb60240>"
      ]
     },
     "execution_count": 5,
     "metadata": {},
     "output_type": "execute_result"
    },
    {
     "data": {
      "image/png": "[encoded data removed]",
      "text/plain": [
       "<Figure size 432x288 with 1 Axes>"
      ]
     },
     "metadata": {},
     "output_type": "display_data"
    }
   ],
   "source": [
    "sk.io.imshow(x_train[0])"
   ]
  },
  {
   "cell_type": "code",
   "execution_count": 5,
   "metadata": {},
   "outputs": [],
   "source": [
    "# keep the number from zero to six for training\n",
    "# and from seven to nine for testing\n",
    "keep_test = np.empty(len(y_test),dtype=bool)\n",
    "for i in range(len(y_test)):\n",
    "    if y_test[i] in np.arange(0,8):\n",
    "        keep_test[i] = True\n",
    "    else:\n",
    "        keep_test[i] = False\n",
    "keep_train = np.empty(len(y_train),dtype=bool)\n",
    "for i in range(len(y_train)):\n",
    "    if y_train[i] in np.arange(0,8):\n",
    "        keep_train[i] = True\n",
    "    else:\n",
    "        keep_train[i] = False\n",
    "    \n",
    "\n",
    "images_valid = np.vstack((x_train[np.logical_not(keep_train)],x_test[np.logical_not(keep_test)]))\n",
    "labels_valid = np.append(y_train[np.logical_not(keep_train)],y_test[np.logical_not(keep_test)])\n",
    "\n",
    "x_train = x_train[keep_train]\n",
    "y_train = y_train[keep_train]\n",
    "x_test = x_test[keep_test]\n",
    "y_test = y_test[keep_test]"
   ]
  },
  {
   "cell_type": "code",
   "execution_count": 6,
   "metadata": {
    "scrolled": false
   },
   "outputs": [
    {
     "name": "stdout",
     "output_type": "stream",
     "text": [
      "Number of pairs: 10000\n"
     ]
    },
    {
     "data": {
      "application/vnd.jupyter.widget-view+json": {
       "model_id": "786f48a7b9fb4459b69da840e98309f5",
       "version_major": 2,
       "version_minor": 0
      },
      "text/html": [
       "<p>Failed to display Jupyter Widget of type <code>HBox</code>.</p>\n",
       "<p>\n",
       "  If you're reading this message in the Jupyter Notebook or JupyterLab Notebook, it may mean\n",
       "  that the widgets JavaScript is still loading. If this message persists, it\n",
       "  likely means that the widgets JavaScript library is either not installed or\n",
       "  not enabled. See the <a href=\"https://ipywidgets.readthedocs.io/en/stable/user_install.html\">Jupyter\n",
       "  Widgets Documentation</a> for setup instructions.\n",
       "</p>\n",
       "<p>\n",
       "  If you're reading this message in another frontend (for example, a static\n",
       "  rendering on GitHub or <a href=\"https://nbviewer.jupyter.org/\">NBViewer</a>),\n",
       "  it may mean that your frontend doesn't currently support widgets.\n",
       "</p>\n"
      ],
      "text/plain": [
       "HBox(children=(IntProgress(value=0, max=5000), HTML(value='')))"
      ]
     },
     "metadata": {},
     "output_type": "display_data"
    },
    {
     "name": "stdout",
     "output_type": "stream",
     "text": [
      "\n",
      "Number of same images: 2538\n",
      "Number of validation images: 13783\n"
     ]
    }
   ],
   "source": [
    "w, h = SIZE\n",
    "\n",
    "# print(\"Number of validation images: \" + str(len(labels_valid)))\n",
    "# print(\"Number of training images: \" + str(len(labels_train)))\n",
    "# print(\"Number of classes in the training set: \" + str(max(labels_train) - min(labels_train)+1))\n",
    "\n",
    "\n",
    "# Creates the pairs\n",
    "\n",
    "nbof_pairs = (len(images_valid)//2)*2 # it has to be multiple of 2\n",
    "nbof_pairs = 10000\n",
    "print(\"Number of pairs: \" + str(nbof_pairs))\n",
    "\n",
    "pairs = np.empty((nbof_pairs,w,h))\n",
    "issame = np.empty(nbof_pairs, dtype=int)\n",
    "y_pairs = np.empty(nbof_pairs)\n",
    "\n",
    "nbof_same = 0\n",
    "\n",
    "for i in tqdm_notebook(range(0,nbof_pairs,2)):\n",
    "    ## alea_issame will decide if the new pair will be a pair of same dog images or a pair of different\n",
    "    alea_issame = np.random.rand()\n",
    "\n",
    "    if alea_issame < 0.5: # Then it will be a pair of same dogs\n",
    "        # we randomly choose a dog\n",
    "        choice = np.random.randint(len(labels_valid))\n",
    "        \n",
    "        # we extract the images of this class\n",
    "        chosen_images = list(images_valid[np.equal(labels_valid,labels_valid[choice])])\n",
    "        chosen_labels = list(labels_valid[np.equal(labels_valid,labels_valid[choice])])\n",
    "        \n",
    "        while len(labels_valid[np.equal(labels_valid,labels_valid[choice])]) < 2:\n",
    "            choice = np.random.randint(len(labels_valid))\n",
    "            chosen_images = list(images_valid[np.equal(labels_valid,labels_valid[choice])])\n",
    "            chosen_labels = list(labels_valid[np.equal(labels_valid,labels_valid[choice])])\n",
    "            \n",
    "        # we then randomly choose two pictures of this class\n",
    "        choice1 = np.random.randint(len(chosen_images))\n",
    "        pairs[i] = chosen_images[choice1]\n",
    "        y_pairs[i] = chosen_labels[choice1]\n",
    "        \n",
    "        save = np.copy(chosen_images)\n",
    "        chosen_images = chosen_images[:choice1] + chosen_images[choice1+1:]\n",
    "        if len(chosen_images) == 0:\n",
    "            print(\"Bug!\")\n",
    "            print(save)\n",
    "        choice2 = np.random.randint(len(chosen_images))\n",
    "        pairs[i+1] = chosen_images[choice2]\n",
    "        y_pairs[i+1] = chosen_labels[choice2]\n",
    "        \n",
    "        issame[i] = issame[i+1] = 1\n",
    "        \n",
    "        nbof_same += 1\n",
    "        \n",
    "    else: # Then it will be a pair of different dogs\n",
    "        # we randomly choose two dogs\n",
    "        choice1 = np.random.randint(len(labels_valid))\n",
    "        \n",
    "        # we extract the images of the class\n",
    "        chosen_images = list(images_valid[np.equal(labels_valid,labels_valid[choice1])])\n",
    "        chosen_labels = list(labels_valid[np.equal(labels_valid,labels_valid[choice1])])\n",
    "        \n",
    "        # we choose an image of this class\n",
    "        choice = np.random.randint(len(chosen_images))\n",
    "        #print(choice)\n",
    "        pairs[i] = chosen_images[choice]\n",
    "        y_pairs[i] = chosen_labels[choice]\n",
    "        \n",
    "        choice2 = np.random.randint(len(labels_valid))\n",
    "        \n",
    "        # check if we have two different classes\n",
    "        while labels_valid[choice2] == labels_valid[choice1]:\n",
    "            choice2 = np.random.randint(len(labels_valid))\n",
    "        \n",
    "        chosen_images = list(images_valid[np.equal(labels_valid,labels_valid[choice2])])\n",
    "        chosen_labels = list(labels_valid[np.equal(labels_valid,labels_valid[choice2])])\n",
    "        \n",
    "        # we choose an image of this class\n",
    "        choice = np.random.randint(len(chosen_images))\n",
    "        \n",
    "        pairs[i+1] = chosen_images[choice]\n",
    "        y_pairs[i+1] = chosen_labels[choice]\n",
    "        \n",
    "        issame[i] = issame[i+1] = 0\n",
    "\n",
    "print(\"Number of same images: \" + str(nbof_same))\n",
    "print(\"Number of validation images: \" + str(len(labels_valid)))"
   ]
  },
  {
   "cell_type": "code",
   "execution_count": 7,
   "metadata": {},
   "outputs": [],
   "source": [
    "# check all the pairs\n",
    "for i in range(0,len(y_pairs),2):\n",
    "    if issame[i] == 0:\n",
    "        if y_pairs[i]==y_pairs[i+1]:\n",
    "            print(y_pairs[i],y_pairs[i+1],issame[i])\n",
    "    if issame[i] == 1:\n",
    "        if y_pairs[i]!=y_pairs[i+1]:\n",
    "            print(y_pairs[i],y_pairs[i+1],issame[i])"
   ]
  },
  {
   "cell_type": "code",
   "execution_count": 8,
   "metadata": {
    "scrolled": true
   },
   "outputs": [
    {
     "name": "stdout",
     "output_type": "stream",
     "text": [
      "[0 0 1 1 1 1 1 1 1 1]\n",
      "[8. 9. 8. 8. 8. 8. 9. 9. 9. 9.]\n"
     ]
    },
    {
     "data": {
      "image/png": "[encoded data removed]",
      "text/plain": [
       "<Figure size 360x1080 with 10 Axes>"
      ]
     },
     "metadata": {},
     "output_type": "display_data"
    }
   ],
   "source": [
    "# check some pairs\n",
    "s = 0\n",
    "n = 5\n",
    "print(issame[2*s:(n+s)*2])\n",
    "print(y_pairs[2*s:(n+s)*2])\n",
    "fig = plt.figure(figsize=(5,3*n))\n",
    "for i in range(s,s+n):\n",
    "    plt.subplot(n,2,2*(i-s)+1)\n",
    "    plt.imshow(pairs[2*i])\n",
    "    plt.subplot(n,2,2*(i-s)+2)\n",
    "    plt.imshow(pairs[2*i+1])"
   ]
  },
  {
   "cell_type": "code",
   "execution_count": 9,
   "metadata": {
    "scrolled": true
   },
   "outputs": [
    {
     "name": "stdout",
     "output_type": "stream",
     "text": [
      "(48200, 28, 28, 1)\n"
     ]
    }
   ],
   "source": [
    "x_train = np.expand_dims(x_train, -1)\n",
    "print(x_train.shape)"
   ]
  },
  {
   "cell_type": "code",
   "execution_count": 10,
   "metadata": {},
   "outputs": [
    {
     "name": "stdout",
     "output_type": "stream",
     "text": [
      "(8017, 28, 28, 1)\n"
     ]
    }
   ],
   "source": [
    "x_test = np.expand_dims(x_test, -1)\n",
    "print(x_test.shape)"
   ]
  },
  {
   "cell_type": "code",
   "execution_count": 11,
   "metadata": {
    "scrolled": true
   },
   "outputs": [
    {
     "name": "stdout",
     "output_type": "stream",
     "text": [
      "(10000, 28, 28, 1)\n"
     ]
    }
   ],
   "source": [
    "\n",
    "pairs = np.expand_dims(pairs, -1)\n",
    "print(pairs.shape)"
   ]
  },
  {
   "cell_type": "code",
   "execution_count": 12,
   "metadata": {},
   "outputs": [
    {
     "name": "stdout",
     "output_type": "stream",
     "text": [
      "[[0. 0. 0. ... 1. 0. 0.]\n",
      " [1. 0. 0. ... 0. 0. 0.]\n",
      " [0. 0. 0. ... 0. 0. 0.]\n",
      " ...\n",
      " [0. 0. 0. ... 0. 0. 0.]\n",
      " [0. 0. 0. ... 1. 0. 0.]\n",
      " [0. 0. 0. ... 0. 1. 0.]]\n"
     ]
    }
   ],
   "source": [
    "y_train = tf.keras.utils.to_categorical(y_train)\n",
    "y_pairs = tf.keras.utils.to_categorical(y_pairs)\n",
    "y_test = tf.keras.utils.to_categorical(y_test)\n",
    "print(y_train)"
   ]
  },
  {
   "cell_type": "code",
   "execution_count": 10,
   "metadata": {},
   "outputs": [
    {
     "name": "stdout",
     "output_type": "stream",
     "text": [
      "Train input shapes: \n",
      "(60000, 28, 28, 1)\n",
      "(60000,)\n",
      "(60000,)\n",
      "Train output shape: \n",
      "(60000,)\n",
      "(60000, 2)\n",
      "Valid input shape: \n",
      "(10000, 28, 28, 1)\n",
      "(10000,)\n",
      "(10000,)\n",
      "Valid output shape: \n",
      "(10000,)\n"
     ]
    }
   ],
   "source": [
    "# Verify shapes\n",
    "# Train inputs\n",
    "print(\"Train input shapes: \")\n",
    "print(images_train.shape)\n",
    "print(labels_train.shape)\n",
    "print(issame_train_in.shape)\n",
    "\n",
    "print(\"Train output shape: \")\n",
    "print(labels_train.shape)\n",
    "print(issame_train_out.shape)\n",
    "\n",
    "print(\"Valid input shape: \")\n",
    "print(pairs.shape)\n",
    "print(labels_valid.shape)\n",
    "print(issame_in.shape)\n",
    "\n",
    "print(\"Valid output shape: \")\n",
    "print(labels_valid.shape)"
   ]
  },
  {
   "cell_type": "markdown",
   "metadata": {},
   "source": [
    "### Define the model\n",
    "- Define the ArcFace layer\n",
    "- Define the dummy model first\n",
    "- Compile it with the softmax loss and and Adam optimizer\n",
    "- Then use transfer learning with a more complex model"
   ]
  },
  {
   "cell_type": "markdown",
   "metadata": {},
   "source": [
    "Define the Arcface layer"
   ]
  },
  {
   "cell_type": "code",
   "execution_count": 9,
   "metadata": {},
   "outputs": [],
   "source": [
    "from tensorflow.keras import backend as K\n",
    "from tensorflow.keras.layers import Layer\n",
    "import math\n",
    "\n",
    "# Arcface should only be used for training\n",
    "class Arcface(Layer):\n",
    "\n",
    "    def __init__(self, out_num, s = 64., m = 0.5, **kwargs):\n",
    "        self.out_num = out_num\n",
    "        self.s = s\n",
    "        self.m = m\n",
    "        super(Arcface, self).__init__(**kwargs)\n",
    "\n",
    "    def build(self, input_shape, initializer='uniform'):\n",
    "        assert isinstance(input_shape, list)\n",
    "        \n",
    "        shape = tf.TensorShape((input_shape[0][-1],self.out_num))\n",
    "        print(shape)\n",
    "        \n",
    "        # Create a trainable weight variable for this layer.\n",
    "        self.kernel = self.add_weight(name='kernel',\n",
    "                                                 shape=shape,\n",
    "                                                 initializer=initializer,\n",
    "                                                 dtype=tf.float32,\n",
    "                                                 trainable=True)\n",
    "        super(Arcface, self).build(input_shape)  # Be sure to call this at the end\n",
    "\n",
    "    def call(self, x, training=None):\n",
    "        assert isinstance(x, list)\n",
    "        emb, labels = x\n",
    "        #labels_sq = tf.squeeze(labels,1)\n",
    "        #labels_sq = tf.reshape(labels,[None])\n",
    "        #labels_int = tf.cast(labels_sq,tf.int32, name='labels_int')\n",
    "        #print(labels_int.shape)\n",
    "        #mask = tf.one_hot(labels_int, depth=self.out_num, name='one_hot_mask')\n",
    "        mask = labels\n",
    "        #mask = tf.squeeze(mask,1)\n",
    "        #print(mask.shape)\n",
    "        #mask_shape = mask.shape.as_list()\n",
    "        #mask = tf.reshape(mask, (None,mask_shape[-1]))\n",
    "        #print(mask.shape)\n",
    "        def train_output():\n",
    "            cos_m = math.cos(self.m)\n",
    "            sin_m = math.sin(self.m)\n",
    "            mm = sin_m * self.m  # issue 1\n",
    "            threshold = math.cos(math.pi - self.m)\n",
    "\n",
    "            # inputs and weights norm\n",
    "            embedding_norm = tf.norm(emb, axis=1, keepdims=True)\n",
    "            embedding = tf.div(emb, embedding_norm, name='norm_embedding')\n",
    "\n",
    "            weights_norm = tf.norm(self.kernel, axis=0, keepdims=True)\n",
    "            weights = tf.div(self.kernel, weights_norm, name='norm_weights')\n",
    "            # cos(theta+m)\n",
    "            cos_t = tf.matmul(embedding, weights, name='cos_t')\n",
    "            print(cos_t.shape)\n",
    "            cos_t2 = tf.square(cos_t, name='cos_2')\n",
    "            sin_t2 = tf.subtract(1., cos_t2, name='sin_2')\n",
    "            sin_t = tf.sqrt(sin_t2, name='sin_t')\n",
    "            cos_mt = self.s * tf.subtract(tf.multiply(cos_t, cos_m), tf.multiply(sin_t, sin_m), name='cos_mt')\n",
    "\n",
    "            # this condition controls the theta+m should be in range [0, pi]\n",
    "            #      0<=theta+m<=pi\n",
    "            #     -m<=theta<=pi-m\n",
    "            cond_v = cos_t - threshold\n",
    "            cond = tf.cast(tf.nn.relu(cond_v, name='if_else'), dtype=tf.bool)\n",
    "\n",
    "            keep_val = self.s*(cos_t - mm)\n",
    "            cos_mt_temp = tf.where(cond, cos_mt, keep_val)\n",
    "\n",
    "            \n",
    "            # mask = tf.squeeze(mask, 1)\n",
    "            inv_mask = tf.subtract(1., mask, name='inverse_mask')\n",
    "\n",
    "            s_cos_t = tf.multiply(self.s, cos_t, name='scalar_cos_t')\n",
    "            mul1 = tf.multiply(s_cos_t, inv_mask)\n",
    "            print(mul1.shape)\n",
    "            mul2 = tf.multiply(cos_mt_temp, mask)\n",
    "            print(mul2.shape)\n",
    "            output = tf.add(mul1, mul2, name='arcface_loss_output')\n",
    "            print(output.shape)\n",
    "            print(cos_mt_temp.shape)\n",
    "            \n",
    "            return output\n",
    "        \n",
    "        def valid_output():\n",
    "            return mask\n",
    "        \n",
    "        return K.in_train_phase(train_output,valid_output,training=training)\n",
    "\n",
    "    def compute_output_shape(self, input_shape):\n",
    "        assert isinstance(input_shape, list)\n",
    "        shape_emb, shape_lab = input_shape\n",
    "        shape_emb[-1] = self.out_num\n",
    "        return tf.TensorShape(shape_emb)"
   ]
  },
  {
   "cell_type": "code",
   "execution_count": 36,
   "metadata": {},
   "outputs": [],
   "source": [
    "from tensorflow.keras import backend as K\n",
    "from tensorflow.keras.layers import Layer\n",
    "\n",
    "class Cosine(Layer):\n",
    "\n",
    "    def __init__(self, output_dim, **kwargs):\n",
    "        self.output_dim = output_dim\n",
    "        super(Cosine, self).__init__(**kwargs)\n",
    "\n",
    "    def build(self, input_shape):\n",
    "        # Create a trainable weight variable for this layer.\n",
    "        shape = tf.TensorShape((input_shape[1],self.output_dim))\n",
    "        self.kernel = self.add_weight(name='kernel', \n",
    "                                      shape=shape,\n",
    "                                      initializer='uniform',\n",
    "                                      trainable=True)\n",
    "        super(Cosine, self).build(input_shape)  # Be sure to call this at the end\n",
    "\n",
    "    def call(self, x):\n",
    "        # Compute the euclidian norm\n",
    "        x_norm = tf.norm(x, axis=1, keepdims=True)\n",
    "        x = tf.div(x, x_norm, name='x_norm')\n",
    "\n",
    "        W_norm = tf.norm(self.kernel, axis=0, keepdims=True)\n",
    "        W = tf.div(self.kernel, W_norm, name='norm_weights')\n",
    "        return K.dot(x, W)\n",
    "\n",
    "    def compute_output_shape(self, input_shape):\n",
    "        return (input_shape[0], self.output_dim)"
   ]
  },
  {
   "cell_type": "code",
   "execution_count": 13,
   "metadata": {},
   "outputs": [],
   "source": [
    "from tensorflow.keras import backend as K\n",
    "from tensorflow.keras.layers import Layer\n",
    "\n",
    "class Cosine(Layer):\n",
    "\n",
    "    def __init__(self, output_dim, **kwargs):\n",
    "        self.output_dim = output_dim\n",
    "        super(Cosine, self).__init__(**kwargs)\n",
    "\n",
    "    def build(self, input_shape):\n",
    "        shape = tf.TensorShape((input_shape[-1],self.output_dim))\n",
    "\n",
    "        self.kernel = self.add_weight(name='kernel', \n",
    "                                      shape=shape,\n",
    "                                      initializer='uniform',\n",
    "                                      trainable=True)\n",
    "        super(Cosine, self).build(input_shape)\n",
    "\n",
    "    def call(self, x):\n",
    "        x = x / tf.norm(x,axis=-1,keepdims=True)\n",
    "        w = self.kernel / tf.norm(self.kernel,axis=0,keepdims=True)\n",
    "        return K.dot(x, w)\n",
    "\n",
    "    def compute_output_shape(self, input_shape):\n",
    "        return (input_shape[0], self.output_dim)"
   ]
  },
  {
   "cell_type": "code",
   "execution_count": 16,
   "metadata": {},
   "outputs": [],
   "source": [
    "from tensorflow.keras import backend as K\n",
    "\n",
    "m = 0.5\n",
    "s = 64.\n",
    "out_num = 8\n",
    "\n",
    "def cosineLoss(y_true,y_pred):\n",
    "    # Compute the softmax like \n",
    "    s_cos = tf.multiply(y_pred, s)\n",
    "    s_cos_m = tf.add(s_cos, -m)\n",
    "    exp_s_cos = K.exp(s_cos)\n",
    "    exp_s_cos_m = K.exp(s_cos_m)\n",
    "    \n",
    "    mask = tf.cast(y_true, tf.float32)\n",
    "    m_mask = tf.multiply(mask,m)\n",
    "    s_cos_m_mask = tf.subtract(s_cos, m_mask)\n",
    "    den = K.sum(s_cos_m_mask,1)\n",
    "    den_stacked = K.stack([den]*out_num,axis=-1)\n",
    "    \n",
    "    out = tf.divide(exp_s_cos_m,den_stacked)\n",
    "    # Compute the categorical crossentropy\n",
    "    return K.categorical_crossentropy(y_true,out)\n",
    "    "
   ]
  },
  {
   "cell_type": "code",
   "execution_count": 15,
   "metadata": {},
   "outputs": [
    {
     "name": "stdout",
     "output_type": "stream",
     "text": [
      "Number of outputs: 8\n"
     ]
    }
   ],
   "source": [
    "from tensorflow.keras import backend as K\n",
    "\n",
    "m = 0.5\n",
    "s = 64.\n",
    "out_num = 8\n",
    "\n",
    "print(\"Number of outputs: \" + str(out_num))\n",
    "\n",
    "def cosineLoss(y_true,y_pred):\n",
    "    # Compute the softmax like \n",
    "    e_s_m = K.exp(s*y_pred - m)\n",
    "    e_s = K.exp(s*y_pred)\n",
    "    \n",
    "    mask = K.cast(y_true, tf.float32)\n",
    "    inv_mask = 1. - mask\n",
    "    den = e_s_m * mask + e_s * inv_mask\n",
    "    den = K.sum(den,-1,keepdims=True)\n",
    "\n",
    "    out = e_s_m / den\n",
    "    # Compute the categorical crossentropy\n",
    "    return K.categorical_crossentropy(y_true,out)"
   ]
  },
  {
   "cell_type": "code",
   "execution_count": 97,
   "metadata": {},
   "outputs": [],
   "source": [
    "m = 0.35\n",
    "s = 128\n",
    "out_num = 10\n",
    "\n",
    "def arcfaceLoss(y_true,y_pred):\n",
    "    # Compute the softmax like \n",
    "    cos_t = y_pred\n",
    "    sin_t = tf.sqrt(tf.subtract(1.,tf.square(cos_t)))\n",
    "    \n",
    "    cos_m = tf.cos(m)\n",
    "    sin_m = tf.sin(m)\n",
    "    \n",
    "    cos_t_m = tf.subtract(tf.multiply(cos_t,cos_m),tf.multiply(sin_t,sin_m))\n",
    "    \n",
    "    s_cos_t_m = tf.multiply(cos_t_m, s)\n",
    "    \n",
    "    exp_s_cos_t_m = K.exp(s_cos_t_m)\n",
    "    exp_s_cos_t = K.exp(tf.multiply(cos_t,s))\n",
    "    \n",
    "    mask = tf.cast(y_true, tf.float32)\n",
    "    \n",
    "    inv_mask = tf.subtract(1.,mask)\n",
    "    \n",
    "    den = tf.multiply(mask,exp_s_cos_t_m)\n",
    "    den = tf.add(den,tf.multiply(inv_mask,exp_s_cos_t))\n",
    "    den = K.sum(den,1)\n",
    "    den_stacked = K.stack([den]*out_num,axis=-1)\n",
    "    \n",
    "    out = tf.divide(exp_s_cos_t_m,den_stacked)\n",
    "\n",
    "    # Compute the categorical crossentropy\n",
    "    return K.categorical_crossentropy(y_true,out)"
   ]
  },
  {
   "cell_type": "markdown",
   "metadata": {},
   "source": [
    "Define the validation layer:\n",
    "- The bigger the validation batch the better it is (no less than 64 pictures -> 32 pairs)\n",
    "- It computes the ROC curve\n",
    "- Finds the best threshold\n",
    "- Returns a list of 2D vectors [1,0] if the pair was the same dog, [0,1] if it was a different dog"
   ]
  },
  {
   "cell_type": "code",
   "execution_count": 27,
   "metadata": {},
   "outputs": [],
   "source": [
    "from tensorflow.keras import backend as K\n",
    "from tensorflow.keras.layers import Layer\n",
    "\n",
    "# Should only be used for validating\n",
    "class Validation(Layer):\n",
    "\n",
    "    def __init__(self, **kwargs):\n",
    "        super(Validation, self).__init__(**kwargs)\n",
    "\n",
    "    def build(self, input_shape):\n",
    "        assert isinstance(input_shape, list)\n",
    "        self.emb_shape = input_shape[0]\n",
    "        super(Validation, self).build(input_shape)\n",
    "\n",
    "    def call(self, x, training=None):\n",
    "        \"\"\"\n",
    "        Inputs: a tuple containing the embeddings and the issame list\n",
    "        - embeddings: shape=(batch_size, embedding_size), type=float\n",
    "        - issame: shape=(batch_size), type=bool\n",
    "        \n",
    "        Outputs: a tensor of shape=(batch_size,2), the ouput is either [1,0] (is same) or [0,1] (is different)\n",
    "        \"\"\"\n",
    "        assert isinstance(x, list)\n",
    "        \n",
    "        embeddings, iss = x\n",
    "        \n",
    "        \n",
    "        \n",
    "        def train_output():\n",
    "            return iss\n",
    "        \n",
    "        def valid_output():\n",
    "            issame = tf.squeeze(iss)\n",
    "            #self.emb_shape = embeddings.shape\n",
    "            emb = tf.math.l2_normalize(embeddings,0)\n",
    "            # emb contains a list of pictures\n",
    "            # pictures with an even index are first pictures of the pairs\n",
    "            # pictures with an odd index are second pictures of the pairs\n",
    "            emb1 = embeddings[0::2]\n",
    "            emb2 = embeddings[1::2]\n",
    "            #emb1, emb2 = tf.split(embeddings, [32,32],0)\n",
    "            \n",
    "          # Compute the distance for each pair of vector\n",
    "            dist = tf.reduce_sum(tf.squared_difference(emb1,emb2),1)\n",
    "            dist = tf.reshape(tf.stack([dist,dist], axis=-1), [-1])\n",
    "            actual_issame_bool = tf.cast(issame,dtype=tf.bool)\n",
    "\n",
    "            def fn(t):\n",
    "                less = tf.less(dist,t)\n",
    "                acc = tf.logical_not(tf.logical_xor(less,actual_issame_bool))\n",
    "                acc = tf.cast(acc,tf.float32)\n",
    "                out = tf.reshape(tf.reduce_sum(acc),[])\n",
    "                return out\n",
    "\n",
    "\n",
    "            thresholds = tf.range(0,1,0.001)\n",
    "            apply_t = tf.map_fn(fn, thresholds)\n",
    "            best_t = tf.argmax(apply_t)\n",
    "\n",
    "            best = thresholds[best_t]\n",
    "\n",
    "          # Redo the manipulation with the best threshold\n",
    "            less = tf.less(dist,best)\n",
    "            less = tf.cast(less,tf.float32)\n",
    "            less = tf.expand_dims(less,1) # <- bug fixed\n",
    "            return less\n",
    "\n",
    "            \n",
    "        return K.in_train_phase(train_output,valid_output,training=training)\n",
    "\n",
    "    def compute_output_shape(self, input_shape):\n",
    "        assert isinstance(input_shape, list)\n",
    "        emb_shape, _ = input_shape\n",
    "        return (emb_shape[0], 1)"
   ]
  },
  {
   "cell_type": "code",
   "execution_count": 10,
   "metadata": {},
   "outputs": [],
   "source": [
    "from tensorflow.keras import backend as K\n",
    "from tensorflow.keras.layers import Layer\n",
    "\n",
    "# Should only be used for validating\n",
    "class Validation(Layer):\n",
    "\n",
    "    def __init__(self, **kwargs):\n",
    "        super(Validation, self).__init__(**kwargs)\n",
    "\n",
    "    def build(self, input_shape):\n",
    "        assert isinstance(input_shape, list)\n",
    "        super(Validation, self).build(input_shape)\n",
    "\n",
    "    def call(self, x, training=None):\n",
    "        \"\"\"\n",
    "        Inputs: a tuple containing the embeddings and the issame list\n",
    "        - embeddings: shape=(batch_size, embedding_size), type=float\n",
    "        - issame: shape=(batch_size), type=bool\n",
    "        \n",
    "        Outputs: a tensor of shape=(batch_size,2), the ouput is either [1,0] (is same) or [0,1] (is different)\n",
    "        \"\"\"\n",
    "        assert isinstance(x, list)\n",
    "        \n",
    "        embeddings, iss = x\n",
    "        \n",
    "        \n",
    "        \n",
    "        def train_output():\n",
    "            return iss\n",
    "        \n",
    "        def valid_output():\n",
    "            emb = tf.math.l2_normalize(embeddings,0)\n",
    "            # emb contains a list of pictures\n",
    "            # pictures with an even index are first pictures of the pairs\n",
    "            # pictures with an odd index are second pictures of the pairs\n",
    "            emb1 = embeddings[0::2]\n",
    "            emb2 = embeddings[1::2]\n",
    "            \n",
    "          # Compute the distance for each pair of vector\n",
    "            dist = tf.reduce_sum(tf.squared_difference(emb1,emb2),1)\n",
    "            dist = tf.reshape(tf.stack([dist,dist], axis=-1), [-1])\n",
    "            less = tf.less(dist,0.01)\n",
    "            less = tf.cast(less,tf.float32)\n",
    "            less = tf.expand_dims(less,1) # <- bug fixed\n",
    "            return less\n",
    "\n",
    "            \n",
    "        return K.in_train_phase(train_output,valid_output,training=training)\n",
    "\n",
    "    def compute_output_shape(self, input_shape):\n",
    "        assert isinstance(input_shape, list)\n",
    "        emb_shape, _ = input_shape\n",
    "        emb_shape[-1] = 1\n",
    "        return emb_shape"
   ]
  },
  {
   "cell_type": "markdown",
   "metadata": {},
   "source": [
    "Define the model"
   ]
  },
  {
   "cell_type": "code",
   "execution_count": 17,
   "metadata": {
    "scrolled": true
   },
   "outputs": [],
   "source": [
    "# Try to use the functional API\n",
    "#tf.reset_default_graph()\n",
    "def net(inputs_shapes, emb_size=4):\n",
    "    images_shape, labels_shape = inputs_shapes\n",
    "    input_image = tf.keras.Input(images_shape,name='image_input')\n",
    "    x = tf.keras.layers.Conv2D(32, (3,3), activation='relu')(input_image)\n",
    "    x = tf.keras.layers.Conv2D(64, (3,3), activation='relu')(x)\n",
    "    x = tf.keras.layers.MaxPooling2D((2,2))(x)\n",
    "    x = tf.keras.layers.Dropout(0.25)(x)\n",
    "    x = tf.keras.layers.Flatten()(x)\n",
    "    x = tf.keras.layers.Dense(128, activation='relu')(x)\n",
    "    x = tf.keras.layers.Dropout(0.5)(x)\n",
    "    emb = tf.keras.layers.Dense(3, activity_regularizer='l2')(x)\n",
    "    \n",
    "    out = tf.keras.layers.Dense(8, kernel_regularizer='l2', use_bias=False, name='output')(emb)\n",
    "    model = tf.keras.Model(inputs=[input_image], outputs=out)\n",
    "    return model\n",
    "\n",
    "w, h = SIZE\n",
    "inputs_shapes = [(w, h, 1,),(8,)]\n",
    "model = net(inputs_shapes)\n",
    "model.compile(tf.keras.optimizers.Adam(),loss={'output':cosineLoss},metrics=['accuracy'])"
   ]
  },
  {
   "cell_type": "code",
   "execution_count": 17,
   "metadata": {},
   "outputs": [],
   "source": [
    "# Try to use the functional API\n",
    "#tf.reset_default_graph()\n",
    "def net(inputs_shapes, emb_size=4):\n",
    "    images_shape, labels_shape = inputs_shapes\n",
    "    input_image = tf.keras.Input(images_shape,name='image_input')\n",
    "    x = tf.keras.layers.Conv2D(32, (3,3), activation='relu')(input_image)\n",
    "    x = tf.keras.layers.Conv2D(64, (3,3), activation='relu')(x)\n",
    "    x = tf.keras.layers.MaxPooling2D((2,2))(x)\n",
    "    x = tf.keras.layers.Dropout(0.25)(x)\n",
    "    x = tf.keras.layers.Flatten()(x)\n",
    "    x = tf.keras.layers.Dense(128, activation='relu')(x)\n",
    "    x = tf.keras.layers.Dropout(0.5)(x)\n",
    "    emb = tf.keras.layers.Dense(3)(x)\n",
    "    \n",
    "    out = Cosine(8, name='output')(emb)\n",
    "    model = tf.keras.Model(inputs=[input_image], outputs=out)\n",
    "    return model\n",
    "\n",
    "w, h = SIZE\n",
    "inputs_shapes = [(w, h, 1,),(8,)]\n",
    "model = net(inputs_shapes)\n",
    "model.compile(tf.keras.optimizers.Adam(),loss={'output':cosineLoss},metrics=['accuracy'])"
   ]
  },
  {
   "cell_type": "code",
   "execution_count": 130,
   "metadata": {},
   "outputs": [],
   "source": [
    "# Try to use the functional API\n",
    "#tf.reset_default_graph()\n",
    "def net(inputs_shapes, emb_size=4):\n",
    "    images_shape, labels_shape = inputs_shapes\n",
    "    input_image = tf.keras.Input(images_shape,name='image_input')\n",
    "    x = tf.keras.layers.Conv2D(32, (3,3), activation='relu')(input_image)\n",
    "    x = tf.keras.layers.Conv2D(64, (3,3), activation='relu')(x)\n",
    "    x = tf.keras.layers.MaxPooling2D((2,2))(x)\n",
    "    x = tf.keras.layers.Dropout(0.25)(x)\n",
    "    x = tf.keras.layers.Flatten()(x)\n",
    "    x = tf.keras.layers.Dense(128, activation='relu')(x)\n",
    "    x = tf.keras.layers.Dropout(0.5)(x)\n",
    "    \n",
    "    out = tf.keras.layers.Dense(10, activation='softmax', name='output')(x)\n",
    "    model = tf.keras.Model(inputs=[input_image], outputs=out)\n",
    "    return model\n",
    "\n",
    "w, h = SIZE\n",
    "inputs_shapes = [(w, h, 1,),(10,)]\n",
    "model = net(inputs_shapes)\n",
    "model.compile(tf.keras.optimizers.Adam(),loss={'output':'categorical_crossentropy'},metrics=['accuracy'])"
   ]
  },
  {
   "cell_type": "code",
   "execution_count": 29,
   "metadata": {
    "scrolled": true
   },
   "outputs": [
    {
     "name": "stdout",
     "output_type": "stream",
     "text": [
      "Train on 48200 samples, validate on 8017 samples\n",
      "Epoch 1/5\n",
      "48200/48200 [==============================] - ETA: 2:33 - loss: 0.2308 - acc: 0.960 - ETA: 45s - loss: 0.2355 - acc: 0.966 - ETA: 33s - loss: 0.1905 - acc: 0.97 - ETA: 28s - loss: 0.1709 - acc: 0.97 - ETA: 22s - loss: 0.1471 - acc: 0.97 - ETA: 21s - loss: 0.1669 - acc: 0.97 - ETA: 19s - loss: 0.1715 - acc: 0.96 - ETA: 17s - loss: 0.1654 - acc: 0.97 - ETA: 17s - loss: 0.1610 - acc: 0.97 - ETA: 15s - loss: 0.1549 - acc: 0.97 - ETA: 14s - loss: 0.1466 - acc: 0.97 - ETA: 14s - loss: 0.1474 - acc: 0.97 - ETA: 13s - loss: 0.1501 - acc: 0.97 - ETA: 13s - loss: 0.1474 - acc: 0.97 - ETA: 13s - loss: 0.1423 - acc: 0.97 - ETA: 12s - loss: 0.1483 - acc: 0.97 - ETA: 12s - loss: 0.1447 - acc: 0.97 - ETA: 12s - loss: 0.1496 - acc: 0.97 - ETA: 12s - loss: 0.1499 - acc: 0.97 - ETA: 11s - loss: 0.1501 - acc: 0.97 - ETA: 11s - loss: 0.1462 - acc: 0.97 - ETA: 11s - loss: 0.1442 - acc: 0.97 - ETA: 11s - loss: 0.1478 - acc: 0.97 - ETA: 11s - loss: 0.1475 - acc: 0.97 - ETA: 10s - loss: 0.1484 - acc: 0.97 - ETA: 10s - loss: 0.1468 - acc: 0.97 - ETA: 10s - loss: 0.1489 - acc: 0.97 - ETA: 10s - loss: 0.1470 - acc: 0.97 - ETA: 10s - loss: 0.1539 - acc: 0.97 - ETA: 10s - loss: 0.1512 - acc: 0.97 - ETA: 10s - loss: 0.1520 - acc: 0.97 - ETA: 9s - loss: 0.1512 - acc: 0.9747 - ETA: 9s - loss: 0.1546 - acc: 0.974 - ETA: 9s - loss: 0.1536 - acc: 0.975 - ETA: 9s - loss: 0.1522 - acc: 0.974 - ETA: 9s - loss: 0.1509 - acc: 0.975 - ETA: 9s - loss: 0.1521 - acc: 0.974 - ETA: 9s - loss: 0.1513 - acc: 0.974 - ETA: 9s - loss: 0.1511 - acc: 0.975 - ETA: 8s - loss: 0.1493 - acc: 0.975 - ETA: 8s - loss: 0.1476 - acc: 0.975 - ETA: 8s - loss: 0.1470 - acc: 0.975 - ETA: 8s - loss: 0.1474 - acc: 0.975 - ETA: 8s - loss: 0.1483 - acc: 0.975 - ETA: 8s - loss: 0.1454 - acc: 0.975 - ETA: 8s - loss: 0.1452 - acc: 0.975 - ETA: 8s - loss: 0.1450 - acc: 0.975 - ETA: 8s - loss: 0.1470 - acc: 0.975 - ETA: 7s - loss: 0.1469 - acc: 0.975 - ETA: 7s - loss: 0.1462 - acc: 0.975 - ETA: 7s - loss: 0.1512 - acc: 0.975 - ETA: 7s - loss: 0.1490 - acc: 0.975 - ETA: 7s - loss: 0.1502 - acc: 0.975 - ETA: 7s - loss: 0.1485 - acc: 0.975 - ETA: 7s - loss: 0.1481 - acc: 0.975 - ETA: 7s - loss: 0.1481 - acc: 0.975 - ETA: 7s - loss: 0.1475 - acc: 0.975 - ETA: 7s - loss: 0.1467 - acc: 0.975 - ETA: 7s - loss: 0.1480 - acc: 0.975 - ETA: 6s - loss: 0.1479 - acc: 0.975 - ETA: 6s - loss: 0.1478 - acc: 0.975 - ETA: 6s - loss: 0.1488 - acc: 0.975 - ETA: 6s - loss: 0.1482 - acc: 0.975 - ETA: 6s - loss: 0.1483 - acc: 0.975 - ETA: 6s - loss: 0.1468 - acc: 0.975 - ETA: 6s - loss: 0.1480 - acc: 0.975 - ETA: 6s - loss: 0.1492 - acc: 0.975 - ETA: 6s - loss: 0.1490 - acc: 0.975 - ETA: 6s - loss: 0.1491 - acc: 0.975 - ETA: 6s - loss: 0.1495 - acc: 0.975 - ETA: 6s - loss: 0.1500 - acc: 0.975 - ETA: 6s - loss: 0.1499 - acc: 0.974 - ETA: 5s - loss: 0.1487 - acc: 0.975 - ETA: 5s - loss: 0.1486 - acc: 0.975 - ETA: 5s - loss: 0.1495 - acc: 0.974 - ETA: 5s - loss: 0.1496 - acc: 0.974 - ETA: 5s - loss: 0.1524 - acc: 0.974 - ETA: 5s - loss: 0.1529 - acc: 0.974 - ETA: 5s - loss: 0.1532 - acc: 0.974 - ETA: 5s - loss: 0.1556 - acc: 0.973 - ETA: 5s - loss: 0.1567 - acc: 0.973 - ETA: 5s - loss: 0.1562 - acc: 0.973 - ETA: 5s - loss: 0.1558 - acc: 0.973 - ETA: 5s - loss: 0.1560 - acc: 0.973 - ETA: 5s - loss: 0.1575 - acc: 0.973 - ETA: 5s - loss: 0.1581 - acc: 0.973 - ETA: 5s - loss: 0.1586 - acc: 0.973 - ETA: 5s - loss: 0.1582 - acc: 0.973 - ETA: 4s - loss: 0.1587 - acc: 0.973 - ETA: 4s - loss: 0.1590 - acc: 0.973 - ETA: 4s - loss: 0.1591 - acc: 0.973 - ETA: 4s - loss: 0.1584 - acc: 0.973 - ETA: 4s - loss: 0.1591 - acc: 0.973 - ETA: 4s - loss: 0.1593 - acc: 0.973 - ETA: 4s - loss: 0.1607 - acc: 0.973 - ETA: 4s - loss: 0.1606 - acc: 0.973 - ETA: 4s - loss: 0.1600 - acc: 0.973 - ETA: 4s - loss: 0.1617 - acc: 0.973 - ETA: 4s - loss: 0.1632 - acc: 0.972 - ETA: 4s - loss: 0.1627 - acc: 0.973 - ETA: 4s - loss: 0.1641 - acc: 0.972 - ETA: 3s - loss: 0.1643 - acc: 0.972 - ETA: 3s - loss: 0.1652 - acc: 0.972 - ETA: 3s - loss: 0.1644 - acc: 0.972 - ETA: 3s - loss: 0.1651 - acc: 0.972 - ETA: 3s - loss: 0.1651 - acc: 0.972 - ETA: 3s - loss: 0.1655 - acc: 0.972 - ETA: 3s - loss: 0.1655 - acc: 0.972 - ETA: 3s - loss: 0.1654 - acc: 0.972 - ETA: 3s - loss: 0.1656 - acc: 0.972 - ETA: 3s - loss: 0.1655 - acc: 0.972 - ETA: 3s - loss: 0.1650 - acc: 0.972 - ETA: 3s - loss: 0.1643 - acc: 0.972 - ETA: 3s - loss: 0.1640 - acc: 0.972 - ETA: 3s - loss: 0.1645 - acc: 0.972 - ETA: 3s - loss: 0.1647 - acc: 0.972 - ETA: 3s - loss: 0.1643 - acc: 0.972 - ETA: 3s - loss: 0.1645 - acc: 0.972 - ETA: 2s - loss: 0.1663 - acc: 0.972 - ETA: 2s - loss: 0.1662 - acc: 0.972 - ETA: 2s - loss: 0.1660 - acc: 0.972 - ETA: 2s - loss: 0.1658 - acc: 0.972 - ETA: 2s - loss: 0.1651 - acc: 0.972 - ETA: 2s - loss: 0.1651 - acc: 0.972 - ETA: 2s - loss: 0.1645 - acc: 0.972 - ETA: 2s - loss: 0.1646 - acc: 0.972 - ETA: 2s - loss: 0.1651 - acc: 0.972 - ETA: 2s - loss: 0.1643 - acc: 0.972 - ETA: 2s - loss: 0.1656 - acc: 0.972 - ETA: 2s - loss: 0.1649 - acc: 0.972 - ETA: 2s - loss: 0.1647 - acc: 0.972 - ETA: 1s - loss: 0.1650 - acc: 0.972 - ETA: 1s - loss: 0.1645 - acc: 0.972 - ETA: 1s - loss: 0.1645 - acc: 0.972 - ETA: 1s - loss: 0.1651 - acc: 0.972 - ETA: 1s - loss: 0.1652 - acc: 0.972 - ETA: 1s - loss: 0.1656 - acc: 0.972 - ETA: 1s - loss: 0.1657 - acc: 0.972 - ETA: 1s - loss: 0.1656 - acc: 0.972 - ETA: 1s - loss: 0.1657 - acc: 0.972 - ETA: 1s - loss: 0.1659 - acc: 0.972 - ETA: 1s - loss: 0.1659 - acc: 0.972 - ETA: 1s - loss: 0.1650 - acc: 0.972 - ETA: 1s - loss: 0.1645 - acc: 0.972 - ETA: 1s - loss: 0.1636 - acc: 0.972 - ETA: 1s - loss: 0.1636 - acc: 0.972 - ETA: 0s - loss: 0.1647 - acc: 0.972 - ETA: 0s - loss: 0.1652 - acc: 0.972 - ETA: 0s - loss: 0.1655 - acc: 0.972 - ETA: 0s - loss: 0.1656 - acc: 0.972 - ETA: 0s - loss: 0.1665 - acc: 0.972 - ETA: 0s - loss: 0.1668 - acc: 0.972 - ETA: 0s - loss: 0.1670 - acc: 0.972 - ETA: 0s - loss: 0.1674 - acc: 0.972 - ETA: 0s - loss: 0.1668 - acc: 0.972 - ETA: 0s - loss: 0.1660 - acc: 0.972 - ETA: 0s - loss: 0.1663 - acc: 0.972 - ETA: 0s - loss: 0.1668 - acc: 0.972 - ETA: 0s - loss: 0.1663 - acc: 0.972 - ETA: 0s - loss: 0.1658 - acc: 0.972 - ETA: 0s - loss: 0.1660 - acc: 0.972 - 12s 247us/step - loss: 0.1661 - acc: 0.9725 - val_loss: 0.0965 - val_acc: 0.9869\n",
      "Epoch 2/5\n",
      "48200/48200 [==============================] - ETA: 11s - loss: 0.2078 - acc: 0.98 - ETA: 11s - loss: 0.1747 - acc: 0.97 - ETA: 12s - loss: 0.1507 - acc: 0.98 - ETA: 12s - loss: 0.1481 - acc: 0.97 - ETA: 12s - loss: 0.1231 - acc: 0.98 - ETA: 11s - loss: 0.1092 - acc: 0.98 - ETA: 11s - loss: 0.1145 - acc: 0.98 - ETA: 11s - loss: 0.1072 - acc: 0.98 - ETA: 11s - loss: 0.1303 - acc: 0.97 - ETA: 10s - loss: 0.1228 - acc: 0.97 - ETA: 10s - loss: 0.1212 - acc: 0.97 - ETA: 10s - loss: 0.1272 - acc: 0.97 - ETA: 10s - loss: 0.1238 - acc: 0.97 - ETA: 10s - loss: 0.1183 - acc: 0.97 - ETA: 10s - loss: 0.1220 - acc: 0.97 - ETA: 10s - loss: 0.1241 - acc: 0.97 - ETA: 10s - loss: 0.1246 - acc: 0.97 - ETA: 9s - loss: 0.1336 - acc: 0.9779 - ETA: 9s - loss: 0.1312 - acc: 0.978 - ETA: 9s - loss: 0.1276 - acc: 0.978 - ETA: 9s - loss: 0.1277 - acc: 0.978 - ETA: 9s - loss: 0.1246 - acc: 0.978 - ETA: 9s - loss: 0.1302 - acc: 0.978 - ETA: 9s - loss: 0.1270 - acc: 0.978 - ETA: 9s - loss: 0.1257 - acc: 0.978 - ETA: 9s - loss: 0.1228 - acc: 0.979 - ETA: 9s - loss: 0.1234 - acc: 0.978 - ETA: 9s - loss: 0.1302 - acc: 0.978 - ETA: 9s - loss: 0.1293 - acc: 0.978 - ETA: 9s - loss: 0.1290 - acc: 0.978 - ETA: 9s - loss: 0.1343 - acc: 0.977 - ETA: 8s - loss: 0.1362 - acc: 0.977 - ETA: 8s - loss: 0.1359 - acc: 0.977 - ETA: 8s - loss: 0.1335 - acc: 0.977 - ETA: 8s - loss: 0.1329 - acc: 0.977 - ETA: 8s - loss: 0.1308 - acc: 0.977 - ETA: 8s - loss: 0.1323 - acc: 0.977 - ETA: 8s - loss: 0.1338 - acc: 0.977 - ETA: 8s - loss: 0.1344 - acc: 0.977 - ETA: 8s - loss: 0.1332 - acc: 0.977 - ETA: 8s - loss: 0.1335 - acc: 0.977 - ETA: 8s - loss: 0.1353 - acc: 0.977 - ETA: 8s - loss: 0.1352 - acc: 0.977 - ETA: 8s - loss: 0.1362 - acc: 0.977 - ETA: 8s - loss: 0.1355 - acc: 0.977 - ETA: 8s - loss: 0.1334 - acc: 0.977 - ETA: 8s - loss: 0.1342 - acc: 0.977 - ETA: 8s - loss: 0.1338 - acc: 0.977 - ETA: 7s - loss: 0.1324 - acc: 0.977 - ETA: 7s - loss: 0.1322 - acc: 0.978 - ETA: 7s - loss: 0.1352 - acc: 0.977 - ETA: 7s - loss: 0.1368 - acc: 0.977 - ETA: 7s - loss: 0.1367 - acc: 0.977 - ETA: 7s - loss: 0.1357 - acc: 0.977 - ETA: 7s - loss: 0.1340 - acc: 0.978 - ETA: 7s - loss: 0.1352 - acc: 0.978 - ETA: 7s - loss: 0.1355 - acc: 0.978 - ETA: 7s - loss: 0.1355 - acc: 0.977 - ETA: 7s - loss: 0.1367 - acc: 0.977 - ETA: 7s - loss: 0.1355 - acc: 0.977 - ETA: 7s - loss: 0.1372 - acc: 0.977 - ETA: 6s - loss: 0.1369 - acc: 0.977 - ETA: 6s - loss: 0.1356 - acc: 0.977 - ETA: 6s - loss: 0.1350 - acc: 0.977 - ETA: 6s - loss: 0.1353 - acc: 0.977 - ETA: 6s - loss: 0.1350 - acc: 0.977 - ETA: 6s - loss: 0.1342 - acc: 0.977 - ETA: 6s - loss: 0.1348 - acc: 0.977 - ETA: 6s - loss: 0.1361 - acc: 0.977 - ETA: 6s - loss: 0.1355 - acc: 0.977 - ETA: 6s - loss: 0.1340 - acc: 0.977 - ETA: 6s - loss: 0.1341 - acc: 0.977 - ETA: 6s - loss: 0.1343 - acc: 0.977 - ETA: 6s - loss: 0.1341 - acc: 0.977 - ETA: 6s - loss: 0.1340 - acc: 0.977 - ETA: 6s - loss: 0.1333 - acc: 0.977 - ETA: 6s - loss: 0.1340 - acc: 0.977 - ETA: 5s - loss: 0.1337 - acc: 0.977 - ETA: 5s - loss: 0.1340 - acc: 0.978 - ETA: 5s - loss: 0.1341 - acc: 0.978 - ETA: 5s - loss: 0.1343 - acc: 0.978 - ETA: 5s - loss: 0.1338 - acc: 0.978 - ETA: 5s - loss: 0.1343 - acc: 0.978 - ETA: 5s - loss: 0.1360 - acc: 0.978 - ETA: 5s - loss: 0.1354 - acc: 0.977 - ETA: 5s - loss: 0.1375 - acc: 0.977 - ETA: 5s - loss: 0.1381 - acc: 0.977 - ETA: 5s - loss: 0.1385 - acc: 0.977 - ETA: 5s - loss: 0.1384 - acc: 0.977 - ETA: 5s - loss: 0.1374 - acc: 0.977 - ETA: 5s - loss: 0.1370 - acc: 0.977 - ETA: 4s - loss: 0.1371 - acc: 0.977 - ETA: 4s - loss: 0.1382 - acc: 0.977 - ETA: 4s - loss: 0.1381 - acc: 0.977 - ETA: 4s - loss: 0.1390 - acc: 0.977 - ETA: 4s - loss: 0.1380 - acc: 0.977 - ETA: 4s - loss: 0.1376 - acc: 0.977 - ETA: 4s - loss: 0.1374 - acc: 0.977 - ETA: 4s - loss: 0.1386 - acc: 0.977 - ETA: 4s - loss: 0.1398 - acc: 0.977 - ETA: 4s - loss: 0.1408 - acc: 0.977 - ETA: 4s - loss: 0.1402 - acc: 0.977 - ETA: 4s - loss: 0.1402 - acc: 0.977 - ETA: 4s - loss: 0.1400 - acc: 0.977 - ETA: 4s - loss: 0.1395 - acc: 0.977 - ETA: 4s - loss: 0.1394 - acc: 0.977 - ETA: 4s - loss: 0.1387 - acc: 0.977 - ETA: 4s - loss: 0.1387 - acc: 0.977 - ETA: 4s - loss: 0.1396 - acc: 0.977 - ETA: 3s - loss: 0.1399 - acc: 0.977 - ETA: 3s - loss: 0.1393 - acc: 0.977 - ETA: 3s - loss: 0.1393 - acc: 0.977 - ETA: 3s - loss: 0.1385 - acc: 0.977 - ETA: 3s - loss: 0.1386 - acc: 0.977 - ETA: 3s - loss: 0.1388 - acc: 0.977 - ETA: 3s - loss: 0.1381 - acc: 0.977 - ETA: 3s - loss: 0.1396 - acc: 0.977 - ETA: 3s - loss: 0.1396 - acc: 0.977 - ETA: 3s - loss: 0.1401 - acc: 0.977 - ETA: 3s - loss: 0.1396 - acc: 0.977 - ETA: 3s - loss: 0.1396 - acc: 0.977 - ETA: 3s - loss: 0.1393 - acc: 0.977 - ETA: 3s - loss: 0.1408 - acc: 0.977 - ETA: 2s - loss: 0.1416 - acc: 0.977 - ETA: 2s - loss: 0.1421 - acc: 0.977 - ETA: 2s - loss: 0.1422 - acc: 0.977 - ETA: 2s - loss: 0.1417 - acc: 0.977 - ETA: 2s - loss: 0.1421 - acc: 0.977 - ETA: 2s - loss: 0.1415 - acc: 0.977 - ETA: 2s - loss: 0.1416 - acc: 0.977 - ETA: 2s - loss: 0.1412 - acc: 0.977 - ETA: 2s - loss: 0.1428 - acc: 0.977 - ETA: 2s - loss: 0.1432 - acc: 0.977 - ETA: 2s - loss: 0.1434 - acc: 0.977 - ETA: 2s - loss: 0.1426 - acc: 0.977 - ETA: 2s - loss: 0.1426 - acc: 0.977 - ETA: 2s - loss: 0.1426 - acc: 0.977 - ETA: 2s - loss: 0.1420 - acc: 0.977 - ETA: 1s - loss: 0.1426 - acc: 0.977 - ETA: 1s - loss: 0.1427 - acc: 0.977 - ETA: 1s - loss: 0.1425 - acc: 0.977 - ETA: 1s - loss: 0.1421 - acc: 0.977 - ETA: 1s - loss: 0.1422 - acc: 0.977 - ETA: 1s - loss: 0.1426 - acc: 0.977 - ETA: 1s - loss: 0.1420 - acc: 0.977 - ETA: 1s - loss: 0.1415 - acc: 0.977 - ETA: 1s - loss: 0.1415 - acc: 0.977 - ETA: 1s - loss: 0.1410 - acc: 0.977 - ETA: 1s - loss: 0.1409 - acc: 0.977 - ETA: 1s - loss: 0.1404 - acc: 0.977 - ETA: 1s - loss: 0.1396 - acc: 0.977 - ETA: 0s - loss: 0.1399 - acc: 0.977 - ETA: 0s - loss: 0.1395 - acc: 0.977 - ETA: 0s - loss: 0.1389 - acc: 0.977 - ETA: 0s - loss: 0.1388 - acc: 0.977 - ETA: 0s - loss: 0.1381 - acc: 0.977 - ETA: 0s - loss: 0.1384 - acc: 0.977 - ETA: 0s - loss: 0.1381 - acc: 0.977 - ETA: 0s - loss: 0.1378 - acc: 0.977 - ETA: 0s - loss: 0.1384 - acc: 0.977 - ETA: 0s - loss: 0.1383 - acc: 0.977 - ETA: 0s - loss: 0.1381 - acc: 0.977 - ETA: 0s - loss: 0.1381 - acc: 0.978 - ETA: 0s - loss: 0.1377 - acc: 0.978 - ETA: 0s - loss: 0.1373 - acc: 0.978 - ETA: 0s - loss: 0.1378 - acc: 0.978 - ETA: 0s - loss: 0.1381 - acc: 0.977 - 12s 245us/step - loss: 0.1378 - acc: 0.9779 - val_loss: 0.0886 - val_acc: 0.9868\n",
      "Epoch 3/5\n"
     ]
    },
    {
     "name": "stdout",
     "output_type": "stream",
     "text": [
      "48200/48200 [==============================] - ETA: 11s - loss: 0.1466 - acc: 0.97 - ETA: 11s - loss: 0.2041 - acc: 0.97 - ETA: 10s - loss: 0.1752 - acc: 0.97 - ETA: 10s - loss: 0.1377 - acc: 0.97 - ETA: 10s - loss: 0.1277 - acc: 0.97 - ETA: 10s - loss: 0.1447 - acc: 0.97 - ETA: 11s - loss: 0.1279 - acc: 0.98 - ETA: 11s - loss: 0.1186 - acc: 0.98 - ETA: 11s - loss: 0.1136 - acc: 0.98 - ETA: 10s - loss: 0.1205 - acc: 0.98 - ETA: 10s - loss: 0.1145 - acc: 0.98 - ETA: 10s - loss: 0.1183 - acc: 0.98 - ETA: 10s - loss: 0.1167 - acc: 0.97 - ETA: 10s - loss: 0.1122 - acc: 0.98 - ETA: 10s - loss: 0.1199 - acc: 0.98 - ETA: 10s - loss: 0.1177 - acc: 0.97 - ETA: 10s - loss: 0.1188 - acc: 0.97 - ETA: 9s - loss: 0.1219 - acc: 0.9801 - ETA: 9s - loss: 0.1228 - acc: 0.980 - ETA: 9s - loss: 0.1224 - acc: 0.980 - ETA: 9s - loss: 0.1204 - acc: 0.980 - ETA: 9s - loss: 0.1221 - acc: 0.980 - ETA: 9s - loss: 0.1187 - acc: 0.980 - ETA: 9s - loss: 0.1187 - acc: 0.980 - ETA: 9s - loss: 0.1208 - acc: 0.980 - ETA: 9s - loss: 0.1206 - acc: 0.980 - ETA: 9s - loss: 0.1187 - acc: 0.980 - ETA: 9s - loss: 0.1190 - acc: 0.980 - ETA: 9s - loss: 0.1189 - acc: 0.980 - ETA: 8s - loss: 0.1194 - acc: 0.980 - ETA: 8s - loss: 0.1189 - acc: 0.980 - ETA: 8s - loss: 0.1157 - acc: 0.981 - ETA: 8s - loss: 0.1186 - acc: 0.981 - ETA: 8s - loss: 0.1184 - acc: 0.980 - ETA: 8s - loss: 0.1182 - acc: 0.980 - ETA: 8s - loss: 0.1165 - acc: 0.981 - ETA: 8s - loss: 0.1168 - acc: 0.981 - ETA: 8s - loss: 0.1185 - acc: 0.980 - ETA: 8s - loss: 0.1179 - acc: 0.980 - ETA: 8s - loss: 0.1192 - acc: 0.980 - ETA: 8s - loss: 0.1219 - acc: 0.980 - ETA: 8s - loss: 0.1213 - acc: 0.980 - ETA: 7s - loss: 0.1205 - acc: 0.980 - ETA: 7s - loss: 0.1188 - acc: 0.980 - ETA: 7s - loss: 0.1194 - acc: 0.980 - ETA: 7s - loss: 0.1174 - acc: 0.981 - ETA: 7s - loss: 0.1147 - acc: 0.981 - ETA: 7s - loss: 0.1139 - acc: 0.981 - ETA: 7s - loss: 0.1129 - acc: 0.981 - ETA: 7s - loss: 0.1122 - acc: 0.981 - ETA: 7s - loss: 0.1129 - acc: 0.981 - ETA: 7s - loss: 0.1144 - acc: 0.980 - ETA: 7s - loss: 0.1146 - acc: 0.980 - ETA: 7s - loss: 0.1147 - acc: 0.980 - ETA: 7s - loss: 0.1143 - acc: 0.980 - ETA: 7s - loss: 0.1131 - acc: 0.980 - ETA: 7s - loss: 0.1150 - acc: 0.980 - ETA: 6s - loss: 0.1148 - acc: 0.980 - ETA: 6s - loss: 0.1139 - acc: 0.980 - ETA: 6s - loss: 0.1150 - acc: 0.980 - ETA: 6s - loss: 0.1163 - acc: 0.980 - ETA: 6s - loss: 0.1190 - acc: 0.980 - ETA: 6s - loss: 0.1178 - acc: 0.980 - ETA: 6s - loss: 0.1182 - acc: 0.980 - ETA: 6s - loss: 0.1187 - acc: 0.980 - ETA: 6s - loss: 0.1193 - acc: 0.980 - ETA: 6s - loss: 0.1200 - acc: 0.980 - ETA: 6s - loss: 0.1206 - acc: 0.980 - ETA: 6s - loss: 0.1198 - acc: 0.980 - ETA: 6s - loss: 0.1202 - acc: 0.980 - ETA: 6s - loss: 0.1212 - acc: 0.980 - ETA: 6s - loss: 0.1208 - acc: 0.980 - ETA: 6s - loss: 0.1194 - acc: 0.980 - ETA: 6s - loss: 0.1200 - acc: 0.980 - ETA: 5s - loss: 0.1195 - acc: 0.980 - ETA: 5s - loss: 0.1197 - acc: 0.980 - ETA: 5s - loss: 0.1189 - acc: 0.980 - ETA: 5s - loss: 0.1187 - acc: 0.980 - ETA: 5s - loss: 0.1194 - acc: 0.980 - ETA: 5s - loss: 0.1205 - acc: 0.980 - ETA: 5s - loss: 0.1200 - acc: 0.980 - ETA: 5s - loss: 0.1190 - acc: 0.980 - ETA: 5s - loss: 0.1180 - acc: 0.980 - ETA: 5s - loss: 0.1172 - acc: 0.980 - ETA: 5s - loss: 0.1171 - acc: 0.980 - ETA: 5s - loss: 0.1169 - acc: 0.980 - ETA: 5s - loss: 0.1164 - acc: 0.980 - ETA: 5s - loss: 0.1165 - acc: 0.980 - ETA: 5s - loss: 0.1155 - acc: 0.980 - ETA: 4s - loss: 0.1157 - acc: 0.980 - ETA: 4s - loss: 0.1159 - acc: 0.980 - ETA: 4s - loss: 0.1151 - acc: 0.980 - ETA: 4s - loss: 0.1150 - acc: 0.980 - ETA: 4s - loss: 0.1145 - acc: 0.980 - ETA: 4s - loss: 0.1151 - acc: 0.980 - ETA: 4s - loss: 0.1151 - acc: 0.980 - ETA: 4s - loss: 0.1158 - acc: 0.980 - ETA: 4s - loss: 0.1155 - acc: 0.980 - ETA: 4s - loss: 0.1160 - acc: 0.980 - ETA: 4s - loss: 0.1158 - acc: 0.980 - ETA: 4s - loss: 0.1172 - acc: 0.980 - ETA: 4s - loss: 0.1172 - acc: 0.980 - ETA: 3s - loss: 0.1170 - acc: 0.980 - ETA: 3s - loss: 0.1167 - acc: 0.980 - ETA: 3s - loss: 0.1164 - acc: 0.980 - ETA: 3s - loss: 0.1157 - acc: 0.980 - ETA: 3s - loss: 0.1165 - acc: 0.980 - ETA: 3s - loss: 0.1161 - acc: 0.980 - ETA: 3s - loss: 0.1161 - acc: 0.980 - ETA: 3s - loss: 0.1155 - acc: 0.980 - ETA: 3s - loss: 0.1157 - acc: 0.980 - ETA: 3s - loss: 0.1159 - acc: 0.980 - ETA: 3s - loss: 0.1158 - acc: 0.980 - ETA: 3s - loss: 0.1159 - acc: 0.980 - ETA: 3s - loss: 0.1153 - acc: 0.980 - ETA: 3s - loss: 0.1158 - acc: 0.980 - ETA: 3s - loss: 0.1159 - acc: 0.980 - ETA: 3s - loss: 0.1159 - acc: 0.980 - ETA: 3s - loss: 0.1152 - acc: 0.980 - ETA: 2s - loss: 0.1147 - acc: 0.980 - ETA: 2s - loss: 0.1160 - acc: 0.980 - ETA: 2s - loss: 0.1156 - acc: 0.980 - ETA: 2s - loss: 0.1160 - acc: 0.980 - ETA: 2s - loss: 0.1157 - acc: 0.980 - ETA: 2s - loss: 0.1160 - acc: 0.980 - ETA: 2s - loss: 0.1159 - acc: 0.980 - ETA: 2s - loss: 0.1157 - acc: 0.980 - ETA: 2s - loss: 0.1154 - acc: 0.980 - ETA: 2s - loss: 0.1158 - acc: 0.980 - ETA: 2s - loss: 0.1153 - acc: 0.980 - ETA: 2s - loss: 0.1159 - acc: 0.980 - ETA: 2s - loss: 0.1163 - acc: 0.980 - ETA: 2s - loss: 0.1161 - acc: 0.980 - ETA: 1s - loss: 0.1157 - acc: 0.980 - ETA: 1s - loss: 0.1152 - acc: 0.980 - ETA: 1s - loss: 0.1160 - acc: 0.980 - ETA: 1s - loss: 0.1161 - acc: 0.980 - ETA: 1s - loss: 0.1168 - acc: 0.980 - ETA: 1s - loss: 0.1169 - acc: 0.980 - ETA: 1s - loss: 0.1173 - acc: 0.979 - ETA: 1s - loss: 0.1171 - acc: 0.980 - ETA: 1s - loss: 0.1170 - acc: 0.980 - ETA: 1s - loss: 0.1171 - acc: 0.980 - ETA: 1s - loss: 0.1180 - acc: 0.979 - ETA: 1s - loss: 0.1190 - acc: 0.979 - ETA: 1s - loss: 0.1190 - acc: 0.979 - ETA: 1s - loss: 0.1190 - acc: 0.979 - ETA: 1s - loss: 0.1189 - acc: 0.979 - ETA: 0s - loss: 0.1188 - acc: 0.979 - ETA: 0s - loss: 0.1192 - acc: 0.979 - ETA: 0s - loss: 0.1190 - acc: 0.979 - ETA: 0s - loss: 0.1192 - acc: 0.979 - ETA: 0s - loss: 0.1191 - acc: 0.979 - ETA: 0s - loss: 0.1192 - acc: 0.979 - ETA: 0s - loss: 0.1191 - acc: 0.979 - ETA: 0s - loss: 0.1194 - acc: 0.979 - ETA: 0s - loss: 0.1192 - acc: 0.979 - ETA: 0s - loss: 0.1188 - acc: 0.979 - ETA: 0s - loss: 0.1187 - acc: 0.979 - ETA: 0s - loss: 0.1185 - acc: 0.979 - ETA: 0s - loss: 0.1188 - acc: 0.979 - ETA: 0s - loss: 0.1186 - acc: 0.979 - 12s 239us/step - loss: 0.1194 - acc: 0.9793 - val_loss: 0.0906 - val_acc: 0.9872\n",
      "Epoch 4/5\n",
      "48200/48200 [==============================] - ETA: 11s - loss: 0.0671 - acc: 0.99 - ETA: 11s - loss: 0.1038 - acc: 0.98 - ETA: 11s - loss: 0.1461 - acc: 0.97 - ETA: 11s - loss: 0.1395 - acc: 0.97 - ETA: 11s - loss: 0.1427 - acc: 0.97 - ETA: 11s - loss: 0.1270 - acc: 0.97 - ETA: 10s - loss: 0.1535 - acc: 0.97 - ETA: 10s - loss: 0.1469 - acc: 0.97 - ETA: 10s - loss: 0.1418 - acc: 0.97 - ETA: 10s - loss: 0.1376 - acc: 0.97 - ETA: 10s - loss: 0.1427 - acc: 0.97 - ETA: 10s - loss: 0.1463 - acc: 0.97 - ETA: 10s - loss: 0.1455 - acc: 0.97 - ETA: 10s - loss: 0.1372 - acc: 0.97 - ETA: 9s - loss: 0.1413 - acc: 0.9773 - ETA: 9s - loss: 0.1367 - acc: 0.977 - ETA: 9s - loss: 0.1344 - acc: 0.977 - ETA: 9s - loss: 0.1353 - acc: 0.977 - ETA: 9s - loss: 0.1357 - acc: 0.977 - ETA: 9s - loss: 0.1344 - acc: 0.976 - ETA: 9s - loss: 0.1341 - acc: 0.976 - ETA: 9s - loss: 0.1335 - acc: 0.976 - ETA: 9s - loss: 0.1301 - acc: 0.977 - ETA: 9s - loss: 0.1342 - acc: 0.977 - ETA: 9s - loss: 0.1349 - acc: 0.977 - ETA: 9s - loss: 0.1300 - acc: 0.977 - ETA: 9s - loss: 0.1284 - acc: 0.977 - ETA: 8s - loss: 0.1255 - acc: 0.977 - ETA: 8s - loss: 0.1241 - acc: 0.978 - ETA: 8s - loss: 0.1223 - acc: 0.978 - ETA: 8s - loss: 0.1219 - acc: 0.978 - ETA: 8s - loss: 0.1199 - acc: 0.978 - ETA: 8s - loss: 0.1176 - acc: 0.979 - ETA: 8s - loss: 0.1150 - acc: 0.979 - ETA: 8s - loss: 0.1136 - acc: 0.979 - ETA: 8s - loss: 0.1130 - acc: 0.979 - ETA: 8s - loss: 0.1126 - acc: 0.979 - ETA: 8s - loss: 0.1145 - acc: 0.979 - ETA: 8s - loss: 0.1137 - acc: 0.979 - ETA: 8s - loss: 0.1123 - acc: 0.980 - ETA: 8s - loss: 0.1109 - acc: 0.980 - ETA: 8s - loss: 0.1079 - acc: 0.980 - ETA: 8s - loss: 0.1072 - acc: 0.981 - ETA: 8s - loss: 0.1084 - acc: 0.981 - ETA: 8s - loss: 0.1105 - acc: 0.981 - ETA: 8s - loss: 0.1086 - acc: 0.981 - ETA: 7s - loss: 0.1105 - acc: 0.981 - ETA: 7s - loss: 0.1101 - acc: 0.981 - ETA: 7s - loss: 0.1099 - acc: 0.981 - ETA: 7s - loss: 0.1101 - acc: 0.981 - ETA: 7s - loss: 0.1107 - acc: 0.981 - ETA: 7s - loss: 0.1092 - acc: 0.981 - ETA: 7s - loss: 0.1098 - acc: 0.981 - ETA: 7s - loss: 0.1105 - acc: 0.981 - ETA: 7s - loss: 0.1095 - acc: 0.981 - ETA: 7s - loss: 0.1119 - acc: 0.981 - ETA: 7s - loss: 0.1132 - acc: 0.981 - ETA: 7s - loss: 0.1122 - acc: 0.981 - ETA: 7s - loss: 0.1128 - acc: 0.981 - ETA: 6s - loss: 0.1109 - acc: 0.981 - ETA: 6s - loss: 0.1104 - acc: 0.981 - ETA: 6s - loss: 0.1109 - acc: 0.981 - ETA: 6s - loss: 0.1096 - acc: 0.981 - ETA: 6s - loss: 0.1097 - acc: 0.981 - ETA: 6s - loss: 0.1119 - acc: 0.981 - ETA: 6s - loss: 0.1109 - acc: 0.981 - ETA: 6s - loss: 0.1114 - acc: 0.981 - ETA: 6s - loss: 0.1122 - acc: 0.981 - ETA: 6s - loss: 0.1112 - acc: 0.981 - ETA: 6s - loss: 0.1135 - acc: 0.981 - ETA: 6s - loss: 0.1137 - acc: 0.981 - ETA: 6s - loss: 0.1130 - acc: 0.981 - ETA: 5s - loss: 0.1141 - acc: 0.980 - ETA: 5s - loss: 0.1135 - acc: 0.981 - ETA: 5s - loss: 0.1142 - acc: 0.980 - ETA: 5s - loss: 0.1140 - acc: 0.980 - ETA: 5s - loss: 0.1130 - acc: 0.980 - ETA: 5s - loss: 0.1122 - acc: 0.980 - ETA: 5s - loss: 0.1125 - acc: 0.980 - ETA: 5s - loss: 0.1116 - acc: 0.981 - ETA: 5s - loss: 0.1118 - acc: 0.981 - ETA: 5s - loss: 0.1124 - acc: 0.981 - ETA: 5s - loss: 0.1120 - acc: 0.981 - ETA: 5s - loss: 0.1118 - acc: 0.981 - ETA: 5s - loss: 0.1121 - acc: 0.981 - ETA: 5s - loss: 0.1118 - acc: 0.981 - ETA: 4s - loss: 0.1129 - acc: 0.981 - ETA: 4s - loss: 0.1123 - acc: 0.981 - ETA: 4s - loss: 0.1121 - acc: 0.981 - ETA: 4s - loss: 0.1123 - acc: 0.981 - ETA: 4s - loss: 0.1113 - acc: 0.981 - ETA: 4s - loss: 0.1112 - acc: 0.981 - ETA: 4s - loss: 0.1121 - acc: 0.981 - ETA: 4s - loss: 0.1128 - acc: 0.981 - ETA: 4s - loss: 0.1115 - acc: 0.981 - ETA: 4s - loss: 0.1114 - acc: 0.981 - ETA: 4s - loss: 0.1107 - acc: 0.981 - ETA: 4s - loss: 0.1103 - acc: 0.981 - ETA: 4s - loss: 0.1099 - acc: 0.981 - ETA: 4s - loss: 0.1104 - acc: 0.981 - ETA: 3s - loss: 0.1108 - acc: 0.981 - ETA: 3s - loss: 0.1112 - acc: 0.981 - ETA: 3s - loss: 0.1107 - acc: 0.981 - ETA: 3s - loss: 0.1112 - acc: 0.981 - ETA: 3s - loss: 0.1111 - acc: 0.981 - ETA: 3s - loss: 0.1120 - acc: 0.981 - ETA: 3s - loss: 0.1117 - acc: 0.981 - ETA: 3s - loss: 0.1119 - acc: 0.981 - ETA: 3s - loss: 0.1124 - acc: 0.981 - ETA: 3s - loss: 0.1123 - acc: 0.981 - ETA: 3s - loss: 0.1113 - acc: 0.981 - ETA: 3s - loss: 0.1108 - acc: 0.981 - ETA: 3s - loss: 0.1106 - acc: 0.981 - ETA: 3s - loss: 0.1103 - acc: 0.981 - ETA: 2s - loss: 0.1105 - acc: 0.981 - ETA: 2s - loss: 0.1112 - acc: 0.981 - ETA: 2s - loss: 0.1115 - acc: 0.981 - ETA: 2s - loss: 0.1117 - acc: 0.981 - ETA: 2s - loss: 0.1113 - acc: 0.981 - ETA: 2s - loss: 0.1118 - acc: 0.981 - ETA: 2s - loss: 0.1112 - acc: 0.981 - ETA: 2s - loss: 0.1116 - acc: 0.981 - ETA: 2s - loss: 0.1113 - acc: 0.981 - ETA: 2s - loss: 0.1111 - acc: 0.981 - ETA: 2s - loss: 0.1106 - acc: 0.981 - ETA: 2s - loss: 0.1110 - acc: 0.981 - ETA: 2s - loss: 0.1112 - acc: 0.981 - ETA: 2s - loss: 0.1110 - acc: 0.981 - ETA: 2s - loss: 0.1104 - acc: 0.981 - ETA: 1s - loss: 0.1109 - acc: 0.981 - ETA: 1s - loss: 0.1103 - acc: 0.981 - ETA: 1s - loss: 0.1109 - acc: 0.981 - ETA: 1s - loss: 0.1120 - acc: 0.981 - ETA: 1s - loss: 0.1118 - acc: 0.981 - ETA: 1s - loss: 0.1126 - acc: 0.981 - ETA: 1s - loss: 0.1121 - acc: 0.981 - ETA: 1s - loss: 0.1118 - acc: 0.981 - ETA: 1s - loss: 0.1120 - acc: 0.981 - ETA: 1s - loss: 0.1122 - acc: 0.981 - ETA: 1s - loss: 0.1121 - acc: 0.981 - ETA: 1s - loss: 0.1124 - acc: 0.981 - ETA: 1s - loss: 0.1122 - acc: 0.981 - ETA: 1s - loss: 0.1123 - acc: 0.981 - ETA: 0s - loss: 0.1123 - acc: 0.981 - ETA: 0s - loss: 0.1122 - acc: 0.981 - ETA: 0s - loss: 0.1124 - acc: 0.981 - ETA: 0s - loss: 0.1122 - acc: 0.981 - ETA: 0s - loss: 0.1124 - acc: 0.981 - ETA: 0s - loss: 0.1124 - acc: 0.981 - ETA: 0s - loss: 0.1129 - acc: 0.981 - ETA: 0s - loss: 0.1132 - acc: 0.981 - ETA: 0s - loss: 0.1131 - acc: 0.981 - ETA: 0s - loss: 0.1129 - acc: 0.981 - ETA: 0s - loss: 0.1127 - acc: 0.981 - ETA: 0s - loss: 0.1126 - acc: 0.981 - ETA: 0s - loss: 0.1123 - acc: 0.981 - ETA: 0s - loss: 0.1122 - acc: 0.981 - ETA: 0s - loss: 0.1119 - acc: 0.981 - ETA: 0s - loss: 0.1118 - acc: 0.981 - ETA: 0s - loss: 0.1118 - acc: 0.981 - ETA: 0s - loss: 0.1117 - acc: 0.981 - 12s 239us/step - loss: 0.1116 - acc: 0.9813 - val_loss: 0.0684 - val_acc: 0.9896\n",
      "Epoch 5/5\n"
     ]
    },
    {
     "name": "stdout",
     "output_type": "stream",
     "text": [
      "48200/48200 [==============================] - ETA: 11s - loss: 0.1470 - acc: 0.98 - ETA: 11s - loss: 0.1403 - acc: 0.97 - ETA: 11s - loss: 0.1047 - acc: 0.97 - ETA: 11s - loss: 0.0904 - acc: 0.98 - ETA: 11s - loss: 0.1151 - acc: 0.98 - ETA: 11s - loss: 0.1262 - acc: 0.98 - ETA: 11s - loss: 0.1123 - acc: 0.98 - ETA: 11s - loss: 0.1108 - acc: 0.98 - ETA: 10s - loss: 0.1020 - acc: 0.98 - ETA: 10s - loss: 0.1017 - acc: 0.98 - ETA: 10s - loss: 0.1046 - acc: 0.98 - ETA: 10s - loss: 0.1079 - acc: 0.98 - ETA: 10s - loss: 0.1109 - acc: 0.98 - ETA: 10s - loss: 0.1207 - acc: 0.98 - ETA: 10s - loss: 0.1164 - acc: 0.98 - ETA: 10s - loss: 0.1171 - acc: 0.98 - ETA: 10s - loss: 0.1121 - acc: 0.98 - ETA: 10s - loss: 0.1149 - acc: 0.98 - ETA: 10s - loss: 0.1130 - acc: 0.98 - ETA: 10s - loss: 0.1168 - acc: 0.97 - ETA: 10s - loss: 0.1176 - acc: 0.97 - ETA: 9s - loss: 0.1130 - acc: 0.9797 - ETA: 10s - loss: 0.1100 - acc: 0.98 - ETA: 9s - loss: 0.1102 - acc: 0.9802 - ETA: 9s - loss: 0.1098 - acc: 0.980 - ETA: 9s - loss: 0.1088 - acc: 0.980 - ETA: 9s - loss: 0.1112 - acc: 0.980 - ETA: 9s - loss: 0.1122 - acc: 0.980 - ETA: 9s - loss: 0.1157 - acc: 0.980 - ETA: 9s - loss: 0.1132 - acc: 0.980 - ETA: 9s - loss: 0.1128 - acc: 0.980 - ETA: 9s - loss: 0.1155 - acc: 0.980 - ETA: 9s - loss: 0.1166 - acc: 0.980 - ETA: 9s - loss: 0.1165 - acc: 0.980 - ETA: 9s - loss: 0.1135 - acc: 0.981 - ETA: 9s - loss: 0.1128 - acc: 0.981 - ETA: 9s - loss: 0.1135 - acc: 0.981 - ETA: 8s - loss: 0.1136 - acc: 0.981 - ETA: 8s - loss: 0.1153 - acc: 0.980 - ETA: 8s - loss: 0.1145 - acc: 0.980 - ETA: 8s - loss: 0.1136 - acc: 0.980 - ETA: 8s - loss: 0.1130 - acc: 0.980 - ETA: 8s - loss: 0.1128 - acc: 0.981 - ETA: 8s - loss: 0.1122 - acc: 0.981 - ETA: 8s - loss: 0.1133 - acc: 0.980 - ETA: 8s - loss: 0.1114 - acc: 0.980 - ETA: 8s - loss: 0.1109 - acc: 0.980 - ETA: 8s - loss: 0.1101 - acc: 0.980 - ETA: 8s - loss: 0.1091 - acc: 0.981 - ETA: 8s - loss: 0.1123 - acc: 0.980 - ETA: 8s - loss: 0.1106 - acc: 0.980 - ETA: 7s - loss: 0.1097 - acc: 0.980 - ETA: 7s - loss: 0.1144 - acc: 0.980 - ETA: 7s - loss: 0.1131 - acc: 0.980 - ETA: 7s - loss: 0.1125 - acc: 0.980 - ETA: 7s - loss: 0.1132 - acc: 0.980 - ETA: 7s - loss: 0.1131 - acc: 0.980 - ETA: 7s - loss: 0.1151 - acc: 0.980 - ETA: 7s - loss: 0.1146 - acc: 0.980 - ETA: 7s - loss: 0.1128 - acc: 0.980 - ETA: 7s - loss: 0.1128 - acc: 0.980 - ETA: 7s - loss: 0.1128 - acc: 0.980 - ETA: 6s - loss: 0.1127 - acc: 0.980 - ETA: 6s - loss: 0.1115 - acc: 0.980 - ETA: 6s - loss: 0.1122 - acc: 0.980 - ETA: 6s - loss: 0.1114 - acc: 0.981 - ETA: 6s - loss: 0.1102 - acc: 0.981 - ETA: 6s - loss: 0.1098 - acc: 0.981 - ETA: 6s - loss: 0.1104 - acc: 0.981 - ETA: 6s - loss: 0.1111 - acc: 0.981 - ETA: 6s - loss: 0.1108 - acc: 0.981 - ETA: 6s - loss: 0.1114 - acc: 0.981 - ETA: 6s - loss: 0.1109 - acc: 0.981 - ETA: 6s - loss: 0.1097 - acc: 0.981 - ETA: 6s - loss: 0.1084 - acc: 0.981 - ETA: 5s - loss: 0.1088 - acc: 0.981 - ETA: 5s - loss: 0.1082 - acc: 0.981 - ETA: 5s - loss: 0.1079 - acc: 0.981 - ETA: 5s - loss: 0.1078 - acc: 0.981 - ETA: 5s - loss: 0.1092 - acc: 0.981 - ETA: 5s - loss: 0.1087 - acc: 0.981 - ETA: 5s - loss: 0.1082 - acc: 0.981 - ETA: 5s - loss: 0.1073 - acc: 0.981 - ETA: 5s - loss: 0.1073 - acc: 0.981 - ETA: 5s - loss: 0.1072 - acc: 0.981 - ETA: 5s - loss: 0.1078 - acc: 0.981 - ETA: 5s - loss: 0.1072 - acc: 0.981 - ETA: 5s - loss: 0.1071 - acc: 0.981 - ETA: 5s - loss: 0.1075 - acc: 0.981 - ETA: 4s - loss: 0.1073 - acc: 0.981 - ETA: 4s - loss: 0.1069 - acc: 0.981 - ETA: 4s - loss: 0.1065 - acc: 0.981 - ETA: 4s - loss: 0.1067 - acc: 0.981 - ETA: 4s - loss: 0.1065 - acc: 0.981 - ETA: 4s - loss: 0.1064 - acc: 0.981 - ETA: 4s - loss: 0.1076 - acc: 0.981 - ETA: 4s - loss: 0.1080 - acc: 0.981 - ETA: 4s - loss: 0.1083 - acc: 0.981 - ETA: 4s - loss: 0.1076 - acc: 0.981 - ETA: 4s - loss: 0.1072 - acc: 0.981 - ETA: 4s - loss: 0.1073 - acc: 0.982 - ETA: 4s - loss: 0.1083 - acc: 0.981 - ETA: 3s - loss: 0.1081 - acc: 0.981 - ETA: 3s - loss: 0.1083 - acc: 0.981 - ETA: 3s - loss: 0.1079 - acc: 0.981 - ETA: 3s - loss: 0.1072 - acc: 0.982 - ETA: 3s - loss: 0.1067 - acc: 0.982 - ETA: 3s - loss: 0.1081 - acc: 0.981 - ETA: 3s - loss: 0.1093 - acc: 0.981 - ETA: 3s - loss: 0.1092 - acc: 0.981 - ETA: 3s - loss: 0.1087 - acc: 0.981 - ETA: 3s - loss: 0.1086 - acc: 0.981 - ETA: 3s - loss: 0.1081 - acc: 0.981 - ETA: 3s - loss: 0.1089 - acc: 0.981 - ETA: 3s - loss: 0.1093 - acc: 0.981 - ETA: 2s - loss: 0.1087 - acc: 0.981 - ETA: 2s - loss: 0.1089 - acc: 0.981 - ETA: 2s - loss: 0.1093 - acc: 0.981 - ETA: 2s - loss: 0.1100 - acc: 0.981 - ETA: 2s - loss: 0.1095 - acc: 0.981 - ETA: 2s - loss: 0.1093 - acc: 0.981 - ETA: 2s - loss: 0.1096 - acc: 0.981 - ETA: 2s - loss: 0.1099 - acc: 0.981 - ETA: 2s - loss: 0.1098 - acc: 0.981 - ETA: 2s - loss: 0.1096 - acc: 0.981 - ETA: 2s - loss: 0.1110 - acc: 0.981 - ETA: 2s - loss: 0.1135 - acc: 0.980 - ETA: 2s - loss: 0.1131 - acc: 0.980 - ETA: 2s - loss: 0.1153 - acc: 0.980 - ETA: 1s - loss: 0.1155 - acc: 0.980 - ETA: 1s - loss: 0.1163 - acc: 0.980 - ETA: 1s - loss: 0.1168 - acc: 0.980 - ETA: 1s - loss: 0.1176 - acc: 0.980 - ETA: 1s - loss: 0.1177 - acc: 0.979 - ETA: 1s - loss: 0.1179 - acc: 0.979 - ETA: 1s - loss: 0.1192 - acc: 0.979 - ETA: 1s - loss: 0.1192 - acc: 0.979 - ETA: 1s - loss: 0.1199 - acc: 0.979 - ETA: 1s - loss: 0.1203 - acc: 0.979 - ETA: 1s - loss: 0.1202 - acc: 0.979 - ETA: 1s - loss: 0.1214 - acc: 0.979 - ETA: 1s - loss: 0.1223 - acc: 0.979 - ETA: 1s - loss: 0.1227 - acc: 0.979 - ETA: 0s - loss: 0.1230 - acc: 0.979 - ETA: 0s - loss: 0.1241 - acc: 0.979 - ETA: 0s - loss: 0.1237 - acc: 0.979 - ETA: 0s - loss: 0.1242 - acc: 0.979 - ETA: 0s - loss: 0.1235 - acc: 0.979 - ETA: 0s - loss: 0.1236 - acc: 0.979 - ETA: 0s - loss: 0.1239 - acc: 0.979 - ETA: 0s - loss: 0.1235 - acc: 0.979 - ETA: 0s - loss: 0.1243 - acc: 0.979 - ETA: 0s - loss: 0.1240 - acc: 0.979 - ETA: 0s - loss: 0.1239 - acc: 0.979 - ETA: 0s - loss: 0.1235 - acc: 0.979 - ETA: 0s - loss: 0.1238 - acc: 0.979 - 11s 235us/step - loss: 0.1235 - acc: 0.9792 - val_loss: 0.1446 - val_acc: 0.9825\n"
     ]
    },
    {
     "data": {
      "text/plain": [
       "<tensorflow.python.keras.callbacks.History at 0x212c22549e8>"
      ]
     },
     "execution_count": 29,
     "metadata": {},
     "output_type": "execute_result"
    }
   ],
   "source": [
    "model.fit(\n",
    "    [x_train],\n",
    "    [y_train],\n",
    "    batch_size=128,\n",
    "    epochs=5,\n",
    "    validation_data=([x_test],[y_test])\n",
    ")"
   ]
  },
  {
   "cell_type": "markdown",
   "metadata": {},
   "source": [
    "The piece of code below returns the predicted accuracy of the model on the validation set. The validation set is composed of pairs of images and the model has to decide if this pair of images represents the same images or not. The accuracy evaluates its ability to correctly indentify a good pair in the model or correctly rejecting a bad one. We compute the distance between two embeddings vectors to compute the model prediction"
   ]
  },
  {
   "cell_type": "code",
   "execution_count": 30,
   "metadata": {
    "scrolled": true
   },
   "outputs": [
    {
     "data": {
      "text/plain": [
       "[<tensorflow.python.keras.engine.input_layer.InputLayer at 0x212b991bfd0>,\n",
       " <tensorflow.python.keras.layers.convolutional.Conv2D at 0x212b9918080>,\n",
       " <tensorflow.python.keras.layers.convolutional.Conv2D at 0x212b9918240>,\n",
       " <tensorflow.python.keras.layers.pooling.MaxPooling2D at 0x212b9918ba8>,\n",
       " <tensorflow.python.keras.layers.core.Dropout at 0x212b99187b8>,\n",
       " <tensorflow.python.keras.layers.core.Flatten at 0x212b9918860>,\n",
       " <tensorflow.python.keras.layers.core.Dense at 0x212b9924ef0>,\n",
       " <tensorflow.python.keras.layers.core.Dropout at 0x212b9962d30>,\n",
       " <tensorflow.python.keras.layers.core.Dense at 0x212b9962f60>]"
      ]
     },
     "execution_count": 30,
     "metadata": {},
     "output_type": "execute_result"
    }
   ],
   "source": [
    "mod = tf.keras.Model(model.layers[0].input, model.layers[-2].output)\n",
    "mod.layers"
   ]
  },
  {
   "cell_type": "code",
   "execution_count": 34,
   "metadata": {},
   "outputs": [
    {
     "data": {
      "text/plain": [
       "array([[0., 0., 0., ..., 1., 0., 0.],\n",
       "       [1., 0., 0., ..., 0., 0., 0.],\n",
       "       [0., 0., 0., ..., 0., 0., 0.],\n",
       "       ...,\n",
       "       [0., 0., 0., ..., 0., 0., 0.],\n",
       "       [0., 0., 0., ..., 1., 0., 0.],\n",
       "       [0., 0., 0., ..., 0., 1., 0.]], dtype=float32)"
      ]
     },
     "execution_count": 34,
     "metadata": {},
     "output_type": "execute_result"
    }
   ],
   "source": [
    "y_train"
   ]
  },
  {
   "cell_type": "code",
   "execution_count": 36,
   "metadata": {},
   "outputs": [
    {
     "name": "stdout",
     "output_type": "stream",
     "text": [
      "[-1.222469   2.2506027  2.660291 ]\n",
      "[-1.2795771  1.4958158  2.2156096]\n",
      "[-0.92281145  2.2994103   1.825941  ]\n",
      "[-1.604319   1.5813861  2.9419658]\n",
      "[-0.25879228  1.0201457   1.8521013 ]\n",
      "[-1.8367114  2.278872   3.148376 ]\n",
      "[-0.6717158   0.36145443  1.0905459 ]\n",
      "[-1.0725374  1.3340237  1.9719963]\n",
      "[-1.069055   1.5998819  1.9537525]\n",
      "[-1.8593919  2.2822096  3.9964497]\n",
      "[-2.418324   2.1673317  3.5004356]\n",
      "[-2.13125    2.0738149  3.6639445]\n"
     ]
    }
   ],
   "source": [
    "for i in range(100):\n",
    "    if np.argmax(y_train[i])==4:\n",
    "        print(predict[i])"
   ]
  },
  {
   "cell_type": "code",
   "execution_count": 33,
   "metadata": {
    "scrolled": false
   },
   "outputs": [
    {
     "name": "stdout",
     "output_type": "stream",
     "text": [
      "3\n"
     ]
    },
    {
     "data": {
      "text/plain": [
       "array([[ 2.035328  , -3.7085228 ,  0.9583403 ],\n",
       "       [ 0.30475223, -3.8464775 , -2.4406123 ],\n",
       "       [-1.222469  ,  2.2506027 ,  2.660291  ],\n",
       "       ...,\n",
       "       [ 8.959661  , -4.08996   , -3.5287194 ],\n",
       "       [-1.6217207 , -6.745757  ,  4.4861174 ],\n",
       "       [-2.7662365 , -1.4557369 , -0.3838599 ]], dtype=float32)"
      ]
     },
     "execution_count": 33,
     "metadata": {},
     "output_type": "execute_result"
    }
   ],
   "source": [
    "predict=mod.predict(x_train)\n",
    "print(len(predict[0]))\n",
    "predict"
   ]
  },
  {
   "cell_type": "code",
   "execution_count": 32,
   "metadata": {},
   "outputs": [
    {
     "name": "stdout",
     "output_type": "stream",
     "text": [
      "1.1400000000000001\n",
      "0.7166\n"
     ]
    }
   ],
   "source": [
    "for i in range(len(predict)):\n",
    "    predict[i] = predict[i]/np.linalg.norm(predict[i])\n",
    "\n",
    "# Normalizes\n",
    "#emb = tf.math.l2_normalize(emb_,0)\n",
    "\n",
    "# Separates the pairs\n",
    "emb1 = predict[0::2]\n",
    "emb2 = predict[1::2]\n",
    "\n",
    "# Computes distance between pairs\n",
    "diff = np.square(emb1-emb2)\n",
    "dist = np.sum(diff,1)\n",
    "\n",
    "best = 0\n",
    "best_t = 0\n",
    "thresholds = np.arange(0,4,0.01)\n",
    "for i in range(len(thresholds)):\n",
    "    less = np.less(dist, thresholds[i])\n",
    "    acc = np.logical_not(np.logical_xor(less, issame[0::2]))\n",
    "    acc = acc.astype(float)\n",
    "    out = np.sum(acc)\n",
    "    out = out/len(acc)\n",
    "    if out > best:\n",
    "        best_t = thresholds[i]\n",
    "        best = out\n",
    "\n",
    "print(best_t)\n",
    "print(best)"
   ]
  },
  {
   "cell_type": "code",
   "execution_count": 28,
   "metadata": {
    "scrolled": true
   },
   "outputs": [
    {
     "name": "stdout",
     "output_type": "stream",
     "text": [
      "For out=8\n",
      "[ 0.6789282  -0.20618166 -0.7046599 ]\n",
      "[ 0.01885007 -0.8925208  -0.45061222]\n",
      "[-0.37101886 -0.927535    0.04498752]\n",
      "[ 0.7092516 -0.275286  -0.6489836]\n",
      "[ 0.4349809   0.79985225 -0.41355532]\n",
      "[ 0.09678148 -0.86734384 -0.48820907]\n",
      "[ 0.95458746 -0.01850358 -0.29735595]\n",
      "[ 0.27384564 -0.811192   -0.51669735]\n",
      "[-0.38721666  0.8883745  -0.24668595]\n",
      "[ 0.38524598 -0.8787014  -0.2819031 ]\n",
      "[0.06257431 0.9519171  0.29989713]\n",
      "[ 0.69298357 -0.3861992  -0.60878897]\n",
      "[ 0.37679875 -0.76613104 -0.5206399 ]\n",
      "[ 0.16391426 -0.91319406 -0.37310693]\n",
      "[ 0.5471594   0.59842885 -0.5852346 ]\n",
      "[ 0.90900916  0.04971976 -0.41379988]\n",
      "[ 0.8012651   0.15588956 -0.577644  ]\n",
      "[0.17459138 0.3657722  0.9141819 ]\n",
      "[ 0.44113278  0.5636355  -0.6983673 ]\n",
      "[-0.01781899 -0.93439007 -0.35580558]\n",
      "[-0.39170986 -0.7252056   0.56625104]\n",
      "[-0.4807252  -0.84071404  0.24920523]\n",
      "[-0.10991403  0.77207804  0.62595075]\n",
      "[ 0.8042612   0.4046466  -0.43522993]\n",
      "[ 0.6808763   0.53806525 -0.49688348]\n",
      "[-0.19593625 -0.97986597 -0.03836231]\n",
      "[-0.85305536 -0.5010146  -0.14587976]\n",
      "[ 0.55608356 -0.58634704 -0.5890401 ]\n",
      "[-0.6797449  -0.70071244  0.21667698]\n",
      "[ 0.49976906  0.65418214 -0.5676941 ]\n",
      "[ 0.40642375 -0.87170565 -0.27376795]\n",
      "[ 0.46408883 -0.5877876  -0.66266674]\n",
      "[ 0.01538304 -0.904089   -0.4270674 ]\n",
      "[ 0.32089454 -0.8922546   0.3176608 ]\n",
      "[ 0.7748759  -0.11252462 -0.6220173 ]\n",
      "[ 0.5885659   0.5484428  -0.59397036]\n",
      "[ 0.6000847  -0.21927735  0.7692957 ]\n",
      "[ 0.5087191   0.15766352 -0.8463729 ]\n",
      "[ 0.5972444   0.49634686 -0.630031  ]\n",
      "[-0.3702126  0.7208534 -0.5859293]\n",
      "[ 0.7750224 -0.3811463 -0.5040514]\n",
      "[ 0.4272155   0.72849166 -0.5355247 ]\n",
      "[ 0.56305754  0.58752155 -0.5811924 ]\n",
      "[ 0.57883054  0.6432248  -0.5012156 ]\n",
      "[-0.05366481 -0.99228776  0.11173613]\n",
      "For out=9\n",
      "[0.6187602  0.40369278 0.67391974]\n",
      "[0.5650259  0.21115635 0.79759556]\n",
      "[0.40705454 0.5370682  0.73882633]\n",
      "[-0.33450192  0.3997483   0.8534107 ]\n",
      "[-0.05587399  0.84026974  0.53928185]\n",
      "[0.54747766 0.39305815 0.7387648 ]\n",
      "[-0.20995767  0.41860887  0.8835635 ]\n",
      "[-0.1547298  0.5076044  0.8475827]\n",
      "[ 0.5310765  -0.72105867  0.4450081 ]\n",
      "[-0.38878298  0.23649092  0.89046043]\n",
      "[0.48237106 0.5521136  0.68006516]\n",
      "[0.6047154 0.4652727 0.6464059]\n",
      "[ 0.7758148  -0.6290089   0.04959109]\n",
      "[-0.2431251  0.6301811  0.7374023]\n",
      "[0.27483904 0.34525537 0.897364  ]\n",
      "[0.25326508 0.54107356 0.8019329 ]\n",
      "[-0.1730298   0.59554696  0.78446454]\n",
      "[0.4749074  0.4738546  0.74156904]\n",
      "[0.5393388  0.18571821 0.821354  ]\n",
      "[-0.03033677  0.39762333  0.9170471 ]\n",
      "[0.5597618  0.44807363 0.69706297]\n",
      "[-0.3522731  0.4507455  0.8202025]\n",
      "[-0.03586073 -0.08897814  0.9953878 ]\n",
      "[0.96161026 0.12797745 0.24274975]\n",
      "[0.70493984 0.20558871 0.6788174 ]\n",
      "[-0.25914374 -0.73865336  0.6222827 ]\n",
      "[-0.14827742  0.35199344  0.92418313]\n",
      "[0.02390355 0.7337391  0.6790107 ]\n",
      "[ 0.28922996 -0.75156957 -0.59286535]\n",
      "[-0.16701242  0.47795635  0.8623599 ]\n",
      "[0.72914857 0.18189633 0.65973943]\n",
      "[0.6675146  0.38029554 0.64015585]\n",
      "[-0.2922964   0.7004128   0.65114105]\n",
      "[-0.4775776  -0.01178533  0.87851053]\n",
      "[-0.09888244 -0.06482077  0.99298567]\n",
      "[0.64544725 0.39928344 0.65113014]\n",
      "[-0.47665638 -0.43640834  0.76311624]\n",
      "[0.59029627 0.45532924 0.66650254]\n",
      "[0.36173353 0.29835972 0.8832499 ]\n",
      "[-0.28410664  0.5741214   0.76789844]\n",
      "[0.4530853  0.48133028 0.75035644]\n",
      "[0.5596762  0.44883043 0.69664466]\n",
      "[-0.34669018  0.5850073   0.7331933 ]\n",
      "[0.3695403  0.5279102  0.76469004]\n",
      "[0.0026267  0.45059168 0.89272624]\n",
      "[0.4503543  0.24386124 0.858902  ]\n",
      "[ 0.03492937 -0.5729827   0.8188228 ]\n",
      "[0.6007986  0.36848179 0.7094098 ]\n",
      "[-0.22689962  0.5792133   0.78296137]\n",
      "[0.66938597 0.43537536 0.60197234]\n",
      "[-0.07228711  0.72844094  0.68128437]\n",
      "[-0.15031804 -0.84533024 -0.512661  ]\n",
      "[ 0.4238166  -0.14913942  0.8933851 ]\n",
      "[-0.20057115  0.5191812   0.83079606]\n",
      "[-0.28098342  0.6433215   0.7121697 ]\n"
     ]
    }
   ],
   "source": [
    "print(\"For out=8\")\n",
    "for i in range(100):\n",
    "    if y_pairs[i][8]==1:\n",
    "        print(predict[i])\n",
    "print(\"For out=9\")\n",
    "for i in range(100):\n",
    "    if y_pairs[i][9]==1:\n",
    "        print(predict[i])"
   ]
  },
  {
   "cell_type": "code",
   "execution_count": 59,
   "metadata": {},
   "outputs": [],
   "source": [
    "%matplotlib notebook"
   ]
  },
  {
   "cell_type": "code",
   "execution_count": 23,
   "metadata": {},
   "outputs": [
    {
     "name": "stderr",
     "output_type": "stream",
     "text": [
      "c:\\users\\guillaume\\anaconda3\\lib\\site-packages\\ipykernel_launcher.py:19: RuntimeWarning: invalid value encountered in true_divide\n"
     ]
    },
    {
     "name": "stdout",
     "output_type": "stream",
     "text": [
      "[[        nan         nan         nan]\n",
      " [        nan         nan         nan]\n",
      " [        nan         nan         nan]\n",
      " [        nan         nan         nan]\n",
      " [        nan         nan         nan]\n",
      " [        nan         nan         nan]\n",
      " [        nan         nan         nan]\n",
      " [        nan         nan         nan]\n",
      " [ 0.28930569 -0.46553033 -0.10190845]\n",
      " [ 0.36381942  0.33873959  0.75985286]]\n"
     ]
    },
    {
     "data": {
      "text/plain": [
       "<mpl_toolkits.mplot3d.art3d.Path3DCollection at 0x212c0e61128>"
      ]
     },
     "execution_count": 23,
     "metadata": {},
     "output_type": "execute_result"
    },
    {
     "data": {
      "image/png": "[encoded data removed]",
      "text/plain": [
       "<Figure size 432x288 with 1 Axes>"
      ]
     },
     "metadata": {},
     "output_type": "display_data"
    }
   ],
   "source": [
    "from mpl_toolkits.mplot3d import Axes3D\n",
    "emb_size = 3\n",
    "\n",
    "mean = np.zeros((10,emb_size))\n",
    "nb = np.zeros(10)\n",
    "y_pairs = y_pairs.astype(int)\n",
    "y_int = np.empty(len(y_pairs),dtype=int)\n",
    "for i in range(len(y_pairs)):\n",
    "    idx = 0\n",
    "    while (y_pairs[i][idx]!=1):\n",
    "        idx += 1\n",
    "    y_int[i] = int(idx)\n",
    "\n",
    "for i in range(len(predict)):\n",
    "    mean[y_int[i]] += predict[i]\n",
    "    nb[y_int[i]] += 1\n",
    "\n",
    "for i in range(len(mean)):\n",
    "    mean[i] /= nb[i]\n",
    "print(mean)\n",
    "fig = plt.figure()\n",
    "ax = fig.add_subplot(111, projection='3d')\n",
    "plt.axis('equal')\n",
    "# for i in range(10):\n",
    "#     y = predict[np.equal(i,y_int)]\n",
    "#     ax.scatter(y[:,0],y[:,1],y[:,2])\n",
    "ax.scatter(mean[:,0],mean[:,1],mean[:,2])\n",
    "# plt.axis('equal')\n",
    "# for i in range(1,4,2):\n",
    "#     y = predict[np.equal(i,y_int)]\n",
    "#     plt.plot(y[:,0],y[:,1],'o')\n",
    "#plt.plot(mean[:,0],mean[:,1],'ro')"
   ]
  },
  {
   "cell_type": "code",
   "execution_count": 41,
   "metadata": {},
   "outputs": [
    {
     "name": "stdout",
     "output_type": "stream",
     "text": [
      "0.0885650146484375\n"
     ]
    }
   ],
   "source": [
    "print(np.sum([np.sum(predict[i] for i in range(len(predict)))])/len(predict))"
   ]
  },
  {
   "cell_type": "code",
   "execution_count": 65,
   "metadata": {},
   "outputs": [
    {
     "name": "stdout",
     "output_type": "stream",
     "text": [
      "(10000,)\n",
      "0.46860551834106445\n",
      "0.63699996\n",
      "0.001\n"
     ]
    }
   ],
   "source": [
    "import time\n",
    "\n",
    "emb_raw = tf.constant(predict)\n",
    "\n",
    "actual_issame = tf.constant(issame)\n",
    "emb = tf.math.l2_normalize(emb_raw,0)\n",
    "\n",
    "# Normalizes\n",
    "#emb = tf.math.l2_normalize(emb_,0)\n",
    "\n",
    "# Separates the pairs\n",
    "emb1 = emb[0::2]\n",
    "emb2 = emb[1::2]\n",
    "\n",
    "# Computes distance between pairs\n",
    "diff = tf.squared_difference(emb1,emb2)\n",
    "dist = tf.reduce_sum(diff,1)\n",
    "\n",
    "dist = tf.reshape(tf.stack([dist,dist], axis=-1), [-1])\n",
    "print(dist.shape)\n",
    "best_threshold = 0\n",
    "#for t in np.arange(0,1,0.001):\n",
    "#t = 0.01\n",
    "\n",
    "actual_issame_bool = tf.cast(actual_issame,dtype=tf.bool)\n",
    "\n",
    "def fn(t):\n",
    "    less = tf.less(dist,t)\n",
    "\n",
    "    acc = tf.logical_not(tf.logical_xor(less,actual_issame_bool))\n",
    "    acc = tf.cast(acc,tf.float32)\n",
    "    \n",
    "    out = tf.reshape(tf.reduce_sum(acc),[])\n",
    "    \n",
    "    return out\n",
    "\n",
    "\n",
    "thresholds = tf.range(0,0.1,0.001)\n",
    "apply_t = tf.map_fn(fn, thresholds)\n",
    "best_t = tf.argmax(apply_t)\n",
    "\n",
    "best = thresholds[best_t]\n",
    "\n",
    "# Redo the manipulation with the best threshold\n",
    "less = tf.less(dist,best)\n",
    "#less = tf.cast(less,tf.float32)\n",
    "\n",
    "acc = tf.logical_not(tf.logical_xor(less,actual_issame_bool))\n",
    "acc = tf.cast(acc,tf.float32)\n",
    "\n",
    "out = tf.reshape(tf.reduce_sum(acc),[])\n",
    "out = tf.divide(out,len(predict))\n",
    "    \n",
    "with tf.Session() as sess:\n",
    "    t1 = time.time()\n",
    "    dist_,best_ = sess.run([out,best])\n",
    "    t2 = time.time()\n",
    "    print(t2-t1)\n",
    "    print(dist_)\n",
    "    print(best_)"
   ]
  },
  {
   "cell_type": "code",
   "execution_count": 27,
   "metadata": {
    "collapsed": true
   },
   "outputs": [
    {
     "name": "stdout",
     "output_type": "stream",
     "text": [
      "[0. 0. 0. 1. 0. 0. 0. 0. 0. 0.]\n"
     ]
    },
    {
     "data": {
      "image/png": "[encoded data removed]",
      "text/plain": [
       "<Figure size 432x288 with 1 Axes>"
      ]
     },
     "metadata": {},
     "output_type": "display_data"
    }
   ],
   "source": [
    "plt.imshow(np.squeeze(x_train[10]))\n",
    "print(y_train[10])"
   ]
  },
  {
   "cell_type": "code",
   "execution_count": 16,
   "metadata": {
    "scrolled": true
   },
   "outputs": [
    {
     "name": "stdout",
     "output_type": "stream",
     "text": [
      "_________________________________________________________________\n",
      "Layer (type)                 Output Shape              Param #   \n",
      "=================================================================\n",
      "input_4 (InputLayer)         (None, 28, 28, 1)         0         \n",
      "_________________________________________________________________\n",
      "conv2d_10 (Conv2D)           (None, 26, 26, 32)        320       \n",
      "_________________________________________________________________\n",
      "conv2d_11 (Conv2D)           (None, 24, 24, 64)        18496     \n",
      "_________________________________________________________________\n",
      "max_pooling2d_5 (MaxPooling2 (None, 12, 12, 64)        0         \n",
      "_________________________________________________________________\n",
      "dropout_10 (Dropout)         (None, 12, 12, 64)        0         \n",
      "_________________________________________________________________\n",
      "flatten_5 (Flatten)          (None, 9216)              0         \n",
      "_________________________________________________________________\n",
      "dense_8 (Dense)              (None, 128)               1179776   \n",
      "_________________________________________________________________\n",
      "dropout_11 (Dropout)         (None, 128)               0         \n",
      "_________________________________________________________________\n",
      "dense_9 (Dense)              (None, 10)                1290      \n",
      "=================================================================\n",
      "Total params: 1,199,882\n",
      "Trainable params: 1,199,882\n",
      "Non-trainable params: 0\n",
      "_________________________________________________________________\n",
      "None\n",
      "Train on 60000 samples, validate on 10000 samples\n",
      "Epoch 1/12\n",
      "54656/60000 [==========================>...] - ETA: 11:32 - loss: 2.3099 - acc: 0.11 - ETA: 3:58 - loss: 2.2466 - acc: 0.1615 - ETA: 2:28 - loss: 2.1419 - acc: 0.232 - ETA: 1:49 - loss: 2.0485 - acc: 0.275 - ETA: 1:27 - loss: 1.9879 - acc: 0.308 - ETA: 1:14 - loss: 1.8592 - acc: 0.366 - ETA: 1:04 - loss: 1.8003 - acc: 0.385 - ETA: 57s - loss: 1.7449 - acc: 0.409 - ETA: 51s - loss: 1.6686 - acc: 0.43 - ETA: 47s - loss: 1.5879 - acc: 0.46 - ETA: 44s - loss: 1.5306 - acc: 0.48 - ETA: 41s - loss: 1.4794 - acc: 0.50 - ETA: 38s - loss: 1.4109 - acc: 0.53 - ETA: 36s - loss: 1.3590 - acc: 0.54 - ETA: 34s - loss: 1.3086 - acc: 0.56 - ETA: 33s - loss: 1.2620 - acc: 0.58 - ETA: 31s - loss: 1.2199 - acc: 0.59 - ETA: 30s - loss: 1.1920 - acc: 0.60 - ETA: 29s - loss: 1.1640 - acc: 0.61 - ETA: 28s - loss: 1.1249 - acc: 0.63 - ETA: 27s - loss: 1.0899 - acc: 0.64 - ETA: 26s - loss: 1.0601 - acc: 0.65 - ETA: 26s - loss: 1.0361 - acc: 0.66 - ETA: 25s - loss: 1.0081 - acc: 0.67 - ETA: 24s - loss: 0.9818 - acc: 0.68 - ETA: 24s - loss: 0.9605 - acc: 0.68 - ETA: 23s - loss: 0.9412 - acc: 0.69 - ETA: 23s - loss: 0.9216 - acc: 0.69 - ETA: 22s - loss: 0.9006 - acc: 0.70 - ETA: 22s - loss: 0.8858 - acc: 0.71 - ETA: 21s - loss: 0.8746 - acc: 0.71 - ETA: 21s - loss: 0.8568 - acc: 0.72 - ETA: 20s - loss: 0.8420 - acc: 0.72 - ETA: 20s - loss: 0.8289 - acc: 0.73 - ETA: 20s - loss: 0.8141 - acc: 0.73 - ETA: 19s - loss: 0.8010 - acc: 0.74 - ETA: 19s - loss: 0.7870 - acc: 0.74 - ETA: 19s - loss: 0.7740 - acc: 0.75 - ETA: 18s - loss: 0.7643 - acc: 0.75 - ETA: 18s - loss: 0.7507 - acc: 0.75 - ETA: 18s - loss: 0.7409 - acc: 0.76 - ETA: 18s - loss: 0.7315 - acc: 0.76 - ETA: 17s - loss: 0.7189 - acc: 0.77 - ETA: 17s - loss: 0.7098 - acc: 0.77 - ETA: 17s - loss: 0.7014 - acc: 0.77 - ETA: 17s - loss: 0.6917 - acc: 0.77 - ETA: 16s - loss: 0.6834 - acc: 0.78 - ETA: 16s - loss: 0.6741 - acc: 0.78 - ETA: 16s - loss: 0.6651 - acc: 0.78 - ETA: 16s - loss: 0.6573 - acc: 0.79 - ETA: 16s - loss: 0.6486 - acc: 0.79 - ETA: 15s - loss: 0.6423 - acc: 0.79 - ETA: 15s - loss: 0.6353 - acc: 0.79 - ETA: 15s - loss: 0.6293 - acc: 0.79 - ETA: 15s - loss: 0.6233 - acc: 0.80 - ETA: 15s - loss: 0.6159 - acc: 0.80 - ETA: 15s - loss: 0.6084 - acc: 0.80 - ETA: 14s - loss: 0.6011 - acc: 0.80 - ETA: 14s - loss: 0.5949 - acc: 0.81 - ETA: 14s - loss: 0.5885 - acc: 0.81 - ETA: 14s - loss: 0.5833 - acc: 0.81 - ETA: 14s - loss: 0.5779 - acc: 0.81 - ETA: 14s - loss: 0.5716 - acc: 0.81 - ETA: 13s - loss: 0.5645 - acc: 0.82 - ETA: 13s - loss: 0.5587 - acc: 0.82 - ETA: 13s - loss: 0.5539 - acc: 0.82 - ETA: 13s - loss: 0.5482 - acc: 0.82 - ETA: 13s - loss: 0.5449 - acc: 0.82 - ETA: 13s - loss: 0.5405 - acc: 0.82 - ETA: 13s - loss: 0.5360 - acc: 0.83 - ETA: 13s - loss: 0.5311 - acc: 0.83 - ETA: 12s - loss: 0.5256 - acc: 0.83 - ETA: 12s - loss: 0.5213 - acc: 0.83 - ETA: 12s - loss: 0.5168 - acc: 0.83 - ETA: 12s - loss: 0.5130 - acc: 0.83 - ETA: 12s - loss: 0.5082 - acc: 0.83 - ETA: 12s - loss: 0.5036 - acc: 0.84 - ETA: 12s - loss: 0.4985 - acc: 0.84 - ETA: 12s - loss: 0.4947 - acc: 0.84 - ETA: 11s - loss: 0.4913 - acc: 0.84 - ETA: 11s - loss: 0.4868 - acc: 0.84 - ETA: 11s - loss: 0.4847 - acc: 0.84 - ETA: 11s - loss: 0.4824 - acc: 0.84 - ETA: 11s - loss: 0.4800 - acc: 0.84 - ETA: 11s - loss: 0.4771 - acc: 0.85 - ETA: 11s - loss: 0.4728 - acc: 0.85 - ETA: 11s - loss: 0.4696 - acc: 0.85 - ETA: 11s - loss: 0.4664 - acc: 0.85 - ETA: 10s - loss: 0.4628 - acc: 0.85 - ETA: 10s - loss: 0.4599 - acc: 0.85 - ETA: 10s - loss: 0.4571 - acc: 0.85 - ETA: 10s - loss: 0.4541 - acc: 0.85 - ETA: 10s - loss: 0.4508 - acc: 0.85 - ETA: 10s - loss: 0.4475 - acc: 0.85 - ETA: 10s - loss: 0.4450 - acc: 0.86 - ETA: 10s - loss: 0.4415 - acc: 0.86 - ETA: 10s - loss: 0.4390 - acc: 0.86 - ETA: 10s - loss: 0.4366 - acc: 0.86 - ETA: 9s - loss: 0.4340 - acc: 0.8644 - ETA: 9s - loss: 0.4314 - acc: 0.865 - ETA: 9s - loss: 0.4284 - acc: 0.866 - ETA: 9s - loss: 0.4270 - acc: 0.866 - ETA: 9s - loss: 0.4248 - acc: 0.867 - ETA: 9s - loss: 0.4217 - acc: 0.868 - ETA: 9s - loss: 0.4191 - acc: 0.869 - ETA: 9s - loss: 0.4178 - acc: 0.869 - ETA: 9s - loss: 0.4153 - acc: 0.870 - ETA: 9s - loss: 0.4137 - acc: 0.870 - ETA: 9s - loss: 0.4111 - acc: 0.871 - ETA: 8s - loss: 0.4091 - acc: 0.872 - ETA: 8s - loss: 0.4068 - acc: 0.873 - ETA: 8s - loss: 0.4051 - acc: 0.873 - ETA: 8s - loss: 0.4029 - acc: 0.874 - ETA: 8s - loss: 0.4018 - acc: 0.874 - ETA: 8s - loss: 0.3999 - acc: 0.875 - ETA: 8s - loss: 0.3977 - acc: 0.876 - ETA: 8s - loss: 0.3955 - acc: 0.876 - ETA: 8s - loss: 0.3937 - acc: 0.877 - ETA: 8s - loss: 0.3917 - acc: 0.878 - ETA: 8s - loss: 0.3897 - acc: 0.878 - ETA: 8s - loss: 0.3872 - acc: 0.879 - ETA: 7s - loss: 0.3857 - acc: 0.880 - ETA: 7s - loss: 0.3836 - acc: 0.880 - ETA: 7s - loss: 0.3815 - acc: 0.881 - ETA: 7s - loss: 0.3795 - acc: 0.882 - ETA: 7s - loss: 0.3774 - acc: 0.882 - ETA: 7s - loss: 0.3759 - acc: 0.883 - ETA: 7s - loss: 0.3740 - acc: 0.883 - ETA: 7s - loss: 0.3718 - acc: 0.884 - ETA: 7s - loss: 0.3701 - acc: 0.885 - ETA: 7s - loss: 0.3686 - acc: 0.885 - ETA: 7s - loss: 0.3672 - acc: 0.886 - ETA: 7s - loss: 0.3653 - acc: 0.886 - ETA: 7s - loss: 0.3634 - acc: 0.887 - ETA: 6s - loss: 0.3614 - acc: 0.888 - ETA: 6s - loss: 0.3607 - acc: 0.888 - ETA: 6s - loss: 0.3592 - acc: 0.888 - ETA: 6s - loss: 0.3575 - acc: 0.889 - ETA: 6s - loss: 0.3561 - acc: 0.889 - ETA: 6s - loss: 0.3544 - acc: 0.890 - ETA: 6s - loss: 0.3526 - acc: 0.890 - ETA: 6s - loss: 0.3513 - acc: 0.891 - ETA: 6s - loss: 0.3495 - acc: 0.891 - ETA: 6s - loss: 0.3482 - acc: 0.892 - ETA: 6s - loss: 0.3465 - acc: 0.892 - ETA: 6s - loss: 0.3449 - acc: 0.893 - ETA: 6s - loss: 0.3439 - acc: 0.893 - ETA: 5s - loss: 0.3425 - acc: 0.894 - ETA: 5s - loss: 0.3417 - acc: 0.894 - ETA: 5s - loss: 0.3402 - acc: 0.894 - ETA: 5s - loss: 0.3386 - acc: 0.895 - ETA: 5s - loss: 0.3373 - acc: 0.895 - ETA: 5s - loss: 0.3361 - acc: 0.896 - ETA: 5s - loss: 0.3345 - acc: 0.896 - ETA: 5s - loss: 0.3334 - acc: 0.897 - ETA: 5s - loss: 0.3321 - acc: 0.897 - ETA: 5s - loss: 0.3307 - acc: 0.898 - ETA: 5s - loss: 0.3292 - acc: 0.898 - ETA: 5s - loss: 0.3283 - acc: 0.898 - ETA: 5s - loss: 0.3270 - acc: 0.899 - ETA: 4s - loss: 0.3258 - acc: 0.899 - ETA: 4s - loss: 0.3248 - acc: 0.899 - ETA: 4s - loss: 0.3236 - acc: 0.900 - ETA: 4s - loss: 0.3222 - acc: 0.900 - ETA: 4s - loss: 0.3209 - acc: 0.901 - ETA: 4s - loss: 0.3196 - acc: 0.901 - ETA: 4s - loss: 0.3189 - acc: 0.901 - ETA: 4s - loss: 0.3176 - acc: 0.902 - ETA: 4s - loss: 0.3166 - acc: 0.902 - ETA: 4s - loss: 0.3153 - acc: 0.903 - ETA: 4s - loss: 0.3143 - acc: 0.903 - ETA: 4s - loss: 0.3133 - acc: 0.903 - ETA: 4s - loss: 0.3125 - acc: 0.904 - ETA: 4s - loss: 0.3114 - acc: 0.904 - ETA: 4s - loss: 0.3103 - acc: 0.904 - ETA: 3s - loss: 0.3092 - acc: 0.905 - ETA: 3s - loss: 0.3078 - acc: 0.905 - ETA: 3s - loss: 0.3066 - acc: 0.905 - ETA: 3s - loss: 0.3053 - acc: 0.906 - ETA: 3s - loss: 0.3043 - acc: 0.906 - ETA: 3s - loss: 0.3035 - acc: 0.906 - ETA: 3s - loss: 0.3026 - acc: 0.907 - ETA: 3s - loss: 0.3013 - acc: 0.907 - ETA: 3s - loss: 0.3002 - acc: 0.907 - ETA: 3s - loss: 0.2993 - acc: 0.908 - ETA: 3s - loss: 0.2986 - acc: 0.908 - ETA: 3s - loss: 0.2976 - acc: 0.908 - ETA: 3s - loss: 0.2965 - acc: 0.909 - ETA: 3s - loss: 0.2953 - acc: 0.909 - ETA: 2s - loss: 0.2947 - acc: 0.909 - ETA: 2s - loss: 0.2938 - acc: 0.909 - ETA: 2s - loss: 0.2926 - acc: 0.910 - ETA: 2s - loss: 0.2918 - acc: 0.910 - ETA: 2s - loss: 0.2909 - acc: 0.910 - ETA: 2s - loss: 0.2897 - acc: 0.911 - ETA: 2s - loss: 0.2889 - acc: 0.911 - ETA: 2s - loss: 0.2881 - acc: 0.911 - ETA: 2s - loss: 0.2870 - acc: 0.911 - ETA: 2s - loss: 0.2864 - acc: 0.912 - ETA: 2s - loss: 0.2856 - acc: 0.912 - ETA: 2s - loss: 0.2848 - acc: 0.912 - ETA: 2s - loss: 0.2840 - acc: 0.913 - ETA: 2s - loss: 0.2831 - acc: 0.913 - ETA: 2s - loss: 0.2825 - acc: 0.913 - ETA: 1s - loss: 0.2817 - acc: 0.913 - ETA: 1s - loss: 0.2808 - acc: 0.913 - ETA: 1s - loss: 0.2799 - acc: 0.914 - ETA: 1s - loss: 0.2790 - acc: 0.914 - ETA: 1s - loss: 0.2781 - acc: 0.914 - ETA: 1s - loss: 0.2777 - acc: 0.914 - ETA: 1s - loss: 0.2771 - acc: 0.915 - ETA: 1s - loss: 0.2763 - acc: 0.915 - ETA: 1s - loss: 0.2755 - acc: 0.915 - ETA: 1s - loss: 0.2748 - acc: 0.915960000/60000 [==============================] - ETA: 1s - loss: 0.2741 - acc: 0.916 - ETA: 1s - loss: 0.2733 - acc: 0.916 - ETA: 1s - loss: 0.2727 - acc: 0.916 - ETA: 1s - loss: 0.2721 - acc: 0.916 - ETA: 1s - loss: 0.2717 - acc: 0.916 - ETA: 0s - loss: 0.2709 - acc: 0.917 - ETA: 0s - loss: 0.2702 - acc: 0.917 - ETA: 0s - loss: 0.2694 - acc: 0.917 - ETA: 0s - loss: 0.2688 - acc: 0.917 - ETA: 0s - loss: 0.2681 - acc: 0.918 - ETA: 0s - loss: 0.2673 - acc: 0.918 - ETA: 0s - loss: 0.2664 - acc: 0.918 - ETA: 0s - loss: 0.2656 - acc: 0.918 - ETA: 0s - loss: 0.2650 - acc: 0.919 - ETA: 0s - loss: 0.2642 - acc: 0.919 - ETA: 0s - loss: 0.2637 - acc: 0.919 - ETA: 0s - loss: 0.2630 - acc: 0.919 - ETA: 0s - loss: 0.2624 - acc: 0.919 - ETA: 0s - loss: 0.2616 - acc: 0.920 - ETA: 0s - loss: 0.2611 - acc: 0.920 - 16s 266us/step - loss: 0.2606 - acc: 0.9204 - val_loss: 0.0568 - val_acc: 0.9810\n",
      "Epoch 2/12\n"
     ]
    },
    {
     "name": "stdout",
     "output_type": "stream",
     "text": [
      "54912/60000 [==========================>...] - ETA: 13s - loss: 0.0504 - acc: 0.98 - ETA: 13s - loss: 0.1103 - acc: 0.96 - ETA: 13s - loss: 0.0983 - acc: 0.96 - ETA: 13s - loss: 0.1153 - acc: 0.96 - ETA: 13s - loss: 0.1209 - acc: 0.96 - ETA: 13s - loss: 0.1286 - acc: 0.96 - ETA: 13s - loss: 0.1285 - acc: 0.96 - ETA: 13s - loss: 0.1204 - acc: 0.96 - ETA: 13s - loss: 0.1226 - acc: 0.96 - ETA: 13s - loss: 0.1176 - acc: 0.96 - ETA: 12s - loss: 0.1161 - acc: 0.96 - ETA: 12s - loss: 0.1137 - acc: 0.96 - ETA: 12s - loss: 0.1101 - acc: 0.97 - ETA: 12s - loss: 0.1088 - acc: 0.97 - ETA: 12s - loss: 0.1094 - acc: 0.97 - ETA: 12s - loss: 0.1077 - acc: 0.97 - ETA: 12s - loss: 0.1085 - acc: 0.97 - ETA: 12s - loss: 0.1103 - acc: 0.97 - ETA: 12s - loss: 0.1104 - acc: 0.97 - ETA: 12s - loss: 0.1082 - acc: 0.97 - ETA: 12s - loss: 0.1089 - acc: 0.97 - ETA: 12s - loss: 0.1073 - acc: 0.97 - ETA: 12s - loss: 0.1065 - acc: 0.97 - ETA: 12s - loss: 0.1074 - acc: 0.97 - ETA: 12s - loss: 0.1059 - acc: 0.97 - ETA: 12s - loss: 0.1064 - acc: 0.97 - ETA: 12s - loss: 0.1073 - acc: 0.96 - ETA: 12s - loss: 0.1048 - acc: 0.97 - ETA: 11s - loss: 0.1059 - acc: 0.97 - ETA: 11s - loss: 0.1063 - acc: 0.97 - ETA: 11s - loss: 0.1074 - acc: 0.96 - ETA: 11s - loss: 0.1068 - acc: 0.97 - ETA: 11s - loss: 0.1049 - acc: 0.97 - ETA: 11s - loss: 0.1041 - acc: 0.97 - ETA: 11s - loss: 0.1035 - acc: 0.97 - ETA: 11s - loss: 0.1030 - acc: 0.97 - ETA: 11s - loss: 0.1019 - acc: 0.97 - ETA: 11s - loss: 0.1021 - acc: 0.97 - ETA: 11s - loss: 0.1017 - acc: 0.97 - ETA: 11s - loss: 0.0998 - acc: 0.97 - ETA: 11s - loss: 0.1002 - acc: 0.97 - ETA: 11s - loss: 0.1000 - acc: 0.97 - ETA: 11s - loss: 0.1009 - acc: 0.97 - ETA: 11s - loss: 0.1006 - acc: 0.97 - ETA: 10s - loss: 0.0999 - acc: 0.97 - ETA: 10s - loss: 0.0994 - acc: 0.97 - ETA: 10s - loss: 0.0988 - acc: 0.97 - ETA: 10s - loss: 0.0995 - acc: 0.97 - ETA: 10s - loss: 0.0999 - acc: 0.97 - ETA: 10s - loss: 0.0990 - acc: 0.97 - ETA: 10s - loss: 0.0988 - acc: 0.97 - ETA: 10s - loss: 0.0980 - acc: 0.97 - ETA: 10s - loss: 0.0973 - acc: 0.97 - ETA: 10s - loss: 0.0971 - acc: 0.97 - ETA: 10s - loss: 0.0966 - acc: 0.97 - ETA: 10s - loss: 0.0968 - acc: 0.97 - ETA: 10s - loss: 0.0976 - acc: 0.97 - ETA: 10s - loss: 0.0981 - acc: 0.97 - ETA: 10s - loss: 0.0978 - acc: 0.97 - ETA: 10s - loss: 0.0981 - acc: 0.97 - ETA: 10s - loss: 0.0998 - acc: 0.97 - ETA: 9s - loss: 0.0998 - acc: 0.9700 - ETA: 9s - loss: 0.0996 - acc: 0.970 - ETA: 9s - loss: 0.0996 - acc: 0.970 - ETA: 9s - loss: 0.0992 - acc: 0.970 - ETA: 9s - loss: 0.0998 - acc: 0.970 - ETA: 9s - loss: 0.0995 - acc: 0.970 - ETA: 9s - loss: 0.0992 - acc: 0.970 - ETA: 9s - loss: 0.0987 - acc: 0.970 - ETA: 9s - loss: 0.0986 - acc: 0.970 - ETA: 9s - loss: 0.0989 - acc: 0.970 - ETA: 9s - loss: 0.0992 - acc: 0.970 - ETA: 9s - loss: 0.0993 - acc: 0.970 - ETA: 9s - loss: 0.0988 - acc: 0.970 - ETA: 9s - loss: 0.0986 - acc: 0.970 - ETA: 9s - loss: 0.0982 - acc: 0.971 - ETA: 9s - loss: 0.0981 - acc: 0.971 - ETA: 9s - loss: 0.0982 - acc: 0.971 - ETA: 8s - loss: 0.0985 - acc: 0.971 - ETA: 8s - loss: 0.0980 - acc: 0.971 - ETA: 8s - loss: 0.0980 - acc: 0.971 - ETA: 8s - loss: 0.0981 - acc: 0.971 - ETA: 8s - loss: 0.0986 - acc: 0.971 - ETA: 8s - loss: 0.0980 - acc: 0.971 - ETA: 8s - loss: 0.0977 - acc: 0.971 - ETA: 8s - loss: 0.0975 - acc: 0.971 - ETA: 8s - loss: 0.0976 - acc: 0.971 - ETA: 8s - loss: 0.0975 - acc: 0.971 - ETA: 8s - loss: 0.0980 - acc: 0.971 - ETA: 8s - loss: 0.0975 - acc: 0.971 - ETA: 8s - loss: 0.0974 - acc: 0.971 - ETA: 8s - loss: 0.0975 - acc: 0.971 - ETA: 8s - loss: 0.0973 - acc: 0.971 - ETA: 8s - loss: 0.0972 - acc: 0.971 - ETA: 8s - loss: 0.0969 - acc: 0.971 - ETA: 7s - loss: 0.0971 - acc: 0.971 - ETA: 7s - loss: 0.0974 - acc: 0.971 - ETA: 7s - loss: 0.0973 - acc: 0.971 - ETA: 7s - loss: 0.0972 - acc: 0.971 - ETA: 7s - loss: 0.0966 - acc: 0.971 - ETA: 7s - loss: 0.0961 - acc: 0.972 - ETA: 7s - loss: 0.0959 - acc: 0.972 - ETA: 7s - loss: 0.0961 - acc: 0.972 - ETA: 7s - loss: 0.0962 - acc: 0.972 - ETA: 7s - loss: 0.0956 - acc: 0.972 - ETA: 7s - loss: 0.0957 - acc: 0.972 - ETA: 7s - loss: 0.0954 - acc: 0.972 - ETA: 7s - loss: 0.0950 - acc: 0.972 - ETA: 7s - loss: 0.0951 - acc: 0.972 - ETA: 7s - loss: 0.0954 - acc: 0.972 - ETA: 7s - loss: 0.0955 - acc: 0.972 - ETA: 7s - loss: 0.0959 - acc: 0.972 - ETA: 6s - loss: 0.0957 - acc: 0.972 - ETA: 6s - loss: 0.0953 - acc: 0.972 - ETA: 6s - loss: 0.0953 - acc: 0.972 - ETA: 6s - loss: 0.0958 - acc: 0.972 - ETA: 6s - loss: 0.0955 - acc: 0.972 - ETA: 6s - loss: 0.0961 - acc: 0.972 - ETA: 6s - loss: 0.0960 - acc: 0.972 - ETA: 6s - loss: 0.0958 - acc: 0.972 - ETA: 6s - loss: 0.0954 - acc: 0.972 - ETA: 6s - loss: 0.0953 - acc: 0.972 - ETA: 6s - loss: 0.0951 - acc: 0.972 - ETA: 6s - loss: 0.0951 - acc: 0.972 - ETA: 6s - loss: 0.0949 - acc: 0.972 - ETA: 6s - loss: 0.0951 - acc: 0.972 - ETA: 6s - loss: 0.0948 - acc: 0.972 - ETA: 6s - loss: 0.0944 - acc: 0.972 - ETA: 6s - loss: 0.0945 - acc: 0.972 - ETA: 6s - loss: 0.0942 - acc: 0.972 - ETA: 5s - loss: 0.0941 - acc: 0.972 - ETA: 5s - loss: 0.0939 - acc: 0.972 - ETA: 5s - loss: 0.0938 - acc: 0.972 - ETA: 5s - loss: 0.0934 - acc: 0.972 - ETA: 5s - loss: 0.0932 - acc: 0.972 - ETA: 5s - loss: 0.0934 - acc: 0.972 - ETA: 5s - loss: 0.0940 - acc: 0.972 - ETA: 5s - loss: 0.0940 - acc: 0.972 - ETA: 5s - loss: 0.0943 - acc: 0.972 - ETA: 5s - loss: 0.0940 - acc: 0.972 - ETA: 5s - loss: 0.0938 - acc: 0.972 - ETA: 5s - loss: 0.0937 - acc: 0.972 - ETA: 5s - loss: 0.0938 - acc: 0.972 - ETA: 5s - loss: 0.0939 - acc: 0.972 - ETA: 5s - loss: 0.0942 - acc: 0.972 - ETA: 5s - loss: 0.0937 - acc: 0.972 - ETA: 5s - loss: 0.0936 - acc: 0.972 - ETA: 4s - loss: 0.0934 - acc: 0.972 - ETA: 4s - loss: 0.0933 - acc: 0.972 - ETA: 4s - loss: 0.0930 - acc: 0.972 - ETA: 4s - loss: 0.0928 - acc: 0.973 - ETA: 4s - loss: 0.0927 - acc: 0.973 - ETA: 4s - loss: 0.0924 - acc: 0.973 - ETA: 4s - loss: 0.0927 - acc: 0.973 - ETA: 4s - loss: 0.0925 - acc: 0.973 - ETA: 4s - loss: 0.0926 - acc: 0.973 - ETA: 4s - loss: 0.0927 - acc: 0.972 - ETA: 4s - loss: 0.0926 - acc: 0.972 - ETA: 4s - loss: 0.0925 - acc: 0.972 - ETA: 4s - loss: 0.0922 - acc: 0.973 - ETA: 4s - loss: 0.0923 - acc: 0.973 - ETA: 4s - loss: 0.0921 - acc: 0.973 - ETA: 4s - loss: 0.0919 - acc: 0.973 - ETA: 4s - loss: 0.0916 - acc: 0.973 - ETA: 4s - loss: 0.0921 - acc: 0.973 - ETA: 3s - loss: 0.0919 - acc: 0.973 - ETA: 3s - loss: 0.0916 - acc: 0.973 - ETA: 3s - loss: 0.0915 - acc: 0.973 - ETA: 3s - loss: 0.0914 - acc: 0.973 - ETA: 3s - loss: 0.0914 - acc: 0.973 - ETA: 3s - loss: 0.0917 - acc: 0.973 - ETA: 3s - loss: 0.0918 - acc: 0.973 - ETA: 3s - loss: 0.0915 - acc: 0.973 - ETA: 3s - loss: 0.0912 - acc: 0.973 - ETA: 3s - loss: 0.0910 - acc: 0.973 - ETA: 3s - loss: 0.0907 - acc: 0.973 - ETA: 3s - loss: 0.0907 - acc: 0.973 - ETA: 3s - loss: 0.0904 - acc: 0.973 - ETA: 3s - loss: 0.0905 - acc: 0.973 - ETA: 3s - loss: 0.0905 - acc: 0.973 - ETA: 3s - loss: 0.0906 - acc: 0.973 - ETA: 3s - loss: 0.0909 - acc: 0.973 - ETA: 2s - loss: 0.0908 - acc: 0.973 - ETA: 2s - loss: 0.0908 - acc: 0.973 - ETA: 2s - loss: 0.0907 - acc: 0.973 - ETA: 2s - loss: 0.0907 - acc: 0.973 - ETA: 2s - loss: 0.0907 - acc: 0.973 - ETA: 2s - loss: 0.0909 - acc: 0.973 - ETA: 2s - loss: 0.0907 - acc: 0.973 - ETA: 2s - loss: 0.0904 - acc: 0.973 - ETA: 2s - loss: 0.0908 - acc: 0.973 - ETA: 2s - loss: 0.0906 - acc: 0.973 - ETA: 2s - loss: 0.0904 - acc: 0.973 - ETA: 2s - loss: 0.0900 - acc: 0.973 - ETA: 2s - loss: 0.0899 - acc: 0.973 - ETA: 2s - loss: 0.0897 - acc: 0.973 - ETA: 2s - loss: 0.0896 - acc: 0.973 - ETA: 2s - loss: 0.0894 - acc: 0.973 - ETA: 2s - loss: 0.0891 - acc: 0.973 - ETA: 2s - loss: 0.0892 - acc: 0.973 - ETA: 1s - loss: 0.0892 - acc: 0.973 - ETA: 1s - loss: 0.0893 - acc: 0.973 - ETA: 1s - loss: 0.0891 - acc: 0.973 - ETA: 1s - loss: 0.0890 - acc: 0.973 - ETA: 1s - loss: 0.0889 - acc: 0.973 - ETA: 1s - loss: 0.0887 - acc: 0.974 - ETA: 1s - loss: 0.0885 - acc: 0.974 - ETA: 1s - loss: 0.0882 - acc: 0.974 - ETA: 1s - loss: 0.0880 - acc: 0.974 - ETA: 1s - loss: 0.0879 - acc: 0.974 - ETA: 1s - loss: 0.0877 - acc: 0.974 - ETA: 1s - loss: 0.0878 - acc: 0.974 - ETA: 1s - loss: 0.0876 - acc: 0.974 - ETA: 1s - loss: 0.0876 - acc: 0.974 - ETA: 1s - loss: 0.0874 - acc: 0.9744"
     ]
    },
    {
     "name": "stdout",
     "output_type": "stream",
     "text": [
      "60000/60000 [==============================] - ETA: 1s - loss: 0.0872 - acc: 0.974 - ETA: 1s - loss: 0.0872 - acc: 0.974 - ETA: 0s - loss: 0.0871 - acc: 0.974 - ETA: 0s - loss: 0.0871 - acc: 0.974 - ETA: 0s - loss: 0.0874 - acc: 0.974 - ETA: 0s - loss: 0.0876 - acc: 0.974 - ETA: 0s - loss: 0.0875 - acc: 0.974 - ETA: 0s - loss: 0.0878 - acc: 0.974 - ETA: 0s - loss: 0.0878 - acc: 0.974 - ETA: 0s - loss: 0.0878 - acc: 0.974 - ETA: 0s - loss: 0.0880 - acc: 0.974 - ETA: 0s - loss: 0.0877 - acc: 0.974 - ETA: 0s - loss: 0.0879 - acc: 0.974 - ETA: 0s - loss: 0.0880 - acc: 0.974 - ETA: 0s - loss: 0.0883 - acc: 0.974 - ETA: 0s - loss: 0.0883 - acc: 0.974 - ETA: 0s - loss: 0.0883 - acc: 0.974 - ETA: 0s - loss: 0.0882 - acc: 0.974 - ETA: 0s - loss: 0.0880 - acc: 0.974 - 14s 234us/step - loss: 0.0880 - acc: 0.9745 - val_loss: 0.0411 - val_acc: 0.9860\n",
      "Epoch 3/12\n",
      "54912/60000 [==========================>...] - ETA: 13s - loss: 0.0427 - acc: 0.98 - ETA: 13s - loss: 0.0435 - acc: 0.98 - ETA: 13s - loss: 0.0372 - acc: 0.98 - ETA: 13s - loss: 0.0512 - acc: 0.98 - ETA: 13s - loss: 0.0578 - acc: 0.98 - ETA: 12s - loss: 0.0593 - acc: 0.98 - ETA: 12s - loss: 0.0652 - acc: 0.97 - ETA: 12s - loss: 0.0633 - acc: 0.97 - ETA: 12s - loss: 0.0705 - acc: 0.97 - ETA: 12s - loss: 0.0693 - acc: 0.97 - ETA: 12s - loss: 0.0715 - acc: 0.97 - ETA: 12s - loss: 0.0700 - acc: 0.97 - ETA: 12s - loss: 0.0697 - acc: 0.97 - ETA: 12s - loss: 0.0676 - acc: 0.97 - ETA: 12s - loss: 0.0669 - acc: 0.97 - ETA: 12s - loss: 0.0659 - acc: 0.98 - ETA: 12s - loss: 0.0666 - acc: 0.97 - ETA: 12s - loss: 0.0677 - acc: 0.97 - ETA: 12s - loss: 0.0671 - acc: 0.97 - ETA: 12s - loss: 0.0661 - acc: 0.98 - ETA: 12s - loss: 0.0675 - acc: 0.97 - ETA: 12s - loss: 0.0671 - acc: 0.97 - ETA: 12s - loss: 0.0663 - acc: 0.98 - ETA: 12s - loss: 0.0658 - acc: 0.98 - ETA: 11s - loss: 0.0661 - acc: 0.97 - ETA: 11s - loss: 0.0658 - acc: 0.97 - ETA: 11s - loss: 0.0662 - acc: 0.97 - ETA: 11s - loss: 0.0656 - acc: 0.97 - ETA: 11s - loss: 0.0643 - acc: 0.97 - ETA: 11s - loss: 0.0640 - acc: 0.97 - ETA: 11s - loss: 0.0635 - acc: 0.98 - ETA: 11s - loss: 0.0635 - acc: 0.97 - ETA: 11s - loss: 0.0636 - acc: 0.97 - ETA: 11s - loss: 0.0645 - acc: 0.97 - ETA: 11s - loss: 0.0660 - acc: 0.97 - ETA: 11s - loss: 0.0650 - acc: 0.98 - ETA: 11s - loss: 0.0643 - acc: 0.98 - ETA: 11s - loss: 0.0646 - acc: 0.98 - ETA: 11s - loss: 0.0640 - acc: 0.98 - ETA: 11s - loss: 0.0649 - acc: 0.98 - ETA: 11s - loss: 0.0646 - acc: 0.98 - ETA: 11s - loss: 0.0646 - acc: 0.98 - ETA: 10s - loss: 0.0648 - acc: 0.98 - ETA: 10s - loss: 0.0653 - acc: 0.97 - ETA: 10s - loss: 0.0665 - acc: 0.97 - ETA: 10s - loss: 0.0666 - acc: 0.97 - ETA: 10s - loss: 0.0667 - acc: 0.97 - ETA: 10s - loss: 0.0666 - acc: 0.97 - ETA: 10s - loss: 0.0669 - acc: 0.97 - ETA: 10s - loss: 0.0666 - acc: 0.97 - ETA: 10s - loss: 0.0670 - acc: 0.97 - ETA: 10s - loss: 0.0678 - acc: 0.97 - ETA: 10s - loss: 0.0678 - acc: 0.97 - ETA: 10s - loss: 0.0685 - acc: 0.97 - ETA: 10s - loss: 0.0681 - acc: 0.97 - ETA: 10s - loss: 0.0684 - acc: 0.97 - ETA: 10s - loss: 0.0685 - acc: 0.97 - ETA: 10s - loss: 0.0690 - acc: 0.97 - ETA: 10s - loss: 0.0683 - acc: 0.97 - ETA: 9s - loss: 0.0680 - acc: 0.9791 - ETA: 9s - loss: 0.0680 - acc: 0.979 - ETA: 9s - loss: 0.0681 - acc: 0.979 - ETA: 9s - loss: 0.0680 - acc: 0.979 - ETA: 9s - loss: 0.0683 - acc: 0.978 - ETA: 9s - loss: 0.0691 - acc: 0.978 - ETA: 9s - loss: 0.0697 - acc: 0.978 - ETA: 9s - loss: 0.0695 - acc: 0.978 - ETA: 9s - loss: 0.0699 - acc: 0.978 - ETA: 9s - loss: 0.0695 - acc: 0.978 - ETA: 9s - loss: 0.0705 - acc: 0.978 - ETA: 9s - loss: 0.0708 - acc: 0.978 - ETA: 9s - loss: 0.0702 - acc: 0.978 - ETA: 9s - loss: 0.0700 - acc: 0.978 - ETA: 9s - loss: 0.0697 - acc: 0.978 - ETA: 9s - loss: 0.0697 - acc: 0.978 - ETA: 9s - loss: 0.0693 - acc: 0.978 - ETA: 9s - loss: 0.0692 - acc: 0.978 - ETA: 8s - loss: 0.0690 - acc: 0.978 - ETA: 8s - loss: 0.0694 - acc: 0.978 - ETA: 8s - loss: 0.0698 - acc: 0.978 - ETA: 8s - loss: 0.0694 - acc: 0.978 - ETA: 8s - loss: 0.0694 - acc: 0.978 - ETA: 8s - loss: 0.0692 - acc: 0.978 - ETA: 8s - loss: 0.0690 - acc: 0.978 - ETA: 8s - loss: 0.0691 - acc: 0.978 - ETA: 8s - loss: 0.0691 - acc: 0.978 - ETA: 8s - loss: 0.0697 - acc: 0.978 - ETA: 8s - loss: 0.0703 - acc: 0.978 - ETA: 8s - loss: 0.0704 - acc: 0.978 - ETA: 8s - loss: 0.0705 - acc: 0.978 - ETA: 8s - loss: 0.0708 - acc: 0.978 - ETA: 8s - loss: 0.0711 - acc: 0.978 - ETA: 8s - loss: 0.0708 - acc: 0.978 - ETA: 8s - loss: 0.0703 - acc: 0.978 - ETA: 8s - loss: 0.0698 - acc: 0.978 - ETA: 7s - loss: 0.0693 - acc: 0.979 - ETA: 7s - loss: 0.0690 - acc: 0.979 - ETA: 7s - loss: 0.0692 - acc: 0.979 - ETA: 7s - loss: 0.0690 - acc: 0.979 - ETA: 7s - loss: 0.0688 - acc: 0.979 - ETA: 7s - loss: 0.0687 - acc: 0.979 - ETA: 7s - loss: 0.0686 - acc: 0.979 - ETA: 7s - loss: 0.0687 - acc: 0.979 - ETA: 7s - loss: 0.0691 - acc: 0.979 - ETA: 7s - loss: 0.0690 - acc: 0.979 - ETA: 7s - loss: 0.0686 - acc: 0.979 - ETA: 7s - loss: 0.0690 - acc: 0.979 - ETA: 7s - loss: 0.0689 - acc: 0.979 - ETA: 7s - loss: 0.0687 - acc: 0.979 - ETA: 7s - loss: 0.0686 - acc: 0.979 - ETA: 7s - loss: 0.0684 - acc: 0.979 - ETA: 7s - loss: 0.0681 - acc: 0.979 - ETA: 6s - loss: 0.0683 - acc: 0.979 - ETA: 6s - loss: 0.0687 - acc: 0.979 - ETA: 6s - loss: 0.0685 - acc: 0.979 - ETA: 6s - loss: 0.0684 - acc: 0.979 - ETA: 6s - loss: 0.0683 - acc: 0.979 - ETA: 6s - loss: 0.0685 - acc: 0.979 - ETA: 6s - loss: 0.0685 - acc: 0.979 - ETA: 6s - loss: 0.0681 - acc: 0.979 - ETA: 6s - loss: 0.0678 - acc: 0.979 - ETA: 6s - loss: 0.0675 - acc: 0.979 - ETA: 6s - loss: 0.0674 - acc: 0.979 - ETA: 6s - loss: 0.0674 - acc: 0.979 - ETA: 6s - loss: 0.0671 - acc: 0.979 - ETA: 6s - loss: 0.0673 - acc: 0.979 - ETA: 6s - loss: 0.0672 - acc: 0.979 - ETA: 6s - loss: 0.0671 - acc: 0.979 - ETA: 6s - loss: 0.0670 - acc: 0.979 - ETA: 6s - loss: 0.0670 - acc: 0.979 - ETA: 5s - loss: 0.0670 - acc: 0.979 - ETA: 5s - loss: 0.0669 - acc: 0.979 - ETA: 5s - loss: 0.0665 - acc: 0.980 - ETA: 5s - loss: 0.0669 - acc: 0.979 - ETA: 5s - loss: 0.0670 - acc: 0.979 - ETA: 5s - loss: 0.0667 - acc: 0.979 - ETA: 5s - loss: 0.0667 - acc: 0.979 - ETA: 5s - loss: 0.0668 - acc: 0.979 - ETA: 5s - loss: 0.0666 - acc: 0.979 - ETA: 5s - loss: 0.0667 - acc: 0.979 - ETA: 5s - loss: 0.0668 - acc: 0.979 - ETA: 5s - loss: 0.0670 - acc: 0.979 - ETA: 5s - loss: 0.0671 - acc: 0.979 - ETA: 5s - loss: 0.0669 - acc: 0.979 - ETA: 5s - loss: 0.0669 - acc: 0.979 - ETA: 5s - loss: 0.0670 - acc: 0.979 - ETA: 5s - loss: 0.0674 - acc: 0.979 - ETA: 4s - loss: 0.0678 - acc: 0.979 - ETA: 4s - loss: 0.0677 - acc: 0.979 - ETA: 4s - loss: 0.0675 - acc: 0.979 - ETA: 4s - loss: 0.0674 - acc: 0.979 - ETA: 4s - loss: 0.0673 - acc: 0.979 - ETA: 4s - loss: 0.0671 - acc: 0.979 - ETA: 4s - loss: 0.0670 - acc: 0.979 - ETA: 4s - loss: 0.0668 - acc: 0.979 - ETA: 4s - loss: 0.0668 - acc: 0.979 - ETA: 4s - loss: 0.0668 - acc: 0.979 - ETA: 4s - loss: 0.0666 - acc: 0.979 - ETA: 4s - loss: 0.0663 - acc: 0.980 - ETA: 4s - loss: 0.0666 - acc: 0.980 - ETA: 4s - loss: 0.0664 - acc: 0.980 - ETA: 4s - loss: 0.0665 - acc: 0.980 - ETA: 4s - loss: 0.0665 - acc: 0.980 - ETA: 4s - loss: 0.0666 - acc: 0.980 - ETA: 4s - loss: 0.0665 - acc: 0.980 - ETA: 3s - loss: 0.0664 - acc: 0.980 - ETA: 3s - loss: 0.0664 - acc: 0.980 - ETA: 3s - loss: 0.0662 - acc: 0.980 - ETA: 3s - loss: 0.0660 - acc: 0.980 - ETA: 3s - loss: 0.0662 - acc: 0.980 - ETA: 3s - loss: 0.0660 - acc: 0.980 - ETA: 3s - loss: 0.0663 - acc: 0.980 - ETA: 3s - loss: 0.0663 - acc: 0.980 - ETA: 3s - loss: 0.0664 - acc: 0.980 - ETA: 3s - loss: 0.0662 - acc: 0.980 - ETA: 3s - loss: 0.0662 - acc: 0.980 - ETA: 3s - loss: 0.0660 - acc: 0.980 - ETA: 3s - loss: 0.0660 - acc: 0.980 - ETA: 3s - loss: 0.0660 - acc: 0.980 - ETA: 3s - loss: 0.0661 - acc: 0.980 - ETA: 3s - loss: 0.0660 - acc: 0.980 - ETA: 3s - loss: 0.0659 - acc: 0.980 - ETA: 2s - loss: 0.0663 - acc: 0.980 - ETA: 2s - loss: 0.0665 - acc: 0.979 - ETA: 2s - loss: 0.0663 - acc: 0.979 - ETA: 2s - loss: 0.0664 - acc: 0.979 - ETA: 2s - loss: 0.0662 - acc: 0.980 - ETA: 2s - loss: 0.0664 - acc: 0.979 - ETA: 2s - loss: 0.0664 - acc: 0.979 - ETA: 2s - loss: 0.0666 - acc: 0.979 - ETA: 2s - loss: 0.0668 - acc: 0.979 - ETA: 2s - loss: 0.0666 - acc: 0.979 - ETA: 2s - loss: 0.0671 - acc: 0.979 - ETA: 2s - loss: 0.0674 - acc: 0.979 - ETA: 2s - loss: 0.0673 - acc: 0.979 - ETA: 2s - loss: 0.0672 - acc: 0.979 - ETA: 2s - loss: 0.0672 - acc: 0.979 - ETA: 2s - loss: 0.0671 - acc: 0.979 - ETA: 2s - loss: 0.0672 - acc: 0.979 - ETA: 2s - loss: 0.0670 - acc: 0.979 - ETA: 1s - loss: 0.0670 - acc: 0.979 - ETA: 1s - loss: 0.0672 - acc: 0.979 - ETA: 1s - loss: 0.0671 - acc: 0.979 - ETA: 1s - loss: 0.0669 - acc: 0.979 - ETA: 1s - loss: 0.0668 - acc: 0.979 - ETA: 1s - loss: 0.0669 - acc: 0.979 - ETA: 1s - loss: 0.0670 - acc: 0.979 - ETA: 1s - loss: 0.0671 - acc: 0.979 - ETA: 1s - loss: 0.0670 - acc: 0.979 - ETA: 1s - loss: 0.0669 - acc: 0.979 - ETA: 1s - loss: 0.0669 - acc: 0.979 - ETA: 1s - loss: 0.0668 - acc: 0.979 - ETA: 1s - loss: 0.0668 - acc: 0.979 - ETA: 1s - loss: 0.0668 - acc: 0.979 - ETA: 1s - loss: 0.0667 - acc: 0.979960000/60000 [==============================] - ETA: 1s - loss: 0.0665 - acc: 0.980 - ETA: 1s - loss: 0.0664 - acc: 0.980 - ETA: 0s - loss: 0.0663 - acc: 0.980 - ETA: 0s - loss: 0.0664 - acc: 0.980 - ETA: 0s - loss: 0.0666 - acc: 0.979 - ETA: 0s - loss: 0.0665 - acc: 0.980 - ETA: 0s - loss: 0.0665 - acc: 0.980 - ETA: 0s - loss: 0.0664 - acc: 0.980 - ETA: 0s - loss: 0.0664 - acc: 0.980 - ETA: 0s - loss: 0.0665 - acc: 0.980 - ETA: 0s - loss: 0.0664 - acc: 0.980 - ETA: 0s - loss: 0.0663 - acc: 0.980 - ETA: 0s - loss: 0.0664 - acc: 0.980 - ETA: 0s - loss: 0.0663 - acc: 0.980 - ETA: 0s - loss: 0.0663 - acc: 0.980 - ETA: 0s - loss: 0.0665 - acc: 0.980 - ETA: 0s - loss: 0.0664 - acc: 0.980 - ETA: 0s - loss: 0.0664 - acc: 0.980 - ETA: 0s - loss: 0.0663 - acc: 0.980 - 14s 234us/step - loss: 0.0664 - acc: 0.9802 - val_loss: 0.0369 - val_acc: 0.9875\n",
      "Epoch 4/12\n"
     ]
    },
    {
     "name": "stdout",
     "output_type": "stream",
     "text": [
      "54912/60000 [==========================>...] - ETA: 13s - loss: 0.0481 - acc: 0.98 - ETA: 13s - loss: 0.0657 - acc: 0.98 - ETA: 13s - loss: 0.0697 - acc: 0.97 - ETA: 13s - loss: 0.0576 - acc: 0.98 - ETA: 13s - loss: 0.0490 - acc: 0.98 - ETA: 13s - loss: 0.0537 - acc: 0.98 - ETA: 12s - loss: 0.0550 - acc: 0.98 - ETA: 12s - loss: 0.0572 - acc: 0.98 - ETA: 12s - loss: 0.0608 - acc: 0.98 - ETA: 12s - loss: 0.0577 - acc: 0.98 - ETA: 12s - loss: 0.0604 - acc: 0.98 - ETA: 12s - loss: 0.0599 - acc: 0.98 - ETA: 12s - loss: 0.0596 - acc: 0.98 - ETA: 12s - loss: 0.0579 - acc: 0.98 - ETA: 12s - loss: 0.0583 - acc: 0.98 - ETA: 12s - loss: 0.0571 - acc: 0.98 - ETA: 12s - loss: 0.0589 - acc: 0.98 - ETA: 12s - loss: 0.0572 - acc: 0.98 - ETA: 12s - loss: 0.0578 - acc: 0.98 - ETA: 12s - loss: 0.0574 - acc: 0.98 - ETA: 12s - loss: 0.0563 - acc: 0.98 - ETA: 12s - loss: 0.0557 - acc: 0.98 - ETA: 12s - loss: 0.0556 - acc: 0.98 - ETA: 12s - loss: 0.0546 - acc: 0.98 - ETA: 12s - loss: 0.0571 - acc: 0.98 - ETA: 11s - loss: 0.0564 - acc: 0.98 - ETA: 11s - loss: 0.0559 - acc: 0.98 - ETA: 11s - loss: 0.0554 - acc: 0.98 - ETA: 11s - loss: 0.0539 - acc: 0.98 - ETA: 11s - loss: 0.0539 - acc: 0.98 - ETA: 11s - loss: 0.0548 - acc: 0.98 - ETA: 11s - loss: 0.0537 - acc: 0.98 - ETA: 11s - loss: 0.0542 - acc: 0.98 - ETA: 11s - loss: 0.0540 - acc: 0.98 - ETA: 11s - loss: 0.0540 - acc: 0.98 - ETA: 11s - loss: 0.0529 - acc: 0.98 - ETA: 11s - loss: 0.0534 - acc: 0.98 - ETA: 11s - loss: 0.0533 - acc: 0.98 - ETA: 11s - loss: 0.0525 - acc: 0.98 - ETA: 11s - loss: 0.0532 - acc: 0.98 - ETA: 11s - loss: 0.0524 - acc: 0.98 - ETA: 11s - loss: 0.0531 - acc: 0.98 - ETA: 10s - loss: 0.0524 - acc: 0.98 - ETA: 10s - loss: 0.0535 - acc: 0.98 - ETA: 10s - loss: 0.0529 - acc: 0.98 - ETA: 10s - loss: 0.0525 - acc: 0.98 - ETA: 10s - loss: 0.0522 - acc: 0.98 - ETA: 10s - loss: 0.0525 - acc: 0.98 - ETA: 10s - loss: 0.0521 - acc: 0.98 - ETA: 10s - loss: 0.0525 - acc: 0.98 - ETA: 10s - loss: 0.0524 - acc: 0.98 - ETA: 10s - loss: 0.0520 - acc: 0.98 - ETA: 10s - loss: 0.0517 - acc: 0.98 - ETA: 10s - loss: 0.0516 - acc: 0.98 - ETA: 10s - loss: 0.0517 - acc: 0.98 - ETA: 10s - loss: 0.0513 - acc: 0.98 - ETA: 10s - loss: 0.0510 - acc: 0.98 - ETA: 10s - loss: 0.0517 - acc: 0.98 - ETA: 10s - loss: 0.0519 - acc: 0.98 - ETA: 10s - loss: 0.0518 - acc: 0.98 - ETA: 9s - loss: 0.0515 - acc: 0.9851 - ETA: 9s - loss: 0.0514 - acc: 0.985 - ETA: 9s - loss: 0.0517 - acc: 0.985 - ETA: 9s - loss: 0.0521 - acc: 0.985 - ETA: 9s - loss: 0.0533 - acc: 0.985 - ETA: 9s - loss: 0.0537 - acc: 0.985 - ETA: 9s - loss: 0.0540 - acc: 0.984 - ETA: 9s - loss: 0.0547 - acc: 0.984 - ETA: 9s - loss: 0.0549 - acc: 0.984 - ETA: 9s - loss: 0.0548 - acc: 0.984 - ETA: 9s - loss: 0.0558 - acc: 0.984 - ETA: 9s - loss: 0.0553 - acc: 0.984 - ETA: 9s - loss: 0.0550 - acc: 0.984 - ETA: 9s - loss: 0.0554 - acc: 0.984 - ETA: 9s - loss: 0.0553 - acc: 0.984 - ETA: 9s - loss: 0.0559 - acc: 0.984 - ETA: 9s - loss: 0.0559 - acc: 0.984 - ETA: 8s - loss: 0.0563 - acc: 0.984 - ETA: 8s - loss: 0.0562 - acc: 0.984 - ETA: 8s - loss: 0.0562 - acc: 0.984 - ETA: 8s - loss: 0.0559 - acc: 0.984 - ETA: 8s - loss: 0.0560 - acc: 0.984 - ETA: 8s - loss: 0.0559 - acc: 0.984 - ETA: 8s - loss: 0.0562 - acc: 0.984 - ETA: 8s - loss: 0.0564 - acc: 0.984 - ETA: 8s - loss: 0.0565 - acc: 0.984 - ETA: 8s - loss: 0.0568 - acc: 0.984 - ETA: 8s - loss: 0.0567 - acc: 0.984 - ETA: 8s - loss: 0.0573 - acc: 0.983 - ETA: 8s - loss: 0.0572 - acc: 0.983 - ETA: 8s - loss: 0.0575 - acc: 0.983 - ETA: 8s - loss: 0.0575 - acc: 0.983 - ETA: 8s - loss: 0.0576 - acc: 0.983 - ETA: 8s - loss: 0.0574 - acc: 0.983 - ETA: 8s - loss: 0.0572 - acc: 0.983 - ETA: 7s - loss: 0.0568 - acc: 0.984 - ETA: 7s - loss: 0.0567 - acc: 0.984 - ETA: 7s - loss: 0.0567 - acc: 0.984 - ETA: 7s - loss: 0.0567 - acc: 0.984 - ETA: 7s - loss: 0.0568 - acc: 0.983 - ETA: 7s - loss: 0.0569 - acc: 0.983 - ETA: 7s - loss: 0.0571 - acc: 0.983 - ETA: 7s - loss: 0.0576 - acc: 0.983 - ETA: 7s - loss: 0.0578 - acc: 0.983 - ETA: 7s - loss: 0.0577 - acc: 0.983 - ETA: 7s - loss: 0.0580 - acc: 0.983 - ETA: 7s - loss: 0.0580 - acc: 0.983 - ETA: 7s - loss: 0.0577 - acc: 0.983 - ETA: 7s - loss: 0.0577 - acc: 0.983 - ETA: 7s - loss: 0.0573 - acc: 0.983 - ETA: 7s - loss: 0.0572 - acc: 0.983 - ETA: 7s - loss: 0.0571 - acc: 0.983 - ETA: 6s - loss: 0.0572 - acc: 0.983 - ETA: 6s - loss: 0.0571 - acc: 0.983 - ETA: 6s - loss: 0.0573 - acc: 0.983 - ETA: 6s - loss: 0.0571 - acc: 0.983 - ETA: 6s - loss: 0.0572 - acc: 0.983 - ETA: 6s - loss: 0.0575 - acc: 0.983 - ETA: 6s - loss: 0.0572 - acc: 0.983 - ETA: 6s - loss: 0.0570 - acc: 0.983 - ETA: 6s - loss: 0.0568 - acc: 0.983 - ETA: 6s - loss: 0.0565 - acc: 0.984 - ETA: 6s - loss: 0.0564 - acc: 0.984 - ETA: 6s - loss: 0.0564 - acc: 0.984 - ETA: 6s - loss: 0.0564 - acc: 0.983 - ETA: 6s - loss: 0.0563 - acc: 0.984 - ETA: 6s - loss: 0.0560 - acc: 0.984 - ETA: 6s - loss: 0.0560 - acc: 0.984 - ETA: 6s - loss: 0.0558 - acc: 0.984 - ETA: 6s - loss: 0.0558 - acc: 0.984 - ETA: 5s - loss: 0.0557 - acc: 0.984 - ETA: 5s - loss: 0.0555 - acc: 0.984 - ETA: 5s - loss: 0.0554 - acc: 0.984 - ETA: 5s - loss: 0.0555 - acc: 0.984 - ETA: 5s - loss: 0.0555 - acc: 0.984 - ETA: 5s - loss: 0.0555 - acc: 0.984 - ETA: 5s - loss: 0.0554 - acc: 0.984 - ETA: 5s - loss: 0.0554 - acc: 0.984 - ETA: 5s - loss: 0.0556 - acc: 0.984 - ETA: 5s - loss: 0.0554 - acc: 0.984 - ETA: 5s - loss: 0.0557 - acc: 0.984 - ETA: 5s - loss: 0.0558 - acc: 0.984 - ETA: 5s - loss: 0.0560 - acc: 0.983 - ETA: 5s - loss: 0.0559 - acc: 0.984 - ETA: 5s - loss: 0.0562 - acc: 0.983 - ETA: 5s - loss: 0.0562 - acc: 0.983 - ETA: 5s - loss: 0.0561 - acc: 0.983 - ETA: 4s - loss: 0.0559 - acc: 0.984 - ETA: 4s - loss: 0.0559 - acc: 0.983 - ETA: 4s - loss: 0.0558 - acc: 0.983 - ETA: 4s - loss: 0.0556 - acc: 0.984 - ETA: 4s - loss: 0.0557 - acc: 0.984 - ETA: 4s - loss: 0.0554 - acc: 0.984 - ETA: 4s - loss: 0.0554 - acc: 0.984 - ETA: 4s - loss: 0.0553 - acc: 0.984 - ETA: 4s - loss: 0.0556 - acc: 0.984 - ETA: 4s - loss: 0.0554 - acc: 0.984 - ETA: 4s - loss: 0.0552 - acc: 0.984 - ETA: 4s - loss: 0.0553 - acc: 0.984 - ETA: 4s - loss: 0.0555 - acc: 0.984 - ETA: 4s - loss: 0.0556 - acc: 0.984 - ETA: 4s - loss: 0.0555 - acc: 0.984 - ETA: 4s - loss: 0.0557 - acc: 0.984 - ETA: 4s - loss: 0.0559 - acc: 0.983 - ETA: 4s - loss: 0.0557 - acc: 0.984 - ETA: 3s - loss: 0.0557 - acc: 0.984 - ETA: 3s - loss: 0.0555 - acc: 0.984 - ETA: 3s - loss: 0.0555 - acc: 0.984 - ETA: 3s - loss: 0.0554 - acc: 0.984 - ETA: 3s - loss: 0.0552 - acc: 0.984 - ETA: 3s - loss: 0.0552 - acc: 0.984 - ETA: 3s - loss: 0.0550 - acc: 0.984 - ETA: 3s - loss: 0.0549 - acc: 0.984 - ETA: 3s - loss: 0.0548 - acc: 0.984 - ETA: 3s - loss: 0.0548 - acc: 0.984 - ETA: 3s - loss: 0.0548 - acc: 0.984 - ETA: 3s - loss: 0.0547 - acc: 0.984 - ETA: 3s - loss: 0.0548 - acc: 0.984 - ETA: 3s - loss: 0.0547 - acc: 0.984 - ETA: 3s - loss: 0.0546 - acc: 0.984 - ETA: 3s - loss: 0.0546 - acc: 0.984 - ETA: 3s - loss: 0.0549 - acc: 0.984 - ETA: 2s - loss: 0.0549 - acc: 0.984 - ETA: 2s - loss: 0.0549 - acc: 0.984 - ETA: 2s - loss: 0.0547 - acc: 0.984 - ETA: 2s - loss: 0.0546 - acc: 0.984 - ETA: 2s - loss: 0.0547 - acc: 0.984 - ETA: 2s - loss: 0.0545 - acc: 0.984 - ETA: 2s - loss: 0.0544 - acc: 0.984 - ETA: 2s - loss: 0.0542 - acc: 0.984 - ETA: 2s - loss: 0.0542 - acc: 0.984 - ETA: 2s - loss: 0.0541 - acc: 0.984 - ETA: 2s - loss: 0.0546 - acc: 0.984 - ETA: 2s - loss: 0.0547 - acc: 0.984 - ETA: 2s - loss: 0.0547 - acc: 0.984 - ETA: 2s - loss: 0.0547 - acc: 0.984 - ETA: 2s - loss: 0.0547 - acc: 0.984 - ETA: 2s - loss: 0.0546 - acc: 0.984 - ETA: 2s - loss: 0.0546 - acc: 0.984 - ETA: 2s - loss: 0.0548 - acc: 0.984 - ETA: 1s - loss: 0.0550 - acc: 0.984 - ETA: 1s - loss: 0.0549 - acc: 0.984 - ETA: 1s - loss: 0.0548 - acc: 0.984 - ETA: 1s - loss: 0.0550 - acc: 0.984 - ETA: 1s - loss: 0.0549 - acc: 0.984 - ETA: 1s - loss: 0.0549 - acc: 0.984 - ETA: 1s - loss: 0.0549 - acc: 0.984 - ETA: 1s - loss: 0.0550 - acc: 0.984 - ETA: 1s - loss: 0.0552 - acc: 0.984 - ETA: 1s - loss: 0.0552 - acc: 0.984 - ETA: 1s - loss: 0.0552 - acc: 0.984 - ETA: 1s - loss: 0.0553 - acc: 0.984 - ETA: 1s - loss: 0.0552 - acc: 0.984 - ETA: 1s - loss: 0.0551 - acc: 0.984 - ETA: 1s - loss: 0.0550 - acc: 0.9842"
     ]
    },
    {
     "name": "stdout",
     "output_type": "stream",
     "text": [
      "60000/60000 [==============================] - ETA: 1s - loss: 0.0550 - acc: 0.984 - ETA: 1s - loss: 0.0553 - acc: 0.984 - ETA: 0s - loss: 0.0554 - acc: 0.984 - ETA: 0s - loss: 0.0554 - acc: 0.984 - ETA: 0s - loss: 0.0554 - acc: 0.984 - ETA: 0s - loss: 0.0554 - acc: 0.984 - ETA: 0s - loss: 0.0554 - acc: 0.984 - ETA: 0s - loss: 0.0553 - acc: 0.984 - ETA: 0s - loss: 0.0551 - acc: 0.984 - ETA: 0s - loss: 0.0550 - acc: 0.984 - ETA: 0s - loss: 0.0551 - acc: 0.984 - ETA: 0s - loss: 0.0551 - acc: 0.984 - ETA: 0s - loss: 0.0552 - acc: 0.984 - ETA: 0s - loss: 0.0553 - acc: 0.984 - ETA: 0s - loss: 0.0552 - acc: 0.984 - ETA: 0s - loss: 0.0551 - acc: 0.984 - ETA: 0s - loss: 0.0550 - acc: 0.984 - ETA: 0s - loss: 0.0549 - acc: 0.984 - ETA: 0s - loss: 0.0549 - acc: 0.984 - 14s 234us/step - loss: 0.0548 - acc: 0.9843 - val_loss: 0.0320 - val_acc: 0.9891\n",
      "Epoch 5/12\n",
      "54912/60000 [==========================>...] - ETA: 14s - loss: 0.1232 - acc: 0.97 - ETA: 13s - loss: 0.0952 - acc: 0.97 - ETA: 13s - loss: 0.0794 - acc: 0.98 - ETA: 13s - loss: 0.0701 - acc: 0.97 - ETA: 13s - loss: 0.0639 - acc: 0.98 - ETA: 13s - loss: 0.0568 - acc: 0.98 - ETA: 13s - loss: 0.0573 - acc: 0.98 - ETA: 13s - loss: 0.0611 - acc: 0.98 - ETA: 12s - loss: 0.0587 - acc: 0.98 - ETA: 12s - loss: 0.0590 - acc: 0.98 - ETA: 12s - loss: 0.0565 - acc: 0.98 - ETA: 12s - loss: 0.0596 - acc: 0.98 - ETA: 12s - loss: 0.0560 - acc: 0.98 - ETA: 12s - loss: 0.0548 - acc: 0.98 - ETA: 12s - loss: 0.0541 - acc: 0.98 - ETA: 12s - loss: 0.0534 - acc: 0.98 - ETA: 12s - loss: 0.0528 - acc: 0.98 - ETA: 12s - loss: 0.0522 - acc: 0.98 - ETA: 12s - loss: 0.0519 - acc: 0.98 - ETA: 12s - loss: 0.0514 - acc: 0.98 - ETA: 12s - loss: 0.0500 - acc: 0.98 - ETA: 12s - loss: 0.0495 - acc: 0.98 - ETA: 12s - loss: 0.0491 - acc: 0.98 - ETA: 12s - loss: 0.0494 - acc: 0.98 - ETA: 12s - loss: 0.0480 - acc: 0.98 - ETA: 11s - loss: 0.0480 - acc: 0.98 - ETA: 11s - loss: 0.0479 - acc: 0.98 - ETA: 11s - loss: 0.0469 - acc: 0.98 - ETA: 11s - loss: 0.0479 - acc: 0.98 - ETA: 11s - loss: 0.0498 - acc: 0.98 - ETA: 11s - loss: 0.0503 - acc: 0.98 - ETA: 11s - loss: 0.0520 - acc: 0.98 - ETA: 11s - loss: 0.0539 - acc: 0.98 - ETA: 11s - loss: 0.0537 - acc: 0.98 - ETA: 11s - loss: 0.0539 - acc: 0.98 - ETA: 11s - loss: 0.0553 - acc: 0.98 - ETA: 11s - loss: 0.0547 - acc: 0.98 - ETA: 11s - loss: 0.0539 - acc: 0.98 - ETA: 11s - loss: 0.0549 - acc: 0.98 - ETA: 11s - loss: 0.0544 - acc: 0.98 - ETA: 11s - loss: 0.0537 - acc: 0.98 - ETA: 11s - loss: 0.0538 - acc: 0.98 - ETA: 10s - loss: 0.0540 - acc: 0.98 - ETA: 10s - loss: 0.0538 - acc: 0.98 - ETA: 10s - loss: 0.0540 - acc: 0.98 - ETA: 10s - loss: 0.0540 - acc: 0.98 - ETA: 10s - loss: 0.0536 - acc: 0.98 - ETA: 10s - loss: 0.0530 - acc: 0.98 - ETA: 10s - loss: 0.0533 - acc: 0.98 - ETA: 10s - loss: 0.0532 - acc: 0.98 - ETA: 10s - loss: 0.0532 - acc: 0.98 - ETA: 10s - loss: 0.0528 - acc: 0.98 - ETA: 10s - loss: 0.0529 - acc: 0.98 - ETA: 10s - loss: 0.0527 - acc: 0.98 - ETA: 10s - loss: 0.0529 - acc: 0.98 - ETA: 10s - loss: 0.0535 - acc: 0.98 - ETA: 10s - loss: 0.0534 - acc: 0.98 - ETA: 10s - loss: 0.0535 - acc: 0.98 - ETA: 10s - loss: 0.0530 - acc: 0.98 - ETA: 10s - loss: 0.0539 - acc: 0.98 - ETA: 9s - loss: 0.0537 - acc: 0.9833 - ETA: 9s - loss: 0.0532 - acc: 0.983 - ETA: 9s - loss: 0.0531 - acc: 0.983 - ETA: 9s - loss: 0.0531 - acc: 0.983 - ETA: 9s - loss: 0.0530 - acc: 0.983 - ETA: 9s - loss: 0.0533 - acc: 0.983 - ETA: 9s - loss: 0.0530 - acc: 0.983 - ETA: 9s - loss: 0.0529 - acc: 0.983 - ETA: 9s - loss: 0.0528 - acc: 0.983 - ETA: 9s - loss: 0.0524 - acc: 0.983 - ETA: 9s - loss: 0.0524 - acc: 0.984 - ETA: 9s - loss: 0.0524 - acc: 0.984 - ETA: 9s - loss: 0.0519 - acc: 0.984 - ETA: 9s - loss: 0.0521 - acc: 0.984 - ETA: 9s - loss: 0.0516 - acc: 0.984 - ETA: 9s - loss: 0.0513 - acc: 0.984 - ETA: 9s - loss: 0.0508 - acc: 0.984 - ETA: 8s - loss: 0.0507 - acc: 0.984 - ETA: 8s - loss: 0.0507 - acc: 0.984 - ETA: 8s - loss: 0.0506 - acc: 0.984 - ETA: 8s - loss: 0.0507 - acc: 0.984 - ETA: 8s - loss: 0.0507 - acc: 0.984 - ETA: 8s - loss: 0.0503 - acc: 0.984 - ETA: 8s - loss: 0.0503 - acc: 0.984 - ETA: 8s - loss: 0.0506 - acc: 0.984 - ETA: 8s - loss: 0.0503 - acc: 0.984 - ETA: 8s - loss: 0.0506 - acc: 0.984 - ETA: 8s - loss: 0.0510 - acc: 0.984 - ETA: 8s - loss: 0.0507 - acc: 0.984 - ETA: 8s - loss: 0.0510 - acc: 0.984 - ETA: 8s - loss: 0.0510 - acc: 0.984 - ETA: 8s - loss: 0.0507 - acc: 0.984 - ETA: 8s - loss: 0.0507 - acc: 0.984 - ETA: 8s - loss: 0.0504 - acc: 0.984 - ETA: 8s - loss: 0.0503 - acc: 0.984 - ETA: 7s - loss: 0.0501 - acc: 0.984 - ETA: 7s - loss: 0.0503 - acc: 0.984 - ETA: 7s - loss: 0.0507 - acc: 0.984 - ETA: 7s - loss: 0.0506 - acc: 0.984 - ETA: 7s - loss: 0.0504 - acc: 0.984 - ETA: 7s - loss: 0.0501 - acc: 0.984 - ETA: 7s - loss: 0.0500 - acc: 0.984 - ETA: 7s - loss: 0.0498 - acc: 0.984 - ETA: 7s - loss: 0.0499 - acc: 0.984 - ETA: 7s - loss: 0.0500 - acc: 0.984 - ETA: 7s - loss: 0.0500 - acc: 0.984 - ETA: 7s - loss: 0.0499 - acc: 0.984 - ETA: 7s - loss: 0.0501 - acc: 0.984 - ETA: 7s - loss: 0.0500 - acc: 0.984 - ETA: 7s - loss: 0.0500 - acc: 0.984 - ETA: 7s - loss: 0.0499 - acc: 0.984 - ETA: 7s - loss: 0.0496 - acc: 0.984 - ETA: 6s - loss: 0.0496 - acc: 0.984 - ETA: 6s - loss: 0.0495 - acc: 0.984 - ETA: 6s - loss: 0.0496 - acc: 0.984 - ETA: 6s - loss: 0.0496 - acc: 0.984 - ETA: 6s - loss: 0.0495 - acc: 0.984 - ETA: 6s - loss: 0.0495 - acc: 0.984 - ETA: 6s - loss: 0.0496 - acc: 0.984 - ETA: 6s - loss: 0.0496 - acc: 0.984 - ETA: 6s - loss: 0.0498 - acc: 0.984 - ETA: 6s - loss: 0.0500 - acc: 0.984 - ETA: 6s - loss: 0.0499 - acc: 0.984 - ETA: 6s - loss: 0.0498 - acc: 0.984 - ETA: 6s - loss: 0.0503 - acc: 0.984 - ETA: 6s - loss: 0.0502 - acc: 0.984 - ETA: 6s - loss: 0.0503 - acc: 0.984 - ETA: 6s - loss: 0.0503 - acc: 0.984 - ETA: 6s - loss: 0.0502 - acc: 0.984 - ETA: 6s - loss: 0.0501 - acc: 0.984 - ETA: 5s - loss: 0.0499 - acc: 0.984 - ETA: 5s - loss: 0.0501 - acc: 0.984 - ETA: 5s - loss: 0.0504 - acc: 0.984 - ETA: 5s - loss: 0.0503 - acc: 0.984 - ETA: 5s - loss: 0.0502 - acc: 0.984 - ETA: 5s - loss: 0.0501 - acc: 0.984 - ETA: 5s - loss: 0.0501 - acc: 0.984 - ETA: 5s - loss: 0.0502 - acc: 0.984 - ETA: 5s - loss: 0.0502 - acc: 0.984 - ETA: 5s - loss: 0.0502 - acc: 0.984 - ETA: 5s - loss: 0.0503 - acc: 0.984 - ETA: 5s - loss: 0.0502 - acc: 0.984 - ETA: 5s - loss: 0.0501 - acc: 0.984 - ETA: 5s - loss: 0.0504 - acc: 0.984 - ETA: 5s - loss: 0.0505 - acc: 0.984 - ETA: 5s - loss: 0.0504 - acc: 0.984 - ETA: 5s - loss: 0.0503 - acc: 0.984 - ETA: 4s - loss: 0.0502 - acc: 0.984 - ETA: 4s - loss: 0.0501 - acc: 0.984 - ETA: 4s - loss: 0.0502 - acc: 0.984 - ETA: 4s - loss: 0.0501 - acc: 0.984 - ETA: 4s - loss: 0.0500 - acc: 0.984 - ETA: 4s - loss: 0.0500 - acc: 0.984 - ETA: 4s - loss: 0.0500 - acc: 0.984 - ETA: 4s - loss: 0.0499 - acc: 0.984 - ETA: 4s - loss: 0.0496 - acc: 0.984 - ETA: 4s - loss: 0.0494 - acc: 0.984 - ETA: 4s - loss: 0.0497 - acc: 0.984 - ETA: 4s - loss: 0.0494 - acc: 0.984 - ETA: 4s - loss: 0.0496 - acc: 0.984 - ETA: 4s - loss: 0.0495 - acc: 0.984 - ETA: 4s - loss: 0.0496 - acc: 0.984 - ETA: 4s - loss: 0.0496 - acc: 0.984 - ETA: 4s - loss: 0.0497 - acc: 0.984 - ETA: 4s - loss: 0.0495 - acc: 0.984 - ETA: 3s - loss: 0.0493 - acc: 0.984 - ETA: 3s - loss: 0.0492 - acc: 0.984 - ETA: 3s - loss: 0.0491 - acc: 0.984 - ETA: 3s - loss: 0.0493 - acc: 0.984 - ETA: 3s - loss: 0.0492 - acc: 0.984 - ETA: 3s - loss: 0.0490 - acc: 0.984 - ETA: 3s - loss: 0.0490 - acc: 0.984 - ETA: 3s - loss: 0.0490 - acc: 0.984 - ETA: 3s - loss: 0.0490 - acc: 0.984 - ETA: 3s - loss: 0.0489 - acc: 0.984 - ETA: 3s - loss: 0.0492 - acc: 0.984 - ETA: 3s - loss: 0.0492 - acc: 0.984 - ETA: 3s - loss: 0.0492 - acc: 0.984 - ETA: 3s - loss: 0.0492 - acc: 0.984 - ETA: 3s - loss: 0.0491 - acc: 0.984 - ETA: 3s - loss: 0.0491 - acc: 0.984 - ETA: 3s - loss: 0.0491 - acc: 0.984 - ETA: 2s - loss: 0.0491 - acc: 0.984 - ETA: 2s - loss: 0.0491 - acc: 0.984 - ETA: 2s - loss: 0.0491 - acc: 0.984 - ETA: 2s - loss: 0.0491 - acc: 0.984 - ETA: 2s - loss: 0.0489 - acc: 0.984 - ETA: 2s - loss: 0.0487 - acc: 0.984 - ETA: 2s - loss: 0.0487 - acc: 0.984 - ETA: 2s - loss: 0.0486 - acc: 0.984 - ETA: 2s - loss: 0.0488 - acc: 0.984 - ETA: 2s - loss: 0.0487 - acc: 0.984 - ETA: 2s - loss: 0.0486 - acc: 0.984 - ETA: 2s - loss: 0.0485 - acc: 0.984 - ETA: 2s - loss: 0.0484 - acc: 0.984 - ETA: 2s - loss: 0.0483 - acc: 0.984 - ETA: 2s - loss: 0.0485 - acc: 0.984 - ETA: 2s - loss: 0.0485 - acc: 0.984 - ETA: 2s - loss: 0.0485 - acc: 0.984 - ETA: 1s - loss: 0.0484 - acc: 0.984 - ETA: 1s - loss: 0.0485 - acc: 0.984 - ETA: 1s - loss: 0.0484 - acc: 0.984 - ETA: 1s - loss: 0.0484 - acc: 0.984 - ETA: 1s - loss: 0.0487 - acc: 0.984 - ETA: 1s - loss: 0.0489 - acc: 0.984 - ETA: 1s - loss: 0.0489 - acc: 0.984 - ETA: 1s - loss: 0.0491 - acc: 0.984 - ETA: 1s - loss: 0.0489 - acc: 0.984 - ETA: 1s - loss: 0.0489 - acc: 0.984 - ETA: 1s - loss: 0.0488 - acc: 0.984 - ETA: 1s - loss: 0.0490 - acc: 0.984 - ETA: 1s - loss: 0.0489 - acc: 0.984 - ETA: 1s - loss: 0.0488 - acc: 0.984 - ETA: 1s - loss: 0.0488 - acc: 0.984 - ETA: 1s - loss: 0.0486 - acc: 0.984760000/60000 [==============================] - ETA: 1s - loss: 0.0485 - acc: 0.984 - ETA: 1s - loss: 0.0484 - acc: 0.984 - ETA: 0s - loss: 0.0483 - acc: 0.984 - ETA: 0s - loss: 0.0481 - acc: 0.984 - ETA: 0s - loss: 0.0483 - acc: 0.984 - ETA: 0s - loss: 0.0485 - acc: 0.984 - ETA: 0s - loss: 0.0485 - acc: 0.984 - ETA: 0s - loss: 0.0484 - acc: 0.984 - ETA: 0s - loss: 0.0483 - acc: 0.984 - ETA: 0s - loss: 0.0484 - acc: 0.984 - ETA: 0s - loss: 0.0483 - acc: 0.984 - ETA: 0s - loss: 0.0482 - acc: 0.984 - ETA: 0s - loss: 0.0484 - acc: 0.984 - ETA: 0s - loss: 0.0485 - acc: 0.984 - ETA: 0s - loss: 0.0484 - acc: 0.984 - ETA: 0s - loss: 0.0484 - acc: 0.984 - ETA: 0s - loss: 0.0484 - acc: 0.984 - ETA: 0s - loss: 0.0483 - acc: 0.984 - ETA: 0s - loss: 0.0482 - acc: 0.985 - 14s 234us/step - loss: 0.0481 - acc: 0.9850 - val_loss: 0.0322 - val_acc: 0.9898\n",
      "Epoch 6/12\n"
     ]
    },
    {
     "name": "stdout",
     "output_type": "stream",
     "text": [
      "54912/60000 [==========================>...] - ETA: 13s - loss: 0.0087 - acc: 1.00 - ETA: 13s - loss: 0.0102 - acc: 0.99 - ETA: 13s - loss: 0.0214 - acc: 0.99 - ETA: 13s - loss: 0.0307 - acc: 0.99 - ETA: 13s - loss: 0.0374 - acc: 0.98 - ETA: 13s - loss: 0.0461 - acc: 0.98 - ETA: 13s - loss: 0.0478 - acc: 0.98 - ETA: 12s - loss: 0.0463 - acc: 0.98 - ETA: 12s - loss: 0.0440 - acc: 0.98 - ETA: 12s - loss: 0.0444 - acc: 0.98 - ETA: 12s - loss: 0.0441 - acc: 0.98 - ETA: 12s - loss: 0.0460 - acc: 0.98 - ETA: 12s - loss: 0.0436 - acc: 0.98 - ETA: 12s - loss: 0.0419 - acc: 0.98 - ETA: 12s - loss: 0.0406 - acc: 0.98 - ETA: 12s - loss: 0.0398 - acc: 0.98 - ETA: 12s - loss: 0.0403 - acc: 0.98 - ETA: 12s - loss: 0.0392 - acc: 0.98 - ETA: 12s - loss: 0.0374 - acc: 0.98 - ETA: 12s - loss: 0.0374 - acc: 0.98 - ETA: 12s - loss: 0.0384 - acc: 0.98 - ETA: 12s - loss: 0.0376 - acc: 0.98 - ETA: 12s - loss: 0.0383 - acc: 0.98 - ETA: 12s - loss: 0.0389 - acc: 0.98 - ETA: 12s - loss: 0.0386 - acc: 0.98 - ETA: 11s - loss: 0.0379 - acc: 0.98 - ETA: 11s - loss: 0.0388 - acc: 0.98 - ETA: 11s - loss: 0.0384 - acc: 0.98 - ETA: 11s - loss: 0.0399 - acc: 0.98 - ETA: 11s - loss: 0.0403 - acc: 0.98 - ETA: 11s - loss: 0.0394 - acc: 0.98 - ETA: 11s - loss: 0.0402 - acc: 0.98 - ETA: 11s - loss: 0.0405 - acc: 0.98 - ETA: 11s - loss: 0.0401 - acc: 0.98 - ETA: 11s - loss: 0.0398 - acc: 0.98 - ETA: 11s - loss: 0.0403 - acc: 0.98 - ETA: 11s - loss: 0.0404 - acc: 0.98 - ETA: 11s - loss: 0.0406 - acc: 0.98 - ETA: 11s - loss: 0.0401 - acc: 0.98 - ETA: 11s - loss: 0.0395 - acc: 0.98 - ETA: 11s - loss: 0.0396 - acc: 0.98 - ETA: 11s - loss: 0.0395 - acc: 0.98 - ETA: 11s - loss: 0.0391 - acc: 0.98 - ETA: 10s - loss: 0.0391 - acc: 0.98 - ETA: 10s - loss: 0.0387 - acc: 0.98 - ETA: 10s - loss: 0.0384 - acc: 0.98 - ETA: 10s - loss: 0.0397 - acc: 0.98 - ETA: 10s - loss: 0.0390 - acc: 0.98 - ETA: 10s - loss: 0.0391 - acc: 0.98 - ETA: 10s - loss: 0.0388 - acc: 0.98 - ETA: 10s - loss: 0.0386 - acc: 0.98 - ETA: 10s - loss: 0.0387 - acc: 0.98 - ETA: 10s - loss: 0.0390 - acc: 0.98 - ETA: 10s - loss: 0.0388 - acc: 0.98 - ETA: 10s - loss: 0.0387 - acc: 0.98 - ETA: 10s - loss: 0.0383 - acc: 0.98 - ETA: 10s - loss: 0.0383 - acc: 0.98 - ETA: 10s - loss: 0.0383 - acc: 0.98 - ETA: 10s - loss: 0.0385 - acc: 0.98 - ETA: 10s - loss: 0.0385 - acc: 0.98 - ETA: 9s - loss: 0.0383 - acc: 0.9879 - ETA: 9s - loss: 0.0392 - acc: 0.987 - ETA: 9s - loss: 0.0394 - acc: 0.987 - ETA: 9s - loss: 0.0394 - acc: 0.987 - ETA: 9s - loss: 0.0392 - acc: 0.987 - ETA: 9s - loss: 0.0397 - acc: 0.987 - ETA: 9s - loss: 0.0396 - acc: 0.987 - ETA: 9s - loss: 0.0396 - acc: 0.987 - ETA: 9s - loss: 0.0396 - acc: 0.987 - ETA: 9s - loss: 0.0398 - acc: 0.987 - ETA: 9s - loss: 0.0396 - acc: 0.987 - ETA: 9s - loss: 0.0395 - acc: 0.987 - ETA: 9s - loss: 0.0395 - acc: 0.987 - ETA: 9s - loss: 0.0399 - acc: 0.987 - ETA: 9s - loss: 0.0398 - acc: 0.987 - ETA: 9s - loss: 0.0395 - acc: 0.987 - ETA: 9s - loss: 0.0393 - acc: 0.987 - ETA: 9s - loss: 0.0393 - acc: 0.987 - ETA: 8s - loss: 0.0392 - acc: 0.987 - ETA: 8s - loss: 0.0394 - acc: 0.987 - ETA: 8s - loss: 0.0394 - acc: 0.987 - ETA: 8s - loss: 0.0401 - acc: 0.987 - ETA: 8s - loss: 0.0400 - acc: 0.987 - ETA: 8s - loss: 0.0399 - acc: 0.987 - ETA: 8s - loss: 0.0400 - acc: 0.987 - ETA: 8s - loss: 0.0402 - acc: 0.987 - ETA: 8s - loss: 0.0405 - acc: 0.987 - ETA: 8s - loss: 0.0405 - acc: 0.987 - ETA: 8s - loss: 0.0412 - acc: 0.987 - ETA: 8s - loss: 0.0410 - acc: 0.987 - ETA: 8s - loss: 0.0408 - acc: 0.987 - ETA: 8s - loss: 0.0411 - acc: 0.987 - ETA: 8s - loss: 0.0413 - acc: 0.987 - ETA: 8s - loss: 0.0414 - acc: 0.987 - ETA: 8s - loss: 0.0412 - acc: 0.987 - ETA: 7s - loss: 0.0412 - acc: 0.987 - ETA: 7s - loss: 0.0414 - acc: 0.987 - ETA: 7s - loss: 0.0414 - acc: 0.986 - ETA: 7s - loss: 0.0415 - acc: 0.986 - ETA: 7s - loss: 0.0415 - acc: 0.986 - ETA: 7s - loss: 0.0414 - acc: 0.986 - ETA: 7s - loss: 0.0415 - acc: 0.986 - ETA: 7s - loss: 0.0414 - acc: 0.986 - ETA: 7s - loss: 0.0413 - acc: 0.986 - ETA: 7s - loss: 0.0413 - acc: 0.986 - ETA: 7s - loss: 0.0411 - acc: 0.986 - ETA: 7s - loss: 0.0411 - acc: 0.986 - ETA: 7s - loss: 0.0408 - acc: 0.987 - ETA: 7s - loss: 0.0407 - acc: 0.987 - ETA: 7s - loss: 0.0410 - acc: 0.986 - ETA: 7s - loss: 0.0411 - acc: 0.986 - ETA: 7s - loss: 0.0411 - acc: 0.986 - ETA: 6s - loss: 0.0410 - acc: 0.986 - ETA: 6s - loss: 0.0410 - acc: 0.987 - ETA: 6s - loss: 0.0410 - acc: 0.987 - ETA: 6s - loss: 0.0409 - acc: 0.987 - ETA: 6s - loss: 0.0409 - acc: 0.987 - ETA: 6s - loss: 0.0406 - acc: 0.987 - ETA: 6s - loss: 0.0412 - acc: 0.986 - ETA: 6s - loss: 0.0410 - acc: 0.986 - ETA: 6s - loss: 0.0410 - acc: 0.987 - ETA: 6s - loss: 0.0410 - acc: 0.987 - ETA: 6s - loss: 0.0413 - acc: 0.987 - ETA: 6s - loss: 0.0416 - acc: 0.986 - ETA: 6s - loss: 0.0415 - acc: 0.986 - ETA: 6s - loss: 0.0414 - acc: 0.987 - ETA: 6s - loss: 0.0414 - acc: 0.987 - ETA: 6s - loss: 0.0414 - acc: 0.986 - ETA: 6s - loss: 0.0413 - acc: 0.986 - ETA: 6s - loss: 0.0411 - acc: 0.987 - ETA: 5s - loss: 0.0409 - acc: 0.987 - ETA: 5s - loss: 0.0412 - acc: 0.987 - ETA: 5s - loss: 0.0411 - acc: 0.987 - ETA: 5s - loss: 0.0409 - acc: 0.987 - ETA: 5s - loss: 0.0407 - acc: 0.987 - ETA: 5s - loss: 0.0407 - acc: 0.987 - ETA: 5s - loss: 0.0406 - acc: 0.987 - ETA: 5s - loss: 0.0408 - acc: 0.987 - ETA: 5s - loss: 0.0407 - acc: 0.987 - ETA: 5s - loss: 0.0407 - acc: 0.987 - ETA: 5s - loss: 0.0408 - acc: 0.987 - ETA: 5s - loss: 0.0408 - acc: 0.987 - ETA: 5s - loss: 0.0406 - acc: 0.987 - ETA: 5s - loss: 0.0405 - acc: 0.987 - ETA: 5s - loss: 0.0407 - acc: 0.987 - ETA: 5s - loss: 0.0410 - acc: 0.987 - ETA: 5s - loss: 0.0410 - acc: 0.987 - ETA: 4s - loss: 0.0409 - acc: 0.987 - ETA: 4s - loss: 0.0411 - acc: 0.987 - ETA: 4s - loss: 0.0414 - acc: 0.986 - ETA: 4s - loss: 0.0412 - acc: 0.986 - ETA: 4s - loss: 0.0411 - acc: 0.987 - ETA: 4s - loss: 0.0409 - acc: 0.987 - ETA: 4s - loss: 0.0409 - acc: 0.987 - ETA: 4s - loss: 0.0407 - acc: 0.987 - ETA: 4s - loss: 0.0407 - acc: 0.987 - ETA: 4s - loss: 0.0406 - acc: 0.987 - ETA: 4s - loss: 0.0405 - acc: 0.987 - ETA: 4s - loss: 0.0404 - acc: 0.987 - ETA: 4s - loss: 0.0403 - acc: 0.987 - ETA: 4s - loss: 0.0402 - acc: 0.987 - ETA: 4s - loss: 0.0403 - acc: 0.987 - ETA: 4s - loss: 0.0402 - acc: 0.987 - ETA: 4s - loss: 0.0401 - acc: 0.987 - ETA: 4s - loss: 0.0400 - acc: 0.987 - ETA: 3s - loss: 0.0399 - acc: 0.987 - ETA: 3s - loss: 0.0400 - acc: 0.987 - ETA: 3s - loss: 0.0400 - acc: 0.987 - ETA: 3s - loss: 0.0399 - acc: 0.987 - ETA: 3s - loss: 0.0398 - acc: 0.987 - ETA: 3s - loss: 0.0397 - acc: 0.987 - ETA: 3s - loss: 0.0399 - acc: 0.987 - ETA: 3s - loss: 0.0398 - acc: 0.987 - ETA: 3s - loss: 0.0401 - acc: 0.987 - ETA: 3s - loss: 0.0399 - acc: 0.987 - ETA: 3s - loss: 0.0399 - acc: 0.987 - ETA: 3s - loss: 0.0398 - acc: 0.987 - ETA: 3s - loss: 0.0399 - acc: 0.987 - ETA: 3s - loss: 0.0399 - acc: 0.987 - ETA: 3s - loss: 0.0397 - acc: 0.987 - ETA: 3s - loss: 0.0396 - acc: 0.987 - ETA: 3s - loss: 0.0398 - acc: 0.987 - ETA: 2s - loss: 0.0397 - acc: 0.987 - ETA: 2s - loss: 0.0400 - acc: 0.987 - ETA: 2s - loss: 0.0404 - acc: 0.987 - ETA: 2s - loss: 0.0405 - acc: 0.987 - ETA: 2s - loss: 0.0408 - acc: 0.987 - ETA: 2s - loss: 0.0408 - acc: 0.987 - ETA: 2s - loss: 0.0408 - acc: 0.987 - ETA: 2s - loss: 0.0408 - acc: 0.987 - ETA: 2s - loss: 0.0408 - acc: 0.987 - ETA: 2s - loss: 0.0408 - acc: 0.987 - ETA: 2s - loss: 0.0409 - acc: 0.987 - ETA: 2s - loss: 0.0409 - acc: 0.987 - ETA: 2s - loss: 0.0409 - acc: 0.987 - ETA: 2s - loss: 0.0409 - acc: 0.987 - ETA: 2s - loss: 0.0410 - acc: 0.987 - ETA: 2s - loss: 0.0411 - acc: 0.987 - ETA: 2s - loss: 0.0410 - acc: 0.987 - ETA: 2s - loss: 0.0409 - acc: 0.987 - ETA: 1s - loss: 0.0409 - acc: 0.987 - ETA: 1s - loss: 0.0410 - acc: 0.987 - ETA: 1s - loss: 0.0409 - acc: 0.987 - ETA: 1s - loss: 0.0410 - acc: 0.987 - ETA: 1s - loss: 0.0411 - acc: 0.987 - ETA: 1s - loss: 0.0411 - acc: 0.987 - ETA: 1s - loss: 0.0412 - acc: 0.987 - ETA: 1s - loss: 0.0411 - acc: 0.987 - ETA: 1s - loss: 0.0412 - acc: 0.987 - ETA: 1s - loss: 0.0411 - acc: 0.987 - ETA: 1s - loss: 0.0412 - acc: 0.987 - ETA: 1s - loss: 0.0412 - acc: 0.987 - ETA: 1s - loss: 0.0412 - acc: 0.987 - ETA: 1s - loss: 0.0412 - acc: 0.987 - ETA: 1s - loss: 0.0413 - acc: 0.9870"
     ]
    },
    {
     "name": "stdout",
     "output_type": "stream",
     "text": [
      "60000/60000 [==============================] - ETA: 1s - loss: 0.0414 - acc: 0.986 - ETA: 1s - loss: 0.0415 - acc: 0.987 - ETA: 0s - loss: 0.0415 - acc: 0.986 - ETA: 0s - loss: 0.0415 - acc: 0.986 - ETA: 0s - loss: 0.0417 - acc: 0.986 - ETA: 0s - loss: 0.0418 - acc: 0.986 - ETA: 0s - loss: 0.0417 - acc: 0.986 - ETA: 0s - loss: 0.0421 - acc: 0.986 - ETA: 0s - loss: 0.0420 - acc: 0.986 - ETA: 0s - loss: 0.0420 - acc: 0.986 - ETA: 0s - loss: 0.0421 - acc: 0.986 - ETA: 0s - loss: 0.0422 - acc: 0.986 - ETA: 0s - loss: 0.0421 - acc: 0.986 - ETA: 0s - loss: 0.0421 - acc: 0.986 - ETA: 0s - loss: 0.0420 - acc: 0.986 - ETA: 0s - loss: 0.0420 - acc: 0.987 - ETA: 0s - loss: 0.0419 - acc: 0.987 - ETA: 0s - loss: 0.0419 - acc: 0.987 - ETA: 0s - loss: 0.0421 - acc: 0.987 - 14s 236us/step - loss: 0.0422 - acc: 0.9869 - val_loss: 0.0336 - val_acc: 0.9894\n",
      "Epoch 7/12\n",
      "54912/60000 [==========================>...] - ETA: 13s - loss: 0.0223 - acc: 0.99 - ETA: 13s - loss: 0.0323 - acc: 0.98 - ETA: 13s - loss: 0.0353 - acc: 0.98 - ETA: 13s - loss: 0.0357 - acc: 0.98 - ETA: 12s - loss: 0.0332 - acc: 0.98 - ETA: 12s - loss: 0.0308 - acc: 0.98 - ETA: 12s - loss: 0.0324 - acc: 0.98 - ETA: 12s - loss: 0.0319 - acc: 0.98 - ETA: 12s - loss: 0.0292 - acc: 0.98 - ETA: 12s - loss: 0.0336 - acc: 0.98 - ETA: 12s - loss: 0.0361 - acc: 0.98 - ETA: 12s - loss: 0.0396 - acc: 0.98 - ETA: 12s - loss: 0.0394 - acc: 0.98 - ETA: 12s - loss: 0.0405 - acc: 0.98 - ETA: 12s - loss: 0.0406 - acc: 0.98 - ETA: 12s - loss: 0.0387 - acc: 0.98 - ETA: 12s - loss: 0.0379 - acc: 0.98 - ETA: 12s - loss: 0.0432 - acc: 0.98 - ETA: 12s - loss: 0.0421 - acc: 0.98 - ETA: 12s - loss: 0.0413 - acc: 0.98 - ETA: 12s - loss: 0.0408 - acc: 0.98 - ETA: 12s - loss: 0.0427 - acc: 0.98 - ETA: 12s - loss: 0.0430 - acc: 0.98 - ETA: 12s - loss: 0.0417 - acc: 0.98 - ETA: 12s - loss: 0.0417 - acc: 0.98 - ETA: 11s - loss: 0.0408 - acc: 0.98 - ETA: 11s - loss: 0.0399 - acc: 0.98 - ETA: 11s - loss: 0.0409 - acc: 0.98 - ETA: 11s - loss: 0.0407 - acc: 0.98 - ETA: 11s - loss: 0.0403 - acc: 0.98 - ETA: 11s - loss: 0.0395 - acc: 0.98 - ETA: 11s - loss: 0.0389 - acc: 0.98 - ETA: 11s - loss: 0.0385 - acc: 0.98 - ETA: 11s - loss: 0.0389 - acc: 0.98 - ETA: 11s - loss: 0.0383 - acc: 0.98 - ETA: 11s - loss: 0.0386 - acc: 0.98 - ETA: 11s - loss: 0.0378 - acc: 0.98 - ETA: 11s - loss: 0.0380 - acc: 0.98 - ETA: 11s - loss: 0.0374 - acc: 0.98 - ETA: 11s - loss: 0.0377 - acc: 0.98 - ETA: 11s - loss: 0.0373 - acc: 0.98 - ETA: 11s - loss: 0.0371 - acc: 0.98 - ETA: 11s - loss: 0.0370 - acc: 0.98 - ETA: 10s - loss: 0.0363 - acc: 0.98 - ETA: 10s - loss: 0.0367 - acc: 0.98 - ETA: 10s - loss: 0.0366 - acc: 0.98 - ETA: 10s - loss: 0.0369 - acc: 0.98 - ETA: 10s - loss: 0.0375 - acc: 0.98 - ETA: 10s - loss: 0.0376 - acc: 0.98 - ETA: 10s - loss: 0.0373 - acc: 0.98 - ETA: 10s - loss: 0.0372 - acc: 0.98 - ETA: 10s - loss: 0.0370 - acc: 0.98 - ETA: 10s - loss: 0.0371 - acc: 0.98 - ETA: 10s - loss: 0.0370 - acc: 0.98 - ETA: 10s - loss: 0.0367 - acc: 0.98 - ETA: 10s - loss: 0.0367 - acc: 0.98 - ETA: 10s - loss: 0.0365 - acc: 0.98 - ETA: 10s - loss: 0.0364 - acc: 0.98 - ETA: 10s - loss: 0.0368 - acc: 0.98 - ETA: 10s - loss: 0.0368 - acc: 0.98 - ETA: 10s - loss: 0.0367 - acc: 0.98 - ETA: 9s - loss: 0.0373 - acc: 0.9878 - ETA: 9s - loss: 0.0375 - acc: 0.987 - ETA: 9s - loss: 0.0379 - acc: 0.987 - ETA: 9s - loss: 0.0376 - acc: 0.987 - ETA: 9s - loss: 0.0376 - acc: 0.988 - ETA: 9s - loss: 0.0373 - acc: 0.988 - ETA: 9s - loss: 0.0373 - acc: 0.988 - ETA: 9s - loss: 0.0371 - acc: 0.988 - ETA: 9s - loss: 0.0367 - acc: 0.988 - ETA: 9s - loss: 0.0364 - acc: 0.988 - ETA: 9s - loss: 0.0360 - acc: 0.988 - ETA: 9s - loss: 0.0357 - acc: 0.988 - ETA: 9s - loss: 0.0358 - acc: 0.988 - ETA: 9s - loss: 0.0356 - acc: 0.988 - ETA: 9s - loss: 0.0356 - acc: 0.988 - ETA: 9s - loss: 0.0355 - acc: 0.988 - ETA: 9s - loss: 0.0360 - acc: 0.988 - ETA: 8s - loss: 0.0364 - acc: 0.988 - ETA: 8s - loss: 0.0361 - acc: 0.988 - ETA: 8s - loss: 0.0363 - acc: 0.988 - ETA: 8s - loss: 0.0364 - acc: 0.988 - ETA: 8s - loss: 0.0366 - acc: 0.988 - ETA: 8s - loss: 0.0366 - acc: 0.988 - ETA: 8s - loss: 0.0364 - acc: 0.988 - ETA: 8s - loss: 0.0363 - acc: 0.988 - ETA: 8s - loss: 0.0361 - acc: 0.988 - ETA: 8s - loss: 0.0360 - acc: 0.988 - ETA: 8s - loss: 0.0360 - acc: 0.988 - ETA: 8s - loss: 0.0361 - acc: 0.988 - ETA: 8s - loss: 0.0361 - acc: 0.988 - ETA: 8s - loss: 0.0360 - acc: 0.988 - ETA: 8s - loss: 0.0361 - acc: 0.988 - ETA: 8s - loss: 0.0359 - acc: 0.988 - ETA: 8s - loss: 0.0361 - acc: 0.988 - ETA: 7s - loss: 0.0360 - acc: 0.988 - ETA: 7s - loss: 0.0358 - acc: 0.988 - ETA: 7s - loss: 0.0363 - acc: 0.988 - ETA: 7s - loss: 0.0364 - acc: 0.988 - ETA: 7s - loss: 0.0363 - acc: 0.988 - ETA: 7s - loss: 0.0366 - acc: 0.988 - ETA: 7s - loss: 0.0366 - acc: 0.988 - ETA: 7s - loss: 0.0368 - acc: 0.988 - ETA: 7s - loss: 0.0368 - acc: 0.988 - ETA: 7s - loss: 0.0366 - acc: 0.988 - ETA: 7s - loss: 0.0366 - acc: 0.988 - ETA: 7s - loss: 0.0369 - acc: 0.988 - ETA: 7s - loss: 0.0368 - acc: 0.988 - ETA: 7s - loss: 0.0367 - acc: 0.988 - ETA: 7s - loss: 0.0370 - acc: 0.988 - ETA: 7s - loss: 0.0369 - acc: 0.988 - ETA: 7s - loss: 0.0367 - acc: 0.988 - ETA: 7s - loss: 0.0366 - acc: 0.988 - ETA: 6s - loss: 0.0364 - acc: 0.988 - ETA: 6s - loss: 0.0370 - acc: 0.988 - ETA: 6s - loss: 0.0369 - acc: 0.988 - ETA: 6s - loss: 0.0375 - acc: 0.988 - ETA: 6s - loss: 0.0375 - acc: 0.988 - ETA: 6s - loss: 0.0376 - acc: 0.988 - ETA: 6s - loss: 0.0375 - acc: 0.988 - ETA: 6s - loss: 0.0376 - acc: 0.988 - ETA: 6s - loss: 0.0378 - acc: 0.988 - ETA: 6s - loss: 0.0378 - acc: 0.988 - ETA: 6s - loss: 0.0378 - acc: 0.988 - ETA: 6s - loss: 0.0378 - acc: 0.988 - ETA: 6s - loss: 0.0377 - acc: 0.988 - ETA: 6s - loss: 0.0380 - acc: 0.988 - ETA: 6s - loss: 0.0379 - acc: 0.988 - ETA: 6s - loss: 0.0376 - acc: 0.988 - ETA: 6s - loss: 0.0376 - acc: 0.988 - ETA: 5s - loss: 0.0376 - acc: 0.988 - ETA: 5s - loss: 0.0374 - acc: 0.988 - ETA: 5s - loss: 0.0375 - acc: 0.988 - ETA: 5s - loss: 0.0374 - acc: 0.988 - ETA: 5s - loss: 0.0377 - acc: 0.988 - ETA: 5s - loss: 0.0376 - acc: 0.988 - ETA: 5s - loss: 0.0374 - acc: 0.988 - ETA: 5s - loss: 0.0375 - acc: 0.988 - ETA: 5s - loss: 0.0373 - acc: 0.988 - ETA: 5s - loss: 0.0378 - acc: 0.988 - ETA: 5s - loss: 0.0377 - acc: 0.988 - ETA: 5s - loss: 0.0378 - acc: 0.988 - ETA: 5s - loss: 0.0379 - acc: 0.988 - ETA: 5s - loss: 0.0378 - acc: 0.988 - ETA: 5s - loss: 0.0380 - acc: 0.988 - ETA: 5s - loss: 0.0378 - acc: 0.988 - ETA: 5s - loss: 0.0380 - acc: 0.988 - ETA: 5s - loss: 0.0381 - acc: 0.988 - ETA: 4s - loss: 0.0381 - acc: 0.988 - ETA: 4s - loss: 0.0383 - acc: 0.988 - ETA: 4s - loss: 0.0383 - acc: 0.988 - ETA: 4s - loss: 0.0383 - acc: 0.988 - ETA: 4s - loss: 0.0381 - acc: 0.988 - ETA: 4s - loss: 0.0380 - acc: 0.988 - ETA: 4s - loss: 0.0381 - acc: 0.988 - ETA: 4s - loss: 0.0380 - acc: 0.988 - ETA: 4s - loss: 0.0381 - acc: 0.988 - ETA: 4s - loss: 0.0382 - acc: 0.988 - ETA: 4s - loss: 0.0384 - acc: 0.988 - ETA: 4s - loss: 0.0384 - acc: 0.988 - ETA: 4s - loss: 0.0383 - acc: 0.988 - ETA: 4s - loss: 0.0385 - acc: 0.988 - ETA: 4s - loss: 0.0384 - acc: 0.988 - ETA: 4s - loss: 0.0384 - acc: 0.988 - ETA: 4s - loss: 0.0383 - acc: 0.988 - ETA: 3s - loss: 0.0383 - acc: 0.988 - ETA: 3s - loss: 0.0384 - acc: 0.988 - ETA: 3s - loss: 0.0383 - acc: 0.988 - ETA: 3s - loss: 0.0384 - acc: 0.988 - ETA: 3s - loss: 0.0383 - acc: 0.988 - ETA: 3s - loss: 0.0382 - acc: 0.988 - ETA: 3s - loss: 0.0381 - acc: 0.988 - ETA: 3s - loss: 0.0382 - acc: 0.988 - ETA: 3s - loss: 0.0383 - acc: 0.988 - ETA: 3s - loss: 0.0382 - acc: 0.988 - ETA: 3s - loss: 0.0383 - acc: 0.988 - ETA: 3s - loss: 0.0382 - acc: 0.988 - ETA: 3s - loss: 0.0381 - acc: 0.988 - ETA: 3s - loss: 0.0380 - acc: 0.988 - ETA: 3s - loss: 0.0379 - acc: 0.988 - ETA: 3s - loss: 0.0379 - acc: 0.988 - ETA: 3s - loss: 0.0377 - acc: 0.988 - ETA: 2s - loss: 0.0378 - acc: 0.988 - ETA: 2s - loss: 0.0380 - acc: 0.988 - ETA: 2s - loss: 0.0379 - acc: 0.988 - ETA: 2s - loss: 0.0378 - acc: 0.988 - ETA: 2s - loss: 0.0380 - acc: 0.988 - ETA: 2s - loss: 0.0379 - acc: 0.988 - ETA: 2s - loss: 0.0379 - acc: 0.988 - ETA: 2s - loss: 0.0378 - acc: 0.988 - ETA: 2s - loss: 0.0378 - acc: 0.988 - ETA: 2s - loss: 0.0382 - acc: 0.988 - ETA: 2s - loss: 0.0382 - acc: 0.988 - ETA: 2s - loss: 0.0383 - acc: 0.988 - ETA: 2s - loss: 0.0383 - acc: 0.988 - ETA: 2s - loss: 0.0382 - acc: 0.988 - ETA: 2s - loss: 0.0381 - acc: 0.988 - ETA: 2s - loss: 0.0379 - acc: 0.988 - ETA: 2s - loss: 0.0379 - acc: 0.988 - ETA: 2s - loss: 0.0381 - acc: 0.988 - ETA: 1s - loss: 0.0382 - acc: 0.988 - ETA: 1s - loss: 0.0382 - acc: 0.988 - ETA: 1s - loss: 0.0381 - acc: 0.988 - ETA: 1s - loss: 0.0379 - acc: 0.988 - ETA: 1s - loss: 0.0378 - acc: 0.988 - ETA: 1s - loss: 0.0379 - acc: 0.988 - ETA: 1s - loss: 0.0378 - acc: 0.988 - ETA: 1s - loss: 0.0378 - acc: 0.988 - ETA: 1s - loss: 0.0381 - acc: 0.988 - ETA: 1s - loss: 0.0382 - acc: 0.988 - ETA: 1s - loss: 0.0381 - acc: 0.988 - ETA: 1s - loss: 0.0382 - acc: 0.988 - ETA: 1s - loss: 0.0382 - acc: 0.988 - ETA: 1s - loss: 0.0381 - acc: 0.988 - ETA: 1s - loss: 0.0383 - acc: 0.988760000/60000 [==============================] - ETA: 1s - loss: 0.0383 - acc: 0.988 - ETA: 1s - loss: 0.0384 - acc: 0.988 - ETA: 0s - loss: 0.0384 - acc: 0.988 - ETA: 0s - loss: 0.0384 - acc: 0.988 - ETA: 0s - loss: 0.0385 - acc: 0.988 - ETA: 0s - loss: 0.0386 - acc: 0.988 - ETA: 0s - loss: 0.0385 - acc: 0.988 - ETA: 0s - loss: 0.0385 - acc: 0.988 - ETA: 0s - loss: 0.0384 - acc: 0.988 - ETA: 0s - loss: 0.0384 - acc: 0.988 - ETA: 0s - loss: 0.0384 - acc: 0.988 - ETA: 0s - loss: 0.0382 - acc: 0.988 - ETA: 0s - loss: 0.0382 - acc: 0.988 - ETA: 0s - loss: 0.0382 - acc: 0.988 - ETA: 0s - loss: 0.0382 - acc: 0.988 - ETA: 0s - loss: 0.0382 - acc: 0.988 - ETA: 0s - loss: 0.0382 - acc: 0.988 - ETA: 0s - loss: 0.0383 - acc: 0.988 - ETA: 0s - loss: 0.0383 - acc: 0.988 - 14s 235us/step - loss: 0.0383 - acc: 0.9884 - val_loss: 0.0307 - val_acc: 0.9888\n",
      "Epoch 8/12\n"
     ]
    },
    {
     "name": "stdout",
     "output_type": "stream",
     "text": [
      "54912/60000 [==========================>...] - ETA: 13s - loss: 0.0574 - acc: 0.98 - ETA: 13s - loss: 0.0652 - acc: 0.98 - ETA: 13s - loss: 0.0488 - acc: 0.98 - ETA: 13s - loss: 0.0485 - acc: 0.98 - ETA: 13s - loss: 0.0439 - acc: 0.98 - ETA: 13s - loss: 0.0399 - acc: 0.98 - ETA: 13s - loss: 0.0418 - acc: 0.98 - ETA: 13s - loss: 0.0399 - acc: 0.98 - ETA: 12s - loss: 0.0405 - acc: 0.98 - ETA: 12s - loss: 0.0385 - acc: 0.98 - ETA: 12s - loss: 0.0398 - acc: 0.98 - ETA: 12s - loss: 0.0382 - acc: 0.98 - ETA: 12s - loss: 0.0394 - acc: 0.98 - ETA: 12s - loss: 0.0393 - acc: 0.98 - ETA: 12s - loss: 0.0375 - acc: 0.98 - ETA: 12s - loss: 0.0376 - acc: 0.98 - ETA: 12s - loss: 0.0360 - acc: 0.98 - ETA: 12s - loss: 0.0349 - acc: 0.98 - ETA: 12s - loss: 0.0338 - acc: 0.98 - ETA: 12s - loss: 0.0372 - acc: 0.98 - ETA: 12s - loss: 0.0374 - acc: 0.98 - ETA: 12s - loss: 0.0364 - acc: 0.98 - ETA: 12s - loss: 0.0365 - acc: 0.98 - ETA: 12s - loss: 0.0357 - acc: 0.98 - ETA: 12s - loss: 0.0346 - acc: 0.98 - ETA: 11s - loss: 0.0340 - acc: 0.98 - ETA: 11s - loss: 0.0340 - acc: 0.98 - ETA: 11s - loss: 0.0365 - acc: 0.98 - ETA: 11s - loss: 0.0368 - acc: 0.98 - ETA: 11s - loss: 0.0364 - acc: 0.98 - ETA: 11s - loss: 0.0363 - acc: 0.98 - ETA: 11s - loss: 0.0361 - acc: 0.98 - ETA: 11s - loss: 0.0358 - acc: 0.98 - ETA: 11s - loss: 0.0355 - acc: 0.98 - ETA: 11s - loss: 0.0359 - acc: 0.98 - ETA: 11s - loss: 0.0360 - acc: 0.98 - ETA: 11s - loss: 0.0357 - acc: 0.98 - ETA: 11s - loss: 0.0356 - acc: 0.98 - ETA: 11s - loss: 0.0363 - acc: 0.98 - ETA: 11s - loss: 0.0356 - acc: 0.98 - ETA: 11s - loss: 0.0353 - acc: 0.98 - ETA: 11s - loss: 0.0347 - acc: 0.98 - ETA: 11s - loss: 0.0354 - acc: 0.98 - ETA: 10s - loss: 0.0353 - acc: 0.98 - ETA: 10s - loss: 0.0353 - acc: 0.98 - ETA: 10s - loss: 0.0358 - acc: 0.98 - ETA: 10s - loss: 0.0359 - acc: 0.98 - ETA: 10s - loss: 0.0366 - acc: 0.98 - ETA: 10s - loss: 0.0367 - acc: 0.98 - ETA: 10s - loss: 0.0366 - acc: 0.98 - ETA: 10s - loss: 0.0362 - acc: 0.98 - ETA: 10s - loss: 0.0359 - acc: 0.98 - ETA: 10s - loss: 0.0360 - acc: 0.98 - ETA: 10s - loss: 0.0356 - acc: 0.98 - ETA: 10s - loss: 0.0358 - acc: 0.98 - ETA: 10s - loss: 0.0357 - acc: 0.98 - ETA: 10s - loss: 0.0355 - acc: 0.98 - ETA: 10s - loss: 0.0353 - acc: 0.98 - ETA: 10s - loss: 0.0350 - acc: 0.98 - ETA: 10s - loss: 0.0346 - acc: 0.98 - ETA: 9s - loss: 0.0341 - acc: 0.9890 - ETA: 9s - loss: 0.0339 - acc: 0.989 - ETA: 9s - loss: 0.0341 - acc: 0.989 - ETA: 9s - loss: 0.0346 - acc: 0.988 - ETA: 9s - loss: 0.0344 - acc: 0.989 - ETA: 9s - loss: 0.0342 - acc: 0.989 - ETA: 9s - loss: 0.0340 - acc: 0.989 - ETA: 9s - loss: 0.0342 - acc: 0.989 - ETA: 9s - loss: 0.0343 - acc: 0.989 - ETA: 9s - loss: 0.0346 - acc: 0.989 - ETA: 9s - loss: 0.0346 - acc: 0.989 - ETA: 9s - loss: 0.0350 - acc: 0.988 - ETA: 9s - loss: 0.0349 - acc: 0.988 - ETA: 9s - loss: 0.0347 - acc: 0.988 - ETA: 9s - loss: 0.0347 - acc: 0.988 - ETA: 9s - loss: 0.0347 - acc: 0.988 - ETA: 9s - loss: 0.0344 - acc: 0.989 - ETA: 8s - loss: 0.0344 - acc: 0.989 - ETA: 8s - loss: 0.0344 - acc: 0.989 - ETA: 8s - loss: 0.0342 - acc: 0.989 - ETA: 8s - loss: 0.0345 - acc: 0.989 - ETA: 8s - loss: 0.0342 - acc: 0.989 - ETA: 8s - loss: 0.0339 - acc: 0.989 - ETA: 8s - loss: 0.0341 - acc: 0.989 - ETA: 8s - loss: 0.0338 - acc: 0.989 - ETA: 8s - loss: 0.0337 - acc: 0.989 - ETA: 8s - loss: 0.0337 - acc: 0.989 - ETA: 8s - loss: 0.0335 - acc: 0.989 - ETA: 8s - loss: 0.0336 - acc: 0.989 - ETA: 8s - loss: 0.0333 - acc: 0.989 - ETA: 8s - loss: 0.0334 - acc: 0.989 - ETA: 8s - loss: 0.0332 - acc: 0.989 - ETA: 8s - loss: 0.0334 - acc: 0.989 - ETA: 8s - loss: 0.0332 - acc: 0.989 - ETA: 8s - loss: 0.0333 - acc: 0.989 - ETA: 7s - loss: 0.0333 - acc: 0.989 - ETA: 7s - loss: 0.0332 - acc: 0.989 - ETA: 7s - loss: 0.0330 - acc: 0.989 - ETA: 7s - loss: 0.0330 - acc: 0.989 - ETA: 7s - loss: 0.0333 - acc: 0.989 - ETA: 7s - loss: 0.0331 - acc: 0.989 - ETA: 7s - loss: 0.0331 - acc: 0.989 - ETA: 7s - loss: 0.0331 - acc: 0.989 - ETA: 7s - loss: 0.0331 - acc: 0.989 - ETA: 7s - loss: 0.0329 - acc: 0.989 - ETA: 7s - loss: 0.0328 - acc: 0.989 - ETA: 7s - loss: 0.0328 - acc: 0.989 - ETA: 7s - loss: 0.0326 - acc: 0.989 - ETA: 7s - loss: 0.0331 - acc: 0.989 - ETA: 7s - loss: 0.0332 - acc: 0.989 - ETA: 7s - loss: 0.0332 - acc: 0.989 - ETA: 7s - loss: 0.0330 - acc: 0.989 - ETA: 6s - loss: 0.0334 - acc: 0.989 - ETA: 6s - loss: 0.0333 - acc: 0.989 - ETA: 6s - loss: 0.0333 - acc: 0.989 - ETA: 6s - loss: 0.0331 - acc: 0.989 - ETA: 6s - loss: 0.0330 - acc: 0.989 - ETA: 6s - loss: 0.0330 - acc: 0.989 - ETA: 6s - loss: 0.0328 - acc: 0.989 - ETA: 6s - loss: 0.0328 - acc: 0.989 - ETA: 6s - loss: 0.0328 - acc: 0.989 - ETA: 6s - loss: 0.0326 - acc: 0.989 - ETA: 6s - loss: 0.0327 - acc: 0.989 - ETA: 6s - loss: 0.0325 - acc: 0.989 - ETA: 6s - loss: 0.0327 - acc: 0.989 - ETA: 6s - loss: 0.0327 - acc: 0.989 - ETA: 6s - loss: 0.0330 - acc: 0.989 - ETA: 6s - loss: 0.0329 - acc: 0.989 - ETA: 6s - loss: 0.0327 - acc: 0.989 - ETA: 6s - loss: 0.0326 - acc: 0.989 - ETA: 5s - loss: 0.0324 - acc: 0.989 - ETA: 5s - loss: 0.0325 - acc: 0.989 - ETA: 5s - loss: 0.0329 - acc: 0.989 - ETA: 5s - loss: 0.0328 - acc: 0.989 - ETA: 5s - loss: 0.0328 - acc: 0.989 - ETA: 5s - loss: 0.0328 - acc: 0.989 - ETA: 5s - loss: 0.0327 - acc: 0.989 - ETA: 5s - loss: 0.0327 - acc: 0.989 - ETA: 5s - loss: 0.0327 - acc: 0.989 - ETA: 5s - loss: 0.0329 - acc: 0.989 - ETA: 5s - loss: 0.0328 - acc: 0.989 - ETA: 5s - loss: 0.0329 - acc: 0.989 - ETA: 5s - loss: 0.0332 - acc: 0.989 - ETA: 5s - loss: 0.0333 - acc: 0.989 - ETA: 5s - loss: 0.0333 - acc: 0.989 - ETA: 5s - loss: 0.0336 - acc: 0.989 - ETA: 5s - loss: 0.0336 - acc: 0.989 - ETA: 4s - loss: 0.0338 - acc: 0.989 - ETA: 4s - loss: 0.0338 - acc: 0.989 - ETA: 4s - loss: 0.0339 - acc: 0.989 - ETA: 4s - loss: 0.0340 - acc: 0.989 - ETA: 4s - loss: 0.0340 - acc: 0.989 - ETA: 4s - loss: 0.0338 - acc: 0.989 - ETA: 4s - loss: 0.0338 - acc: 0.989 - ETA: 4s - loss: 0.0337 - acc: 0.989 - ETA: 4s - loss: 0.0336 - acc: 0.989 - ETA: 4s - loss: 0.0335 - acc: 0.989 - ETA: 4s - loss: 0.0337 - acc: 0.989 - ETA: 4s - loss: 0.0337 - acc: 0.989 - ETA: 4s - loss: 0.0337 - acc: 0.989 - ETA: 4s - loss: 0.0337 - acc: 0.989 - ETA: 4s - loss: 0.0336 - acc: 0.989 - ETA: 4s - loss: 0.0336 - acc: 0.989 - ETA: 4s - loss: 0.0338 - acc: 0.989 - ETA: 4s - loss: 0.0338 - acc: 0.989 - ETA: 3s - loss: 0.0337 - acc: 0.989 - ETA: 3s - loss: 0.0337 - acc: 0.989 - ETA: 3s - loss: 0.0336 - acc: 0.989 - ETA: 3s - loss: 0.0337 - acc: 0.989 - ETA: 3s - loss: 0.0336 - acc: 0.989 - ETA: 3s - loss: 0.0335 - acc: 0.989 - ETA: 3s - loss: 0.0336 - acc: 0.989 - ETA: 3s - loss: 0.0337 - acc: 0.989 - ETA: 3s - loss: 0.0336 - acc: 0.989 - ETA: 3s - loss: 0.0336 - acc: 0.989 - ETA: 3s - loss: 0.0337 - acc: 0.989 - ETA: 3s - loss: 0.0336 - acc: 0.989 - ETA: 3s - loss: 0.0334 - acc: 0.989 - ETA: 3s - loss: 0.0335 - acc: 0.989 - ETA: 3s - loss: 0.0334 - acc: 0.989 - ETA: 3s - loss: 0.0335 - acc: 0.989 - ETA: 3s - loss: 0.0338 - acc: 0.989 - ETA: 2s - loss: 0.0338 - acc: 0.989 - ETA: 2s - loss: 0.0337 - acc: 0.989 - ETA: 2s - loss: 0.0338 - acc: 0.989 - ETA: 2s - loss: 0.0338 - acc: 0.989 - ETA: 2s - loss: 0.0338 - acc: 0.989 - ETA: 2s - loss: 0.0338 - acc: 0.989 - ETA: 2s - loss: 0.0338 - acc: 0.989 - ETA: 2s - loss: 0.0338 - acc: 0.989 - ETA: 2s - loss: 0.0338 - acc: 0.989 - ETA: 2s - loss: 0.0337 - acc: 0.989 - ETA: 2s - loss: 0.0339 - acc: 0.989 - ETA: 2s - loss: 0.0338 - acc: 0.989 - ETA: 2s - loss: 0.0337 - acc: 0.989 - ETA: 2s - loss: 0.0337 - acc: 0.989 - ETA: 2s - loss: 0.0338 - acc: 0.989 - ETA: 2s - loss: 0.0339 - acc: 0.989 - ETA: 2s - loss: 0.0340 - acc: 0.989 - ETA: 2s - loss: 0.0339 - acc: 0.989 - ETA: 1s - loss: 0.0339 - acc: 0.989 - ETA: 1s - loss: 0.0339 - acc: 0.989 - ETA: 1s - loss: 0.0339 - acc: 0.989 - ETA: 1s - loss: 0.0339 - acc: 0.989 - ETA: 1s - loss: 0.0339 - acc: 0.989 - ETA: 1s - loss: 0.0339 - acc: 0.989 - ETA: 1s - loss: 0.0338 - acc: 0.989 - ETA: 1s - loss: 0.0337 - acc: 0.989 - ETA: 1s - loss: 0.0337 - acc: 0.989 - ETA: 1s - loss: 0.0336 - acc: 0.989 - ETA: 1s - loss: 0.0337 - acc: 0.989 - ETA: 1s - loss: 0.0338 - acc: 0.989 - ETA: 1s - loss: 0.0338 - acc: 0.989 - ETA: 1s - loss: 0.0338 - acc: 0.989 - ETA: 1s - loss: 0.0338 - acc: 0.9898"
     ]
    },
    {
     "name": "stdout",
     "output_type": "stream",
     "text": [
      "60000/60000 [==============================] - ETA: 1s - loss: 0.0339 - acc: 0.989 - ETA: 1s - loss: 0.0340 - acc: 0.989 - ETA: 0s - loss: 0.0340 - acc: 0.989 - ETA: 0s - loss: 0.0341 - acc: 0.989 - ETA: 0s - loss: 0.0340 - acc: 0.989 - ETA: 0s - loss: 0.0340 - acc: 0.989 - ETA: 0s - loss: 0.0339 - acc: 0.989 - ETA: 0s - loss: 0.0340 - acc: 0.989 - ETA: 0s - loss: 0.0339 - acc: 0.989 - ETA: 0s - loss: 0.0338 - acc: 0.989 - ETA: 0s - loss: 0.0337 - acc: 0.989 - ETA: 0s - loss: 0.0336 - acc: 0.989 - ETA: 0s - loss: 0.0339 - acc: 0.989 - ETA: 0s - loss: 0.0338 - acc: 0.989 - ETA: 0s - loss: 0.0338 - acc: 0.989 - ETA: 0s - loss: 0.0338 - acc: 0.989 - ETA: 0s - loss: 0.0337 - acc: 0.989 - ETA: 0s - loss: 0.0336 - acc: 0.989 - ETA: 0s - loss: 0.0335 - acc: 0.989 - 14s 234us/step - loss: 0.0334 - acc: 0.9899 - val_loss: 0.0274 - val_acc: 0.9907\n",
      "Epoch 9/12\n",
      "54912/60000 [==========================>...] - ETA: 13s - loss: 0.0046 - acc: 1.00 - ETA: 13s - loss: 0.0120 - acc: 0.99 - ETA: 13s - loss: 0.0098 - acc: 0.99 - ETA: 13s - loss: 0.0114 - acc: 0.99 - ETA: 13s - loss: 0.0126 - acc: 0.99 - ETA: 13s - loss: 0.0135 - acc: 0.99 - ETA: 13s - loss: 0.0187 - acc: 0.99 - ETA: 13s - loss: 0.0241 - acc: 0.99 - ETA: 13s - loss: 0.0223 - acc: 0.99 - ETA: 12s - loss: 0.0227 - acc: 0.99 - ETA: 12s - loss: 0.0219 - acc: 0.99 - ETA: 12s - loss: 0.0219 - acc: 0.99 - ETA: 12s - loss: 0.0211 - acc: 0.99 - ETA: 12s - loss: 0.0237 - acc: 0.99 - ETA: 12s - loss: 0.0280 - acc: 0.99 - ETA: 12s - loss: 0.0289 - acc: 0.99 - ETA: 12s - loss: 0.0288 - acc: 0.99 - ETA: 12s - loss: 0.0316 - acc: 0.99 - ETA: 12s - loss: 0.0313 - acc: 0.99 - ETA: 12s - loss: 0.0313 - acc: 0.99 - ETA: 12s - loss: 0.0316 - acc: 0.99 - ETA: 12s - loss: 0.0329 - acc: 0.98 - ETA: 12s - loss: 0.0328 - acc: 0.98 - ETA: 12s - loss: 0.0335 - acc: 0.98 - ETA: 12s - loss: 0.0336 - acc: 0.98 - ETA: 12s - loss: 0.0342 - acc: 0.98 - ETA: 11s - loss: 0.0336 - acc: 0.98 - ETA: 11s - loss: 0.0328 - acc: 0.99 - ETA: 11s - loss: 0.0323 - acc: 0.99 - ETA: 11s - loss: 0.0316 - acc: 0.99 - ETA: 11s - loss: 0.0316 - acc: 0.99 - ETA: 11s - loss: 0.0308 - acc: 0.99 - ETA: 11s - loss: 0.0312 - acc: 0.99 - ETA: 11s - loss: 0.0311 - acc: 0.99 - ETA: 11s - loss: 0.0312 - acc: 0.99 - ETA: 11s - loss: 0.0325 - acc: 0.99 - ETA: 11s - loss: 0.0322 - acc: 0.99 - ETA: 11s - loss: 0.0324 - acc: 0.99 - ETA: 11s - loss: 0.0325 - acc: 0.99 - ETA: 11s - loss: 0.0323 - acc: 0.99 - ETA: 11s - loss: 0.0322 - acc: 0.99 - ETA: 11s - loss: 0.0320 - acc: 0.99 - ETA: 11s - loss: 0.0317 - acc: 0.99 - ETA: 10s - loss: 0.0314 - acc: 0.99 - ETA: 10s - loss: 0.0314 - acc: 0.99 - ETA: 10s - loss: 0.0313 - acc: 0.99 - ETA: 10s - loss: 0.0311 - acc: 0.99 - ETA: 10s - loss: 0.0308 - acc: 0.99 - ETA: 10s - loss: 0.0304 - acc: 0.99 - ETA: 10s - loss: 0.0298 - acc: 0.99 - ETA: 10s - loss: 0.0296 - acc: 0.99 - ETA: 10s - loss: 0.0294 - acc: 0.99 - ETA: 10s - loss: 0.0298 - acc: 0.99 - ETA: 10s - loss: 0.0308 - acc: 0.99 - ETA: 10s - loss: 0.0306 - acc: 0.99 - ETA: 10s - loss: 0.0303 - acc: 0.99 - ETA: 10s - loss: 0.0306 - acc: 0.99 - ETA: 10s - loss: 0.0302 - acc: 0.99 - ETA: 10s - loss: 0.0304 - acc: 0.99 - ETA: 10s - loss: 0.0301 - acc: 0.99 - ETA: 9s - loss: 0.0305 - acc: 0.9908 - ETA: 9s - loss: 0.0305 - acc: 0.990 - ETA: 9s - loss: 0.0304 - acc: 0.990 - ETA: 9s - loss: 0.0308 - acc: 0.990 - ETA: 9s - loss: 0.0310 - acc: 0.990 - ETA: 9s - loss: 0.0306 - acc: 0.990 - ETA: 9s - loss: 0.0309 - acc: 0.990 - ETA: 9s - loss: 0.0307 - acc: 0.990 - ETA: 9s - loss: 0.0305 - acc: 0.990 - ETA: 9s - loss: 0.0305 - acc: 0.990 - ETA: 9s - loss: 0.0306 - acc: 0.990 - ETA: 9s - loss: 0.0305 - acc: 0.990 - ETA: 9s - loss: 0.0306 - acc: 0.990 - ETA: 9s - loss: 0.0310 - acc: 0.990 - ETA: 9s - loss: 0.0311 - acc: 0.990 - ETA: 9s - loss: 0.0311 - acc: 0.990 - ETA: 9s - loss: 0.0314 - acc: 0.990 - ETA: 9s - loss: 0.0313 - acc: 0.990 - ETA: 8s - loss: 0.0312 - acc: 0.990 - ETA: 8s - loss: 0.0309 - acc: 0.990 - ETA: 8s - loss: 0.0307 - acc: 0.990 - ETA: 8s - loss: 0.0310 - acc: 0.990 - ETA: 8s - loss: 0.0312 - acc: 0.990 - ETA: 8s - loss: 0.0312 - acc: 0.990 - ETA: 8s - loss: 0.0313 - acc: 0.990 - ETA: 8s - loss: 0.0313 - acc: 0.990 - ETA: 8s - loss: 0.0312 - acc: 0.990 - ETA: 8s - loss: 0.0313 - acc: 0.990 - ETA: 8s - loss: 0.0311 - acc: 0.990 - ETA: 8s - loss: 0.0309 - acc: 0.990 - ETA: 8s - loss: 0.0310 - acc: 0.990 - ETA: 8s - loss: 0.0310 - acc: 0.990 - ETA: 8s - loss: 0.0310 - acc: 0.990 - ETA: 8s - loss: 0.0312 - acc: 0.990 - ETA: 8s - loss: 0.0312 - acc: 0.990 - ETA: 7s - loss: 0.0311 - acc: 0.990 - ETA: 7s - loss: 0.0310 - acc: 0.990 - ETA: 7s - loss: 0.0310 - acc: 0.990 - ETA: 7s - loss: 0.0314 - acc: 0.990 - ETA: 7s - loss: 0.0313 - acc: 0.990 - ETA: 7s - loss: 0.0314 - acc: 0.989 - ETA: 7s - loss: 0.0314 - acc: 0.990 - ETA: 7s - loss: 0.0313 - acc: 0.990 - ETA: 7s - loss: 0.0317 - acc: 0.989 - ETA: 7s - loss: 0.0318 - acc: 0.989 - ETA: 7s - loss: 0.0319 - acc: 0.989 - ETA: 7s - loss: 0.0317 - acc: 0.989 - ETA: 7s - loss: 0.0316 - acc: 0.989 - ETA: 7s - loss: 0.0319 - acc: 0.989 - ETA: 7s - loss: 0.0317 - acc: 0.989 - ETA: 7s - loss: 0.0322 - acc: 0.989 - ETA: 7s - loss: 0.0322 - acc: 0.989 - ETA: 7s - loss: 0.0321 - acc: 0.989 - ETA: 6s - loss: 0.0322 - acc: 0.989 - ETA: 6s - loss: 0.0320 - acc: 0.989 - ETA: 6s - loss: 0.0322 - acc: 0.989 - ETA: 6s - loss: 0.0321 - acc: 0.989 - ETA: 6s - loss: 0.0323 - acc: 0.989 - ETA: 6s - loss: 0.0324 - acc: 0.989 - ETA: 6s - loss: 0.0323 - acc: 0.989 - ETA: 6s - loss: 0.0322 - acc: 0.989 - ETA: 6s - loss: 0.0325 - acc: 0.989 - ETA: 6s - loss: 0.0325 - acc: 0.989 - ETA: 6s - loss: 0.0326 - acc: 0.989 - ETA: 6s - loss: 0.0325 - acc: 0.989 - ETA: 6s - loss: 0.0326 - acc: 0.989 - ETA: 6s - loss: 0.0325 - acc: 0.989 - ETA: 6s - loss: 0.0323 - acc: 0.989 - ETA: 6s - loss: 0.0323 - acc: 0.989 - ETA: 6s - loss: 0.0322 - acc: 0.989 - ETA: 6s - loss: 0.0323 - acc: 0.989 - ETA: 5s - loss: 0.0323 - acc: 0.989 - ETA: 5s - loss: 0.0323 - acc: 0.989 - ETA: 5s - loss: 0.0322 - acc: 0.989 - ETA: 5s - loss: 0.0322 - acc: 0.989 - ETA: 5s - loss: 0.0322 - acc: 0.989 - ETA: 5s - loss: 0.0323 - acc: 0.989 - ETA: 5s - loss: 0.0322 - acc: 0.989 - ETA: 5s - loss: 0.0323 - acc: 0.989 - ETA: 5s - loss: 0.0323 - acc: 0.989 - ETA: 5s - loss: 0.0326 - acc: 0.989 - ETA: 5s - loss: 0.0325 - acc: 0.989 - ETA: 5s - loss: 0.0323 - acc: 0.989 - ETA: 5s - loss: 0.0323 - acc: 0.989 - ETA: 5s - loss: 0.0324 - acc: 0.989 - ETA: 5s - loss: 0.0322 - acc: 0.989 - ETA: 5s - loss: 0.0321 - acc: 0.989 - ETA: 5s - loss: 0.0323 - acc: 0.989 - ETA: 5s - loss: 0.0322 - acc: 0.989 - ETA: 4s - loss: 0.0322 - acc: 0.989 - ETA: 4s - loss: 0.0321 - acc: 0.989 - ETA: 4s - loss: 0.0321 - acc: 0.989 - ETA: 4s - loss: 0.0320 - acc: 0.989 - ETA: 4s - loss: 0.0320 - acc: 0.989 - ETA: 4s - loss: 0.0320 - acc: 0.989 - ETA: 4s - loss: 0.0320 - acc: 0.989 - ETA: 4s - loss: 0.0320 - acc: 0.989 - ETA: 4s - loss: 0.0321 - acc: 0.989 - ETA: 4s - loss: 0.0321 - acc: 0.989 - ETA: 4s - loss: 0.0321 - acc: 0.989 - ETA: 4s - loss: 0.0320 - acc: 0.989 - ETA: 4s - loss: 0.0320 - acc: 0.989 - ETA: 4s - loss: 0.0319 - acc: 0.989 - ETA: 4s - loss: 0.0321 - acc: 0.989 - ETA: 4s - loss: 0.0324 - acc: 0.989 - ETA: 4s - loss: 0.0326 - acc: 0.989 - ETA: 3s - loss: 0.0326 - acc: 0.989 - ETA: 3s - loss: 0.0327 - acc: 0.989 - ETA: 3s - loss: 0.0329 - acc: 0.989 - ETA: 3s - loss: 0.0328 - acc: 0.989 - ETA: 3s - loss: 0.0328 - acc: 0.989 - ETA: 3s - loss: 0.0328 - acc: 0.989 - ETA: 3s - loss: 0.0327 - acc: 0.989 - ETA: 3s - loss: 0.0326 - acc: 0.989 - ETA: 3s - loss: 0.0328 - acc: 0.989 - ETA: 3s - loss: 0.0328 - acc: 0.989 - ETA: 3s - loss: 0.0328 - acc: 0.989 - ETA: 3s - loss: 0.0327 - acc: 0.989 - ETA: 3s - loss: 0.0326 - acc: 0.989 - ETA: 3s - loss: 0.0325 - acc: 0.989 - ETA: 3s - loss: 0.0326 - acc: 0.989 - ETA: 3s - loss: 0.0325 - acc: 0.989 - ETA: 3s - loss: 0.0325 - acc: 0.989 - ETA: 2s - loss: 0.0327 - acc: 0.989 - ETA: 2s - loss: 0.0327 - acc: 0.989 - ETA: 2s - loss: 0.0326 - acc: 0.989 - ETA: 2s - loss: 0.0325 - acc: 0.989 - ETA: 2s - loss: 0.0324 - acc: 0.989 - ETA: 2s - loss: 0.0324 - acc: 0.989 - ETA: 2s - loss: 0.0323 - acc: 0.989 - ETA: 2s - loss: 0.0323 - acc: 0.989 - ETA: 2s - loss: 0.0323 - acc: 0.989 - ETA: 2s - loss: 0.0323 - acc: 0.989 - ETA: 2s - loss: 0.0324 - acc: 0.989 - ETA: 2s - loss: 0.0325 - acc: 0.989 - ETA: 2s - loss: 0.0324 - acc: 0.989 - ETA: 2s - loss: 0.0325 - acc: 0.989 - ETA: 2s - loss: 0.0325 - acc: 0.989 - ETA: 2s - loss: 0.0324 - acc: 0.989 - ETA: 2s - loss: 0.0324 - acc: 0.989 - ETA: 2s - loss: 0.0324 - acc: 0.989 - ETA: 1s - loss: 0.0324 - acc: 0.989 - ETA: 1s - loss: 0.0324 - acc: 0.989 - ETA: 1s - loss: 0.0324 - acc: 0.989 - ETA: 1s - loss: 0.0325 - acc: 0.989 - ETA: 1s - loss: 0.0325 - acc: 0.989 - ETA: 1s - loss: 0.0324 - acc: 0.989 - ETA: 1s - loss: 0.0324 - acc: 0.989 - ETA: 1s - loss: 0.0323 - acc: 0.989 - ETA: 1s - loss: 0.0323 - acc: 0.989 - ETA: 1s - loss: 0.0322 - acc: 0.989 - ETA: 1s - loss: 0.0322 - acc: 0.989 - ETA: 1s - loss: 0.0321 - acc: 0.989 - ETA: 1s - loss: 0.0321 - acc: 0.989 - ETA: 1s - loss: 0.0321 - acc: 0.989460000/60000 [==============================] - ETA: 1s - loss: 0.0322 - acc: 0.989 - ETA: 1s - loss: 0.0323 - acc: 0.989 - ETA: 0s - loss: 0.0322 - acc: 0.989 - ETA: 0s - loss: 0.0322 - acc: 0.989 - ETA: 0s - loss: 0.0321 - acc: 0.989 - ETA: 0s - loss: 0.0320 - acc: 0.989 - ETA: 0s - loss: 0.0321 - acc: 0.989 - ETA: 0s - loss: 0.0324 - acc: 0.989 - ETA: 0s - loss: 0.0325 - acc: 0.989 - ETA: 0s - loss: 0.0325 - acc: 0.989 - ETA: 0s - loss: 0.0325 - acc: 0.989 - ETA: 0s - loss: 0.0325 - acc: 0.989 - ETA: 0s - loss: 0.0325 - acc: 0.989 - ETA: 0s - loss: 0.0324 - acc: 0.989 - ETA: 0s - loss: 0.0325 - acc: 0.989 - ETA: 0s - loss: 0.0325 - acc: 0.989 - ETA: 0s - loss: 0.0324 - acc: 0.989 - ETA: 0s - loss: 0.0327 - acc: 0.989 - ETA: 0s - loss: 0.0326 - acc: 0.989 - 14s 241us/step - loss: 0.0327 - acc: 0.9894 - val_loss: 0.0281 - val_acc: 0.9910\n",
      "Epoch 10/12\n"
     ]
    },
    {
     "name": "stdout",
     "output_type": "stream",
     "text": [
      "54912/60000 [==========================>...] - ETA: 13s - loss: 0.0215 - acc: 0.99 - ETA: 13s - loss: 0.0460 - acc: 0.98 - ETA: 13s - loss: 0.0475 - acc: 0.98 - ETA: 13s - loss: 0.0402 - acc: 0.98 - ETA: 13s - loss: 0.0394 - acc: 0.98 - ETA: 13s - loss: 0.0355 - acc: 0.98 - ETA: 13s - loss: 0.0351 - acc: 0.98 - ETA: 13s - loss: 0.0352 - acc: 0.98 - ETA: 13s - loss: 0.0342 - acc: 0.98 - ETA: 12s - loss: 0.0325 - acc: 0.98 - ETA: 12s - loss: 0.0339 - acc: 0.98 - ETA: 12s - loss: 0.0334 - acc: 0.98 - ETA: 12s - loss: 0.0317 - acc: 0.98 - ETA: 12s - loss: 0.0306 - acc: 0.98 - ETA: 12s - loss: 0.0297 - acc: 0.98 - ETA: 12s - loss: 0.0289 - acc: 0.98 - ETA: 12s - loss: 0.0298 - acc: 0.99 - ETA: 12s - loss: 0.0293 - acc: 0.99 - ETA: 12s - loss: 0.0289 - acc: 0.98 - ETA: 12s - loss: 0.0280 - acc: 0.99 - ETA: 12s - loss: 0.0272 - acc: 0.99 - ETA: 12s - loss: 0.0268 - acc: 0.99 - ETA: 12s - loss: 0.0270 - acc: 0.99 - ETA: 12s - loss: 0.0261 - acc: 0.99 - ETA: 12s - loss: 0.0258 - acc: 0.99 - ETA: 12s - loss: 0.0290 - acc: 0.99 - ETA: 11s - loss: 0.0294 - acc: 0.99 - ETA: 11s - loss: 0.0290 - acc: 0.99 - ETA: 11s - loss: 0.0295 - acc: 0.99 - ETA: 11s - loss: 0.0298 - acc: 0.99 - ETA: 11s - loss: 0.0297 - acc: 0.99 - ETA: 11s - loss: 0.0304 - acc: 0.99 - ETA: 11s - loss: 0.0301 - acc: 0.99 - ETA: 11s - loss: 0.0302 - acc: 0.99 - ETA: 11s - loss: 0.0298 - acc: 0.99 - ETA: 11s - loss: 0.0313 - acc: 0.99 - ETA: 11s - loss: 0.0312 - acc: 0.98 - ETA: 11s - loss: 0.0310 - acc: 0.99 - ETA: 11s - loss: 0.0309 - acc: 0.99 - ETA: 11s - loss: 0.0311 - acc: 0.99 - ETA: 11s - loss: 0.0316 - acc: 0.99 - ETA: 11s - loss: 0.0320 - acc: 0.98 - ETA: 11s - loss: 0.0322 - acc: 0.98 - ETA: 11s - loss: 0.0324 - acc: 0.98 - ETA: 10s - loss: 0.0324 - acc: 0.98 - ETA: 10s - loss: 0.0320 - acc: 0.98 - ETA: 10s - loss: 0.0317 - acc: 0.98 - ETA: 10s - loss: 0.0313 - acc: 0.99 - ETA: 10s - loss: 0.0309 - acc: 0.99 - ETA: 10s - loss: 0.0311 - acc: 0.99 - ETA: 10s - loss: 0.0319 - acc: 0.98 - ETA: 10s - loss: 0.0327 - acc: 0.99 - ETA: 10s - loss: 0.0325 - acc: 0.99 - ETA: 10s - loss: 0.0321 - acc: 0.99 - ETA: 10s - loss: 0.0318 - acc: 0.99 - ETA: 10s - loss: 0.0318 - acc: 0.99 - ETA: 10s - loss: 0.0319 - acc: 0.99 - ETA: 10s - loss: 0.0323 - acc: 0.99 - ETA: 10s - loss: 0.0325 - acc: 0.99 - ETA: 10s - loss: 0.0321 - acc: 0.99 - ETA: 10s - loss: 0.0323 - acc: 0.99 - ETA: 9s - loss: 0.0320 - acc: 0.9903 - ETA: 9s - loss: 0.0320 - acc: 0.990 - ETA: 9s - loss: 0.0316 - acc: 0.990 - ETA: 9s - loss: 0.0313 - acc: 0.990 - ETA: 9s - loss: 0.0313 - acc: 0.990 - ETA: 9s - loss: 0.0310 - acc: 0.990 - ETA: 9s - loss: 0.0308 - acc: 0.990 - ETA: 9s - loss: 0.0306 - acc: 0.990 - ETA: 9s - loss: 0.0307 - acc: 0.990 - ETA: 9s - loss: 0.0306 - acc: 0.990 - ETA: 9s - loss: 0.0303 - acc: 0.990 - ETA: 9s - loss: 0.0299 - acc: 0.990 - ETA: 9s - loss: 0.0298 - acc: 0.990 - ETA: 9s - loss: 0.0296 - acc: 0.990 - ETA: 9s - loss: 0.0294 - acc: 0.990 - ETA: 9s - loss: 0.0296 - acc: 0.990 - ETA: 9s - loss: 0.0296 - acc: 0.990 - ETA: 8s - loss: 0.0295 - acc: 0.990 - ETA: 8s - loss: 0.0296 - acc: 0.990 - ETA: 8s - loss: 0.0296 - acc: 0.990 - ETA: 8s - loss: 0.0294 - acc: 0.990 - ETA: 8s - loss: 0.0292 - acc: 0.991 - ETA: 8s - loss: 0.0293 - acc: 0.991 - ETA: 8s - loss: 0.0291 - acc: 0.991 - ETA: 8s - loss: 0.0293 - acc: 0.991 - ETA: 8s - loss: 0.0291 - acc: 0.991 - ETA: 8s - loss: 0.0288 - acc: 0.991 - ETA: 8s - loss: 0.0286 - acc: 0.991 - ETA: 8s - loss: 0.0286 - acc: 0.991 - ETA: 8s - loss: 0.0285 - acc: 0.991 - ETA: 8s - loss: 0.0293 - acc: 0.991 - ETA: 8s - loss: 0.0293 - acc: 0.991 - ETA: 8s - loss: 0.0291 - acc: 0.991 - ETA: 8s - loss: 0.0290 - acc: 0.991 - ETA: 8s - loss: 0.0293 - acc: 0.991 - ETA: 7s - loss: 0.0295 - acc: 0.991 - ETA: 7s - loss: 0.0293 - acc: 0.991 - ETA: 7s - loss: 0.0292 - acc: 0.991 - ETA: 7s - loss: 0.0293 - acc: 0.991 - ETA: 7s - loss: 0.0291 - acc: 0.991 - ETA: 7s - loss: 0.0300 - acc: 0.990 - ETA: 7s - loss: 0.0300 - acc: 0.990 - ETA: 7s - loss: 0.0298 - acc: 0.990 - ETA: 7s - loss: 0.0296 - acc: 0.991 - ETA: 7s - loss: 0.0296 - acc: 0.990 - ETA: 7s - loss: 0.0296 - acc: 0.990 - ETA: 7s - loss: 0.0296 - acc: 0.990 - ETA: 7s - loss: 0.0297 - acc: 0.990 - ETA: 7s - loss: 0.0297 - acc: 0.990 - ETA: 7s - loss: 0.0297 - acc: 0.990 - ETA: 7s - loss: 0.0296 - acc: 0.990 - ETA: 7s - loss: 0.0296 - acc: 0.990 - ETA: 6s - loss: 0.0296 - acc: 0.991 - ETA: 6s - loss: 0.0294 - acc: 0.991 - ETA: 6s - loss: 0.0293 - acc: 0.991 - ETA: 6s - loss: 0.0292 - acc: 0.991 - ETA: 6s - loss: 0.0292 - acc: 0.991 - ETA: 6s - loss: 0.0291 - acc: 0.991 - ETA: 6s - loss: 0.0290 - acc: 0.991 - ETA: 6s - loss: 0.0289 - acc: 0.991 - ETA: 6s - loss: 0.0288 - acc: 0.991 - ETA: 6s - loss: 0.0289 - acc: 0.991 - ETA: 6s - loss: 0.0288 - acc: 0.991 - ETA: 6s - loss: 0.0288 - acc: 0.991 - ETA: 6s - loss: 0.0288 - acc: 0.991 - ETA: 6s - loss: 0.0287 - acc: 0.991 - ETA: 6s - loss: 0.0287 - acc: 0.991 - ETA: 6s - loss: 0.0291 - acc: 0.990 - ETA: 6s - loss: 0.0293 - acc: 0.990 - ETA: 5s - loss: 0.0293 - acc: 0.990 - ETA: 5s - loss: 0.0293 - acc: 0.990 - ETA: 5s - loss: 0.0293 - acc: 0.990 - ETA: 5s - loss: 0.0294 - acc: 0.990 - ETA: 5s - loss: 0.0293 - acc: 0.990 - ETA: 5s - loss: 0.0292 - acc: 0.991 - ETA: 5s - loss: 0.0290 - acc: 0.991 - ETA: 5s - loss: 0.0294 - acc: 0.990 - ETA: 5s - loss: 0.0293 - acc: 0.990 - ETA: 5s - loss: 0.0292 - acc: 0.991 - ETA: 5s - loss: 0.0291 - acc: 0.991 - ETA: 5s - loss: 0.0291 - acc: 0.991 - ETA: 5s - loss: 0.0291 - acc: 0.991 - ETA: 5s - loss: 0.0291 - acc: 0.991 - ETA: 5s - loss: 0.0293 - acc: 0.990 - ETA: 5s - loss: 0.0292 - acc: 0.991 - ETA: 5s - loss: 0.0292 - acc: 0.991 - ETA: 5s - loss: 0.0292 - acc: 0.990 - ETA: 4s - loss: 0.0292 - acc: 0.990 - ETA: 4s - loss: 0.0293 - acc: 0.990 - ETA: 4s - loss: 0.0292 - acc: 0.990 - ETA: 4s - loss: 0.0291 - acc: 0.990 - ETA: 4s - loss: 0.0291 - acc: 0.991 - ETA: 4s - loss: 0.0290 - acc: 0.991 - ETA: 4s - loss: 0.0289 - acc: 0.991 - ETA: 4s - loss: 0.0288 - acc: 0.991 - ETA: 4s - loss: 0.0287 - acc: 0.991 - ETA: 4s - loss: 0.0286 - acc: 0.991 - ETA: 4s - loss: 0.0285 - acc: 0.991 - ETA: 4s - loss: 0.0284 - acc: 0.991 - ETA: 4s - loss: 0.0286 - acc: 0.991 - ETA: 4s - loss: 0.0286 - acc: 0.991 - ETA: 4s - loss: 0.0287 - acc: 0.991 - ETA: 4s - loss: 0.0287 - acc: 0.991 - ETA: 4s - loss: 0.0287 - acc: 0.991 - ETA: 3s - loss: 0.0286 - acc: 0.991 - ETA: 3s - loss: 0.0286 - acc: 0.991 - ETA: 3s - loss: 0.0286 - acc: 0.991 - ETA: 3s - loss: 0.0285 - acc: 0.991 - ETA: 3s - loss: 0.0285 - acc: 0.991 - ETA: 3s - loss: 0.0284 - acc: 0.991 - ETA: 3s - loss: 0.0285 - acc: 0.991 - ETA: 3s - loss: 0.0288 - acc: 0.991 - ETA: 3s - loss: 0.0288 - acc: 0.991 - ETA: 3s - loss: 0.0288 - acc: 0.991 - ETA: 3s - loss: 0.0288 - acc: 0.991 - ETA: 3s - loss: 0.0287 - acc: 0.991 - ETA: 3s - loss: 0.0288 - acc: 0.991 - ETA: 3s - loss: 0.0288 - acc: 0.991 - ETA: 3s - loss: 0.0289 - acc: 0.991 - ETA: 3s - loss: 0.0288 - acc: 0.991 - ETA: 3s - loss: 0.0289 - acc: 0.991 - ETA: 2s - loss: 0.0288 - acc: 0.991 - ETA: 2s - loss: 0.0288 - acc: 0.991 - ETA: 2s - loss: 0.0290 - acc: 0.991 - ETA: 2s - loss: 0.0291 - acc: 0.990 - ETA: 2s - loss: 0.0290 - acc: 0.991 - ETA: 2s - loss: 0.0292 - acc: 0.990 - ETA: 2s - loss: 0.0292 - acc: 0.990 - ETA: 2s - loss: 0.0291 - acc: 0.990 - ETA: 2s - loss: 0.0292 - acc: 0.990 - ETA: 2s - loss: 0.0292 - acc: 0.990 - ETA: 2s - loss: 0.0292 - acc: 0.990 - ETA: 2s - loss: 0.0291 - acc: 0.991 - ETA: 2s - loss: 0.0290 - acc: 0.991 - ETA: 2s - loss: 0.0289 - acc: 0.991 - ETA: 2s - loss: 0.0289 - acc: 0.991 - ETA: 2s - loss: 0.0289 - acc: 0.991 - ETA: 2s - loss: 0.0289 - acc: 0.991 - ETA: 2s - loss: 0.0292 - acc: 0.991 - ETA: 1s - loss: 0.0291 - acc: 0.991 - ETA: 1s - loss: 0.0292 - acc: 0.991 - ETA: 1s - loss: 0.0292 - acc: 0.990 - ETA: 1s - loss: 0.0292 - acc: 0.990 - ETA: 1s - loss: 0.0293 - acc: 0.990 - ETA: 1s - loss: 0.0293 - acc: 0.990 - ETA: 1s - loss: 0.0294 - acc: 0.990 - ETA: 1s - loss: 0.0294 - acc: 0.990 - ETA: 1s - loss: 0.0294 - acc: 0.990 - ETA: 1s - loss: 0.0295 - acc: 0.990 - ETA: 1s - loss: 0.0296 - acc: 0.990 - ETA: 1s - loss: 0.0297 - acc: 0.990 - ETA: 1s - loss: 0.0296 - acc: 0.990 - ETA: 1s - loss: 0.0295 - acc: 0.990 - ETA: 1s - loss: 0.0294 - acc: 0.9908"
     ]
    },
    {
     "name": "stdout",
     "output_type": "stream",
     "text": [
      "60000/60000 [==============================] - ETA: 1s - loss: 0.0294 - acc: 0.990 - ETA: 1s - loss: 0.0295 - acc: 0.990 - ETA: 0s - loss: 0.0295 - acc: 0.990 - ETA: 0s - loss: 0.0296 - acc: 0.990 - ETA: 0s - loss: 0.0295 - acc: 0.990 - ETA: 0s - loss: 0.0294 - acc: 0.990 - ETA: 0s - loss: 0.0295 - acc: 0.990 - ETA: 0s - loss: 0.0295 - acc: 0.990 - ETA: 0s - loss: 0.0295 - acc: 0.990 - ETA: 0s - loss: 0.0296 - acc: 0.990 - ETA: 0s - loss: 0.0295 - acc: 0.990 - ETA: 0s - loss: 0.0295 - acc: 0.990 - ETA: 0s - loss: 0.0297 - acc: 0.990 - ETA: 0s - loss: 0.0298 - acc: 0.990 - ETA: 0s - loss: 0.0297 - acc: 0.990 - ETA: 0s - loss: 0.0296 - acc: 0.990 - ETA: 0s - loss: 0.0295 - acc: 0.990 - ETA: 0s - loss: 0.0295 - acc: 0.990 - ETA: 0s - loss: 0.0297 - acc: 0.990 - 14s 235us/step - loss: 0.0296 - acc: 0.9909 - val_loss: 0.0274 - val_acc: 0.9914\n",
      "Epoch 11/12\n",
      "57088/60000 [===========================>..] - ETA: 13s - loss: 0.0198 - acc: 0.99 - ETA: 13s - loss: 0.0327 - acc: 0.99 - ETA: 13s - loss: 0.0267 - acc: 0.99 - ETA: 13s - loss: 0.0243 - acc: 0.99 - ETA: 13s - loss: 0.0237 - acc: 0.99 - ETA: 13s - loss: 0.0316 - acc: 0.98 - ETA: 13s - loss: 0.0338 - acc: 0.98 - ETA: 12s - loss: 0.0310 - acc: 0.99 - ETA: 12s - loss: 0.0330 - acc: 0.99 - ETA: 12s - loss: 0.0320 - acc: 0.99 - ETA: 12s - loss: 0.0318 - acc: 0.99 - ETA: 12s - loss: 0.0305 - acc: 0.99 - ETA: 12s - loss: 0.0299 - acc: 0.99 - ETA: 12s - loss: 0.0282 - acc: 0.99 - ETA: 12s - loss: 0.0292 - acc: 0.99 - ETA: 12s - loss: 0.0286 - acc: 0.99 - ETA: 12s - loss: 0.0291 - acc: 0.99 - ETA: 12s - loss: 0.0283 - acc: 0.99 - ETA: 12s - loss: 0.0277 - acc: 0.99 - ETA: 12s - loss: 0.0277 - acc: 0.99 - ETA: 12s - loss: 0.0280 - acc: 0.99 - ETA: 12s - loss: 0.0280 - acc: 0.99 - ETA: 12s - loss: 0.0270 - acc: 0.99 - ETA: 12s - loss: 0.0263 - acc: 0.99 - ETA: 12s - loss: 0.0255 - acc: 0.99 - ETA: 11s - loss: 0.0252 - acc: 0.99 - ETA: 11s - loss: 0.0246 - acc: 0.99 - ETA: 11s - loss: 0.0249 - acc: 0.99 - ETA: 11s - loss: 0.0243 - acc: 0.99 - ETA: 11s - loss: 0.0245 - acc: 0.99 - ETA: 11s - loss: 0.0240 - acc: 0.99 - ETA: 11s - loss: 0.0240 - acc: 0.99 - ETA: 11s - loss: 0.0238 - acc: 0.99 - ETA: 11s - loss: 0.0237 - acc: 0.99 - ETA: 11s - loss: 0.0249 - acc: 0.99 - ETA: 11s - loss: 0.0249 - acc: 0.99 - ETA: 11s - loss: 0.0250 - acc: 0.99 - ETA: 11s - loss: 0.0247 - acc: 0.99 - ETA: 11s - loss: 0.0246 - acc: 0.99 - ETA: 11s - loss: 0.0249 - acc: 0.99 - ETA: 11s - loss: 0.0251 - acc: 0.99 - ETA: 11s - loss: 0.0255 - acc: 0.99 - ETA: 11s - loss: 0.0262 - acc: 0.99 - ETA: 10s - loss: 0.0265 - acc: 0.99 - ETA: 10s - loss: 0.0269 - acc: 0.99 - ETA: 10s - loss: 0.0270 - acc: 0.99 - ETA: 10s - loss: 0.0267 - acc: 0.99 - ETA: 10s - loss: 0.0268 - acc: 0.99 - ETA: 10s - loss: 0.0276 - acc: 0.99 - ETA: 10s - loss: 0.0272 - acc: 0.99 - ETA: 10s - loss: 0.0272 - acc: 0.99 - ETA: 10s - loss: 0.0269 - acc: 0.99 - ETA: 10s - loss: 0.0267 - acc: 0.99 - ETA: 10s - loss: 0.0270 - acc: 0.99 - ETA: 10s - loss: 0.0271 - acc: 0.99 - ETA: 10s - loss: 0.0284 - acc: 0.99 - ETA: 10s - loss: 0.0282 - acc: 0.99 - ETA: 10s - loss: 0.0282 - acc: 0.99 - ETA: 10s - loss: 0.0280 - acc: 0.99 - ETA: 10s - loss: 0.0282 - acc: 0.99 - ETA: 10s - loss: 0.0281 - acc: 0.99 - ETA: 9s - loss: 0.0284 - acc: 0.9903 - ETA: 9s - loss: 0.0282 - acc: 0.990 - ETA: 9s - loss: 0.0279 - acc: 0.990 - ETA: 9s - loss: 0.0279 - acc: 0.990 - ETA: 9s - loss: 0.0279 - acc: 0.990 - ETA: 9s - loss: 0.0278 - acc: 0.990 - ETA: 9s - loss: 0.0277 - acc: 0.990 - ETA: 9s - loss: 0.0284 - acc: 0.990 - ETA: 9s - loss: 0.0282 - acc: 0.990 - ETA: 9s - loss: 0.0280 - acc: 0.990 - ETA: 9s - loss: 0.0279 - acc: 0.990 - ETA: 9s - loss: 0.0279 - acc: 0.990 - ETA: 9s - loss: 0.0278 - acc: 0.990 - ETA: 9s - loss: 0.0275 - acc: 0.990 - ETA: 9s - loss: 0.0273 - acc: 0.990 - ETA: 9s - loss: 0.0278 - acc: 0.990 - ETA: 9s - loss: 0.0279 - acc: 0.990 - ETA: 8s - loss: 0.0277 - acc: 0.990 - ETA: 8s - loss: 0.0274 - acc: 0.991 - ETA: 8s - loss: 0.0278 - acc: 0.990 - ETA: 8s - loss: 0.0276 - acc: 0.990 - ETA: 8s - loss: 0.0275 - acc: 0.991 - ETA: 8s - loss: 0.0274 - acc: 0.991 - ETA: 8s - loss: 0.0271 - acc: 0.991 - ETA: 8s - loss: 0.0272 - acc: 0.991 - ETA: 8s - loss: 0.0274 - acc: 0.990 - ETA: 8s - loss: 0.0273 - acc: 0.990 - ETA: 8s - loss: 0.0272 - acc: 0.990 - ETA: 8s - loss: 0.0277 - acc: 0.990 - ETA: 8s - loss: 0.0277 - acc: 0.990 - ETA: 8s - loss: 0.0276 - acc: 0.990 - ETA: 8s - loss: 0.0276 - acc: 0.990 - ETA: 8s - loss: 0.0276 - acc: 0.990 - ETA: 8s - loss: 0.0276 - acc: 0.990 - ETA: 7s - loss: 0.0276 - acc: 0.990 - ETA: 7s - loss: 0.0276 - acc: 0.990 - ETA: 7s - loss: 0.0277 - acc: 0.990 - ETA: 7s - loss: 0.0281 - acc: 0.990 - ETA: 7s - loss: 0.0282 - acc: 0.990 - ETA: 7s - loss: 0.0282 - acc: 0.990 - ETA: 7s - loss: 0.0280 - acc: 0.990 - ETA: 7s - loss: 0.0281 - acc: 0.990 - ETA: 7s - loss: 0.0284 - acc: 0.990 - ETA: 7s - loss: 0.0287 - acc: 0.990 - ETA: 7s - loss: 0.0286 - acc: 0.990 - ETA: 7s - loss: 0.0285 - acc: 0.990 - ETA: 7s - loss: 0.0284 - acc: 0.990 - ETA: 7s - loss: 0.0282 - acc: 0.990 - ETA: 7s - loss: 0.0282 - acc: 0.990 - ETA: 7s - loss: 0.0281 - acc: 0.990 - ETA: 7s - loss: 0.0279 - acc: 0.990 - ETA: 6s - loss: 0.0278 - acc: 0.990 - ETA: 6s - loss: 0.0279 - acc: 0.990 - ETA: 6s - loss: 0.0281 - acc: 0.990 - ETA: 6s - loss: 0.0280 - acc: 0.990 - ETA: 6s - loss: 0.0278 - acc: 0.990 - ETA: 6s - loss: 0.0283 - acc: 0.990 - ETA: 6s - loss: 0.0284 - acc: 0.990 - ETA: 6s - loss: 0.0285 - acc: 0.990 - ETA: 6s - loss: 0.0287 - acc: 0.990 - ETA: 6s - loss: 0.0286 - acc: 0.990 - ETA: 6s - loss: 0.0285 - acc: 0.990 - ETA: 6s - loss: 0.0284 - acc: 0.990 - ETA: 6s - loss: 0.0284 - acc: 0.990 - ETA: 6s - loss: 0.0283 - acc: 0.990 - ETA: 6s - loss: 0.0284 - acc: 0.990 - ETA: 6s - loss: 0.0282 - acc: 0.990 - ETA: 6s - loss: 0.0283 - acc: 0.990 - ETA: 6s - loss: 0.0285 - acc: 0.990 - ETA: 5s - loss: 0.0285 - acc: 0.990 - ETA: 5s - loss: 0.0284 - acc: 0.990 - ETA: 5s - loss: 0.0286 - acc: 0.990 - ETA: 5s - loss: 0.0288 - acc: 0.990 - ETA: 5s - loss: 0.0289 - acc: 0.990 - ETA: 5s - loss: 0.0288 - acc: 0.990 - ETA: 5s - loss: 0.0289 - acc: 0.990 - ETA: 5s - loss: 0.0290 - acc: 0.990 - ETA: 5s - loss: 0.0289 - acc: 0.990 - ETA: 5s - loss: 0.0288 - acc: 0.990 - ETA: 5s - loss: 0.0289 - acc: 0.990 - ETA: 5s - loss: 0.0290 - acc: 0.990 - ETA: 5s - loss: 0.0290 - acc: 0.990 - ETA: 5s - loss: 0.0289 - acc: 0.990 - ETA: 5s - loss: 0.0291 - acc: 0.990 - ETA: 5s - loss: 0.0290 - acc: 0.990 - ETA: 4s - loss: 0.0292 - acc: 0.990 - ETA: 4s - loss: 0.0292 - acc: 0.990 - ETA: 4s - loss: 0.0292 - acc: 0.990 - ETA: 4s - loss: 0.0293 - acc: 0.990 - ETA: 4s - loss: 0.0292 - acc: 0.990 - ETA: 4s - loss: 0.0290 - acc: 0.990 - ETA: 4s - loss: 0.0289 - acc: 0.990 - ETA: 4s - loss: 0.0289 - acc: 0.990 - ETA: 4s - loss: 0.0289 - acc: 0.990 - ETA: 4s - loss: 0.0290 - acc: 0.990 - ETA: 4s - loss: 0.0290 - acc: 0.990 - ETA: 4s - loss: 0.0290 - acc: 0.990 - ETA: 4s - loss: 0.0289 - acc: 0.990 - ETA: 4s - loss: 0.0288 - acc: 0.990 - ETA: 3s - loss: 0.0287 - acc: 0.990 - ETA: 3s - loss: 0.0286 - acc: 0.990 - ETA: 3s - loss: 0.0286 - acc: 0.991 - ETA: 3s - loss: 0.0288 - acc: 0.991 - ETA: 3s - loss: 0.0288 - acc: 0.990 - ETA: 3s - loss: 0.0287 - acc: 0.991 - ETA: 3s - loss: 0.0288 - acc: 0.990 - ETA: 3s - loss: 0.0286 - acc: 0.991 - ETA: 3s - loss: 0.0285 - acc: 0.991 - ETA: 3s - loss: 0.0284 - acc: 0.991 - ETA: 3s - loss: 0.0283 - acc: 0.991 - ETA: 3s - loss: 0.0284 - acc: 0.991 - ETA: 3s - loss: 0.0287 - acc: 0.990 - ETA: 3s - loss: 0.0287 - acc: 0.990 - ETA: 2s - loss: 0.0290 - acc: 0.990 - ETA: 2s - loss: 0.0290 - acc: 0.990 - ETA: 2s - loss: 0.0289 - acc: 0.990 - ETA: 2s - loss: 0.0289 - acc: 0.990 - ETA: 2s - loss: 0.0289 - acc: 0.990 - ETA: 2s - loss: 0.0288 - acc: 0.990 - ETA: 2s - loss: 0.0288 - acc: 0.990 - ETA: 2s - loss: 0.0287 - acc: 0.990 - ETA: 2s - loss: 0.0288 - acc: 0.990 - ETA: 2s - loss: 0.0287 - acc: 0.990 - ETA: 2s - loss: 0.0286 - acc: 0.990 - ETA: 2s - loss: 0.0286 - acc: 0.990 - ETA: 2s - loss: 0.0285 - acc: 0.990 - ETA: 2s - loss: 0.0285 - acc: 0.990 - ETA: 2s - loss: 0.0286 - acc: 0.990 - ETA: 2s - loss: 0.0285 - acc: 0.991 - ETA: 2s - loss: 0.0285 - acc: 0.991 - ETA: 1s - loss: 0.0284 - acc: 0.991 - ETA: 1s - loss: 0.0283 - acc: 0.991 - ETA: 1s - loss: 0.0282 - acc: 0.991 - ETA: 1s - loss: 0.0283 - acc: 0.991 - ETA: 1s - loss: 0.0282 - acc: 0.991 - ETA: 1s - loss: 0.0283 - acc: 0.990 - ETA: 1s - loss: 0.0284 - acc: 0.990 - ETA: 1s - loss: 0.0284 - acc: 0.990 - ETA: 1s - loss: 0.0283 - acc: 0.990 - ETA: 1s - loss: 0.0283 - acc: 0.990 - ETA: 1s - loss: 0.0283 - acc: 0.990 - ETA: 1s - loss: 0.0282 - acc: 0.990 - ETA: 1s - loss: 0.0282 - acc: 0.990 - ETA: 1s - loss: 0.0281 - acc: 0.990 - ETA: 1s - loss: 0.0280 - acc: 0.991 - ETA: 1s - loss: 0.0280 - acc: 0.991 - ETA: 1s - loss: 0.0280 - acc: 0.991 - ETA: 0s - loss: 0.0280 - acc: 0.991 - ETA: 0s - loss: 0.0280 - acc: 0.991 - ETA: 0s - loss: 0.0280 - acc: 0.991 - ETA: 0s - loss: 0.0279 - acc: 0.991 - ETA: 0s - loss: 0.0281 - acc: 0.990 - ETA: 0s - loss: 0.0281 - acc: 0.990 - ETA: 0s - loss: 0.0281 - acc: 0.990960000/60000 [==============================] - ETA: 0s - loss: 0.0281 - acc: 0.990 - ETA: 0s - loss: 0.0280 - acc: 0.990 - ETA: 0s - loss: 0.0279 - acc: 0.991 - ETA: 0s - loss: 0.0278 - acc: 0.991 - ETA: 0s - loss: 0.0279 - acc: 0.991 - ETA: 0s - loss: 0.0279 - acc: 0.991 - ETA: 0s - loss: 0.0278 - acc: 0.991 - ETA: 0s - loss: 0.0278 - acc: 0.991 - ETA: 0s - loss: 0.0277 - acc: 0.991 - ETA: 0s - loss: 0.0278 - acc: 0.991 - ETA: 0s - loss: 0.0278 - acc: 0.991 - 14s 236us/step - loss: 0.0278 - acc: 0.9910 - val_loss: 0.0297 - val_acc: 0.9917\n",
      "Epoch 12/12\n",
      "12416/60000 [=====>........................] - ETA: 16s - loss: 0.0058 - acc: 1.00 - ETA: 15s - loss: 0.0169 - acc: 0.99 - ETA: 15s - loss: 0.0198 - acc: 0.99 - ETA: 15s - loss: 0.0234 - acc: 0.99 - ETA: 15s - loss: 0.0228 - acc: 0.99 - ETA: 15s - loss: 0.0240 - acc: 0.99 - ETA: 15s - loss: 0.0230 - acc: 0.99 - ETA: 15s - loss: 0.0219 - acc: 0.99 - ETA: 15s - loss: 0.0213 - acc: 0.99 - ETA: 14s - loss: 0.0243 - acc: 0.99 - ETA: 14s - loss: 0.0232 - acc: 0.99 - ETA: 14s - loss: 0.0240 - acc: 0.99 - ETA: 14s - loss: 0.0231 - acc: 0.99 - ETA: 13s - loss: 0.0249 - acc: 0.99 - ETA: 13s - loss: 0.0239 - acc: 0.99 - ETA: 13s - loss: 0.0247 - acc: 0.99 - ETA: 13s - loss: 0.0235 - acc: 0.99 - ETA: 13s - loss: 0.0226 - acc: 0.99 - ETA: 13s - loss: 0.0217 - acc: 0.99 - ETA: 13s - loss: 0.0216 - acc: 0.99 - ETA: 13s - loss: 0.0216 - acc: 0.99 - ETA: 13s - loss: 0.0217 - acc: 0.99 - ETA: 13s - loss: 0.0215 - acc: 0.99 - ETA: 13s - loss: 0.0217 - acc: 0.99 - ETA: 13s - loss: 0.0213 - acc: 0.99 - ETA: 13s - loss: 0.0216 - acc: 0.99 - ETA: 12s - loss: 0.0214 - acc: 0.99 - ETA: 12s - loss: 0.0211 - acc: 0.99 - ETA: 12s - loss: 0.0209 - acc: 0.99 - ETA: 12s - loss: 0.0204 - acc: 0.99 - ETA: 12s - loss: 0.0209 - acc: 0.99 - ETA: 12s - loss: 0.0216 - acc: 0.99 - ETA: 12s - loss: 0.0220 - acc: 0.99 - ETA: 12s - loss: 0.0224 - acc: 0.99 - ETA: 12s - loss: 0.0231 - acc: 0.99 - ETA: 12s - loss: 0.0233 - acc: 0.99 - ETA: 12s - loss: 0.0234 - acc: 0.99 - ETA: 12s - loss: 0.0232 - acc: 0.99 - ETA: 11s - loss: 0.0232 - acc: 0.99 - ETA: 11s - loss: 0.0227 - acc: 0.99 - ETA: 11s - loss: 0.0232 - acc: 0.99 - ETA: 11s - loss: 0.0229 - acc: 0.99 - ETA: 11s - loss: 0.0226 - acc: 0.99 - ETA: 11s - loss: 0.0229 - acc: 0.99 - ETA: 11s - loss: 0.0226 - acc: 0.99 - ETA: 11s - loss: 0.0228 - acc: 0.99 - ETA: 11s - loss: 0.0232 - acc: 0.99 - ETA: 11s - loss: 0.0246 - acc: 0.99 - ETA: 11s - loss: 0.0244 - acc: 0.9923"
     ]
    },
    {
     "ename": "KeyboardInterrupt",
     "evalue": "",
     "output_type": "error",
     "traceback": [
      "\u001b[1;31m---------------------------------------------------------------------------\u001b[0m",
      "\u001b[1;31mKeyboardInterrupt\u001b[0m                         Traceback (most recent call last)",
      "\u001b[1;32m<ipython-input-16-ea19096a25ab>\u001b[0m in \u001b[0;36m<module>\u001b[1;34m()\u001b[0m\n\u001b[0;32m     25\u001b[0m           \u001b[0mepochs\u001b[0m\u001b[1;33m=\u001b[0m\u001b[0mepochs\u001b[0m\u001b[1;33m,\u001b[0m\u001b[1;33m\u001b[0m\u001b[0m\n\u001b[0;32m     26\u001b[0m           \u001b[0mverbose\u001b[0m\u001b[1;33m=\u001b[0m\u001b[1;36m1\u001b[0m\u001b[1;33m,\u001b[0m\u001b[1;33m\u001b[0m\u001b[0m\n\u001b[1;32m---> 27\u001b[1;33m           validation_data=(x_test, y_test))\n\u001b[0m",
      "\u001b[1;32mc:\\users\\guillaume\\anaconda3\\lib\\site-packages\\tensorflow\\python\\keras\\engine\\training.py\u001b[0m in \u001b[0;36mfit\u001b[1;34m(self, x, y, batch_size, epochs, verbose, callbacks, validation_split, validation_data, shuffle, class_weight, sample_weight, initial_epoch, steps_per_epoch, validation_steps, max_queue_size, workers, use_multiprocessing, **kwargs)\u001b[0m\n\u001b[0;32m   1637\u001b[0m           \u001b[0minitial_epoch\u001b[0m\u001b[1;33m=\u001b[0m\u001b[0minitial_epoch\u001b[0m\u001b[1;33m,\u001b[0m\u001b[1;33m\u001b[0m\u001b[0m\n\u001b[0;32m   1638\u001b[0m           \u001b[0msteps_per_epoch\u001b[0m\u001b[1;33m=\u001b[0m\u001b[0msteps_per_epoch\u001b[0m\u001b[1;33m,\u001b[0m\u001b[1;33m\u001b[0m\u001b[0m\n\u001b[1;32m-> 1639\u001b[1;33m           validation_steps=validation_steps)\n\u001b[0m\u001b[0;32m   1640\u001b[0m \u001b[1;33m\u001b[0m\u001b[0m\n\u001b[0;32m   1641\u001b[0m   def evaluate(self,\n",
      "\u001b[1;32mc:\\users\\guillaume\\anaconda3\\lib\\site-packages\\tensorflow\\python\\keras\\engine\\training_arrays.py\u001b[0m in \u001b[0;36mfit_loop\u001b[1;34m(model, inputs, targets, sample_weights, batch_size, epochs, verbose, callbacks, val_inputs, val_targets, val_sample_weights, shuffle, initial_epoch, steps_per_epoch, validation_steps)\u001b[0m\n\u001b[0;32m    213\u001b[0m           \u001b[0mins_batch\u001b[0m\u001b[1;33m[\u001b[0m\u001b[0mi\u001b[0m\u001b[1;33m]\u001b[0m \u001b[1;33m=\u001b[0m \u001b[0mins_batch\u001b[0m\u001b[1;33m[\u001b[0m\u001b[0mi\u001b[0m\u001b[1;33m]\u001b[0m\u001b[1;33m.\u001b[0m\u001b[0mtoarray\u001b[0m\u001b[1;33m(\u001b[0m\u001b[1;33m)\u001b[0m\u001b[1;33m\u001b[0m\u001b[0m\n\u001b[0;32m    214\u001b[0m \u001b[1;33m\u001b[0m\u001b[0m\n\u001b[1;32m--> 215\u001b[1;33m         \u001b[0mouts\u001b[0m \u001b[1;33m=\u001b[0m \u001b[0mf\u001b[0m\u001b[1;33m(\u001b[0m\u001b[0mins_batch\u001b[0m\u001b[1;33m)\u001b[0m\u001b[1;33m\u001b[0m\u001b[0m\n\u001b[0m\u001b[0;32m    216\u001b[0m         \u001b[1;32mif\u001b[0m \u001b[1;32mnot\u001b[0m \u001b[0misinstance\u001b[0m\u001b[1;33m(\u001b[0m\u001b[0mouts\u001b[0m\u001b[1;33m,\u001b[0m \u001b[0mlist\u001b[0m\u001b[1;33m)\u001b[0m\u001b[1;33m:\u001b[0m\u001b[1;33m\u001b[0m\u001b[0m\n\u001b[0;32m    217\u001b[0m           \u001b[0mouts\u001b[0m \u001b[1;33m=\u001b[0m \u001b[1;33m[\u001b[0m\u001b[0mouts\u001b[0m\u001b[1;33m]\u001b[0m\u001b[1;33m\u001b[0m\u001b[0m\n",
      "\u001b[1;32mc:\\users\\guillaume\\anaconda3\\lib\\site-packages\\tensorflow\\python\\keras\\backend.py\u001b[0m in \u001b[0;36m__call__\u001b[1;34m(self, inputs)\u001b[0m\n\u001b[0;32m   2984\u001b[0m \u001b[1;33m\u001b[0m\u001b[0m\n\u001b[0;32m   2985\u001b[0m     fetched = self._callable_fn(*array_vals,\n\u001b[1;32m-> 2986\u001b[1;33m                                 run_metadata=self.run_metadata)\n\u001b[0m\u001b[0;32m   2987\u001b[0m     \u001b[0mself\u001b[0m\u001b[1;33m.\u001b[0m\u001b[0m_call_fetch_callbacks\u001b[0m\u001b[1;33m(\u001b[0m\u001b[0mfetched\u001b[0m\u001b[1;33m[\u001b[0m\u001b[1;33m-\u001b[0m\u001b[0mlen\u001b[0m\u001b[1;33m(\u001b[0m\u001b[0mself\u001b[0m\u001b[1;33m.\u001b[0m\u001b[0m_fetches\u001b[0m\u001b[1;33m)\u001b[0m\u001b[1;33m:\u001b[0m\u001b[1;33m]\u001b[0m\u001b[1;33m)\u001b[0m\u001b[1;33m\u001b[0m\u001b[0m\n\u001b[0;32m   2988\u001b[0m     \u001b[1;32mreturn\u001b[0m \u001b[0mfetched\u001b[0m\u001b[1;33m[\u001b[0m\u001b[1;33m:\u001b[0m\u001b[0mlen\u001b[0m\u001b[1;33m(\u001b[0m\u001b[0mself\u001b[0m\u001b[1;33m.\u001b[0m\u001b[0moutputs\u001b[0m\u001b[1;33m)\u001b[0m\u001b[1;33m]\u001b[0m\u001b[1;33m\u001b[0m\u001b[0m\n",
      "\u001b[1;32mc:\\users\\guillaume\\anaconda3\\lib\\site-packages\\tensorflow\\python\\client\\session.py\u001b[0m in \u001b[0;36m__call__\u001b[1;34m(self, *args, **kwargs)\u001b[0m\n\u001b[0;32m   1437\u001b[0m           ret = tf_session.TF_SessionRunCallable(\n\u001b[0;32m   1438\u001b[0m               \u001b[0mself\u001b[0m\u001b[1;33m.\u001b[0m\u001b[0m_session\u001b[0m\u001b[1;33m.\u001b[0m\u001b[0m_session\u001b[0m\u001b[1;33m,\u001b[0m \u001b[0mself\u001b[0m\u001b[1;33m.\u001b[0m\u001b[0m_handle\u001b[0m\u001b[1;33m,\u001b[0m \u001b[0margs\u001b[0m\u001b[1;33m,\u001b[0m \u001b[0mstatus\u001b[0m\u001b[1;33m,\u001b[0m\u001b[1;33m\u001b[0m\u001b[0m\n\u001b[1;32m-> 1439\u001b[1;33m               run_metadata_ptr)\n\u001b[0m\u001b[0;32m   1440\u001b[0m         \u001b[1;32mif\u001b[0m \u001b[0mrun_metadata\u001b[0m\u001b[1;33m:\u001b[0m\u001b[1;33m\u001b[0m\u001b[0m\n\u001b[0;32m   1441\u001b[0m           \u001b[0mproto_data\u001b[0m \u001b[1;33m=\u001b[0m \u001b[0mtf_session\u001b[0m\u001b[1;33m.\u001b[0m\u001b[0mTF_GetBuffer\u001b[0m\u001b[1;33m(\u001b[0m\u001b[0mrun_metadata_ptr\u001b[0m\u001b[1;33m)\u001b[0m\u001b[1;33m\u001b[0m\u001b[0m\n",
      "\u001b[1;31mKeyboardInterrupt\u001b[0m: "
     ]
    }
   ],
   "source": [
    "input_shape = (28,28,1)\n",
    "batch_size = 128\n",
    "epochs = 12\n",
    "\n",
    "def net(input_shape, num_classes=10):\n",
    "    in_ = tf.keras.Input(input_shape)\n",
    "    x = tf.keras.layers.Conv2D(32, (3,3), activation='relu')(in_)\n",
    "    x = tf.keras.layers.Conv2D(64, (3,3), activation='relu')(x)\n",
    "    x = tf.keras.layers.MaxPooling2D((2,2))(x)\n",
    "    x = tf.keras.layers.Dropout(0.25)(x)\n",
    "    x = tf.keras.layers.Flatten()(x)\n",
    "    x = tf.keras.layers.Dense(128, activation='relu')(x)\n",
    "    x = tf.keras.layers.Dropout(0.5)(x)\n",
    "    out_ = tf.keras.layers.Dense(num_classes, activation='softmax')(x)\n",
    "    return tf.keras.Model(inputs=in_,outputs=out_)\n",
    "\n",
    "model = net(input_shape)\n",
    "\n",
    "model.compile(loss=tf.keras.losses.categorical_crossentropy,\n",
    "              optimizer=tf.keras.optimizers.Adadelta(),\n",
    "              metrics=['accuracy'])\n",
    "print(model.summary())\n",
    "model.fit(x_train, y_train,\n",
    "          batch_size=batch_size,\n",
    "          epochs=epochs,\n",
    "          verbose=1,\n",
    "          validation_data=(x_test, y_test))"
   ]
  },
  {
   "cell_type": "code",
   "execution_count": 18,
   "metadata": {
    "scrolled": true
   },
   "outputs": [
    {
     "name": "stdout",
     "output_type": "stream",
     "text": [
      "_________________________________________________________________\n",
      "Layer (type)                 Output Shape              Param #   \n",
      "=================================================================\n",
      "image_input (InputLayer)     (None, 28, 28, 1)         0         \n",
      "_________________________________________________________________\n",
      "conv2d_14 (Conv2D)           (None, 26, 26, 32)        320       \n",
      "_________________________________________________________________\n",
      "conv2d_15 (Conv2D)           (None, 24, 24, 64)        18496     \n",
      "_________________________________________________________________\n",
      "max_pooling2d_7 (MaxPooling2 (None, 12, 12, 64)        0         \n",
      "_________________________________________________________________\n",
      "dropout_14 (Dropout)         (None, 12, 12, 64)        0         \n",
      "_________________________________________________________________\n",
      "flatten_7 (Flatten)          (None, 9216)              0         \n",
      "_________________________________________________________________\n",
      "dense_11 (Dense)             (None, 128)               1179776   \n",
      "_________________________________________________________________\n",
      "dropout_15 (Dropout)         (None, 128)               0         \n",
      "_________________________________________________________________\n",
      "out (Dense)                  (None, 10)                1290      \n",
      "=================================================================\n",
      "Total params: 1,199,882\n",
      "Trainable params: 1,199,882\n",
      "Non-trainable params: 0\n",
      "_________________________________________________________________\n",
      "None\n",
      "(60000, 28, 28, 1)\n",
      "Train on 60000 samples, validate on 10000 samples\n",
      "Epoch 1/12\n",
      "56704/60000 [===========================>..] - ETA: 12:30 - loss: 2.3254 - acc: 0.08 - ETA: 4:18 - loss: 2.1928 - acc: 0.2005 - ETA: 2:41 - loss: 2.0791 - acc: 0.270 - ETA: 1:58 - loss: 1.9699 - acc: 0.313 - ETA: 1:34 - loss: 1.8886 - acc: 0.336 - ETA: 1:19 - loss: 1.7878 - acc: 0.377 - ETA: 1:09 - loss: 1.6999 - acc: 0.416 - ETA: 1:01 - loss: 1.6207 - acc: 0.442 - ETA: 55s - loss: 1.5702 - acc: 0.463 - ETA: 50s - loss: 1.4841 - acc: 0.49 - ETA: 47s - loss: 1.4377 - acc: 0.51 - ETA: 43s - loss: 1.3923 - acc: 0.52 - ETA: 41s - loss: 1.3445 - acc: 0.54 - ETA: 39s - loss: 1.3071 - acc: 0.55 - ETA: 36s - loss: 1.2655 - acc: 0.57 - ETA: 35s - loss: 1.2186 - acc: 0.58 - ETA: 33s - loss: 1.1705 - acc: 0.60 - ETA: 31s - loss: 1.1410 - acc: 0.61 - ETA: 30s - loss: 1.1101 - acc: 0.62 - ETA: 29s - loss: 1.0781 - acc: 0.63 - ETA: 28s - loss: 1.0577 - acc: 0.64 - ETA: 28s - loss: 1.0283 - acc: 0.65 - ETA: 27s - loss: 1.0056 - acc: 0.66 - ETA: 26s - loss: 0.9818 - acc: 0.67 - ETA: 26s - loss: 0.9615 - acc: 0.67 - ETA: 25s - loss: 0.9301 - acc: 0.68 - ETA: 24s - loss: 0.9115 - acc: 0.69 - ETA: 23s - loss: 0.8930 - acc: 0.70 - ETA: 23s - loss: 0.8705 - acc: 0.70 - ETA: 22s - loss: 0.8561 - acc: 0.71 - ETA: 22s - loss: 0.8399 - acc: 0.72 - ETA: 21s - loss: 0.8255 - acc: 0.72 - ETA: 21s - loss: 0.8118 - acc: 0.73 - ETA: 21s - loss: 0.7984 - acc: 0.73 - ETA: 20s - loss: 0.7832 - acc: 0.74 - ETA: 20s - loss: 0.7706 - acc: 0.74 - ETA: 20s - loss: 0.7603 - acc: 0.75 - ETA: 19s - loss: 0.7483 - acc: 0.75 - ETA: 19s - loss: 0.7377 - acc: 0.75 - ETA: 19s - loss: 0.7286 - acc: 0.76 - ETA: 18s - loss: 0.7180 - acc: 0.76 - ETA: 18s - loss: 0.7113 - acc: 0.76 - ETA: 18s - loss: 0.7015 - acc: 0.77 - ETA: 18s - loss: 0.6924 - acc: 0.77 - ETA: 17s - loss: 0.6840 - acc: 0.77 - ETA: 17s - loss: 0.6761 - acc: 0.77 - ETA: 17s - loss: 0.6636 - acc: 0.78 - ETA: 16s - loss: 0.6527 - acc: 0.78 - ETA: 16s - loss: 0.6455 - acc: 0.79 - ETA: 16s - loss: 0.6371 - acc: 0.79 - ETA: 16s - loss: 0.6309 - acc: 0.79 - ETA: 16s - loss: 0.6249 - acc: 0.79 - ETA: 15s - loss: 0.6200 - acc: 0.79 - ETA: 15s - loss: 0.6131 - acc: 0.80 - ETA: 15s - loss: 0.6065 - acc: 0.80 - ETA: 15s - loss: 0.6018 - acc: 0.80 - ETA: 15s - loss: 0.5963 - acc: 0.80 - ETA: 15s - loss: 0.5904 - acc: 0.80 - ETA: 14s - loss: 0.5844 - acc: 0.81 - ETA: 14s - loss: 0.5794 - acc: 0.81 - ETA: 14s - loss: 0.5745 - acc: 0.81 - ETA: 14s - loss: 0.5688 - acc: 0.81 - ETA: 14s - loss: 0.5635 - acc: 0.81 - ETA: 14s - loss: 0.5585 - acc: 0.82 - ETA: 14s - loss: 0.5528 - acc: 0.82 - ETA: 13s - loss: 0.5474 - acc: 0.82 - ETA: 13s - loss: 0.5422 - acc: 0.82 - ETA: 13s - loss: 0.5376 - acc: 0.82 - ETA: 13s - loss: 0.5326 - acc: 0.82 - ETA: 13s - loss: 0.5287 - acc: 0.83 - ETA: 13s - loss: 0.5247 - acc: 0.83 - ETA: 13s - loss: 0.5213 - acc: 0.83 - ETA: 12s - loss: 0.5164 - acc: 0.83 - ETA: 12s - loss: 0.5123 - acc: 0.83 - ETA: 12s - loss: 0.5074 - acc: 0.83 - ETA: 12s - loss: 0.5041 - acc: 0.83 - ETA: 12s - loss: 0.4999 - acc: 0.84 - ETA: 12s - loss: 0.4962 - acc: 0.84 - ETA: 12s - loss: 0.4933 - acc: 0.84 - ETA: 12s - loss: 0.4900 - acc: 0.84 - ETA: 12s - loss: 0.4860 - acc: 0.84 - ETA: 11s - loss: 0.4825 - acc: 0.84 - ETA: 11s - loss: 0.4785 - acc: 0.84 - ETA: 11s - loss: 0.4754 - acc: 0.84 - ETA: 11s - loss: 0.4719 - acc: 0.85 - ETA: 11s - loss: 0.4684 - acc: 0.85 - ETA: 11s - loss: 0.4650 - acc: 0.85 - ETA: 11s - loss: 0.4624 - acc: 0.85 - ETA: 11s - loss: 0.4598 - acc: 0.85 - ETA: 11s - loss: 0.4564 - acc: 0.85 - ETA: 10s - loss: 0.4532 - acc: 0.85 - ETA: 10s - loss: 0.4502 - acc: 0.85 - ETA: 10s - loss: 0.4476 - acc: 0.85 - ETA: 10s - loss: 0.4445 - acc: 0.85 - ETA: 10s - loss: 0.4413 - acc: 0.86 - ETA: 10s - loss: 0.4400 - acc: 0.86 - ETA: 10s - loss: 0.4375 - acc: 0.86 - ETA: 10s - loss: 0.4337 - acc: 0.86 - ETA: 10s - loss: 0.4314 - acc: 0.86 - ETA: 9s - loss: 0.4291 - acc: 0.8643 - ETA: 9s - loss: 0.4264 - acc: 0.865 - ETA: 9s - loss: 0.4240 - acc: 0.865 - ETA: 9s - loss: 0.4214 - acc: 0.866 - ETA: 9s - loss: 0.4189 - acc: 0.867 - ETA: 9s - loss: 0.4163 - acc: 0.868 - ETA: 9s - loss: 0.4142 - acc: 0.868 - ETA: 9s - loss: 0.4117 - acc: 0.869 - ETA: 9s - loss: 0.4104 - acc: 0.870 - ETA: 9s - loss: 0.4081 - acc: 0.871 - ETA: 9s - loss: 0.4060 - acc: 0.871 - ETA: 8s - loss: 0.4047 - acc: 0.872 - ETA: 8s - loss: 0.4011 - acc: 0.873 - ETA: 8s - loss: 0.3991 - acc: 0.874 - ETA: 8s - loss: 0.3972 - acc: 0.874 - ETA: 8s - loss: 0.3948 - acc: 0.875 - ETA: 8s - loss: 0.3926 - acc: 0.876 - ETA: 8s - loss: 0.3902 - acc: 0.877 - ETA: 8s - loss: 0.3883 - acc: 0.877 - ETA: 8s - loss: 0.3859 - acc: 0.878 - ETA: 8s - loss: 0.3842 - acc: 0.878 - ETA: 7s - loss: 0.3824 - acc: 0.879 - ETA: 7s - loss: 0.3812 - acc: 0.879 - ETA: 7s - loss: 0.3790 - acc: 0.880 - ETA: 7s - loss: 0.3770 - acc: 0.881 - ETA: 7s - loss: 0.3750 - acc: 0.881 - ETA: 7s - loss: 0.3728 - acc: 0.882 - ETA: 7s - loss: 0.3713 - acc: 0.883 - ETA: 7s - loss: 0.3695 - acc: 0.883 - ETA: 7s - loss: 0.3674 - acc: 0.884 - ETA: 7s - loss: 0.3661 - acc: 0.884 - ETA: 7s - loss: 0.3646 - acc: 0.885 - ETA: 7s - loss: 0.3629 - acc: 0.885 - ETA: 7s - loss: 0.3615 - acc: 0.886 - ETA: 6s - loss: 0.3600 - acc: 0.886 - ETA: 6s - loss: 0.3584 - acc: 0.887 - ETA: 6s - loss: 0.3565 - acc: 0.887 - ETA: 6s - loss: 0.3552 - acc: 0.888 - ETA: 6s - loss: 0.3536 - acc: 0.888 - ETA: 6s - loss: 0.3522 - acc: 0.889 - ETA: 6s - loss: 0.3504 - acc: 0.889 - ETA: 6s - loss: 0.3489 - acc: 0.890 - ETA: 6s - loss: 0.3481 - acc: 0.890 - ETA: 6s - loss: 0.3466 - acc: 0.890 - ETA: 6s - loss: 0.3450 - acc: 0.891 - ETA: 6s - loss: 0.3442 - acc: 0.891 - ETA: 5s - loss: 0.3428 - acc: 0.892 - ETA: 5s - loss: 0.3411 - acc: 0.892 - ETA: 5s - loss: 0.3397 - acc: 0.893 - ETA: 5s - loss: 0.3380 - acc: 0.893 - ETA: 5s - loss: 0.3369 - acc: 0.894 - ETA: 5s - loss: 0.3358 - acc: 0.894 - ETA: 5s - loss: 0.3345 - acc: 0.895 - ETA: 5s - loss: 0.3330 - acc: 0.895 - ETA: 5s - loss: 0.3316 - acc: 0.895 - ETA: 5s - loss: 0.3303 - acc: 0.896 - ETA: 5s - loss: 0.3283 - acc: 0.897 - ETA: 5s - loss: 0.3267 - acc: 0.897 - ETA: 5s - loss: 0.3256 - acc: 0.897 - ETA: 4s - loss: 0.3245 - acc: 0.898 - ETA: 4s - loss: 0.3233 - acc: 0.898 - ETA: 4s - loss: 0.3221 - acc: 0.899 - ETA: 4s - loss: 0.3212 - acc: 0.899 - ETA: 4s - loss: 0.3201 - acc: 0.899 - ETA: 4s - loss: 0.3190 - acc: 0.900 - ETA: 4s - loss: 0.3178 - acc: 0.900 - ETA: 4s - loss: 0.3163 - acc: 0.901 - ETA: 4s - loss: 0.3159 - acc: 0.901 - ETA: 4s - loss: 0.3152 - acc: 0.901 - ETA: 4s - loss: 0.3139 - acc: 0.902 - ETA: 4s - loss: 0.3128 - acc: 0.902 - ETA: 4s - loss: 0.3117 - acc: 0.902 - ETA: 3s - loss: 0.3107 - acc: 0.903 - ETA: 3s - loss: 0.3098 - acc: 0.903 - ETA: 3s - loss: 0.3081 - acc: 0.903 - ETA: 3s - loss: 0.3069 - acc: 0.904 - ETA: 3s - loss: 0.3059 - acc: 0.904 - ETA: 3s - loss: 0.3051 - acc: 0.904 - ETA: 3s - loss: 0.3039 - acc: 0.905 - ETA: 3s - loss: 0.3031 - acc: 0.905 - ETA: 3s - loss: 0.3019 - acc: 0.906 - ETA: 3s - loss: 0.3010 - acc: 0.906 - ETA: 3s - loss: 0.3002 - acc: 0.906 - ETA: 3s - loss: 0.2994 - acc: 0.906 - ETA: 3s - loss: 0.2985 - acc: 0.907 - ETA: 2s - loss: 0.2977 - acc: 0.907 - ETA: 2s - loss: 0.2969 - acc: 0.907 - ETA: 2s - loss: 0.2959 - acc: 0.908 - ETA: 2s - loss: 0.2946 - acc: 0.908 - ETA: 2s - loss: 0.2933 - acc: 0.909 - ETA: 2s - loss: 0.2922 - acc: 0.909 - ETA: 2s - loss: 0.2911 - acc: 0.909 - ETA: 2s - loss: 0.2899 - acc: 0.909 - ETA: 2s - loss: 0.2891 - acc: 0.910 - ETA: 2s - loss: 0.2882 - acc: 0.910 - ETA: 2s - loss: 0.2872 - acc: 0.910 - ETA: 2s - loss: 0.2866 - acc: 0.910 - ETA: 2s - loss: 0.2860 - acc: 0.911 - ETA: 1s - loss: 0.2850 - acc: 0.911 - ETA: 1s - loss: 0.2843 - acc: 0.911 - ETA: 1s - loss: 0.2834 - acc: 0.911 - ETA: 1s - loss: 0.2824 - acc: 0.912 - ETA: 1s - loss: 0.2816 - acc: 0.912 - ETA: 1s - loss: 0.2807 - acc: 0.912 - ETA: 1s - loss: 0.2798 - acc: 0.913 - ETA: 1s - loss: 0.2788 - acc: 0.913 - ETA: 1s - loss: 0.2783 - acc: 0.913 - ETA: 1s - loss: 0.2778 - acc: 0.913 - ETA: 1s - loss: 0.2766 - acc: 0.914 - ETA: 1s - loss: 0.2761 - acc: 0.914 - ETA: 1s - loss: 0.2754 - acc: 0.914 - ETA: 1s - loss: 0.2747 - acc: 0.914 - ETA: 0s - loss: 0.2741 - acc: 0.915 - ETA: 0s - loss: 0.2735 - acc: 0.915\r"
     ]
    },
    {
     "ename": "KeyboardInterrupt",
     "evalue": "",
     "output_type": "error",
     "traceback": [
      "\u001b[1;31m---------------------------------------------------------------------------\u001b[0m",
      "\u001b[1;31mKeyboardInterrupt\u001b[0m                         Traceback (most recent call last)",
      "\u001b[1;32m<ipython-input-18-65d86327aeec>\u001b[0m in \u001b[0;36m<module>\u001b[1;34m()\u001b[0m\n\u001b[0;32m     21\u001b[0m \u001b[0mprint\u001b[0m\u001b[1;33m(\u001b[0m\u001b[0mmodel\u001b[0m\u001b[1;33m.\u001b[0m\u001b[0msummary\u001b[0m\u001b[1;33m(\u001b[0m\u001b[1;33m)\u001b[0m\u001b[1;33m)\u001b[0m\u001b[1;33m\u001b[0m\u001b[0m\n\u001b[0;32m     22\u001b[0m \u001b[0mprint\u001b[0m\u001b[1;33m(\u001b[0m\u001b[0mx_train\u001b[0m\u001b[1;33m.\u001b[0m\u001b[0mshape\u001b[0m\u001b[1;33m)\u001b[0m\u001b[1;33m\u001b[0m\u001b[0m\n\u001b[1;32m---> 23\u001b[1;33m \u001b[0mmodel\u001b[0m\u001b[1;33m.\u001b[0m\u001b[0mfit\u001b[0m\u001b[1;33m(\u001b[0m\u001b[0mx_train\u001b[0m\u001b[1;33m,\u001b[0m\u001b[0my_train\u001b[0m\u001b[1;33m,\u001b[0m\u001b[0mbatch_size\u001b[0m\u001b[1;33m=\u001b[0m\u001b[1;36m128\u001b[0m\u001b[1;33m,\u001b[0m\u001b[0mepochs\u001b[0m\u001b[1;33m=\u001b[0m\u001b[1;36m12\u001b[0m\u001b[1;33m,\u001b[0m\u001b[0mvalidation_data\u001b[0m\u001b[1;33m=\u001b[0m\u001b[1;33m(\u001b[0m\u001b[0mx_test\u001b[0m\u001b[1;33m,\u001b[0m\u001b[0my_test\u001b[0m\u001b[1;33m)\u001b[0m\u001b[1;33m)\u001b[0m\u001b[1;33m\u001b[0m\u001b[0m\n\u001b[0m",
      "\u001b[1;32mc:\\users\\guillaume\\anaconda3\\lib\\site-packages\\tensorflow\\python\\keras\\engine\\training.py\u001b[0m in \u001b[0;36mfit\u001b[1;34m(self, x, y, batch_size, epochs, verbose, callbacks, validation_split, validation_data, shuffle, class_weight, sample_weight, initial_epoch, steps_per_epoch, validation_steps, max_queue_size, workers, use_multiprocessing, **kwargs)\u001b[0m\n\u001b[0;32m   1637\u001b[0m           \u001b[0minitial_epoch\u001b[0m\u001b[1;33m=\u001b[0m\u001b[0minitial_epoch\u001b[0m\u001b[1;33m,\u001b[0m\u001b[1;33m\u001b[0m\u001b[0m\n\u001b[0;32m   1638\u001b[0m           \u001b[0msteps_per_epoch\u001b[0m\u001b[1;33m=\u001b[0m\u001b[0msteps_per_epoch\u001b[0m\u001b[1;33m,\u001b[0m\u001b[1;33m\u001b[0m\u001b[0m\n\u001b[1;32m-> 1639\u001b[1;33m           validation_steps=validation_steps)\n\u001b[0m\u001b[0;32m   1640\u001b[0m \u001b[1;33m\u001b[0m\u001b[0m\n\u001b[0;32m   1641\u001b[0m   def evaluate(self,\n",
      "\u001b[1;32mc:\\users\\guillaume\\anaconda3\\lib\\site-packages\\tensorflow\\python\\keras\\engine\\training_arrays.py\u001b[0m in \u001b[0;36mfit_loop\u001b[1;34m(model, inputs, targets, sample_weights, batch_size, epochs, verbose, callbacks, val_inputs, val_targets, val_sample_weights, shuffle, initial_epoch, steps_per_epoch, validation_steps)\u001b[0m\n\u001b[0;32m    219\u001b[0m           \u001b[0mbatch_logs\u001b[0m\u001b[1;33m[\u001b[0m\u001b[0ml\u001b[0m\u001b[1;33m]\u001b[0m \u001b[1;33m=\u001b[0m \u001b[0mo\u001b[0m\u001b[1;33m\u001b[0m\u001b[0m\n\u001b[0;32m    220\u001b[0m \u001b[1;33m\u001b[0m\u001b[0m\n\u001b[1;32m--> 221\u001b[1;33m         \u001b[0mcallbacks\u001b[0m\u001b[1;33m.\u001b[0m\u001b[0mon_batch_end\u001b[0m\u001b[1;33m(\u001b[0m\u001b[0mbatch_index\u001b[0m\u001b[1;33m,\u001b[0m \u001b[0mbatch_logs\u001b[0m\u001b[1;33m)\u001b[0m\u001b[1;33m\u001b[0m\u001b[0m\n\u001b[0m\u001b[0;32m    222\u001b[0m         \u001b[1;32mif\u001b[0m \u001b[0mcallbacks\u001b[0m\u001b[1;33m.\u001b[0m\u001b[0mmodel\u001b[0m\u001b[1;33m.\u001b[0m\u001b[0mstop_training\u001b[0m\u001b[1;33m:\u001b[0m\u001b[1;33m\u001b[0m\u001b[0m\n\u001b[0;32m    223\u001b[0m           \u001b[1;32mbreak\u001b[0m\u001b[1;33m\u001b[0m\u001b[0m\n",
      "\u001b[1;32mc:\\users\\guillaume\\anaconda3\\lib\\site-packages\\tensorflow\\python\\keras\\callbacks.py\u001b[0m in \u001b[0;36mon_batch_end\u001b[1;34m(self, batch, logs)\u001b[0m\n\u001b[0;32m    247\u001b[0m     \u001b[0mt_before_callbacks\u001b[0m \u001b[1;33m=\u001b[0m \u001b[0mtime\u001b[0m\u001b[1;33m.\u001b[0m\u001b[0mtime\u001b[0m\u001b[1;33m(\u001b[0m\u001b[1;33m)\u001b[0m\u001b[1;33m\u001b[0m\u001b[0m\n\u001b[0;32m    248\u001b[0m     \u001b[1;32mfor\u001b[0m \u001b[0mcallback\u001b[0m \u001b[1;32min\u001b[0m \u001b[0mself\u001b[0m\u001b[1;33m.\u001b[0m\u001b[0mcallbacks\u001b[0m\u001b[1;33m:\u001b[0m\u001b[1;33m\u001b[0m\u001b[0m\n\u001b[1;32m--> 249\u001b[1;33m       \u001b[0mcallback\u001b[0m\u001b[1;33m.\u001b[0m\u001b[0mon_batch_end\u001b[0m\u001b[1;33m(\u001b[0m\u001b[0mbatch\u001b[0m\u001b[1;33m,\u001b[0m \u001b[0mlogs\u001b[0m\u001b[1;33m)\u001b[0m\u001b[1;33m\u001b[0m\u001b[0m\n\u001b[0m\u001b[0;32m    250\u001b[0m     \u001b[0mself\u001b[0m\u001b[1;33m.\u001b[0m\u001b[0m_delta_ts_batch_end\u001b[0m\u001b[1;33m.\u001b[0m\u001b[0mappend\u001b[0m\u001b[1;33m(\u001b[0m\u001b[0mtime\u001b[0m\u001b[1;33m.\u001b[0m\u001b[0mtime\u001b[0m\u001b[1;33m(\u001b[0m\u001b[1;33m)\u001b[0m \u001b[1;33m-\u001b[0m \u001b[0mt_before_callbacks\u001b[0m\u001b[1;33m)\u001b[0m\u001b[1;33m\u001b[0m\u001b[0m\n\u001b[0;32m    251\u001b[0m     \u001b[0mdelta_t_median\u001b[0m \u001b[1;33m=\u001b[0m \u001b[0mnp\u001b[0m\u001b[1;33m.\u001b[0m\u001b[0mmedian\u001b[0m\u001b[1;33m(\u001b[0m\u001b[0mself\u001b[0m\u001b[1;33m.\u001b[0m\u001b[0m_delta_ts_batch_end\u001b[0m\u001b[1;33m)\u001b[0m\u001b[1;33m\u001b[0m\u001b[0m\n",
      "\u001b[1;32mc:\\users\\guillaume\\anaconda3\\lib\\site-packages\\tensorflow\\python\\keras\\callbacks.py\u001b[0m in \u001b[0;36mon_batch_end\u001b[1;34m(self, batch, logs)\u001b[0m\n\u001b[0;32m    467\u001b[0m     \u001b[1;31m# will be handled by on_epoch_end.\u001b[0m\u001b[1;33m\u001b[0m\u001b[1;33m\u001b[0m\u001b[0m\n\u001b[0;32m    468\u001b[0m     \u001b[1;32mif\u001b[0m \u001b[0mself\u001b[0m\u001b[1;33m.\u001b[0m\u001b[0mverbose\u001b[0m \u001b[1;32mand\u001b[0m \u001b[0mself\u001b[0m\u001b[1;33m.\u001b[0m\u001b[0mseen\u001b[0m \u001b[1;33m<\u001b[0m \u001b[0mself\u001b[0m\u001b[1;33m.\u001b[0m\u001b[0mtarget\u001b[0m\u001b[1;33m:\u001b[0m\u001b[1;33m\u001b[0m\u001b[0m\n\u001b[1;32m--> 469\u001b[1;33m       \u001b[0mself\u001b[0m\u001b[1;33m.\u001b[0m\u001b[0mprogbar\u001b[0m\u001b[1;33m.\u001b[0m\u001b[0mupdate\u001b[0m\u001b[1;33m(\u001b[0m\u001b[0mself\u001b[0m\u001b[1;33m.\u001b[0m\u001b[0mseen\u001b[0m\u001b[1;33m,\u001b[0m \u001b[0mself\u001b[0m\u001b[1;33m.\u001b[0m\u001b[0mlog_values\u001b[0m\u001b[1;33m)\u001b[0m\u001b[1;33m\u001b[0m\u001b[0m\n\u001b[0m\u001b[0;32m    470\u001b[0m \u001b[1;33m\u001b[0m\u001b[0m\n\u001b[0;32m    471\u001b[0m   \u001b[1;32mdef\u001b[0m \u001b[0mon_epoch_end\u001b[0m\u001b[1;33m(\u001b[0m\u001b[0mself\u001b[0m\u001b[1;33m,\u001b[0m \u001b[0mepoch\u001b[0m\u001b[1;33m,\u001b[0m \u001b[0mlogs\u001b[0m\u001b[1;33m=\u001b[0m\u001b[1;32mNone\u001b[0m\u001b[1;33m)\u001b[0m\u001b[1;33m:\u001b[0m\u001b[1;33m\u001b[0m\u001b[0m\n",
      "\u001b[1;32mc:\\users\\guillaume\\anaconda3\\lib\\site-packages\\tensorflow\\python\\keras\\utils\\generic_utils.py\u001b[0m in \u001b[0;36mupdate\u001b[1;34m(self, current, values)\u001b[0m\n\u001b[0;32m    366\u001b[0m       \u001b[1;32mif\u001b[0m \u001b[0mself\u001b[0m\u001b[1;33m.\u001b[0m\u001b[0m_dynamic_display\u001b[0m\u001b[1;33m:\u001b[0m\u001b[1;33m\u001b[0m\u001b[0m\n\u001b[0;32m    367\u001b[0m         \u001b[0msys\u001b[0m\u001b[1;33m.\u001b[0m\u001b[0mstdout\u001b[0m\u001b[1;33m.\u001b[0m\u001b[0mwrite\u001b[0m\u001b[1;33m(\u001b[0m\u001b[1;34m'\\b'\u001b[0m \u001b[1;33m*\u001b[0m \u001b[0mprev_total_width\u001b[0m\u001b[1;33m)\u001b[0m\u001b[1;33m\u001b[0m\u001b[0m\n\u001b[1;32m--> 368\u001b[1;33m         \u001b[0msys\u001b[0m\u001b[1;33m.\u001b[0m\u001b[0mstdout\u001b[0m\u001b[1;33m.\u001b[0m\u001b[0mwrite\u001b[0m\u001b[1;33m(\u001b[0m\u001b[1;34m'\\r'\u001b[0m\u001b[1;33m)\u001b[0m\u001b[1;33m\u001b[0m\u001b[0m\n\u001b[0m\u001b[0;32m    369\u001b[0m       \u001b[1;32melse\u001b[0m\u001b[1;33m:\u001b[0m\u001b[1;33m\u001b[0m\u001b[0m\n\u001b[0;32m    370\u001b[0m         \u001b[0msys\u001b[0m\u001b[1;33m.\u001b[0m\u001b[0mstdout\u001b[0m\u001b[1;33m.\u001b[0m\u001b[0mwrite\u001b[0m\u001b[1;33m(\u001b[0m\u001b[1;34m'\\n'\u001b[0m\u001b[1;33m)\u001b[0m\u001b[1;33m\u001b[0m\u001b[0m\n",
      "\u001b[1;32mc:\\users\\guillaume\\anaconda3\\lib\\site-packages\\colorama\\ansitowin32.py\u001b[0m in \u001b[0;36mwrite\u001b[1;34m(self, text)\u001b[0m\n\u001b[0;32m     38\u001b[0m \u001b[1;33m\u001b[0m\u001b[0m\n\u001b[0;32m     39\u001b[0m     \u001b[1;32mdef\u001b[0m \u001b[0mwrite\u001b[0m\u001b[1;33m(\u001b[0m\u001b[0mself\u001b[0m\u001b[1;33m,\u001b[0m \u001b[0mtext\u001b[0m\u001b[1;33m)\u001b[0m\u001b[1;33m:\u001b[0m\u001b[1;33m\u001b[0m\u001b[0m\n\u001b[1;32m---> 40\u001b[1;33m         \u001b[0mself\u001b[0m\u001b[1;33m.\u001b[0m\u001b[0m__convertor\u001b[0m\u001b[1;33m.\u001b[0m\u001b[0mwrite\u001b[0m\u001b[1;33m(\u001b[0m\u001b[0mtext\u001b[0m\u001b[1;33m)\u001b[0m\u001b[1;33m\u001b[0m\u001b[0m\n\u001b[0m\u001b[0;32m     41\u001b[0m \u001b[1;33m\u001b[0m\u001b[0m\n\u001b[0;32m     42\u001b[0m \u001b[1;33m\u001b[0m\u001b[0m\n",
      "\u001b[1;32mc:\\users\\guillaume\\anaconda3\\lib\\site-packages\\colorama\\ansitowin32.py\u001b[0m in \u001b[0;36mwrite\u001b[1;34m(self, text)\u001b[0m\n\u001b[0;32m    139\u001b[0m     \u001b[1;32mdef\u001b[0m \u001b[0mwrite\u001b[0m\u001b[1;33m(\u001b[0m\u001b[0mself\u001b[0m\u001b[1;33m,\u001b[0m \u001b[0mtext\u001b[0m\u001b[1;33m)\u001b[0m\u001b[1;33m:\u001b[0m\u001b[1;33m\u001b[0m\u001b[0m\n\u001b[0;32m    140\u001b[0m         \u001b[1;32mif\u001b[0m \u001b[0mself\u001b[0m\u001b[1;33m.\u001b[0m\u001b[0mstrip\u001b[0m \u001b[1;32mor\u001b[0m \u001b[0mself\u001b[0m\u001b[1;33m.\u001b[0m\u001b[0mconvert\u001b[0m\u001b[1;33m:\u001b[0m\u001b[1;33m\u001b[0m\u001b[0m\n\u001b[1;32m--> 141\u001b[1;33m             \u001b[0mself\u001b[0m\u001b[1;33m.\u001b[0m\u001b[0mwrite_and_convert\u001b[0m\u001b[1;33m(\u001b[0m\u001b[0mtext\u001b[0m\u001b[1;33m)\u001b[0m\u001b[1;33m\u001b[0m\u001b[0m\n\u001b[0m\u001b[0;32m    142\u001b[0m         \u001b[1;32melse\u001b[0m\u001b[1;33m:\u001b[0m\u001b[1;33m\u001b[0m\u001b[0m\n\u001b[0;32m    143\u001b[0m             \u001b[0mself\u001b[0m\u001b[1;33m.\u001b[0m\u001b[0mwrapped\u001b[0m\u001b[1;33m.\u001b[0m\u001b[0mwrite\u001b[0m\u001b[1;33m(\u001b[0m\u001b[0mtext\u001b[0m\u001b[1;33m)\u001b[0m\u001b[1;33m\u001b[0m\u001b[0m\n",
      "\u001b[1;32mc:\\users\\guillaume\\anaconda3\\lib\\site-packages\\colorama\\ansitowin32.py\u001b[0m in \u001b[0;36mwrite_and_convert\u001b[1;34m(self, text)\u001b[0m\n\u001b[0;32m    167\u001b[0m             \u001b[0mself\u001b[0m\u001b[1;33m.\u001b[0m\u001b[0mconvert_ansi\u001b[0m\u001b[1;33m(\u001b[0m\u001b[1;33m*\u001b[0m\u001b[0mmatch\u001b[0m\u001b[1;33m.\u001b[0m\u001b[0mgroups\u001b[0m\u001b[1;33m(\u001b[0m\u001b[1;33m)\u001b[0m\u001b[1;33m)\u001b[0m\u001b[1;33m\u001b[0m\u001b[0m\n\u001b[0;32m    168\u001b[0m             \u001b[0mcursor\u001b[0m \u001b[1;33m=\u001b[0m \u001b[0mend\u001b[0m\u001b[1;33m\u001b[0m\u001b[0m\n\u001b[1;32m--> 169\u001b[1;33m         \u001b[0mself\u001b[0m\u001b[1;33m.\u001b[0m\u001b[0mwrite_plain_text\u001b[0m\u001b[1;33m(\u001b[0m\u001b[0mtext\u001b[0m\u001b[1;33m,\u001b[0m \u001b[0mcursor\u001b[0m\u001b[1;33m,\u001b[0m \u001b[0mlen\u001b[0m\u001b[1;33m(\u001b[0m\u001b[0mtext\u001b[0m\u001b[1;33m)\u001b[0m\u001b[1;33m)\u001b[0m\u001b[1;33m\u001b[0m\u001b[0m\n\u001b[0m\u001b[0;32m    170\u001b[0m \u001b[1;33m\u001b[0m\u001b[0m\n\u001b[0;32m    171\u001b[0m \u001b[1;33m\u001b[0m\u001b[0m\n",
      "\u001b[1;32mc:\\users\\guillaume\\anaconda3\\lib\\site-packages\\colorama\\ansitowin32.py\u001b[0m in \u001b[0;36mwrite_plain_text\u001b[1;34m(self, text, start, end)\u001b[0m\n\u001b[0;32m    173\u001b[0m         \u001b[1;32mif\u001b[0m \u001b[0mstart\u001b[0m \u001b[1;33m<\u001b[0m \u001b[0mend\u001b[0m\u001b[1;33m:\u001b[0m\u001b[1;33m\u001b[0m\u001b[0m\n\u001b[0;32m    174\u001b[0m             \u001b[0mself\u001b[0m\u001b[1;33m.\u001b[0m\u001b[0mwrapped\u001b[0m\u001b[1;33m.\u001b[0m\u001b[0mwrite\u001b[0m\u001b[1;33m(\u001b[0m\u001b[0mtext\u001b[0m\u001b[1;33m[\u001b[0m\u001b[0mstart\u001b[0m\u001b[1;33m:\u001b[0m\u001b[0mend\u001b[0m\u001b[1;33m]\u001b[0m\u001b[1;33m)\u001b[0m\u001b[1;33m\u001b[0m\u001b[0m\n\u001b[1;32m--> 175\u001b[1;33m             \u001b[0mself\u001b[0m\u001b[1;33m.\u001b[0m\u001b[0mwrapped\u001b[0m\u001b[1;33m.\u001b[0m\u001b[0mflush\u001b[0m\u001b[1;33m(\u001b[0m\u001b[1;33m)\u001b[0m\u001b[1;33m\u001b[0m\u001b[0m\n\u001b[0m\u001b[0;32m    176\u001b[0m \u001b[1;33m\u001b[0m\u001b[0m\n\u001b[0;32m    177\u001b[0m \u001b[1;33m\u001b[0m\u001b[0m\n",
      "\u001b[1;32mc:\\users\\guillaume\\anaconda3\\lib\\site-packages\\ipykernel\\iostream.py\u001b[0m in \u001b[0;36mflush\u001b[1;34m(self)\u001b[0m\n\u001b[0;32m    340\u001b[0m                 \u001b[0mself\u001b[0m\u001b[1;33m.\u001b[0m\u001b[0mpub_thread\u001b[0m\u001b[1;33m.\u001b[0m\u001b[0mschedule\u001b[0m\u001b[1;33m(\u001b[0m\u001b[0mevt\u001b[0m\u001b[1;33m.\u001b[0m\u001b[0mset\u001b[0m\u001b[1;33m)\u001b[0m\u001b[1;33m\u001b[0m\u001b[0m\n\u001b[0;32m    341\u001b[0m                 \u001b[1;31m# and give a timeout to avoid\u001b[0m\u001b[1;33m\u001b[0m\u001b[1;33m\u001b[0m\u001b[0m\n\u001b[1;32m--> 342\u001b[1;33m                 \u001b[1;32mif\u001b[0m \u001b[1;32mnot\u001b[0m \u001b[0mevt\u001b[0m\u001b[1;33m.\u001b[0m\u001b[0mwait\u001b[0m\u001b[1;33m(\u001b[0m\u001b[0mself\u001b[0m\u001b[1;33m.\u001b[0m\u001b[0mflush_timeout\u001b[0m\u001b[1;33m)\u001b[0m\u001b[1;33m:\u001b[0m\u001b[1;33m\u001b[0m\u001b[0m\n\u001b[0m\u001b[0;32m    343\u001b[0m                     \u001b[1;31m# write directly to __stderr__ instead of warning because\u001b[0m\u001b[1;33m\u001b[0m\u001b[1;33m\u001b[0m\u001b[0m\n\u001b[0;32m    344\u001b[0m                     \u001b[1;31m# if this is happening sys.stderr may be the problem.\u001b[0m\u001b[1;33m\u001b[0m\u001b[1;33m\u001b[0m\u001b[0m\n",
      "\u001b[1;32mc:\\users\\guillaume\\anaconda3\\lib\\threading.py\u001b[0m in \u001b[0;36mwait\u001b[1;34m(self, timeout)\u001b[0m\n\u001b[0;32m    549\u001b[0m             \u001b[0msignaled\u001b[0m \u001b[1;33m=\u001b[0m \u001b[0mself\u001b[0m\u001b[1;33m.\u001b[0m\u001b[0m_flag\u001b[0m\u001b[1;33m\u001b[0m\u001b[0m\n\u001b[0;32m    550\u001b[0m             \u001b[1;32mif\u001b[0m \u001b[1;32mnot\u001b[0m \u001b[0msignaled\u001b[0m\u001b[1;33m:\u001b[0m\u001b[1;33m\u001b[0m\u001b[0m\n\u001b[1;32m--> 551\u001b[1;33m                 \u001b[0msignaled\u001b[0m \u001b[1;33m=\u001b[0m \u001b[0mself\u001b[0m\u001b[1;33m.\u001b[0m\u001b[0m_cond\u001b[0m\u001b[1;33m.\u001b[0m\u001b[0mwait\u001b[0m\u001b[1;33m(\u001b[0m\u001b[0mtimeout\u001b[0m\u001b[1;33m)\u001b[0m\u001b[1;33m\u001b[0m\u001b[0m\n\u001b[0m\u001b[0;32m    552\u001b[0m             \u001b[1;32mreturn\u001b[0m \u001b[0msignaled\u001b[0m\u001b[1;33m\u001b[0m\u001b[0m\n\u001b[0;32m    553\u001b[0m \u001b[1;33m\u001b[0m\u001b[0m\n",
      "\u001b[1;32mc:\\users\\guillaume\\anaconda3\\lib\\threading.py\u001b[0m in \u001b[0;36mwait\u001b[1;34m(self, timeout)\u001b[0m\n\u001b[0;32m    297\u001b[0m             \u001b[1;32melse\u001b[0m\u001b[1;33m:\u001b[0m\u001b[1;33m\u001b[0m\u001b[0m\n\u001b[0;32m    298\u001b[0m                 \u001b[1;32mif\u001b[0m \u001b[0mtimeout\u001b[0m \u001b[1;33m>\u001b[0m \u001b[1;36m0\u001b[0m\u001b[1;33m:\u001b[0m\u001b[1;33m\u001b[0m\u001b[0m\n\u001b[1;32m--> 299\u001b[1;33m                     \u001b[0mgotit\u001b[0m \u001b[1;33m=\u001b[0m \u001b[0mwaiter\u001b[0m\u001b[1;33m.\u001b[0m\u001b[0macquire\u001b[0m\u001b[1;33m(\u001b[0m\u001b[1;32mTrue\u001b[0m\u001b[1;33m,\u001b[0m \u001b[0mtimeout\u001b[0m\u001b[1;33m)\u001b[0m\u001b[1;33m\u001b[0m\u001b[0m\n\u001b[0m\u001b[0;32m    300\u001b[0m                 \u001b[1;32melse\u001b[0m\u001b[1;33m:\u001b[0m\u001b[1;33m\u001b[0m\u001b[0m\n\u001b[0;32m    301\u001b[0m                     \u001b[0mgotit\u001b[0m \u001b[1;33m=\u001b[0m \u001b[0mwaiter\u001b[0m\u001b[1;33m.\u001b[0m\u001b[0macquire\u001b[0m\u001b[1;33m(\u001b[0m\u001b[1;32mFalse\u001b[0m\u001b[1;33m)\u001b[0m\u001b[1;33m\u001b[0m\u001b[0m\n",
      "\u001b[1;31mKeyboardInterrupt\u001b[0m: "
     ]
    }
   ],
   "source": [
    "# Try to use the functional API\n",
    "#tf.reset_default_graph()\n",
    "def net2(inputs_shapes, emb_size=4):\n",
    "    images_shape = inputs_shapes\n",
    "    input_image = tf.keras.Input(images_shape,name='image_input')\n",
    "    x = tf.keras.layers.Conv2D(32,(3, 3), activation='relu')(input_image)\n",
    "    x = tf.keras.layers.Conv2D(64,(3, 3), activation='relu')(x)\n",
    "    x = tf.keras.layers.MaxPooling2D((2, 2))(x)\n",
    "    x = tf.keras.layers.Dropout(0.25)(x)\n",
    "    \n",
    "    x = tf.keras.layers.Flatten()(x)\n",
    "    x = tf.keras.layers.Dense(128, activation='relu')(x)\n",
    "    x = tf.keras.layers.Dropout(0.5)(x)\n",
    "    out = tf.keras.layers.Dense(10,activation='softmax', name='out')(x)\n",
    "    return tf.keras.Model(inputs=input_image, outputs=out)\n",
    "\n",
    "w, h = SIZE\n",
    "inputs_shapes = (w, h, 1)\n",
    "model = net2(inputs_shapes)\n",
    "model.compile(tf.keras.optimizers.Adadelta(),loss='categorical_crossentropy',metrics=['accuracy'])\n",
    "print(model.summary())\n",
    "print(x_train.shape)\n",
    "model.fit(x_train,y_train,batch_size=128,epochs=12,validation_data=(x_test,y_test))"
   ]
  },
  {
   "cell_type": "code",
   "execution_count": 46,
   "metadata": {},
   "outputs": [
    {
     "name": "stdout",
     "output_type": "stream",
     "text": [
      "_________________________________________________________________\n",
      "Layer (type)                 Output Shape              Param #   \n",
      "=================================================================\n",
      "image_input (InputLayer)     (None, 28, 28, 1)         0         \n",
      "_________________________________________________________________\n",
      "conv2d (Conv2D)              (None, 26, 26, 32)        320       \n",
      "_________________________________________________________________\n",
      "max_pooling2d (MaxPooling2D) (None, 13, 13, 32)        0         \n",
      "_________________________________________________________________\n",
      "conv2d_1 (Conv2D)            (None, 11, 11, 32)        9248      \n",
      "_________________________________________________________________\n",
      "max_pooling2d_1 (MaxPooling2 (None, 5, 5, 32)          0         \n",
      "_________________________________________________________________\n",
      "conv2d_2 (Conv2D)            (None, 3, 3, 64)          18496     \n",
      "_________________________________________________________________\n",
      "max_pooling2d_2 (MaxPooling2 (None, 1, 1, 64)          0         \n",
      "_________________________________________________________________\n",
      "flatten (Flatten)            (None, 64)                0         \n",
      "_________________________________________________________________\n",
      "dense (Dense)                (None, 64)                4160      \n",
      "_________________________________________________________________\n",
      "dropout (Dropout)            (None, 64)                0         \n",
      "_________________________________________________________________\n",
      "dense_1 (Dense)              (None, 10)                650       \n",
      "=================================================================\n",
      "Total params: 32,874\n",
      "Trainable params: 32,874\n",
      "Non-trainable params: 0\n",
      "_________________________________________________________________\n"
     ]
    }
   ],
   "source": [
    "model.summary()"
   ]
  },
  {
   "cell_type": "markdown",
   "metadata": {},
   "source": [
    "### Train it"
   ]
  },
  {
   "cell_type": "code",
   "execution_count": 68,
   "metadata": {},
   "outputs": [
    {
     "name": "stdout",
     "output_type": "stream",
     "text": [
      "Train inputs:\n",
      "[[[[-0.99609375]\n",
      "   [-0.99609375]\n",
      "   [-0.99609375]\n",
      "   ...\n",
      "   [-0.99609375]\n",
      "   [-0.99609375]\n",
      "   [-0.99609375]]\n",
      "\n",
      "  [[-0.99609375]\n",
      "   [-0.99609375]\n",
      "   [-0.99609375]\n",
      "   ...\n",
      "   [-0.99609375]\n",
      "   [-0.99609375]\n",
      "   [-0.99609375]]\n",
      "\n",
      "  [[-0.99609375]\n",
      "   [-0.99609375]\n",
      "   [-0.99609375]\n",
      "   ...\n",
      "   [-0.99609375]\n",
      "   [-0.99609375]\n",
      "   [-0.99609375]]\n",
      "\n",
      "  ...\n",
      "\n",
      "  [[-0.99609375]\n",
      "   [-0.99609375]\n",
      "   [-0.99609375]\n",
      "   ...\n",
      "   [-0.99609375]\n",
      "   [-0.99609375]\n",
      "   [-0.99609375]]\n",
      "\n",
      "  [[-0.99609375]\n",
      "   [-0.99609375]\n",
      "   [-0.99609375]\n",
      "   ...\n",
      "   [-0.99609375]\n",
      "   [-0.99609375]\n",
      "   [-0.99609375]]\n",
      "\n",
      "  [[-0.99609375]\n",
      "   [-0.99609375]\n",
      "   [-0.99609375]\n",
      "   ...\n",
      "   [-0.99609375]\n",
      "   [-0.99609375]\n",
      "   [-0.99609375]]]\n",
      "\n",
      "\n",
      " [[[-0.99609375]\n",
      "   [-0.99609375]\n",
      "   [-0.99609375]\n",
      "   ...\n",
      "   [-0.99609375]\n",
      "   [-0.99609375]\n",
      "   [-0.99609375]]\n",
      "\n",
      "  [[-0.99609375]\n",
      "   [-0.99609375]\n",
      "   [-0.99609375]\n",
      "   ...\n",
      "   [-0.99609375]\n",
      "   [-0.99609375]\n",
      "   [-0.99609375]]\n",
      "\n",
      "  [[-0.99609375]\n",
      "   [-0.99609375]\n",
      "   [-0.99609375]\n",
      "   ...\n",
      "   [-0.99609375]\n",
      "   [-0.99609375]\n",
      "   [-0.99609375]]\n",
      "\n",
      "  ...\n",
      "\n",
      "  [[-0.99609375]\n",
      "   [-0.99609375]\n",
      "   [-0.99609375]\n",
      "   ...\n",
      "   [-0.99609375]\n",
      "   [-0.99609375]\n",
      "   [-0.99609375]]\n",
      "\n",
      "  [[-0.99609375]\n",
      "   [-0.99609375]\n",
      "   [-0.99609375]\n",
      "   ...\n",
      "   [-0.99609375]\n",
      "   [-0.99609375]\n",
      "   [-0.99609375]]\n",
      "\n",
      "  [[-0.99609375]\n",
      "   [-0.99609375]\n",
      "   [-0.99609375]\n",
      "   ...\n",
      "   [-0.99609375]\n",
      "   [-0.99609375]\n",
      "   [-0.99609375]]]\n",
      "\n",
      "\n",
      " [[[-0.99609375]\n",
      "   [-0.99609375]\n",
      "   [-0.99609375]\n",
      "   ...\n",
      "   [-0.99609375]\n",
      "   [-0.99609375]\n",
      "   [-0.99609375]]\n",
      "\n",
      "  [[-0.99609375]\n",
      "   [-0.99609375]\n",
      "   [-0.99609375]\n",
      "   ...\n",
      "   [-0.99609375]\n",
      "   [-0.99609375]\n",
      "   [-0.99609375]]\n",
      "\n",
      "  [[-0.99609375]\n",
      "   [-0.99609375]\n",
      "   [-0.99609375]\n",
      "   ...\n",
      "   [-0.99609375]\n",
      "   [-0.99609375]\n",
      "   [-0.99609375]]\n",
      "\n",
      "  ...\n",
      "\n",
      "  [[-0.99609375]\n",
      "   [-0.99609375]\n",
      "   [-0.99609375]\n",
      "   ...\n",
      "   [-0.99609375]\n",
      "   [-0.99609375]\n",
      "   [-0.99609375]]\n",
      "\n",
      "  [[-0.99609375]\n",
      "   [-0.99609375]\n",
      "   [-0.99609375]\n",
      "   ...\n",
      "   [-0.99609375]\n",
      "   [-0.99609375]\n",
      "   [-0.99609375]]\n",
      "\n",
      "  [[-0.99609375]\n",
      "   [-0.99609375]\n",
      "   [-0.99609375]\n",
      "   ...\n",
      "   [-0.99609375]\n",
      "   [-0.99609375]\n",
      "   [-0.99609375]]]\n",
      "\n",
      "\n",
      " ...\n",
      "\n",
      "\n",
      " [[[-0.99609375]\n",
      "   [-0.99609375]\n",
      "   [-0.99609375]\n",
      "   ...\n",
      "   [-0.99609375]\n",
      "   [-0.99609375]\n",
      "   [-0.99609375]]\n",
      "\n",
      "  [[-0.99609375]\n",
      "   [-0.99609375]\n",
      "   [-0.99609375]\n",
      "   ...\n",
      "   [-0.99609375]\n",
      "   [-0.99609375]\n",
      "   [-0.99609375]]\n",
      "\n",
      "  [[-0.99609375]\n",
      "   [-0.99609375]\n",
      "   [-0.99609375]\n",
      "   ...\n",
      "   [-0.99609375]\n",
      "   [-0.99609375]\n",
      "   [-0.99609375]]\n",
      "\n",
      "  ...\n",
      "\n",
      "  [[-0.99609375]\n",
      "   [-0.99609375]\n",
      "   [-0.99609375]\n",
      "   ...\n",
      "   [-0.99609375]\n",
      "   [-0.99609375]\n",
      "   [-0.99609375]]\n",
      "\n",
      "  [[-0.99609375]\n",
      "   [-0.99609375]\n",
      "   [-0.99609375]\n",
      "   ...\n",
      "   [-0.99609375]\n",
      "   [-0.99609375]\n",
      "   [-0.99609375]]\n",
      "\n",
      "  [[-0.99609375]\n",
      "   [-0.99609375]\n",
      "   [-0.99609375]\n",
      "   ...\n",
      "   [-0.99609375]\n",
      "   [-0.99609375]\n",
      "   [-0.99609375]]]\n",
      "\n",
      "\n",
      " [[[-0.99609375]\n",
      "   [-0.99609375]\n",
      "   [-0.99609375]\n",
      "   ...\n",
      "   [-0.99609375]\n",
      "   [-0.99609375]\n",
      "   [-0.99609375]]\n",
      "\n",
      "  [[-0.99609375]\n",
      "   [-0.99609375]\n",
      "   [-0.99609375]\n",
      "   ...\n",
      "   [-0.99609375]\n",
      "   [-0.99609375]\n",
      "   [-0.99609375]]\n",
      "\n",
      "  [[-0.99609375]\n",
      "   [-0.99609375]\n",
      "   [-0.99609375]\n",
      "   ...\n",
      "   [-0.99609375]\n",
      "   [-0.99609375]\n",
      "   [-0.99609375]]\n",
      "\n",
      "  ...\n",
      "\n",
      "  [[-0.99609375]\n",
      "   [-0.99609375]\n",
      "   [-0.99609375]\n",
      "   ...\n",
      "   [-0.99609375]\n",
      "   [-0.99609375]\n",
      "   [-0.99609375]]\n",
      "\n",
      "  [[-0.99609375]\n",
      "   [-0.99609375]\n",
      "   [-0.99609375]\n",
      "   ...\n",
      "   [-0.99609375]\n",
      "   [-0.99609375]\n",
      "   [-0.99609375]]\n",
      "\n",
      "  [[-0.99609375]\n",
      "   [-0.99609375]\n",
      "   [-0.99609375]\n",
      "   ...\n",
      "   [-0.99609375]\n",
      "   [-0.99609375]\n",
      "   [-0.99609375]]]\n",
      "\n",
      "\n",
      " [[[-0.99609375]\n",
      "   [-0.99609375]\n",
      "   [-0.99609375]\n",
      "   ...\n",
      "   [-0.99609375]\n",
      "   [-0.99609375]\n",
      "   [-0.99609375]]\n",
      "\n",
      "  [[-0.99609375]\n",
      "   [-0.99609375]\n",
      "   [-0.99609375]\n",
      "   ...\n",
      "   [-0.99609375]\n",
      "   [-0.99609375]\n",
      "   [-0.99609375]]\n",
      "\n",
      "  [[-0.99609375]\n",
      "   [-0.99609375]\n",
      "   [-0.99609375]\n",
      "   ...\n",
      "   [-0.99609375]\n",
      "   [-0.99609375]\n",
      "   [-0.99609375]]\n",
      "\n",
      "  ...\n",
      "\n",
      "  [[-0.99609375]\n",
      "   [-0.99609375]\n",
      "   [-0.99609375]\n",
      "   ...\n",
      "   [-0.99609375]\n",
      "   [-0.99609375]\n",
      "   [-0.99609375]]\n",
      "\n",
      "  [[-0.99609375]\n",
      "   [-0.99609375]\n",
      "   [-0.99609375]\n",
      "   ...\n",
      "   [-0.99609375]\n",
      "   [-0.99609375]\n",
      "   [-0.99609375]]\n",
      "\n",
      "  [[-0.99609375]\n",
      "   [-0.99609375]\n",
      "   [-0.99609375]\n",
      "   ...\n",
      "   [-0.99609375]\n",
      "   [-0.99609375]\n",
      "   [-0.99609375]]]]\n",
      "[5 0 4 ... 5 6 8]\n",
      "[1. 1. 1. ... 1. 1. 1.]\n",
      "Train outputs\n",
      "[[0. 0. 0. ... 0. 0. 0.]\n",
      " [1. 0. 0. ... 0. 0. 0.]\n",
      " [0. 0. 0. ... 0. 0. 0.]\n",
      " ...\n",
      " [0. 0. 0. ... 0. 0. 0.]\n",
      " [0. 0. 0. ... 0. 0. 0.]\n",
      " [0. 0. 0. ... 0. 1. 0.]]\n",
      "[1. 1. 1. ... 1. 1. 1.]\n",
      "Valid inputs\n",
      "[[[[-0.99609375]\n",
      "   [-0.99609375]\n",
      "   [-0.99609375]\n",
      "   ...\n",
      "   [-0.99609375]\n",
      "   [-0.99609375]\n",
      "   [-0.99609375]]\n",
      "\n",
      "  [[-0.99609375]\n",
      "   [-0.99609375]\n",
      "   [-0.99609375]\n",
      "   ...\n",
      "   [-0.99609375]\n",
      "   [-0.99609375]\n",
      "   [-0.99609375]]\n",
      "\n",
      "  [[-0.99609375]\n",
      "   [-0.99609375]\n",
      "   [-0.99609375]\n",
      "   ...\n",
      "   [-0.99609375]\n",
      "   [-0.99609375]\n",
      "   [-0.99609375]]\n",
      "\n",
      "  ...\n",
      "\n",
      "  [[-0.99609375]\n",
      "   [-0.99609375]\n",
      "   [-0.99609375]\n",
      "   ...\n",
      "   [-0.99609375]\n",
      "   [-0.99609375]\n",
      "   [-0.99609375]]\n",
      "\n",
      "  [[-0.99609375]\n",
      "   [-0.99609375]\n",
      "   [-0.99609375]\n",
      "   ...\n",
      "   [-0.99609375]\n",
      "   [-0.99609375]\n",
      "   [-0.99609375]]\n",
      "\n",
      "  [[-0.99609375]\n",
      "   [-0.99609375]\n",
      "   [-0.99609375]\n",
      "   ...\n",
      "   [-0.99609375]\n",
      "   [-0.99609375]\n",
      "   [-0.99609375]]]\n",
      "\n",
      "\n",
      " [[[-0.99609375]\n",
      "   [-0.99609375]\n",
      "   [-0.99609375]\n",
      "   ...\n",
      "   [-0.99609375]\n",
      "   [-0.99609375]\n",
      "   [-0.99609375]]\n",
      "\n",
      "  [[-0.99609375]\n",
      "   [-0.99609375]\n",
      "   [-0.99609375]\n",
      "   ...\n",
      "   [-0.99609375]\n",
      "   [-0.99609375]\n",
      "   [-0.99609375]]\n",
      "\n",
      "  [[-0.99609375]\n",
      "   [-0.99609375]\n",
      "   [-0.99609375]\n",
      "   ...\n",
      "   [-0.99609375]\n",
      "   [-0.99609375]\n",
      "   [-0.99609375]]\n",
      "\n",
      "  ...\n",
      "\n",
      "  [[-0.99609375]\n",
      "   [-0.99609375]\n",
      "   [-0.99609375]\n",
      "   ...\n",
      "   [-0.99609375]\n",
      "   [-0.99609375]\n",
      "   [-0.99609375]]\n",
      "\n",
      "  [[-0.99609375]\n",
      "   [-0.99609375]\n",
      "   [-0.99609375]\n",
      "   ...\n",
      "   [-0.99609375]\n",
      "   [-0.99609375]\n",
      "   [-0.99609375]]\n",
      "\n",
      "  [[-0.99609375]\n",
      "   [-0.99609375]\n",
      "   [-0.99609375]\n",
      "   ...\n",
      "   [-0.99609375]\n",
      "   [-0.99609375]\n",
      "   [-0.99609375]]]\n",
      "\n",
      "\n",
      " [[[-0.99609375]\n",
      "   [-0.99609375]\n",
      "   [-0.99609375]\n",
      "   ...\n",
      "   [-0.99609375]\n",
      "   [-0.99609375]\n",
      "   [-0.99609375]]\n",
      "\n",
      "  [[-0.99609375]\n",
      "   [-0.99609375]\n",
      "   [-0.99609375]\n",
      "   ...\n",
      "   [-0.99609375]\n",
      "   [-0.99609375]\n",
      "   [-0.99609375]]\n",
      "\n",
      "  [[-0.99609375]\n",
      "   [-0.99609375]\n",
      "   [-0.99609375]\n",
      "   ...\n",
      "   [-0.99609375]\n",
      "   [-0.99609375]\n",
      "   [-0.99609375]]\n",
      "\n",
      "  ...\n",
      "\n",
      "  [[-0.99609375]\n",
      "   [-0.99609375]\n",
      "   [-0.99609375]\n",
      "   ...\n",
      "   [-0.99609375]\n",
      "   [-0.99609375]\n",
      "   [-0.99609375]]\n",
      "\n",
      "  [[-0.99609375]\n",
      "   [-0.99609375]\n",
      "   [-0.99609375]\n",
      "   ...\n",
      "   [-0.99609375]\n",
      "   [-0.99609375]\n",
      "   [-0.99609375]]\n",
      "\n",
      "  [[-0.99609375]\n",
      "   [-0.99609375]\n",
      "   [-0.99609375]\n",
      "   ...\n",
      "   [-0.99609375]\n",
      "   [-0.99609375]\n",
      "   [-0.99609375]]]\n",
      "\n",
      "\n",
      " ...\n",
      "\n",
      "\n",
      " [[[-0.99609375]\n",
      "   [-0.99609375]\n",
      "   [-0.99609375]\n",
      "   ...\n",
      "   [-0.99609375]\n",
      "   [-0.99609375]\n",
      "   [-0.99609375]]\n",
      "\n",
      "  [[-0.99609375]\n",
      "   [-0.99609375]\n",
      "   [-0.99609375]\n",
      "   ...\n",
      "   [-0.99609375]\n",
      "   [-0.99609375]\n",
      "   [-0.99609375]]\n",
      "\n",
      "  [[-0.99609375]\n",
      "   [-0.99609375]\n",
      "   [-0.99609375]\n",
      "   ...\n",
      "   [-0.99609375]\n",
      "   [-0.99609375]\n",
      "   [-0.99609375]]\n",
      "\n",
      "  ...\n",
      "\n",
      "  [[-0.99609375]\n",
      "   [-0.99609375]\n",
      "   [-0.99609375]\n",
      "   ...\n",
      "   [-0.99609375]\n",
      "   [-0.99609375]\n",
      "   [-0.99609375]]\n",
      "\n",
      "  [[-0.99609375]\n",
      "   [-0.99609375]\n",
      "   [-0.99609375]\n",
      "   ...\n",
      "   [-0.99609375]\n",
      "   [-0.99609375]\n",
      "   [-0.99609375]]\n",
      "\n",
      "  [[-0.99609375]\n",
      "   [-0.99609375]\n",
      "   [-0.99609375]\n",
      "   ...\n",
      "   [-0.99609375]\n",
      "   [-0.99609375]\n",
      "   [-0.99609375]]]\n",
      "\n",
      "\n",
      " [[[-0.99609375]\n",
      "   [-0.99609375]\n",
      "   [-0.99609375]\n",
      "   ...\n",
      "   [-0.99609375]\n",
      "   [-0.99609375]\n",
      "   [-0.99609375]]\n",
      "\n",
      "  [[-0.99609375]\n",
      "   [-0.99609375]\n",
      "   [-0.99609375]\n",
      "   ...\n",
      "   [-0.99609375]\n",
      "   [-0.99609375]\n",
      "   [-0.99609375]]\n",
      "\n",
      "  [[-0.99609375]\n",
      "   [-0.99609375]\n",
      "   [-0.99609375]\n",
      "   ...\n",
      "   [-0.99609375]\n",
      "   [-0.99609375]\n",
      "   [-0.99609375]]\n",
      "\n",
      "  ...\n",
      "\n",
      "  [[-0.99609375]\n",
      "   [-0.99609375]\n",
      "   [-0.99609375]\n",
      "   ...\n",
      "   [-0.99609375]\n",
      "   [-0.99609375]\n",
      "   [-0.99609375]]\n",
      "\n",
      "  [[-0.99609375]\n",
      "   [-0.99609375]\n",
      "   [-0.99609375]\n",
      "   ...\n",
      "   [-0.99609375]\n",
      "   [-0.99609375]\n",
      "   [-0.99609375]]\n",
      "\n",
      "  [[-0.99609375]\n",
      "   [-0.99609375]\n",
      "   [-0.99609375]\n",
      "   ...\n",
      "   [-0.99609375]\n",
      "   [-0.99609375]\n",
      "   [-0.99609375]]]\n",
      "\n",
      "\n",
      " [[[-0.99609375]\n",
      "   [-0.99609375]\n",
      "   [-0.99609375]\n",
      "   ...\n",
      "   [-0.99609375]\n",
      "   [-0.99609375]\n",
      "   [-0.99609375]]\n",
      "\n",
      "  [[-0.99609375]\n",
      "   [-0.99609375]\n",
      "   [-0.99609375]\n",
      "   ...\n",
      "   [-0.99609375]\n",
      "   [-0.99609375]\n",
      "   [-0.99609375]]\n",
      "\n",
      "  [[-0.99609375]\n",
      "   [-0.99609375]\n",
      "   [-0.99609375]\n",
      "   ...\n",
      "   [-0.99609375]\n",
      "   [-0.99609375]\n",
      "   [-0.99609375]]\n",
      "\n",
      "  ...\n",
      "\n",
      "  [[-0.99609375]\n",
      "   [-0.99609375]\n",
      "   [-0.99609375]\n",
      "   ...\n",
      "   [-0.99609375]\n",
      "   [-0.99609375]\n",
      "   [-0.99609375]]\n",
      "\n",
      "  [[-0.99609375]\n",
      "   [-0.99609375]\n",
      "   [-0.99609375]\n",
      "   ...\n",
      "   [-0.99609375]\n",
      "   [-0.99609375]\n",
      "   [-0.99609375]]\n",
      "\n",
      "  [[-0.99609375]\n",
      "   [-0.99609375]\n",
      "   [-0.99609375]\n",
      "   ...\n",
      "   [-0.99609375]\n",
      "   [-0.99609375]\n"
     ]
    },
    {
     "name": "stdout",
     "output_type": "stream",
     "text": [
      "   [-0.99609375]]]]\n",
      "[7 2 1 ... 4 5 6]\n",
      "[0 0 1 ... 0 1 1]\n",
      "Valid outputs\n",
      "[[0. 0. 0. ... 1. 0. 0.]\n",
      " [0. 0. 1. ... 0. 0. 0.]\n",
      " [0. 1. 0. ... 0. 0. 0.]\n",
      " ...\n",
      " [0. 0. 0. ... 0. 0. 0.]\n",
      " [0. 0. 0. ... 0. 0. 0.]\n",
      " [0. 0. 0. ... 0. 0. 0.]]\n",
      "[0 0 1 ... 0 1 1]\n"
     ]
    }
   ],
   "source": [
    "# Check the inputs\n",
    "print(\"Train inputs:\")\n",
    "print(images_train)\n",
    "print(labels_train)\n",
    "print(issame_train_in)\n",
    "\n",
    "print(\"Train outputs\")\n",
    "print(labels_train_out)\n",
    "print(issame_train_in)\n",
    "\n",
    "print(\"Valid inputs\")\n",
    "print(pairs)\n",
    "print(labels_valid)\n",
    "print(issame_in)\n",
    "\n",
    "print(\"Valid outputs\")\n",
    "print(labels_valid_out)\n",
    "print(issame_in)"
   ]
  },
  {
   "cell_type": "code",
   "execution_count": 25,
   "metadata": {
    "scrolled": true
   },
   "outputs": [
    {
     "name": "stdout",
     "output_type": "stream",
     "text": [
      "Train on 60000 samples, validate on 10000 samples\n",
      "Epoch 1/20\n"
     ]
    },
    {
     "ename": "ValueError",
     "evalue": "can only convert an array of size 1 to a Python scalar",
     "output_type": "error",
     "traceback": [
      "\u001b[1;31m---------------------------------------------------------------------------\u001b[0m",
      "\u001b[1;31mValueError\u001b[0m                                Traceback (most recent call last)",
      "\u001b[1;32m<ipython-input-25-625f447efafb>\u001b[0m in \u001b[0;36m<module>\u001b[1;34m()\u001b[0m\n\u001b[0;32m     10\u001b[0m     \u001b[1;31m#validation_data = ([images_valid,issame_in], labels_valid)\u001b[0m\u001b[1;33m\u001b[0m\u001b[1;33m\u001b[0m\u001b[0m\n\u001b[0;32m     11\u001b[0m     \u001b[1;31m#validation_data=([images_valid,labels_valid,issame_in],[labels_valid,issame_out])\u001b[0m\u001b[1;33m\u001b[0m\u001b[1;33m\u001b[0m\u001b[0m\n\u001b[1;32m---> 12\u001b[1;33m     \u001b[0mcallbacks\u001b[0m\u001b[1;33m=\u001b[0m\u001b[1;33m[\u001b[0m\u001b[0mtf\u001b[0m\u001b[1;33m.\u001b[0m\u001b[0mkeras\u001b[0m\u001b[1;33m.\u001b[0m\u001b[0mcallbacks\u001b[0m\u001b[1;33m.\u001b[0m\u001b[0mTensorBoard\u001b[0m\u001b[1;33m(\u001b[0m\u001b[0mlog_dir\u001b[0m\u001b[1;33m=\u001b[0m\u001b[1;34m'../output/logs/'\u001b[0m\u001b[1;33m)\u001b[0m\u001b[1;33m]\u001b[0m\u001b[1;33m\u001b[0m\u001b[0m\n\u001b[0m\u001b[0;32m     13\u001b[0m )\n",
      "\u001b[1;32mc:\\users\\guillaume\\anaconda3\\lib\\site-packages\\tensorflow\\python\\keras\\engine\\training.py\u001b[0m in \u001b[0;36mfit\u001b[1;34m(self, x, y, batch_size, epochs, verbose, callbacks, validation_split, validation_data, shuffle, class_weight, sample_weight, initial_epoch, steps_per_epoch, validation_steps, max_queue_size, workers, use_multiprocessing, **kwargs)\u001b[0m\n\u001b[0;32m   1637\u001b[0m           \u001b[0minitial_epoch\u001b[0m\u001b[1;33m=\u001b[0m\u001b[0minitial_epoch\u001b[0m\u001b[1;33m,\u001b[0m\u001b[1;33m\u001b[0m\u001b[0m\n\u001b[0;32m   1638\u001b[0m           \u001b[0msteps_per_epoch\u001b[0m\u001b[1;33m=\u001b[0m\u001b[0msteps_per_epoch\u001b[0m\u001b[1;33m,\u001b[0m\u001b[1;33m\u001b[0m\u001b[0m\n\u001b[1;32m-> 1639\u001b[1;33m           validation_steps=validation_steps)\n\u001b[0m\u001b[0;32m   1640\u001b[0m \u001b[1;33m\u001b[0m\u001b[0m\n\u001b[0;32m   1641\u001b[0m   def evaluate(self,\n",
      "\u001b[1;32mc:\\users\\guillaume\\anaconda3\\lib\\site-packages\\tensorflow\\python\\keras\\engine\\training_arrays.py\u001b[0m in \u001b[0;36mfit_loop\u001b[1;34m(model, inputs, targets, sample_weights, batch_size, epochs, verbose, callbacks, val_inputs, val_targets, val_sample_weights, shuffle, initial_epoch, steps_per_epoch, validation_steps)\u001b[0m\n\u001b[0;32m    219\u001b[0m           \u001b[0mbatch_logs\u001b[0m\u001b[1;33m[\u001b[0m\u001b[0ml\u001b[0m\u001b[1;33m]\u001b[0m \u001b[1;33m=\u001b[0m \u001b[0mo\u001b[0m\u001b[1;33m\u001b[0m\u001b[0m\n\u001b[0;32m    220\u001b[0m \u001b[1;33m\u001b[0m\u001b[0m\n\u001b[1;32m--> 221\u001b[1;33m         \u001b[0mcallbacks\u001b[0m\u001b[1;33m.\u001b[0m\u001b[0mon_batch_end\u001b[0m\u001b[1;33m(\u001b[0m\u001b[0mbatch_index\u001b[0m\u001b[1;33m,\u001b[0m \u001b[0mbatch_logs\u001b[0m\u001b[1;33m)\u001b[0m\u001b[1;33m\u001b[0m\u001b[0m\n\u001b[0m\u001b[0;32m    222\u001b[0m         \u001b[1;32mif\u001b[0m \u001b[0mcallbacks\u001b[0m\u001b[1;33m.\u001b[0m\u001b[0mmodel\u001b[0m\u001b[1;33m.\u001b[0m\u001b[0mstop_training\u001b[0m\u001b[1;33m:\u001b[0m\u001b[1;33m\u001b[0m\u001b[0m\n\u001b[0;32m    223\u001b[0m           \u001b[1;32mbreak\u001b[0m\u001b[1;33m\u001b[0m\u001b[0m\n",
      "\u001b[1;32mc:\\users\\guillaume\\anaconda3\\lib\\site-packages\\tensorflow\\python\\keras\\callbacks.py\u001b[0m in \u001b[0;36mon_batch_end\u001b[1;34m(self, batch, logs)\u001b[0m\n\u001b[0;32m    247\u001b[0m     \u001b[0mt_before_callbacks\u001b[0m \u001b[1;33m=\u001b[0m \u001b[0mtime\u001b[0m\u001b[1;33m.\u001b[0m\u001b[0mtime\u001b[0m\u001b[1;33m(\u001b[0m\u001b[1;33m)\u001b[0m\u001b[1;33m\u001b[0m\u001b[0m\n\u001b[0;32m    248\u001b[0m     \u001b[1;32mfor\u001b[0m \u001b[0mcallback\u001b[0m \u001b[1;32min\u001b[0m \u001b[0mself\u001b[0m\u001b[1;33m.\u001b[0m\u001b[0mcallbacks\u001b[0m\u001b[1;33m:\u001b[0m\u001b[1;33m\u001b[0m\u001b[0m\n\u001b[1;32m--> 249\u001b[1;33m       \u001b[0mcallback\u001b[0m\u001b[1;33m.\u001b[0m\u001b[0mon_batch_end\u001b[0m\u001b[1;33m(\u001b[0m\u001b[0mbatch\u001b[0m\u001b[1;33m,\u001b[0m \u001b[0mlogs\u001b[0m\u001b[1;33m)\u001b[0m\u001b[1;33m\u001b[0m\u001b[0m\n\u001b[0m\u001b[0;32m    250\u001b[0m     \u001b[0mself\u001b[0m\u001b[1;33m.\u001b[0m\u001b[0m_delta_ts_batch_end\u001b[0m\u001b[1;33m.\u001b[0m\u001b[0mappend\u001b[0m\u001b[1;33m(\u001b[0m\u001b[0mtime\u001b[0m\u001b[1;33m.\u001b[0m\u001b[0mtime\u001b[0m\u001b[1;33m(\u001b[0m\u001b[1;33m)\u001b[0m \u001b[1;33m-\u001b[0m \u001b[0mt_before_callbacks\u001b[0m\u001b[1;33m)\u001b[0m\u001b[1;33m\u001b[0m\u001b[0m\n\u001b[0;32m    251\u001b[0m     \u001b[0mdelta_t_median\u001b[0m \u001b[1;33m=\u001b[0m \u001b[0mnp\u001b[0m\u001b[1;33m.\u001b[0m\u001b[0mmedian\u001b[0m\u001b[1;33m(\u001b[0m\u001b[0mself\u001b[0m\u001b[1;33m.\u001b[0m\u001b[0m_delta_ts_batch_end\u001b[0m\u001b[1;33m)\u001b[0m\u001b[1;33m\u001b[0m\u001b[0m\n",
      "\u001b[1;32mc:\\users\\guillaume\\anaconda3\\lib\\site-packages\\tensorflow\\python\\keras\\callbacks.py\u001b[0m in \u001b[0;36mon_batch_end\u001b[1;34m(self, batch, logs)\u001b[0m\n\u001b[0;32m   1076\u001b[0m                   \u001b[1;32mfor\u001b[0m \u001b[0mk\u001b[0m\u001b[1;33m,\u001b[0m \u001b[0mv\u001b[0m \u001b[1;32min\u001b[0m \u001b[0mlogs\u001b[0m\u001b[1;33m.\u001b[0m\u001b[0mitems\u001b[0m\u001b[1;33m(\u001b[0m\u001b[1;33m)\u001b[0m\u001b[1;33m\u001b[0m\u001b[0m\n\u001b[0;32m   1077\u001b[0m                   if k not in ['batch', 'size', 'num_steps']}\n\u001b[1;32m-> 1078\u001b[1;33m     \u001b[0mself\u001b[0m\u001b[1;33m.\u001b[0m\u001b[0m_write_custom_summaries\u001b[0m\u001b[1;33m(\u001b[0m\u001b[0mself\u001b[0m\u001b[1;33m.\u001b[0m\u001b[0m_total_batches_seen\u001b[0m\u001b[1;33m,\u001b[0m \u001b[0mbatch_logs\u001b[0m\u001b[1;33m)\u001b[0m\u001b[1;33m\u001b[0m\u001b[0m\n\u001b[0m\u001b[0;32m   1079\u001b[0m     \u001b[0mself\u001b[0m\u001b[1;33m.\u001b[0m\u001b[0m_total_batches_seen\u001b[0m \u001b[1;33m+=\u001b[0m \u001b[1;36m1\u001b[0m\u001b[1;33m\u001b[0m\u001b[0m\n\u001b[0;32m   1080\u001b[0m \u001b[1;33m\u001b[0m\u001b[0m\n",
      "\u001b[1;32mc:\\users\\guillaume\\anaconda3\\lib\\site-packages\\tensorflow\\python\\keras\\callbacks.py\u001b[0m in \u001b[0;36m_write_custom_summaries\u001b[1;34m(self, step, logs)\u001b[0m\n\u001b[0;32m   1048\u001b[0m         \u001b[0msummary\u001b[0m \u001b[1;33m=\u001b[0m \u001b[0mtf_summary\u001b[0m\u001b[1;33m.\u001b[0m\u001b[0mSummary\u001b[0m\u001b[1;33m(\u001b[0m\u001b[1;33m)\u001b[0m\u001b[1;33m\u001b[0m\u001b[0m\n\u001b[0;32m   1049\u001b[0m         \u001b[0msummary_value\u001b[0m \u001b[1;33m=\u001b[0m \u001b[0msummary\u001b[0m\u001b[1;33m.\u001b[0m\u001b[0mvalue\u001b[0m\u001b[1;33m.\u001b[0m\u001b[0madd\u001b[0m\u001b[1;33m(\u001b[0m\u001b[1;33m)\u001b[0m\u001b[1;33m\u001b[0m\u001b[0m\n\u001b[1;32m-> 1050\u001b[1;33m         \u001b[0msummary_value\u001b[0m\u001b[1;33m.\u001b[0m\u001b[0msimple_value\u001b[0m \u001b[1;33m=\u001b[0m \u001b[0mvalue\u001b[0m\u001b[1;33m.\u001b[0m\u001b[0mitem\u001b[0m\u001b[1;33m(\u001b[0m\u001b[1;33m)\u001b[0m\u001b[1;33m\u001b[0m\u001b[0m\n\u001b[0m\u001b[0;32m   1051\u001b[0m         \u001b[0msummary_value\u001b[0m\u001b[1;33m.\u001b[0m\u001b[0mtag\u001b[0m \u001b[1;33m=\u001b[0m \u001b[0mname\u001b[0m\u001b[1;33m\u001b[0m\u001b[0m\n\u001b[0;32m   1052\u001b[0m         \u001b[0mself\u001b[0m\u001b[1;33m.\u001b[0m\u001b[0mwriter\u001b[0m\u001b[1;33m.\u001b[0m\u001b[0madd_summary\u001b[0m\u001b[1;33m(\u001b[0m\u001b[0msummary\u001b[0m\u001b[1;33m,\u001b[0m \u001b[0mstep\u001b[0m\u001b[1;33m)\u001b[0m\u001b[1;33m\u001b[0m\u001b[0m\n",
      "\u001b[1;31mValueError\u001b[0m: can only convert an array of size 1 to a Python scalar"
     ]
    }
   ],
   "source": [
    "model.fit(\n",
    "    #[images_train,issame_train_in],\n",
    "    [images_train,labels_train,issame_train_in],\n",
    "    #[labels_train,issame_train_out],\n",
    "    #[labels_train,issame_train_out],\n",
    "    [labels_train_out,issame_train_in],\n",
    "    epochs=20,\n",
    "    batch_size=1024,\n",
    "    validation_data = ([pairs,labels_valid,issame_in], [labels_valid_out,issame_in]),\n",
    "    #validation_data = ([images_valid,issame_in], labels_valid)\n",
    "    #validation_data=([images_valid,labels_valid,issame_in],[labels_valid,issame_out])\n",
    "    callbacks=[tf.keras.callbacks.TensorBoard(log_dir='../output/logs/')]\n",
    ")"
   ]
  },
  {
   "cell_type": "code",
   "execution_count": 42,
   "metadata": {
    "scrolled": false
   },
   "outputs": [
    {
     "name": "stdout",
     "output_type": "stream",
     "text": [
      "__________________________________________________________________________________________________\n",
      "Layer (type)                    Output Shape         Param #     Connected to                     \n",
      "==================================================================================================\n",
      "image_input (InputLayer)        (None, 100, 100, 3)  0                                            \n",
      "__________________________________________________________________________________________________\n",
      "conv2d (Conv2D)                 (None, 98, 98, 10)   280         image_input[0][0]                \n",
      "__________________________________________________________________________________________________\n",
      "max_pooling2d (MaxPooling2D)    (None, 49, 49, 10)   0           conv2d[0][0]                     \n",
      "__________________________________________________________________________________________________\n",
      "conv2d_1 (Conv2D)               (None, 47, 47, 20)   1820        max_pooling2d[0][0]              \n",
      "__________________________________________________________________________________________________\n",
      "max_pooling2d_1 (MaxPooling2D)  (None, 23, 23, 20)   0           conv2d_1[0][0]                   \n",
      "__________________________________________________________________________________________________\n",
      "conv2d_2 (Conv2D)               (None, 21, 21, 40)   7240        max_pooling2d_1[0][0]            \n",
      "__________________________________________________________________________________________________\n",
      "max_pooling2d_2 (MaxPooling2D)  (None, 10, 10, 40)   0           conv2d_2[0][0]                   \n",
      "__________________________________________________________________________________________________\n",
      "global_average_pooling2d (Globa (None, 40)           0           max_pooling2d_2[0][0]            \n",
      "__________________________________________________________________________________________________\n",
      "dense (Dense)                   (None, 32)           1312        global_average_pooling2d[0][0]   \n",
      "__________________________________________________________________________________________________\n",
      "input_labels (InputLayer)       (None, 1)            0                                            \n",
      "__________________________________________________________________________________________________\n",
      "issame_input (InputLayer)       (None, 1)            0                                            \n",
      "__________________________________________________________________________________________________\n",
      "arcface (Arcface)               (None, 1301)         41632       dense[0][0]                      \n",
      "                                                                 input_labels[0][0]               \n",
      "__________________________________________________________________________________________________\n",
      "validation (Validation)         (None, 1)            0           dense[0][0]                      \n",
      "                                                                 issame_input[0][0]               \n",
      "==================================================================================================\n",
      "Total params: 52,284\n",
      "Trainable params: 52,284\n",
      "Non-trainable params: 0\n",
      "__________________________________________________________________________________________________\n"
     ]
    }
   ],
   "source": [
    "model.summary()"
   ]
  },
  {
   "cell_type": "markdown",
   "metadata": {},
   "source": [
    "### Test it on the training/validation dataset to stop the worst examples"
   ]
  },
  {
   "cell_type": "code",
   "execution_count": 45,
   "metadata": {},
   "outputs": [],
   "source": [
    "labels_predict,_=model.predict([images_train[0:10],labels_train[0:10],issame_train_in[0:10]])"
   ]
  },
  {
   "cell_type": "code",
   "execution_count": 47,
   "metadata": {},
   "outputs": [
    {
     "name": "stderr",
     "output_type": "stream",
     "text": [
      "c:\\users\\guillaume\\anaconda3\\lib\\site-packages\\skimage\\io\\_plugins\\matplotlib_plugin.py:80: UserWarning: Float image out of standard range; displaying image with stretched contrast.\n",
      "  warn(\"Float image out of standard range; displaying \"\n",
      "Clipping input data to the valid range for imshow with RGB data ([0..1] for floats or [0..255] for integers).\n"
     ]
    },
    {
     "data": {
      "text/plain": [
       "<matplotlib.image.AxesImage at 0x2000f3e5d30>"
      ]
     },
     "execution_count": 47,
     "metadata": {},
     "output_type": "execute_result"
    },
    {
     "data": {
      "image/png": "[encoded data removed]",
      "text/plain": [
       "<Figure size 432x288 with 2 Axes>"
      ]
     },
     "metadata": {},
     "output_type": "display_data"
    }
   ],
   "source": [
    "import skimage as sk\n",
    "sk.io.imshow(images_train[0])"
   ]
  },
  {
   "cell_type": "code",
   "execution_count": 46,
   "metadata": {},
   "outputs": [
    {
     "data": {
      "text/plain": [
       "array([1., 0., 0., ..., 0., 0., 0.], dtype=float32)"
      ]
     },
     "execution_count": 46,
     "metadata": {},
     "output_type": "execute_result"
    }
   ],
   "source": [
    "labels_predict[0]"
   ]
  },
  {
   "cell_type": "code",
   "execution_count": 97,
   "metadata": {
    "scrolled": false
   },
   "outputs": [
    {
     "data": {
      "text/plain": [
       "array([[0.6868594, 0.7891156]], dtype=float32)"
      ]
     },
     "execution_count": 97,
     "metadata": {},
     "output_type": "execute_result"
    }
   ],
   "source": [
    "predict = model.predict([images_test[0:1],labels_test[0:1],issame_in[0:1]])\n",
    "predict"
   ]
  },
  {
   "cell_type": "markdown",
   "metadata": {},
   "source": [
    "### Evaluate it on the test dataset: one shot learning"
   ]
  },
  {
   "cell_type": "code",
   "execution_count": null,
   "metadata": {},
   "outputs": [],
   "source": []
  }
 ],
 "metadata": {
  "kernelspec": {
   "display_name": "Python 3",
   "language": "python",
   "name": "python3"
  },
  "language_info": {
   "codemirror_mode": {
    "name": "ipython",
    "version": 3
   },
   "file_extension": ".py",
   "mimetype": "text/x-python",
   "name": "python",
   "nbconvert_exporter": "python",
   "pygments_lexer": "ipython3",
   "version": "3.6.6"
  }
 },
 "nbformat": 4,
 "nbformat_minor": 2
}
